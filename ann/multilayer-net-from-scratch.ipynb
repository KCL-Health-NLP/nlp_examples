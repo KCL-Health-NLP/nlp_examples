{
  "nbformat": 4,
  "nbformat_minor": 0,
  "metadata": {
    "colab": {
      "name": "multilayer-net-from-scratch.ipynb",
      "version": "0.3.2",
      "provenance": []
    },
    "language_info": {
      "codemirror_mode": {
        "name": "ipython",
        "version": 3
      },
      "file_extension": ".py",
      "mimetype": "text/x-python",
      "name": "python",
      "nbconvert_exporter": "python",
      "pygments_lexer": "ipython3",
      "version": "3.5.2"
    },
    "kernelspec": {
      "display_name": "Python 3",
      "language": "python",
      "name": "python3"
    }
  },
  "cells": [
    {
      "cell_type": "markdown",
      "metadata": {
        "id": "3bBQNhUNr-3Q",
        "colab_type": "text"
      },
      "source": [
        "# Implementing a Neural Network from Scratch - An Introduction\n",
        "\n",
        "*Acknowledgement: from an original blog post http://www.wildml.com/2015/09/implementing-a-neural-network-from-scratch/ by Denny Britz*\n",
        "\n",
        "In this post we will implement a simple 3-layer neural network from scratch. We won't derive all the math that's required, but I will try to give an intuitive explanation of what we are doing and will point to resources to read up on the details.\n",
        "\n",
        "In this post I'm assuming that you are familiar with basic Calculus and Machine Learning concepts, e.g. you know what classification and regularization is. Ideally you also know a bit about how optimization techniques like gradient descent work. But even if you're not familiar with any of the above this post could still turn out to be interesting ;)\n",
        "\n",
        "But why implement a Neural Network from scratch at all? Even if you plan on using Neural Network libraries like [PyBrain](http://pybrain.org) in the future, implementing a network from scratch at least once is an extremely valuable exercise. It helps you gain an understanding of how neural networks work, and that is essential to designing effective models.\n",
        "\n",
        "One thing to note is that the code examples here aren't terribly efficient. They are meant to be easy to understand. In an upcoming post I will explore how to write an efficient Neural Network implementation using [Theano](http://deeplearning.net/software/theano/). "
      ]
    },
    {
      "cell_type": "code",
      "metadata": {
        "id": "h8B_nd04r-3S",
        "colab_type": "code",
        "colab": {}
      },
      "source": [
        "# Package imports\n",
        "import matplotlib.pyplot as plt\n",
        "import numpy as np\n",
        "import sklearn\n",
        "import sklearn.datasets\n",
        "import sklearn.linear_model\n",
        "import matplotlib\n",
        "\n",
        "# Display plots inline and change default figure size\n",
        "%matplotlib inline\n",
        "matplotlib.rcParams['figure.figsize'] = (10.0, 8.0)"
      ],
      "execution_count": 0,
      "outputs": []
    },
    {
      "cell_type": "markdown",
      "metadata": {
        "id": "D2_vKuQor-3V",
        "colab_type": "text"
      },
      "source": [
        "## Generating a dataset\n",
        "\n",
        "Let's start by generating a dataset we can play with. Fortunately, [scikit-learn](http://scikit-learn.org/) has some useful dataset generators, so we don't need to write the code ourselves. We will go with the [`make_moons`](http://scikit-learn.org/stable/modules/generated/sklearn.datasets.make_moons.html) function."
      ]
    },
    {
      "cell_type": "code",
      "metadata": {
        "id": "xns7xR5Br-3V",
        "colab_type": "code",
        "colab": {}
      },
      "source": [
        "# Generate a dataset and plot it\n",
        "np.random.seed(42)\n",
        "X, y = sklearn.datasets.make_moons(200, noise=0.20)\n",
        "plt.scatter(X[:,0], X[:,1], s=40, c=y, cmap=plt.cm.Spectral)"
      ],
      "execution_count": 0,
      "outputs": []
    },
    {
      "cell_type": "markdown",
      "metadata": {
        "id": "GIbRv8Llr-3a",
        "colab_type": "text"
      },
      "source": [
        "The dataset we generated has two classes, plotted as red and blue points. You can think of the blue dots as male patients and the red dots as female patients, with the x- and y- axis being medical measurements. \n",
        "\n",
        "Our goal is to train a Machine Learning classifier that predicts the correct class (male of female) given the x- and y- coordinates. Note that the data is not *linearly separable*, we can't draw a straight line that separates the two classes. This means that linear classifiers, such as Logistic Regression, won't be able to fit the data unless you hand-engineer non-linear features (such as polynomials) that work well for the given dataset.\n",
        "\n",
        "In fact, that's one of the major advantages of Neural Networks. You don't need to worry about [feature engineering](http://machinelearningmastery.com/discover-feature-engineering-how-to-engineer-features-and-how-to-get-good-at-it/). The hidden layer of a neural network will learn features for you."
      ]
    },
    {
      "cell_type": "markdown",
      "metadata": {
        "id": "vjZxlU1hr-3b",
        "colab_type": "text"
      },
      "source": [
        "## Logistic Regression\n",
        "\n",
        "To demonstrate the point let's train a Logistic Regression classifier. It's input will be the x- and y-values and the output the predicted class (0 or 1). To make our life easy we use the Logistic Regression class from `scikit-learn`."
      ]
    },
    {
      "cell_type": "code",
      "metadata": {
        "id": "o2iRSYEfr-3c",
        "colab_type": "code",
        "colab": {}
      },
      "source": [
        "# Train the logistic rgeression classifier\n",
        "clf = sklearn.linear_model.LogisticRegressionCV(cv=5)\n",
        "clf.fit(X, y)"
      ],
      "execution_count": 0,
      "outputs": []
    },
    {
      "cell_type": "code",
      "metadata": {
        "id": "4o9le9Pnr-3f",
        "colab_type": "code",
        "colab": {}
      },
      "source": [
        " # Helper function to plot a decision boundary.\n",
        "# If you don't fully understand this function don't worry, it just generates the contour plot below.\n",
        "def plot_decision_boundary(pred_func):\n",
        "    # Set min and max values and give it some padding\n",
        "    x_min, x_max = X[:, 0].min() - .5, X[:, 0].max() + .5\n",
        "    y_min, y_max = X[:, 1].min() - .5, X[:, 1].max() + .5\n",
        "    h = 0.01\n",
        "    # Generate a grid of points with distance h between them\n",
        "    xx, yy = np.meshgrid(np.arange(x_min, x_max, h), np.arange(y_min, y_max, h))\n",
        "    # Predict the function value for the whole gid\n",
        "    Z = pred_func(np.c_[xx.ravel(), yy.ravel()])\n",
        "    Z = Z.reshape(xx.shape)\n",
        "    # Plot the contour and training examples\n",
        "    plt.contourf(xx, yy, Z, cmap=plt.cm.Spectral)\n",
        "    plt.scatter(X[:, 0], X[:, 1], c=y, cmap=plt.cm.Spectral)"
      ],
      "execution_count": 0,
      "outputs": []
    },
    {
      "cell_type": "code",
      "metadata": {
        "id": "OrHoFxdWr-3h",
        "colab_type": "code",
        "colab": {}
      },
      "source": [
        "# Plot the decision boundary\n",
        "plot_decision_boundary(lambda x: clf.predict(x))\n",
        "plt.title(\"Logistic Regression\")"
      ],
      "execution_count": 0,
      "outputs": []
    },
    {
      "cell_type": "markdown",
      "metadata": {
        "id": "TTL-vh7Xr-3k",
        "colab_type": "text"
      },
      "source": [
        "The graph shows the decision boundary learned by our Logistic Regression classifier. It separates the data as good as it can using a straight line, but it's unable to capture the \"moon shape\" of our data."
      ]
    },
    {
      "cell_type": "markdown",
      "metadata": {
        "id": "o4x1O4w2r-3k",
        "colab_type": "text"
      },
      "source": [
        "## Training a Neural Network"
      ]
    },
    {
      "cell_type": "markdown",
      "metadata": {
        "id": "0VEh-tCmr-3l",
        "colab_type": "text"
      },
      "source": [
        "Let's now build a 3-layer neural network with one input layer, one hidden layer, and one output layer. The number of nodes in the input layer is determined by the dimensionality of our data, 2. Similarly, the number of nodes in the output layer is determined by the number of classes we have, also 2. (Because we only have 2 classes we could actually get away with only one output node predicting 0 or 1, but having 2 makes it easier to extend the network to more classes later on). The input to the network will be x- and y- coordinates and its output will be two probabilities, one for class 0 (\"female\") and one for class 1 (\"male\"). It looks something like this:\n",
        "\n",
        "<img src='https://github.com/KCL-Health-NLP/nlp_examples/blob/master/ann/nn-3-layer-network.png?raw=1' style='width: 50%'/>"
      ]
    },
    {
      "cell_type": "markdown",
      "metadata": {
        "id": "KU_wqc9xr-3m",
        "colab_type": "text"
      },
      "source": [
        "We can choose the dimensionality (the number of nodes) of the hidden layer. The more nodes we put into the hidden layer the more complex functions we will be able fit. But higher dimensionality comes at a cost. First, more computation is required to make predictions and learn the network parameters. A bigger number of parameters also means we become more prone to overfitting our data. \n",
        "\n",
        "How to choose the size of the hidden layer? While there are some general guidelines and recommendations, it always depends on your specific problem and is more of an art than a science. We will play with the number of nodes in the hidden later later on and see how it affects our output."
      ]
    },
    {
      "cell_type": "markdown",
      "metadata": {
        "id": "XrK5e1JKr-3m",
        "colab_type": "text"
      },
      "source": [
        "We also need to pick an *activation function* for our hidden layer. The activation function transforms the inputs of the layer into its outputs. A nonlinear activation function is what allows us to fit nonlinear hypotheses. Common chocies for activation functions are [tanh](https://reference.wolfram.com/language/ref/Tanh.html), the [sigmoid function](https://en.wikipedia.org/wiki/Sigmoid_function), or [ReLUs](https://en.wikipedia.org/wiki/Rectifier_(neural_networks). We will use `tanh`, which performs quite well in many scenarios. A nice property of these functions is that their derivate can be computed using the original function value. For example, the derivative of $\\tanh x$ is $1-\\tanh^2 x$. This is useful because it allows us to compute $\\tanh x$ once and re-use its value later on to get the derivative."
      ]
    },
    {
      "cell_type": "markdown",
      "metadata": {
        "id": "AGqGVfZUr-3n",
        "colab_type": "text"
      },
      "source": [
        "Because we want our network to output probabilities the activation function for the output layer will be the [softmax](https://en.wikipedia.org/wiki/Softmax_function), which is simply a way to convert raw scores to probabilities. If you're familiar with the logistic function you can think of softmax as its generalization to multiple classes."
      ]
    },
    {
      "cell_type": "markdown",
      "metadata": {
        "id": "o-hpXQcVr-3n",
        "colab_type": "text"
      },
      "source": [
        "### How our network makes predictions\n",
        "\n",
        "Our network makes predictions using *forward propagation*, which is just a bunch of matrix multiplications and the application of the activation function(s) we defined above. If $x$ is the 2-dimensional input to our network then we calculate our prediction $\\hat{y}$ (also two-dimensional) as follows:"
      ]
    },
    {
      "cell_type": "markdown",
      "metadata": {
        "id": "zrnwJaBBr-3o",
        "colab_type": "text"
      },
      "source": [
        "$$\n",
        "\\begin{aligned}\n",
        "z_1 & = xW_1 + b_1 \\\\\n",
        "a_1 & = \\tanh(z_1) \\\\\n",
        "z_2 & = a_1W_2 + b_2 \\\\\n",
        "a_2 & = \\hat{y} = \\mathrm{softmax}(z_2)\n",
        "\\end{aligned}\n",
        "$$"
      ]
    },
    {
      "cell_type": "markdown",
      "metadata": {
        "id": "D3LEtytlr-3q",
        "colab_type": "text"
      },
      "source": [
        "$z_i$ is the input of layer $i$ and $a_i$ is the output of layer $i$ after applying the activation function. $W_1, b_1, W_2, b_2$ are  parameters of our network, which we need to learn from our training data. You can think of them as matrices transforming data between layers of the network. Looking at the matrix multiplications above we can figure out the dimensionality of these matrices. If we use 500 nodes for our hidden layer then $W_1 \\in \\mathbb{R}^{2\\times500}$, $b_1 \\in \\mathbb{R}^{500}$, $W_2 \\in \\mathbb{R}^{500\\times2}$, $b_2 \\in \\mathbb{R}^{2}$. Now you see why we have more parameters if we increase the size of the hidden layer."
      ]
    },
    {
      "cell_type": "markdown",
      "metadata": {
        "id": "lX-4gN_Wr-3r",
        "colab_type": "text"
      },
      "source": [
        "### Learning the Parameters\n",
        "\n",
        "Learning the parameters for our network means finding parameters ($W_1, b_1, W_2, b_2$) that minimize the error on our training data. But how do we define the error? We call the function that measures our error the *loss function*. A common choice with the softmax output is the [cross-entropy loss](https://en.wikipedia.org/wiki/Cross_entropy#Cross-entropy_error_function_and_logistic_regression). If we have $N$ training examples and $C$ classes then the loss for our prediction $\\hat{y}$ with respect to the true labels $y$ is given by:\n",
        "\n",
        "$$\n",
        "\\begin{aligned}\n",
        "L(y,\\hat{y}) = - \\frac{1}{N} \\sum_{n \\in N} \\sum_{i \\in C} y_{n,i} \\log\\hat{y}_{n,i}\n",
        "\\end{aligned}\n",
        "$$\n",
        "\n"
      ]
    },
    {
      "cell_type": "markdown",
      "metadata": {
        "id": "Up8RQBA5r-3s",
        "colab_type": "text"
      },
      "source": [
        "The formula looks complicated, but all it really does is sum over our training examples and add to the loss if we predicted the incorrect class. So, the further away $y$ (the correct labels) and $\\hat{y}$ (our predictions) are, the greater our loss will be. "
      ]
    },
    {
      "cell_type": "markdown",
      "metadata": {
        "id": "rvdep4str-3u",
        "colab_type": "text"
      },
      "source": [
        "Remember that our goal is to find the parameters that minimize our loss function. We can use [gradient descent](http://cs231n.github.io/optimization-1/) to find its minimum. I will implement the most vanilla version of gradient descent, also called batch gradient descent with a fixed learning rate. Variations such as SGD (stochastic gradient descent) or minibatch gradient descent typically perform better in practice. So if you are serious you'll want to use one of these, and ideally you would also [decay the learning rate over time](http://cs231n.github.io/neural-networks-3/#anneal).\n",
        "\n",
        "As an input, gradient descent needs the gradients (vector of derivatives) of the loss function with respect to our parameters: $\\frac{\\partial{L}}{\\partial{W_1}}$, $\\frac{\\partial{L}}{\\partial{b_1}}$, $\\frac{\\partial{L}}{\\partial{W_2}}$, $\\frac{\\partial{L}}{\\partial{b_2}}$. To calculate these gradients we use the famous *backpropagation algorithm*, which is a way to efficiently calculate the gradients starting from the output. I won't go into detail how backpropagation works, but there are many excellent explanations ([here](http://colah.github.io/posts/2015-08-Backprop/) or [here](http://cs231n.github.io/optimization-2/)) floating around the web.\n",
        "\n",
        "Applying the backpropagation formula we find the following (trust me on this):"
      ]
    },
    {
      "cell_type": "markdown",
      "metadata": {
        "id": "DvZS2w-Rr-3v",
        "colab_type": "text"
      },
      "source": [
        "$$\n",
        "\\begin{aligned}\n",
        "& \\delta_3 = y - \\hat{y} \\\\\n",
        "& \\delta_2 = (1 - \\tanh^2z_1) \\circ \\delta_3W_2^T \\\\\n",
        "& \\frac{\\partial{L}}{\\partial{W_2}} = a_1^T \\delta_3  \\\\\n",
        "& \\frac{\\partial{L}}{\\partial{b_2}} = \\delta_3\\\\\n",
        "& \\frac{\\partial{L}}{\\partial{W_1}} = x^T \\delta_2\\\\\n",
        "& \\frac{\\partial{L}}{\\partial{b_1}} = \\delta_2 \\\\\n",
        "\\end{aligned}\n",
        "$$"
      ]
    },
    {
      "cell_type": "markdown",
      "metadata": {
        "id": "XgmHCapPr-3w",
        "colab_type": "text"
      },
      "source": [
        "### Implementation\n",
        "\n",
        "Now we are ready for our implementation. We start by defining some useful variables and parameters for gradient descent:"
      ]
    },
    {
      "cell_type": "code",
      "metadata": {
        "id": "bP0w-1k2r-3x",
        "colab_type": "code",
        "colab": {}
      },
      "source": [
        "num_examples = len(X) # training set size\n",
        "nn_input_dim = 2 # input layer dimensionality\n",
        "nn_output_dim = 2 # output layer dimensionality\n",
        "\n",
        "# Gradient descent parameters (I picked these by hand)\n",
        "epsilon = 0.01 # learning rate for gradient descent\n",
        "reg_lambda = 0.01 # regularization strength"
      ],
      "execution_count": 0,
      "outputs": []
    },
    {
      "cell_type": "markdown",
      "metadata": {
        "id": "k9Mx2skGr-30",
        "colab_type": "text"
      },
      "source": [
        "First let's implement the loss function we defined above. We use this to evaluate how well our model is doing:"
      ]
    },
    {
      "cell_type": "code",
      "metadata": {
        "id": "nbcwY2Hlr-31",
        "colab_type": "code",
        "colab": {}
      },
      "source": [
        "# Helper function to evaluate the total loss on the dataset\n",
        "def calculate_loss(model):\n",
        "    W1, b1, W2, b2 = model['W1'], model['b1'], model['W2'], model['b2']\n",
        "    # Forward propagation to calculate our predictions\n",
        "    z1 = X.dot(W1) + b1\n",
        "    a1 = np.tanh(z1)\n",
        "    z2 = a1.dot(W2) + b2\n",
        "    exp_scores = np.exp(z2)\n",
        "    probs = exp_scores / np.sum(exp_scores, axis=1, keepdims=True)\n",
        "    # Calculating the loss\n",
        "    corect_logprobs = -np.log(probs[range(num_examples), y])\n",
        "    data_loss = np.sum(corect_logprobs)\n",
        "    # Add regulatization term to loss (optional)\n",
        "    data_loss += reg_lambda/2 * (np.sum(np.square(W1)) + np.sum(np.square(W2)))\n",
        "    return 1./num_examples * data_loss"
      ],
      "execution_count": 0,
      "outputs": []
    },
    {
      "cell_type": "markdown",
      "metadata": {
        "id": "b1FgW5ZFr-32",
        "colab_type": "text"
      },
      "source": [
        "We also implement a helper function to calculate the output of the network. It does forward propagation as defined above and returns the class with the highest probability."
      ]
    },
    {
      "cell_type": "code",
      "metadata": {
        "id": "vkaNWGONr-33",
        "colab_type": "code",
        "colab": {}
      },
      "source": [
        "# Helper function to predict an output (0 or 1)\n",
        "def predict(model, x):\n",
        "    W1, b1, W2, b2 = model['W1'], model['b1'], model['W2'], model['b2']\n",
        "    # Forward propagation\n",
        "    z1 = x.dot(W1) + b1\n",
        "    a1 = np.tanh(z1)\n",
        "    z2 = a1.dot(W2) + b2\n",
        "    exp_scores = np.exp(z2)\n",
        "    probs = exp_scores / np.sum(exp_scores, axis=1, keepdims=True)\n",
        "    return np.argmax(probs, axis=1)"
      ],
      "execution_count": 0,
      "outputs": []
    },
    {
      "cell_type": "markdown",
      "metadata": {
        "id": "1VKIMSxhr-35",
        "colab_type": "text"
      },
      "source": [
        "Finally, here comes the function to train our Neural Network. It implements batch gradient descent using the backpropagation derivates we found above."
      ]
    },
    {
      "cell_type": "code",
      "metadata": {
        "id": "a9fWg0Bur-36",
        "colab_type": "code",
        "colab": {}
      },
      "source": [
        "# This function learns parameters for the neural network and returns the model.\n",
        "# - nn_hdim: Number of nodes in the hidden layer\n",
        "# - num_passes: Number of passes through the training data for gradient descent\n",
        "# - print_loss: If True, print the loss every 1000 iterations\n",
        "def build_model(nn_hdim, num_passes=20000, print_loss=False):\n",
        "    \n",
        "    # Initialize the parameters to random values. We need to learn these.\n",
        "    np.random.seed(42)\n",
        "    W1 = np.random.randn(nn_input_dim, nn_hdim) / np.sqrt(nn_input_dim)\n",
        "    b1 = np.zeros((1, nn_hdim))\n",
        "    W2 = np.random.randn(nn_hdim, nn_output_dim) / np.sqrt(nn_hdim)\n",
        "    b2 = np.zeros((1, nn_output_dim))\n",
        "\n",
        "    # This is what we return at the end\n",
        "    model = {}\n",
        "    \n",
        "    # Gradient descent. For each batch...\n",
        "    for i in range(0, num_passes):\n",
        "\n",
        "        # Forward propagation\n",
        "        z1 = X.dot(W1) + b1\n",
        "        a1 = np.tanh(z1)\n",
        "        z2 = a1.dot(W2) + b2\n",
        "        exp_scores = np.exp(z2)\n",
        "        probs = exp_scores / np.sum(exp_scores, axis=1, keepdims=True)\n",
        "\n",
        "        # Backpropagation\n",
        "        delta3 = probs\n",
        "        delta3[range(num_examples), y] -= 1\n",
        "        dW2 = (a1.T).dot(delta3)\n",
        "        db2 = np.sum(delta3, axis=0, keepdims=True)\n",
        "        delta2 = delta3.dot(W2.T) * (1 - np.power(a1, 2))\n",
        "        dW1 = np.dot(X.T, delta2)\n",
        "        db1 = np.sum(delta2, axis=0)\n",
        "\n",
        "        # Add regularization terms (b1 and b2 don't have regularization terms)\n",
        "        dW2 += reg_lambda * W2\n",
        "        dW1 += reg_lambda * W1\n",
        "\n",
        "        # Gradient descent parameter update\n",
        "        W1 += -epsilon * dW1\n",
        "        b1 += -epsilon * db1\n",
        "        W2 += -epsilon * dW2\n",
        "        b2 += -epsilon * db2\n",
        "        \n",
        "        # Assign new parameters to the model\n",
        "        model = { 'W1': W1, 'b1': b1, 'W2': W2, 'b2': b2}\n",
        "        \n",
        "        # Optionally print the loss.\n",
        "        # This is expensive because it uses the whole dataset, so we don't want to do it too often.\n",
        "        if print_loss and i % 1000 == 0:\n",
        "          print(\"Loss after iteration %i: %f\" %(i, calculate_loss(model)))\n",
        "    \n",
        "    return model"
      ],
      "execution_count": 0,
      "outputs": []
    },
    {
      "cell_type": "markdown",
      "metadata": {
        "id": "_e3FPZs1r-38",
        "colab_type": "text"
      },
      "source": [
        "### A network with a hidden layer of size 3\n",
        "\n",
        "Let's see what happens if we train a network with a hidden layer size of 3.\n"
      ]
    },
    {
      "cell_type": "code",
      "metadata": {
        "id": "7BFDNGUxr-39",
        "colab_type": "code",
        "colab": {}
      },
      "source": [
        "# Build a model with a 3-dimensional hidden layer\n",
        "model = build_model(3, print_loss=True)\n",
        "\n",
        "# Plot the decision boundary\n",
        "plot_decision_boundary(lambda x: predict(model, x))\n",
        "plt.title(\"Decision Boundary for hidden layer size 3\")"
      ],
      "execution_count": 0,
      "outputs": []
    },
    {
      "cell_type": "markdown",
      "metadata": {
        "id": "oAcqTLG2r-4A",
        "colab_type": "text"
      },
      "source": [
        "Yay! This looks pretty good. Our neural networks was able to find a decision boundary that successfully separates the classes."
      ]
    },
    {
      "cell_type": "markdown",
      "metadata": {
        "id": "yRtzpMYUr-4B",
        "colab_type": "text"
      },
      "source": [
        "# Varying the hidden layer size\n",
        "\n",
        "In the example above we picked a hidden layer size of 3. Let's now get a sense of how varying the hidden layer size affects the result.\n"
      ]
    },
    {
      "cell_type": "code",
      "metadata": {
        "id": "IRnEyDgKr-4C",
        "colab_type": "code",
        "colab": {}
      },
      "source": [
        "plt.figure(figsize=(16, 32))\n",
        "hidden_layer_dimensions = [1, 2, 3, 4, 5, 20, 50]\n",
        "for i, nn_hdim in enumerate(hidden_layer_dimensions):\n",
        "    plt.subplot(5, 2, i+1)\n",
        "    plt.title('Hidden Layer size %d' % nn_hdim)\n",
        "    model = build_model(nn_hdim)\n",
        "    plot_decision_boundary(lambda x: predict(model, x))\n",
        "plt.show()"
      ],
      "execution_count": 0,
      "outputs": []
    },
    {
      "cell_type": "markdown",
      "metadata": {
        "id": "IwlWCzYsr-4F",
        "colab_type": "text"
      },
      "source": [
        "We can see that while a hidden layer of low dimensionality nicely capture the general trend of our data, but higher dimensionalities are prone to overfitting. They are \"memorizing\" the data as opposed to fitting the general shape. If we were to evaluate our model on a separate test set (and you should!) the model with a smaller hidden layer size would likely perform better because it generalizes better. We could counteract overfitting with stronger regularization, but picking the a correct size for hidden layer is a much more \"economical\" solution."
      ]
    },
    {
      "cell_type": "markdown",
      "metadata": {
        "id": "dxt_YtDgr-4G",
        "colab_type": "text"
      },
      "source": [
        "# Exercises\n",
        "\n",
        "Here are some things you can try to become more familiar with the code:\n",
        "\n",
        "1. Instead of batch gradient descent, use minibatch gradient descent ([more info](http://cs231n.github.io/optimization-1/#gd)) to train the network. Minibatch gradient descent typically performs better in practice. \n",
        "2. We used a fixed learning rate $\\epsilon$ for gradient descent. Implement an annealing schedule for the gradient descent learning rate ([more info](http://cs231n.github.io/neural-networks-3/#anneal)). \n",
        "3. We used a $\\tanh$ activation function for our hidden layer. Experiment with other activation functions (some are mentioned above). Note that changing the activation function also means changing the backpropagation derivative.\n",
        "4. Extend the network from two to three classes. You will need to generate an appropriate dataset for this.\n",
        "5. Extend the network to four layers. Experiment with the layer size. Adding another hidden layer means you will need to adjust both the forward propagation as well as the backpropagation code.\n"
      ]
    },
    {
      "cell_type": "code",
      "metadata": {
        "id": "2e2UavO8r-4H",
        "colab_type": "code",
        "colab": {}
      },
      "source": [
        ""
      ],
      "execution_count": 0,
      "outputs": []
    }
  ]
}