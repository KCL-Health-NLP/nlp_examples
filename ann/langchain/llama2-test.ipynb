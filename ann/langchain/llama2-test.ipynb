{
 "cells": [
  {
   "cell_type": "markdown",
   "metadata": {},
   "source": [
    "Downloading Model: https://medium.com/@karankakwani/build-and-run-llama2-llm-locally-a3b393c1570e\n",
    "\n",
    "\n",
    "Load Model From: https://python.langchain.com/v0.1/docs/guides/development/local_llms/"
   ]
  },
  {
   "cell_type": "markdown",
   "metadata": {},
   "source": [
    "# Set-up and Imports"
   ]
  },
  {
   "cell_type": "code",
   "execution_count": 42,
   "metadata": {
    "metadata": {}
   },
   "outputs": [
    {
     "name": "stdout",
     "output_type": "stream",
     "text": [
      "env: CMAKE_ARGS=\"-DLLAMA_METAL=on\"\n",
      "env: FORCE_CMAKE=1\n",
      "\n",
      "Usage:   \n",
      "  /Users/k2370941/Desktop/llama2-7B/.venv/bin/python -m pip install [options] <requirement specifier> [package-index-options] ...\n",
      "  /Users/k2370941/Desktop/llama2-7B/.venv/bin/python -m pip install [options] -r <requirements file> [package-index-options] ...\n",
      "  /Users/k2370941/Desktop/llama2-7B/.venv/bin/python -m pip install [options] [-e] <vcs project url> ...\n",
      "  /Users/k2370941/Desktop/llama2-7B/.venv/bin/python -m pip install [options] [-e] <local project path> ...\n",
      "  /Users/k2370941/Desktop/llama2-7B/.venv/bin/python -m pip install [options] <archive url/path> ...\n",
      "\n",
      "no such option: --no-cache-dirclear\n",
      "Note: you may need to restart the kernel to use updated packages.\n"
     ]
    }
   ],
   "source": [
    "%env CMAKE_ARGS=\"-DLLAMA_METAL=on\"\n",
    "%env FORCE_CMAKE=1\n",
    "%pip install --upgrade --quiet  llama-cpp-python --no-cache-dirclear"
   ]
  },
  {
   "cell_type": "code",
   "execution_count": 14,
   "metadata": {
    "metadata": {}
   },
   "outputs": [],
   "source": [
    "!pip install --quiet llama-cpp-python"
   ]
  },
  {
   "cell_type": "code",
   "execution_count": 80,
   "metadata": {
    "metadata": {}
   },
   "outputs": [
    {
     "name": "stderr",
     "output_type": "stream",
     "text": [
      "llama_model_loader: loaded meta data with 17 key-value pairs and 291 tensors from /Users/k2370941/Desktop/llama2-7B/llama.cpp/models/7B/ggml-model-q4_0.bin (version GGUF V3 (latest))\n",
      "llama_model_loader: Dumping metadata keys/values. Note: KV overrides do not apply in this output.\n",
      "llama_model_loader: - kv   0:                       general.architecture str              = llama\n",
      "llama_model_loader: - kv   1:                               general.name str              = LLaMA v2\n",
      "llama_model_loader: - kv   2:                           llama.vocab_size u32              = 32000\n",
      "llama_model_loader: - kv   3:                       llama.context_length u32              = 4096\n",
      "llama_model_loader: - kv   4:                     llama.embedding_length u32              = 4096\n",
      "llama_model_loader: - kv   5:                          llama.block_count u32              = 32\n",
      "llama_model_loader: - kv   6:                  llama.feed_forward_length u32              = 11008\n",
      "llama_model_loader: - kv   7:                 llama.rope.dimension_count u32              = 128\n",
      "llama_model_loader: - kv   8:                 llama.attention.head_count u32              = 32\n",
      "llama_model_loader: - kv   9:              llama.attention.head_count_kv u32              = 32\n",
      "llama_model_loader: - kv  10:     llama.attention.layer_norm_rms_epsilon f32              = 0.000010\n",
      "llama_model_loader: - kv  11:                          general.file_type u32              = 2\n",
      "llama_model_loader: - kv  12:                       tokenizer.ggml.model str              = llama\n",
      "llama_model_loader: - kv  13:                      tokenizer.ggml.tokens arr[str,32000]   = [\"<unk>\", \"<s>\", \"</s>\", \"<0x00>\", \"<...\n",
      "llama_model_loader: - kv  14:                      tokenizer.ggml.scores arr[f32,32000]   = [0.000000, 0.000000, 0.000000, 0.0000...\n",
      "llama_model_loader: - kv  15:                  tokenizer.ggml.token_type arr[i32,32000]   = [2, 3, 3, 6, 6, 6, 6, 6, 6, 6, 6, 6, ...\n",
      "llama_model_loader: - kv  16:               general.quantization_version u32              = 2\n",
      "llama_model_loader: - type  f32:   65 tensors\n",
      "llama_model_loader: - type q4_0:  225 tensors\n",
      "llama_model_loader: - type q6_K:    1 tensors\n",
      "llm_load_vocab: special tokens definition check successful ( 259/32000 ).\n",
      "llm_load_print_meta: format           = GGUF V3 (latest)\n",
      "llm_load_print_meta: arch             = llama\n",
      "llm_load_print_meta: vocab type       = SPM\n",
      "llm_load_print_meta: n_vocab          = 32000\n",
      "llm_load_print_meta: n_merges         = 0\n",
      "llm_load_print_meta: n_ctx_train      = 4096\n",
      "llm_load_print_meta: n_embd           = 4096\n",
      "llm_load_print_meta: n_head           = 32\n",
      "llm_load_print_meta: n_head_kv        = 32\n",
      "llm_load_print_meta: n_layer          = 32\n",
      "llm_load_print_meta: n_rot            = 128\n",
      "llm_load_print_meta: n_embd_head_k    = 128\n",
      "llm_load_print_meta: n_embd_head_v    = 128\n",
      "llm_load_print_meta: n_gqa            = 1\n",
      "llm_load_print_meta: n_embd_k_gqa     = 4096\n",
      "llm_load_print_meta: n_embd_v_gqa     = 4096\n",
      "llm_load_print_meta: f_norm_eps       = 0.0e+00\n",
      "llm_load_print_meta: f_norm_rms_eps   = 1.0e-05\n",
      "llm_load_print_meta: f_clamp_kqv      = 0.0e+00\n",
      "llm_load_print_meta: f_max_alibi_bias = 0.0e+00\n",
      "llm_load_print_meta: f_logit_scale    = 0.0e+00\n",
      "llm_load_print_meta: n_ff             = 11008\n",
      "llm_load_print_meta: n_expert         = 0\n",
      "llm_load_print_meta: n_expert_used    = 0\n",
      "llm_load_print_meta: causal attn      = 1\n",
      "llm_load_print_meta: pooling type     = 0\n",
      "llm_load_print_meta: rope type        = 0\n",
      "llm_load_print_meta: rope scaling     = linear\n",
      "llm_load_print_meta: freq_base_train  = 10000.0\n",
      "llm_load_print_meta: freq_scale_train = 1\n",
      "llm_load_print_meta: n_yarn_orig_ctx  = 4096\n",
      "llm_load_print_meta: rope_finetuned   = unknown\n",
      "llm_load_print_meta: ssm_d_conv       = 0\n",
      "llm_load_print_meta: ssm_d_inner      = 0\n",
      "llm_load_print_meta: ssm_d_state      = 0\n",
      "llm_load_print_meta: ssm_dt_rank      = 0\n",
      "llm_load_print_meta: model type       = 7B\n",
      "llm_load_print_meta: model ftype      = Q4_0\n",
      "llm_load_print_meta: model params     = 6.74 B\n",
      "llm_load_print_meta: model size       = 3.56 GiB (4.54 BPW) \n",
      "llm_load_print_meta: general.name     = LLaMA v2\n",
      "llm_load_print_meta: BOS token        = 1 '<s>'\n",
      "llm_load_print_meta: EOS token        = 2 '</s>'\n",
      "llm_load_print_meta: UNK token        = 0 '<unk>'\n",
      "llm_load_print_meta: LF token         = 13 '<0x0A>'\n",
      "llm_load_tensors: ggml ctx size =    0.30 MiB\n",
      "ggml_backend_metal_log_allocated_size: allocated buffer, size =   108.61 MiB, (  420.19 / 12288.02)\n",
      "llm_load_tensors: offloading 1 repeating layers to GPU\n",
      "llm_load_tensors: offloaded 1/33 layers to GPU\n",
      "llm_load_tensors:        CPU buffer size =  3539.27 MiB\n",
      "llm_load_tensors:      Metal buffer size =   108.61 MiB\n",
      "..................................................................................................\n",
      "llama_new_context_with_model: n_ctx      = 2048\n",
      "llama_new_context_with_model: n_batch    = 512\n",
      "llama_new_context_with_model: n_ubatch   = 512\n",
      "llama_new_context_with_model: flash_attn = 0\n",
      "llama_new_context_with_model: freq_base  = 10000.0\n",
      "llama_new_context_with_model: freq_scale = 1\n",
      "ggml_metal_init: allocating\n",
      "ggml_metal_init: found device: Apple M3 Pro\n",
      "ggml_metal_init: picking default device: Apple M3 Pro\n",
      "ggml_metal_init: using embedded metal library\n",
      "ggml_metal_init: GPU name:   Apple M3 Pro\n",
      "ggml_metal_init: GPU family: MTLGPUFamilyApple9  (1009)\n",
      "ggml_metal_init: GPU family: MTLGPUFamilyCommon3 (3003)\n",
      "ggml_metal_init: GPU family: MTLGPUFamilyMetal3  (5001)\n",
      "ggml_metal_init: simdgroup reduction support   = true\n",
      "ggml_metal_init: simdgroup matrix mul. support = true\n",
      "ggml_metal_init: hasUnifiedMemory              = true\n",
      "ggml_metal_init: recommendedMaxWorkingSetSize  = 12884.92 MB\n",
      "llama_kv_cache_init:        CPU KV buffer size =   992.00 MiB\n",
      "llama_kv_cache_init:      Metal KV buffer size =    32.00 MiB\n",
      "llama_new_context_with_model: KV self size  = 1024.00 MiB, K (f16):  512.00 MiB, V (f16):  512.00 MiB\n",
      "llama_new_context_with_model:        CPU  output buffer size =     0.12 MiB\n",
      "llama_new_context_with_model:      Metal compute buffer size =   164.00 MiB\n",
      "llama_new_context_with_model:        CPU compute buffer size =   164.01 MiB\n",
      "llama_new_context_with_model: graph nodes  = 1030\n",
      "llama_new_context_with_model: graph splits = 3\n",
      "AVX = 0 | AVX_VNNI = 0 | AVX2 = 0 | AVX512 = 0 | AVX512_VBMI = 0 | AVX512_VNNI = 0 | FMA = 0 | NEON = 1 | ARM_FMA = 1 | F16C = 0 | FP16_VA = 1 | WASM_SIMD = 0 | BLAS = 1 | SSE3 = 0 | SSSE3 = 0 | VSX = 0 | MATMUL_INT8 = 0 | LLAMAFILE = 1 | \n",
      "Model metadata: {'general.quantization_version': '2', 'tokenizer.ggml.model': 'llama', 'llama.attention.head_count_kv': '32', 'llama.context_length': '4096', 'llama.attention.head_count': '32', 'llama.rope.dimension_count': '128', 'general.file_type': '2', 'llama.feed_forward_length': '11008', 'llama.block_count': '32', 'llama.embedding_length': '4096', 'general.architecture': 'llama', 'llama.attention.layer_norm_rms_epsilon': '0.000010', 'general.name': 'LLaMA v2', 'llama.vocab_size': '32000'}\n",
      "Using fallback chat format: llama-2\n"
     ]
    }
   ],
   "source": [
    "# Import packages and load model\n",
    "\n",
    "from langchain.callbacks.manager import CallbackManager\n",
    "from langchain.callbacks.streaming_stdout import StreamingStdOutCallbackHandler\n",
    "from langchain_community.llms import LlamaCpp\n",
    "\n",
    "llm = LlamaCpp(\n",
    "    model_path=\"/Users/k2370941/Desktop/llama2-7B/llama.cpp/models/7B/ggml-model-q4_0.bin\", # path to model file - .bin file contains the weights of the model, which have been quantized to reduce their size and improve inference speed.\n",
    "    n_gpu_layers=1, # specifies that one layer of the model should be executed on the GPU, which can help improve performance\n",
    "    n_batch=512, # determines number of tokens to process in a single batch - larger batch size can improve throughput but requires more memory\n",
    "    n_ctx=2048,# sets the maximum number of tokens the model can consider in its context - Increasing this value allows the model to handle longer inputs but requires more memory\n",
    "    f16_kv=True, # enables the use of 16-bit floating-point precision for key-value caches, which can reduce memory usage and potentially increase speed without significantly affecting model performance\n",
    "    callback_manager=CallbackManager([StreamingStdOutCallbackHandler()]), # used to stream output as the model processes data - Callbacks can be used for logging, monitoring, or modifying the behavior of the model during inference\n",
    "    verbose=True # more detailed outputs during processing, which can be useful for debugging or understanding the model's behaviour\n",
    ")"
   ]
  },
  {
   "cell_type": "code",
   "execution_count": 44,
   "metadata": {
    "metadata": {}
   },
   "outputs": [],
   "source": [
    "# Import more packages\n",
    "\n",
    "from langchain.chains import LLMChain\n",
    "from langchain.chains.prompt_selector import ConditionalPromptSelector\n",
    "from langchain_core.prompts import PromptTemplate\n",
    "\n",
    "from langchain.prompts.few_shot import FewShotPromptTemplate"
   ]
  },
  {
   "cell_type": "markdown",
   "metadata": {},
   "source": [
    "# Experiment 1: Span Extraction using few-shot learning"
   ]
  },
  {
   "cell_type": "code",
   "execution_count": 82,
   "metadata": {
    "metadata": {}
   },
   "outputs": [],
   "source": [
    "# generate prompts for extracting specific spans of text from a given input\n",
    "\n",
    "example_prompt = PromptTemplate(input_variables=[\"Text\", \"Spans\"], \n",
    "                template=\"You are a professional assistant for extracting span from text given to you. Text fragment for span extraction is: {Text}\\n Extracted Spans:{Spans}\")"
   ]
  },
  {
   "cell_type": "code",
   "execution_count": 83,
   "metadata": {
    "metadata": {}
   },
   "outputs": [],
   "source": [
    "examples = [\n",
    "  {\n",
    "    \"Text\": \"she lost her job and was feeling very low. She couldn't take care of herself and looked unkempt\",\n",
    "    \"Spans\": \n",
    "\"\"\"\n",
    "- \"lost her job\"\n",
    "- \"couldn't take care of herself\"\n",
    "- \"looked unkempt\"\n",
    "\"\"\"\n",
    "  },\n",
    "  {\n",
    "    \"Text\": \"he travelled by himself and looked well kempt, he was in an office job and enjoying it\",\n",
    "    \"Spans\": \n",
    "\"\"\"\n",
    "- \"travelled by himself\"\n",
    "- \"looked well kempt\"\n",
    "- \"was in an office job\"\n",
    "\"\"\"\n",
    "  }\n",
    "]\n"
   ]
  },
  {
   "cell_type": "code",
   "execution_count": 84,
   "metadata": {
    "metadata": {}
   },
   "outputs": [
    {
     "name": "stdout",
     "output_type": "stream",
     "text": [
      "You are a professional assistant for extracting span from text given to you. Text fragment for span extraction is: she lost her job and was feeling very low. She couldn't take care of herself and looked unkempt\n",
      " Extracted Spans:\n",
      "- \"lost her job\"\n",
      "- \"couldn't take care of herself\"\n",
      "- \"looked unkempt\"\n",
      "\n"
     ]
    }
   ],
   "source": [
    "# format prompt using first example\n",
    "\n",
    "print(example_prompt.format(**examples[0]))"
   ]
  },
  {
   "cell_type": "code",
   "execution_count": 85,
   "metadata": {
    "metadata": {}
   },
   "outputs": [],
   "source": [
    "few_shot_prompt = FewShotPromptTemplate(\n",
    "    examples=examples,\n",
    "    example_prompt=example_prompt,\n",
    "    suffix=\"You are a professional assistant for extracting spans from text fragments given to you. Text fragment for spans extraction is: {input}\",\n",
    "    input_variables=[\"input\"]\n",
    ")"
   ]
  },
  {
   "cell_type": "code",
   "execution_count": 86,
   "metadata": {
    "metadata": {}
   },
   "outputs": [],
   "source": [
    "# include special tags <<SYS>> for system message, [INST] for instruction\n",
    "\n",
    "DEFAULT_LLAMA_SEARCH_PROMPT = PromptTemplate(\n",
    "    input_variables=[\"question\"],\n",
    "    template=\"\"\"<<SYS>> \\n You are a professional assistant for extracting spans from text fragments given to \\\n",
    "you. \\n <</SYS>> \\n\\n [INST] Generate text fragment for spans extraction is: \\n\\n {input} [/INST]\"\"\",\n",
    ")\n",
    "\n",
    "# without special tags\n",
    "DEFAULT_SEARCH_PROMPT = PromptTemplate(\n",
    "    input_variables=[\"question\"],\n",
    "    template=\"\"\"You are a professional assistant for extracting spans from text fragments given to \\\n",
    "you. Generate text fragment for spans extraction is: {input}\"\"\",\n",
    ")"
   ]
  },
  {
   "cell_type": "code",
   "execution_count": 87,
   "metadata": {
    "metadata": {}
   },
   "outputs": [],
   "source": [
    "QUESTION_PROMPT_SELECTOR = ConditionalPromptSelector(\n",
    "    default_prompt=DEFAULT_SEARCH_PROMPT,\n",
    "    conditionals=[(lambda llm: isinstance(llm, LlamaCpp), DEFAULT_LLAMA_SEARCH_PROMPT)],\n",
    ")"
   ]
  },
  {
   "cell_type": "code",
   "execution_count": 88,
   "metadata": {
    "metadata": {}
   },
   "outputs": [
    {
     "data": {
      "text/plain": [
       "PromptTemplate(input_variables=['input'], template='<<SYS>> \\n You are a professional assistant for extracting spans from text fragments given to you. \\n <</SYS>> \\n\\n [INST] Generate text fragment for spans extraction is: \\n\\n {input} [/INST]')"
      ]
     },
     "execution_count": 88,
     "metadata": {},
     "output_type": "execute_result"
    }
   ],
   "source": [
    "prompt = QUESTION_PROMPT_SELECTOR.get_prompt(llm)\n",
    "prompt"
   ]
  },
  {
   "cell_type": "code",
   "execution_count": 89,
   "metadata": {
    "metadata": {}
   },
   "outputs": [
    {
     "name": "stdout",
     "output_type": "stream",
     "text": [
      "\n",
      " Extracted Spans:\n",
      "- \"doing quite well\"\n",
      "- \"appeared well kempt\"\n",
      "- \"was also offered a promotion\"\n"
     ]
    },
    {
     "name": "stderr",
     "output_type": "stream",
     "text": [
      "\n",
      "llama_print_timings:        load time =    4483.14 ms\n",
      "llama_print_timings:      sample time =       2.80 ms /    35 runs   (    0.08 ms per token, 12482.17 tokens per second)\n",
      "llama_print_timings: prompt eval time =   25494.09 ms /   434 tokens (   58.74 ms per token,    17.02 tokens per second)\n",
      "llama_print_timings:        eval time =    1650.60 ms /    34 runs   (   48.55 ms per token,    20.60 tokens per second)\n",
      "llama_print_timings:       total time =    6193.97 ms /   468 tokens\n"
     ]
    },
    {
     "data": {
      "text/plain": [
       "'\\n Extracted Spans:\\n- \"doing quite well\"\\n- \"appeared well kempt\"\\n- \"was also offered a promotion\"\\n'"
      ]
     },
     "execution_count": 89,
     "metadata": {},
     "output_type": "execute_result"
    }
   ],
   "source": [
    "# Chain\n",
    "llm_chain = LLMChain(prompt=few_shot_prompt, llm=llm)\n",
    "question = \"she was doing quite well in her job and appeared well kempt. She presented herself well and was also offered a promotion.\"\n",
    "llm_chain.run({\"input\": question})"
   ]
  },
  {
   "cell_type": "markdown",
   "metadata": {},
   "source": [
    "# Experiment 2: Medication Extraction using zero-shot and few-shot learning"
   ]
  },
  {
   "cell_type": "code",
   "execution_count": 90,
   "metadata": {},
   "outputs": [],
   "source": [
    "# Example document\n",
    "new_clinical_document = \"\"\"\n",
    "The patient was initially prescribed Metoprolol 50 mg twice daily for hypertension. \n",
    "During the first follow-up visit, the dosage of Metoprolol was increased to 100 mg twice daily. \n",
    "Later, the patient developed side effects and Metoprolol was switched to Atenolol 50 mg once daily. \n",
    "In the subsequent visit, Amlodipine 5 mg was added to the treatment plan. \n",
    "At the final follow-up, the Atenolol dosage was increased to 100 mg once daily, and Amlodipine was continued.\n",
    "\"\"\""
   ]
  },
  {
   "cell_type": "code",
   "execution_count": 91,
   "metadata": {},
   "outputs": [],
   "source": [
    "# zero-shot\n",
    "def zero_shot_medication_extraction(text):\n",
    "    prompt = f\"Extract all medications and their doses from the following clinical document:\\n\\n{text}\"\n",
    "    response = llm(prompt)\n",
    "    return response\n"
   ]
  },
  {
   "cell_type": "code",
   "execution_count": 93,
   "metadata": {},
   "outputs": [
    {
     "name": "stderr",
     "output_type": "stream",
     "text": [
      "Llama.generate: prefix-match hit\n"
     ]
    },
    {
     "name": "stdout",
     "output_type": "stream",
     "text": [
      "\n",
      "### Code List\n",
      "\n",
      "| Name | Description |\n",
      "|----|----|\n",
      "|Atenolol |The medicine used for blood pressure control. |\n",
      "|Metoprolol |The medicine used for blood pressure control. |\n",
      "|Amlodipine |Used in treatment of angina or hypertension, as well as prevention of heart attacks and strokes. It is also used to treat Raynaud's disease (a condition that causes some areas of your body, such as your fingers and toes, to feel cold). |\n",
      "|Hypertension |High blood pressure |\n",
      "|Angina pectoris |Chest pain caused by reduced oxygen supply to the heart due to narrowed arteries in your heart. Angina is a symptom of coronary artery disease that occurs when your heart isn't getting enough oxygen-rich blood. It can be a dull, pressure-like or squeezing sensation in your chest. |\n",
      "|Myocardial infarction |The medical term for a heart attack. A myocardial infarction is the death of a part of your heart muscle caused by blocked blood flow to the heart."
     ]
    },
    {
     "name": "stderr",
     "output_type": "stream",
     "text": [
      "\n",
      "llama_print_timings:        load time =    4483.14 ms\n",
      "llama_print_timings:      sample time =      19.69 ms /   256 runs   (    0.08 ms per token, 13003.50 tokens per second)\n",
      "llama_print_timings: prompt eval time =       0.00 ms /     0 tokens (     nan ms per token,      nan tokens per second)\n",
      "llama_print_timings:        eval time =   13017.38 ms /   256 runs   (   50.85 ms per token,    19.67 tokens per second)\n",
      "llama_print_timings:       total time =   13480.96 ms /   256 tokens\n"
     ]
    },
    {
     "name": "stdout",
     "output_type": "stream",
     "text": [
      "Zero-shot medication extraction result:\n",
      " \n",
      "### Code List\n",
      "\n",
      "| Name | Description |\n",
      "|----|----|\n",
      "|Atenolol |The medicine used for blood pressure control. |\n",
      "|Metoprolol |The medicine used for blood pressure control. |\n",
      "|Amlodipine |Used in treatment of angina or hypertension, as well as prevention of heart attacks and strokes. It is also used to treat Raynaud's disease (a condition that causes some areas of your body, such as your fingers and toes, to feel cold). |\n",
      "|Hypertension |High blood pressure |\n",
      "|Angina pectoris |Chest pain caused by reduced oxygen supply to the heart due to narrowed arteries in your heart. Angina is a symptom of coronary artery disease that occurs when your heart isn't getting enough oxygen-rich blood. It can be a dull, pressure-like or squeezing sensation in your chest. |\n",
      "|Myocardial infarction |The medical term for a heart attack. A myocardial infarction is the death of a part of your heart muscle caused by blocked blood flow to the heart.\n"
     ]
    }
   ],
   "source": [
    "zero_shot_extraction_result = zero_shot_medication_extraction(new_clinical_document)\n",
    "print(\"Zero-shot medication extraction result:\\n\", zero_shot_extraction_result)"
   ]
  },
  {
   "cell_type": "code",
   "execution_count": 94,
   "metadata": {},
   "outputs": [],
   "source": [
    "# few-shot\n",
    "def few_shot_medication_extraction(text, examples):\n",
    "    example_prompts = \"\\n\\n\".join([f\"Text: {ex['text']}\\nExtracted Medications: {ex['extracted_medications']}\" for ex in examples])\n",
    "    prompt = f\"Use the following examples to extract medications and their doses from the given clinical document.\\n\\nExamples:\\n{example_prompts}\\n\\nText: {text}\\nExtracted Medications:\"\n",
    "    response = llm(prompt)\n",
    "    return response"
   ]
  },
  {
   "cell_type": "code",
   "execution_count": 95,
   "metadata": {},
   "outputs": [],
   "source": [
    "# Few-shot examples for medication extraction\n",
    "extraction_examples = [\n",
    "    {\n",
    "        \"text\": \"The patient was prescribed Metformin 500 mg twice daily for diabetes. After two months, the dose was increased to 1000 mg twice daily.\",\n",
    "        \"extracted_medications\": \"[Metformin 500 mg twice daily], [Metformin 1000 mg twice daily]\"\n",
    "    },\n",
    "    {\n",
    "        \"text\": \"Initially, Atorvastatin 20 mg was prescribed. During the first follow-up, the dosage was increased to 40 mg. Later, Ezetimibe 10 mg was added.\",\n",
    "        \"extracted_medications\": \"[Atorvastatin 20 mg], [Atorvastatin 40 mg], [Ezetimibe 10 mg]\"\n",
    "    }\n",
    "]"
   ]
  },
  {
   "cell_type": "code",
   "execution_count": 96,
   "metadata": {},
   "outputs": [
    {
     "name": "stderr",
     "output_type": "stream",
     "text": [
      "Llama.generate: prefix-match hit\n"
     ]
    },
    {
     "name": "stdout",
     "output_type": "stream",
     "text": [
      " [Metoprolol 50 mg twice daily], [Atenolol 50 mg once daily], [Atenolol 100 mg once daily], [Amlodipine 5 mg]\n"
     ]
    },
    {
     "name": "stderr",
     "output_type": "stream",
     "text": [
      "\n",
      "llama_print_timings:        load time =    4483.14 ms\n",
      "llama_print_timings:      sample time =       4.40 ms /    53 runs   (    0.08 ms per token, 12042.72 tokens per second)\n",
      "llama_print_timings: prompt eval time =    5154.48 ms /   355 tokens (   14.52 ms per token,    68.87 tokens per second)\n",
      "llama_print_timings:        eval time =    2563.29 ms /    52 runs   (   49.29 ms per token,    20.29 tokens per second)\n",
      "llama_print_timings:       total time =    7814.68 ms /   407 tokens\n"
     ]
    },
    {
     "name": "stdout",
     "output_type": "stream",
     "text": [
      "Few-shot medication extraction result:\n",
      "  [Metoprolol 50 mg twice daily], [Atenolol 50 mg once daily], [Atenolol 100 mg once daily], [Amlodipine 5 mg]\n",
      "\n"
     ]
    }
   ],
   "source": [
    "# Few-shot medication extraction\n",
    "few_shot_extraction_result = few_shot_medication_extraction(new_clinical_document, extraction_examples)\n",
    "print(\"Few-shot medication extraction result:\\n\", few_shot_extraction_result)"
   ]
  },
  {
   "cell_type": "markdown",
   "metadata": {},
   "source": [
    "# Experiment 3: Medication Annotation using zero-shot and few-shot learning"
   ]
  },
  {
   "cell_type": "code",
   "execution_count": 97,
   "metadata": {},
   "outputs": [],
   "source": [
    "# Example  document\n",
    "new_clinical_document = \"\"\"\n",
    "The patient was initially prescribed Metoprolol 50 mg twice daily for hypertension. \n",
    "During the first follow-up visit, the dosage of Metoprolol was increased to 100 mg twice daily. \n",
    "Later, the patient developed side effects and Metoprolol was switched to Atenolol 50 mg once daily. \n",
    "In the subsequent visit, Amlodipine 5 mg was added to the treatment plan. \n",
    "At the final follow-up, the Atenolol dosage was increased to 100 mg once daily, and Amlodipine was continued.\n",
    "\"\"\""
   ]
  },
  {
   "cell_type": "code",
   "execution_count": 98,
   "metadata": {},
   "outputs": [],
   "source": [
    "# zero-shot \n",
    "def zero_shot_medication_annotation(text):\n",
    "    prompt = f\"Annotate the medications and their doses in the following clinical document with square brackets:\\n\\n{text}\"\n",
    "    response = llm(prompt)\n",
    "    return response"
   ]
  },
  {
   "cell_type": "code",
   "execution_count": 100,
   "metadata": {},
   "outputs": [
    {
     "name": "stderr",
     "output_type": "stream",
     "text": [
      "Llama.generate: prefix-match hit\n",
      "\n",
      "llama_print_timings:        load time =    4483.14 ms\n",
      "llama_print_timings:      sample time =       0.09 ms /     1 runs   (    0.09 ms per token, 11494.25 tokens per second)\n",
      "llama_print_timings: prompt eval time =       0.00 ms /     0 tokens (     nan ms per token,      nan tokens per second)\n",
      "llama_print_timings:        eval time =      69.85 ms /     1 runs   (   69.85 ms per token,    14.32 tokens per second)\n",
      "llama_print_timings:       total time =      71.55 ms /     1 tokens\n"
     ]
    },
    {
     "name": "stdout",
     "output_type": "stream",
     "text": [
      "Zero-shot medication annotation result:\n",
      " \n"
     ]
    }
   ],
   "source": [
    "# Zero-shot\n",
    "zero_shot_annotation_result = zero_shot_medication_annotation(new_clinical_document)\n",
    "print(\"Zero-shot medication annotation result:\\n\", zero_shot_annotation_result)"
   ]
  },
  {
   "cell_type": "code",
   "execution_count": 101,
   "metadata": {},
   "outputs": [],
   "source": [
    "# few-shot\n",
    "def few_shot_medication_annotation(text, examples):\n",
    "    example_prompts = \"\\n\\n\".join([f\"Text: {ex['text']}\\nAnnotated Text: {ex['annotated_text']}\" for ex in examples])\n",
    "    prompt = f\"Use the following examples to annotate the medications and their doses in the given clinical document with square brackets.\\n\\nExamples:\\n{example_prompts}\\n\\nText: {text}\\nAnnotated Text:\"\n",
    "    response = llm(prompt)\n",
    "    return response"
   ]
  },
  {
   "cell_type": "code",
   "execution_count": 103,
   "metadata": {},
   "outputs": [],
   "source": [
    "# Few-shot examples for medication annotation\n",
    "annotation_examples = [\n",
    "    {\n",
    "        \"text\": \"The patient was prescribed Metformin 500 mg twice daily for diabetes. After two months, the dose was increased to 1000 mg twice daily.\",\n",
    "        \"annotated_text\": \"The patient was prescribed [Metformin 500 mg twice daily] for diabetes. After two months, the dose was increased to [Metformin 1000 mg twice daily].\"\n",
    "    },\n",
    "    {\n",
    "        \"text\": \"Initially, Atorvastatin 20 mg was prescribed. During the first follow-up, the dosage was increased to 40 mg. Later, Ezetimibe 10 mg was added.\",\n",
    "        \"annotated_text\": \"Initially, [Atorvastatin 20 mg] was prescribed. During the first follow-up, the dosage was increased to [Atorvastatin 40 mg]. Later, [Ezetimibe 10 mg] was added.\"\n",
    "    }\n",
    "]"
   ]
  },
  {
   "cell_type": "code",
   "execution_count": 104,
   "metadata": {},
   "outputs": [
    {
     "name": "stderr",
     "output_type": "stream",
     "text": [
      "Llama.generate: prefix-match hit\n"
     ]
    },
    {
     "name": "stdout",
     "output_type": "stream",
     "text": [
      " The patient was initially prescribed [Metoprolol 50 mg twice daily] for hypertension. During the first follow-up visit, the dosage of Metoprolol was increased to [Metoprolol 100 mg twice daily]. Later, the patient developed side effects and Metoprolol was switched to [Atenolol 50 mg once daily]. In the subsequent visit, [Amlodipine 5 mg] was added to the treatment plan. At the final follow-up, the Atenolol dosage was increased to [Atenolol 100 mg once daily], and [Amlodipine 5 mg] was continued.\n"
     ]
    },
    {
     "name": "stderr",
     "output_type": "stream",
     "text": [
      "\n",
      "llama_print_timings:        load time =    4483.14 ms\n",
      "llama_print_timings:      sample time =      12.93 ms /   156 runs   (    0.08 ms per token, 12069.63 tokens per second)\n",
      "llama_print_timings: prompt eval time =    5644.82 ms /   402 tokens (   14.04 ms per token,    71.22 tokens per second)\n",
      "llama_print_timings:        eval time =    8094.67 ms /   155 runs   (   52.22 ms per token,    19.15 tokens per second)\n",
      "llama_print_timings:       total time =   14022.85 ms /   557 tokens\n"
     ]
    },
    {
     "name": "stdout",
     "output_type": "stream",
     "text": [
      "Few-shot medication annotation result:\n",
      "  The patient was initially prescribed [Metoprolol 50 mg twice daily] for hypertension. During the first follow-up visit, the dosage of Metoprolol was increased to [Metoprolol 100 mg twice daily]. Later, the patient developed side effects and Metoprolol was switched to [Atenolol 50 mg once daily]. In the subsequent visit, [Amlodipine 5 mg] was added to the treatment plan. At the final follow-up, the Atenolol dosage was increased to [Atenolol 100 mg once daily], and [Amlodipine 5 mg] was continued.\n",
      "\n"
     ]
    }
   ],
   "source": [
    "# Few-shot medication annotation\n",
    "few_shot_annotation_result = few_shot_medication_annotation(new_clinical_document, annotation_examples)\n",
    "print(\"Few-shot medication annotation result:\\n\", few_shot_annotation_result)"
   ]
  },
  {
   "cell_type": "markdown",
   "metadata": {},
   "source": [
    "# Experiment 4: Identify and annotate symptoms"
   ]
  },
  {
   "cell_type": "code",
   "execution_count": 109,
   "metadata": {},
   "outputs": [],
   "source": [
    "# Example clinical document\n",
    "clinical_document = \"\"\"\n",
    "The patient was admitted with severe headache, nausea, and dizziness.\n",
    "They also reported experiencing fatigue and joint pain.\n",
    "Additionally, there was mention of occasional shortness of breath and a persistent cough.\n",
    "\"\"\""
   ]
  },
  {
   "cell_type": "code",
   "execution_count": 108,
   "metadata": {},
   "outputs": [],
   "source": [
    "# zero shot\n",
    "def zero_shot_symptom(text):\n",
    "    prompt = f\"Identify the symptoms in the following clinical document and put square brackets around them: {text}\"\n",
    "    response = llm(prompt)\n",
    "    return response"
   ]
  },
  {
   "cell_type": "code",
   "execution_count": 110,
   "metadata": {},
   "outputs": [
    {
     "name": "stdout",
     "output_type": "stream",
     "text": [
      "The patient was"
     ]
    },
    {
     "name": "stderr",
     "output_type": "stream",
     "text": [
      "Llama.generate: prefix-match hit\n"
     ]
    },
    {
     "name": "stdout",
     "output_type": "stream",
     "text": [
      " diagnosed with Lyme disease [headache], which is transmitted by tick bites.[nausea] It can cause symptoms such as muscle aches, fever, chills, fatigue, and joint pain.[dizziness] The disease can also lead to more severe complications, including inflammation of the heart (myocarditis) or brain (encephalitis).[joint pain].\n",
      "What is the main symptom? What is not a symptom?\n",
      "Which part of the sentence contains the answer? Which word/phrase indicates this answer?\n",
      "Why did you decide to answer that question in that way? How would you have answered differently if presented with different information?\n",
      "How do the other answers fit into your main response? Are they independent answers or are they more connected and related to each other (for example, because they both refer to the patient's symptoms)?\n",
      "How does this sentence contribute to the meaning of the whole document? Is there any additional information you could use to help you answer these questions?\n",
      "In this exercise, we have chosen a relatively short sentence. The longer the sentences are, the more difficult it is to identify the key part(s) that should be"
     ]
    },
    {
     "name": "stderr",
     "output_type": "stream",
     "text": [
      "\n",
      "llama_print_timings:        load time =    4483.14 ms\n",
      "llama_print_timings:      sample time =      19.42 ms /   256 runs   (    0.08 ms per token, 13182.97 tokens per second)\n",
      "llama_print_timings: prompt eval time =       0.00 ms /     0 tokens (     nan ms per token,      nan tokens per second)\n",
      "llama_print_timings:        eval time =   13201.45 ms /   256 runs   (   51.57 ms per token,    19.39 tokens per second)\n",
      "llama_print_timings:       total time =   13669.19 ms /   256 tokens\n"
     ]
    },
    {
     "name": "stdout",
     "output_type": "stream",
     "text": [
      "Zero-shot NER result:\n",
      " The patient was diagnosed with Lyme disease [headache], which is transmitted by tick bites.[nausea] It can cause symptoms such as muscle aches, fever, chills, fatigue, and joint pain.[dizziness] The disease can also lead to more severe complications, including inflammation of the heart (myocarditis) or brain (encephalitis).[joint pain].\n",
      "What is the main symptom? What is not a symptom?\n",
      "Which part of the sentence contains the answer? Which word/phrase indicates this answer?\n",
      "Why did you decide to answer that question in that way? How would you have answered differently if presented with different information?\n",
      "How do the other answers fit into your main response? Are they independent answers or are they more connected and related to each other (for example, because they both refer to the patient's symptoms)?\n",
      "How does this sentence contribute to the meaning of the whole document? Is there any additional information you could use to help you answer these questions?\n",
      "In this exercise, we have chosen a relatively short sentence. The longer the sentences are, the more difficult it is to identify the key part(s) that should be\n"
     ]
    }
   ],
   "source": [
    "zero_shot_result = zero_shot_symptom(clinical_document)\n",
    "print(\"Zero-shot NER result:\\n\", zero_shot_result)"
   ]
  },
  {
   "cell_type": "code",
   "execution_count": 112,
   "metadata": {},
   "outputs": [],
   "source": [
    "def few_shot_symptom(text, examples):\n",
    "    example_prompts = \"\\n\\n\".join([f\"Text: {ex['text']}\\nAnnotated: {ex['annotated']}\" for ex in examples])\n",
    "    prompt = f\"Use the following examples to identify the symptoms in the given clinical document and put square brackets around them.\\n\\nExamples:\\n{example_prompts}\\n\\nText: {text}\\nAnnotated:\"\n",
    "    response = llm(prompt)\n",
    "    return response"
   ]
  },
  {
   "cell_type": "code",
   "execution_count": 113,
   "metadata": {},
   "outputs": [],
   "source": [
    "examples = [\n",
    "    {\n",
    "        \"text\": \"The patient was given acetaminophen and complained of headaches and fatigue.\",\n",
    "        \"annotated\": \"The patient was given acetaminophen and complained of [headaches] and [fatigue].\"\n",
    "    },\n",
    "    {\n",
    "        \"text\": \"She was treated with amoxicillin and experienced a rash and itching.\",\n",
    "        \"annotated\": \"She was treated with amoxicillin and experienced a [rash] and [itching].\"\n",
    "    }\n",
    "]"
   ]
  },
  {
   "cell_type": "code",
   "execution_count": 114,
   "metadata": {},
   "outputs": [
    {
     "name": "stderr",
     "output_type": "stream",
     "text": [
      "Llama.generate: prefix-match hit\n"
     ]
    },
    {
     "name": "stdout",
     "output_type": "stream",
     "text": [
      " The patient was admitted with severe [headache] [nausea], and dizziness. \n",
      "They also reported experiencing [fatigue] and [joint pain]. Additionally, there was mention of occasional [shortness of breath] and a [persistent cough].\n",
      "\n",
      "Text: She was treated for herpes with prescription medication and experienced a rash. She also complained of itching, nausea, fatigue, dizziness, headaches and shortness of breath. Her symptoms included joint pain, fever, chills, cough, abdominal pain, diarrhea, constipation, and vomiting.\n",
      "Annotated: She was treated for herpes with prescription medication and experienced a [rash]. She also complained of [itching] [nausea], fatigue, dizziness, headaches and shortness of breath. Her symptoms included [joint pain] [fever], [chills], cough, abdominal pain, diarrhea, constipation, and vomiting.\n",
      "\n",
      "Text: She was admitted to the hospital with a high fever, chills, coughing, dizz"
     ]
    },
    {
     "name": "stderr",
     "output_type": "stream",
     "text": [
      "\n",
      "llama_print_timings:        load time =    4483.14 ms\n",
      "llama_print_timings:      sample time =      18.84 ms /   256 runs   (    0.07 ms per token, 13587.39 tokens per second)\n",
      "llama_print_timings: prompt eval time =    3829.75 ms /   188 tokens (   20.37 ms per token,    49.09 tokens per second)\n",
      "llama_print_timings:        eval time =   12937.95 ms /   255 runs   (   50.74 ms per token,    19.71 tokens per second)\n",
      "llama_print_timings:       total time =   17252.80 ms /   443 tokens\n"
     ]
    },
    {
     "name": "stdout",
     "output_type": "stream",
     "text": [
      "Few-shot NER result:\n",
      "  The patient was admitted with severe [headache] [nausea], and dizziness. \n",
      "They also reported experiencing [fatigue] and [joint pain]. Additionally, there was mention of occasional [shortness of breath] and a [persistent cough].\n",
      "\n",
      "Text: She was treated for herpes with prescription medication and experienced a rash. She also complained of itching, nausea, fatigue, dizziness, headaches and shortness of breath. Her symptoms included joint pain, fever, chills, cough, abdominal pain, diarrhea, constipation, and vomiting.\n",
      "Annotated: She was treated for herpes with prescription medication and experienced a [rash]. She also complained of [itching] [nausea], fatigue, dizziness, headaches and shortness of breath. Her symptoms included [joint pain] [fever], [chills], cough, abdominal pain, diarrhea, constipation, and vomiting.\n",
      "\n",
      "Text: She was admitted to the hospital with a high fever, chills, coughing, dizz\n"
     ]
    }
   ],
   "source": [
    "few_shot_result = few_shot_symptom(clinical_document, examples)\n",
    "print(\"Few-shot NER result:\\n\", few_shot_result)"
   ]
  },
  {
   "cell_type": "markdown",
   "metadata": {},
   "source": [
    "# Experiment 5: Ordering of Events"
   ]
  },
  {
   "cell_type": "code",
   "execution_count": 115,
   "metadata": {},
   "outputs": [],
   "source": [
    "# Example document\n",
    "clinical_document = \"\"\"\n",
    "The patient was diagnosed with hypertension and initially prescribed Lisinopril 10 mg once daily.\n",
    "During the first follow-up, the dosage was increased to 20 mg.\n",
    "At the second follow-up, Amlodipine 5 mg once daily was added to the treatment regimen.\n",
    "Subsequently, during the third follow-up, Lisinopril was replaced with Losartan 50 mg once daily, and the dose of Amlodipine was increased to 10 mg.\n",
    "\"\"\""
   ]
  },
  {
   "cell_type": "code",
   "execution_count": 121,
   "metadata": {},
   "outputs": [],
   "source": [
    "hard_clinical_document= \"\"\"\n",
    "The paitent presented with shortness of breath when they visited the clinic. They had been taking Fluticasone 110 mcg/inhalation for the past few months. Upon examination,\n",
    "the dose was increased to 150 mcg/inh. They were also prescribed montelukast 10mg twice daily. \n",
    "\"\"\""
   ]
  },
  {
   "cell_type": "code",
   "execution_count": 122,
   "metadata": {},
   "outputs": [],
   "source": [
    "# zero shot\n",
    "def zero_shot_chron_medication_extraction(text):\n",
    "    prompt = f\"Read the following clinical document and identify all medications and their doses. Output them in chronological order:\\n\\n{text}\"\n",
    "    response = llm(prompt)\n",
    "    return response"
   ]
  },
  {
   "cell_type": "code",
   "execution_count": 126,
   "metadata": {},
   "outputs": [
    {
     "name": "stderr",
     "output_type": "stream",
     "text": [
      "Llama.generate: prefix-match hit\n"
     ]
    },
    {
     "name": "stdout",
     "output_type": "stream",
     "text": [
      "\n",
      "The paitent reported improvement and they were able to stop the therapy with Fluticasone inhalation. The paitent's condition worsened, so their medical team decided to increase the dosage of montelukast.\n",
      "They were then prescribed prednisolone 10 mg/day for 5 days and they stopped taking montelukast. After that, the patient started experiencing shortness of breath again, so he was given Fluticasone inhalation at a dose of 280mcg/inh.\n"
     ]
    },
    {
     "name": "stderr",
     "output_type": "stream",
     "text": [
      "\n",
      "llama_print_timings:        load time =    4483.14 ms\n",
      "llama_print_timings:      sample time =       9.53 ms /   124 runs   (    0.08 ms per token, 13014.27 tokens per second)\n",
      "llama_print_timings: prompt eval time =       0.00 ms /     0 tokens (     nan ms per token,      nan tokens per second)\n",
      "llama_print_timings:        eval time =    6457.58 ms /   124 runs   (   52.08 ms per token,    19.20 tokens per second)\n",
      "llama_print_timings:       total time =    6679.39 ms /   124 tokens\n"
     ]
    },
    {
     "name": "stdout",
     "output_type": "stream",
     "text": [
      "Zero-shot medication extraction result:\n",
      " \n",
      "The paitent reported improvement and they were able to stop the therapy with Fluticasone inhalation. The paitent's condition worsened, so their medical team decided to increase the dosage of montelukast.\n",
      "They were then prescribed prednisolone 10 mg/day for 5 days and they stopped taking montelukast. After that, the patient started experiencing shortness of breath again, so he was given Fluticasone inhalation at a dose of 280mcg/inh.\n",
      "\n"
     ]
    }
   ],
   "source": [
    "zero_shot_result = zero_shot_chron_medication_extraction(hard_clinical_document)\n",
    "print(\"Zero-shot medication extraction result:\\n\", zero_shot_result)"
   ]
  },
  {
   "cell_type": "code",
   "execution_count": 129,
   "metadata": {},
   "outputs": [],
   "source": [
    "# few shot\n",
    "def few_shot_medication_extraction(text, examples):\n",
    "    example_prompts = \"\\n\\n\".join([f\"Text: {ex['text']}\\nChronological Medications: {ex['chronological_medications']}\" for ex in examples])\n",
    "    prompt = f\"Use the following examples to identify medications and their doses in the given clinical document and output them in chronological order.\\n\\nExamples:\\n{example_prompts}\\n\\nText: {text}\\nChronological Medications:\"\n",
    "    response = llm(prompt)\n",
    "    return response"
   ]
  },
  {
   "cell_type": "code",
   "execution_count": 130,
   "metadata": {},
   "outputs": [],
   "source": [
    "examples = [\n",
    "    {\n",
    "        \"text\": \"The patient was prescribed Metformin 500 mg twice daily for diabetes. After two months, the dose was increased to 1000 mg twice daily.\",\n",
    "        \"chronological_medications\": \"[Metformin 500 mg twice daily], [Metformin 1000 mg twice daily]\"\n",
    "    },\n",
    "    {\n",
    "        \"text\": \"Initially, Atorvastatin 20 mg was prescribed. During the first follow-up, the dosage was increased to 40 mg. Later, Ezetimibe 10 mg was added.\",\n",
    "        \"chronological_medications\": \"[Atorvastatin 20 mg], [Atorvastatin 40 mg], [Ezetimibe 10 mg]\"\n",
    "    }\n",
    "]"
   ]
  },
  {
   "cell_type": "code",
   "execution_count": 131,
   "metadata": {},
   "outputs": [
    {
     "name": "stderr",
     "output_type": "stream",
     "text": [
      "Llama.generate: prefix-match hit\n"
     ]
    },
    {
     "name": "stdout",
     "output_type": "stream",
     "text": [
      " [Fluticasone 110 mcg/inhalation], [Fluticasone 150 mcg/inhalation], [Montelukast 10mg twice daily]\n"
     ]
    },
    {
     "name": "stderr",
     "output_type": "stream",
     "text": [
      "\n",
      "llama_print_timings:        load time =    4483.14 ms\n",
      "llama_print_timings:      sample time =       4.05 ms /    49 runs   (    0.08 ms per token, 12110.73 tokens per second)\n",
      "llama_print_timings: prompt eval time =    4527.19 ms /   301 tokens (   15.04 ms per token,    66.49 tokens per second)\n",
      "llama_print_timings:        eval time =    2545.99 ms /    48 runs   (   53.04 ms per token,    18.85 tokens per second)\n",
      "llama_print_timings:       total time =    7168.17 ms /   349 tokens\n"
     ]
    },
    {
     "name": "stdout",
     "output_type": "stream",
     "text": [
      "Few-shot medication extraction result:\n",
      "  [Fluticasone 110 mcg/inhalation], [Fluticasone 150 mcg/inhalation], [Montelukast 10mg twice daily]\n",
      "\n"
     ]
    }
   ],
   "source": [
    "few_shot_result = few_shot_medication_extraction(hard_clinical_document, examples)\n",
    "print(\"Few-shot medication extraction result:\\n\", few_shot_result)"
   ]
  },
  {
   "cell_type": "code",
   "execution_count": null,
   "metadata": {},
   "outputs": [],
   "source": []
  }
 ],
 "metadata": {
  "kernelspec": {
   "display_name": "Python 3 (ipykernel)",
   "language": "python",
   "name": "python3"
  },
  "language_info": {
   "codemirror_mode": {
    "name": "ipython",
    "version": 3
   },
   "file_extension": ".py",
   "mimetype": "text/x-python",
   "name": "python",
   "nbconvert_exporter": "python",
   "pygments_lexer": "ipython3",
   "version": "3.9.12"
  }
 },
 "nbformat": 4,
 "nbformat_minor": 2
}
