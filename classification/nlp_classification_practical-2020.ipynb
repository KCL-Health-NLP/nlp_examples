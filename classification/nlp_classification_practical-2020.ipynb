{
 "cells": [
  {
   "cell_type": "markdown",
   "metadata": {},
   "source": [
    "# NLP classification - supervised learning\n",
    "\n",
    "In this example, you will learn how you can use supervised learning algorithms for NLP classification. We will use documents from mtsamples again. The task is to classify a document into its clinical specialty, e.g. pediatrics or hematology.\n",
    "\n",
    "We will use classification algorithms as implemented in sci-kit learn, and evaluate with cross-validation before testing on unseen test data.\n",
    "\n",
    "We will experiment with different ways of representing the documents for the classifiers.\n",
    "\n",
    "material in parts from https://towardsdatascience.com/multi-class-text-classification-with-scikit-learn-12f1e60e0a9f\n",
    "\n",
    "Written by Sumithra Velupillai, March 2019 - updated February 2020"
   ]
  },
  {
   "cell_type": "markdown",
   "metadata": {},
   "source": [
    "# 1: Packages\n",
    "We will use a number of different packages for this exercise"
   ]
  },
  {
   "cell_type": "code",
   "execution_count": 1,
   "metadata": {},
   "outputs": [],
   "source": [
    "%matplotlib inline\n",
    "\n",
    "import matplotlib\n",
    "import matplotlib.pyplot as plt\n",
    "\n",
    "import pandas as pd\n",
    "try:\n",
    "    import xlrd\n",
    "except ImportError as e:\n",
    "    !pip install xlrd\n",
    "    import xlrd\n",
    "\n",
    "import numpy as np\n",
    "\n",
    "import warnings; warnings.simplefilter('ignore')\n"
   ]
  },
  {
   "cell_type": "code",
   "execution_count": 2,
   "metadata": {},
   "outputs": [],
   "source": [
    "# We'll use scikit-learn for the classification algorithms.\n",
    "# https://scikit-learn.org/stable/\n",
    "\n",
    "#from sklearn.naive_bayes import MultinomialNB\n",
    "from sklearn.linear_model import SGDClassifier\n",
    "from sklearn.linear_model import LogisticRegression\n",
    "from sklearn.ensemble import RandomForestClassifier\n",
    "from sklearn.svm import LinearSVC\n",
    "from sklearn.neighbors import KNeighborsClassifier\n",
    "#from sklearn.naive_bayes import GaussianNB\n",
    "from sklearn.tree import DecisionTreeClassifier\n",
    "from sklearn.svm import SVC\n"
   ]
  },
  {
   "cell_type": "code",
   "execution_count": 3,
   "metadata": {},
   "outputs": [],
   "source": [
    "## sklearn also has some nice funtions for representations\n",
    "\n",
    "from sklearn.feature_extraction.text import TfidfTransformer\n",
    "from sklearn.feature_extraction.text import CountVectorizer\n",
    "from sklearn.feature_extraction.text import TfidfVectorizer\n",
    "\n",
    "## and for evaluation\n",
    "from sklearn.pipeline import Pipeline\n",
    "from sklearn import metrics\n",
    "from sklearn.model_selection import cross_validate\n",
    "from sklearn.model_selection import cross_val_score\n",
    "\n"
   ]
  },
  {
   "cell_type": "code",
   "execution_count": 4,
   "metadata": {},
   "outputs": [
    {
     "name": "stderr",
     "output_type": "stream",
     "text": [
      "[nltk_data] Downloading package punkt to /Users/angus/nltk_data...\n",
      "[nltk_data]   Package punkt is already up-to-date!\n",
      "[nltk_data] Downloading package stopwords to /Users/angus/nltk_data...\n",
      "[nltk_data]   Package stopwords is already up-to-date!\n"
     ]
    }
   ],
   "source": [
    "## Since we're working with text, we might need to tokenize for some of these representations. \n",
    "# We'll use nltk here, but there are other nlp packages available for this\n",
    "import nltk\n",
    "nltk.download('punkt')\n",
    "nltk.download('stopwords')\n",
    "\n",
    "from nltk.tokenize import word_tokenize\n",
    "from nltk.corpus import stopwords\n",
    "\n",
    "\n",
    "\n",
    "\n",
    "\n"
   ]
  },
  {
   "cell_type": "code",
   "execution_count": 6,
   "metadata": {},
   "outputs": [
    {
     "name": "stdout",
     "output_type": "stream",
     "text": [
      "2021-05-27 08:59:43.618375\n"
     ]
    }
   ],
   "source": [
    "# You have also learnt about embedding representations. These can also be used for classification.\n",
    "# We will use a library called Zeugma, which allows using pre-trained embedding models\n",
    "#Zeugma library: https://github.com/nkthiebaut/zeugma\n",
    "\n",
    "try:\n",
    "    from zeugma.embeddings import EmbeddingTransformer\n",
    "except ImportError as e:\n",
    "    !pip install zeugma\n",
    "    !pip install theano\n",
    "    from zeugma.embeddings import EmbeddingTransformer\n",
    "\n",
    "from datetime import datetime\n",
    "print(datetime.now())"
   ]
  },
  {
   "cell_type": "markdown",
   "metadata": {},
   "source": [
    "# 2: Corpus\n",
    "Read in the training data."
   ]
  },
  {
   "cell_type": "code",
   "execution_count": 34,
   "metadata": {},
   "outputs": [],
   "source": [
    "\n",
    "#xlds_training = 'https://github.com/KCL-Health-NLP/nlp_examples/blob/master/classification/classification_trainingdata.xlsx?raw=true'\n",
    "#trainingdata = pd.read_excel(xlds_training)\n",
    "\n",
    "#labelMap = {\"METHODS\":\"NOTCONC\",\n",
    "#            \"RESULTS\":\"NOTCONC\",\n",
    "#            \"CONCLUSIONS\":\"CONCLUSIONS\",\n",
    "#            \"BACKGROUND\":\"NOTCONC\",\n",
    "#            \"OBJECTIVE\":\"NOTCONC\"\n",
    "#           }\n",
    "\n",
    "trainingdata = pd.read_csv('train.txt', sep='\\t', header=None, names=['pmid', 'label', 'txt'])\n",
    "#trainingdata['label2'] = trainingdata['label'].map(labelMap)"
   ]
  },
  {
   "cell_type": "markdown",
   "metadata": {},
   "source": [
    "Take a look at the content of the training data. What are we trying to classify? What are the labels we want to try to learn? How many instances do we have?"
   ]
  },
  {
   "cell_type": "code",
   "execution_count": 37,
   "metadata": {},
   "outputs": [
    {
     "data": {
      "text/plain": [
       "METHODS        8293\n",
       "RESULTS        8142\n",
       "CONCLUSIONS    3754\n",
       "BACKGROUND     2852\n",
       "OBJECTIVE      1959\n",
       "Name: label, dtype: int64"
      ]
     },
     "execution_count": 37,
     "metadata": {},
     "output_type": "execute_result"
    }
   ],
   "source": [
    "trainingdata['label'].value_counts()"
   ]
  },
  {
   "cell_type": "markdown",
   "metadata": {},
   "source": [
    "What types of features do you think would be useful for the classification task? Where can we get them? Take a look at one or two of the documents. Can you guess which classification label these belong to?"
   ]
  },
  {
   "cell_type": "code",
   "execution_count": 38,
   "metadata": {},
   "outputs": [
    {
     "name": "stdout",
     "output_type": "stream",
     "text": [
      "IgE sensitization to Aspergillus fumigatus and a positive sputum fungal culture result are common in patients with refractory asthma .\n"
     ]
    }
   ],
   "source": [
    "trainingtxt_example = trainingdata['txt'].tolist()[0]\n",
    "print(trainingtxt_example)"
   ]
  },
  {
   "cell_type": "code",
   "execution_count": 39,
   "metadata": {},
   "outputs": [
    {
     "name": "stdout",
     "output_type": "stream",
     "text": [
      "Patients were randomly allocated into three equal groups : The fentanyl group received 100 mL of IV normal saline as a placebo , with the first dose ending 30 min before intubation .\n"
     ]
    }
   ],
   "source": [
    "trainingtxt_example = trainingdata['txt'].tolist()[231]\n",
    "print(trainingtxt_example)"
   ]
  },
  {
   "cell_type": "markdown",
   "metadata": {},
   "source": [
    "# 3: Representation - BoW\n",
    "\n",
    "The most common baseline feature representation for text classification tasks is to use the *bag-of-words* representation, in a document-term matrix. Let's build a simple one using raw counts and only keeping a maximum of 500 features. We can use the CountVectorizer function from sklearn, and tokenize using a function from nltk."
   ]
  },
  {
   "cell_type": "code",
   "execution_count": 40,
   "metadata": {},
   "outputs": [],
   "source": [
    "first_vectorizer = CountVectorizer(ngram_range=(1,1), stop_words=None,\n",
    "                             tokenizer=word_tokenize, max_features=500)\n",
    "first_vectorizer.fit(trainingdata['txt'].tolist())\n",
    "first_fit_transformed_data = first_vectorizer.fit_transform(trainingdata['txt'])\n"
   ]
  },
  {
   "cell_type": "markdown",
   "metadata": {},
   "source": [
    "We can now look at this transformed representation for an example document."
   ]
  },
  {
   "cell_type": "code",
   "execution_count": 41,
   "metadata": {},
   "outputs": [
    {
     "name": "stdout",
     "output_type": "stream",
     "text": [
      "  (0, 7)\t1\n",
      "  (0, 9)\t1\n",
      "  (0, 19)\t1\n",
      "  (0, 32)\t1\n",
      "  (0, 45)\t1\n",
      "  (0, 53)\t1\n",
      "  (0, 75)\t1\n",
      "  (0, 91)\t1\n",
      "  (0, 104)\t1\n",
      "  (0, 176)\t1\n",
      "  (0, 210)\t1\n",
      "  (0, 229)\t1\n",
      "  (0, 230)\t1\n",
      "  (0, 269)\t1\n",
      "  (0, 301)\t1\n",
      "  (0, 303)\t1\n",
      "  (0, 323)\t1\n",
      "  (0, 341)\t1\n",
      "  (0, 348)\t1\n",
      "  (0, 373)\t1\n",
      "  (0, 379)\t1\n",
      "  (0, 441)\t2\n",
      "  (0, 450)\t1\n",
      "  (0, 486)\t1\n",
      "  (0, 494)\t1\n"
     ]
    }
   ],
   "source": [
    "first_transformed_data = first_vectorizer.transform([trainingdata['txt'].tolist()[231]])\n",
    "print (first_transformed_data)"
   ]
  },
  {
   "cell_type": "markdown",
   "metadata": {},
   "source": [
    "What word is represented by the different indices? Have a look at a few examples."
   ]
  },
  {
   "cell_type": "code",
   "execution_count": 42,
   "metadata": {},
   "outputs": [
    {
     "name": "stdout",
     "output_type": "stream",
     "text": [
      "that\n"
     ]
    }
   ],
   "source": [
    "print (first_vectorizer.get_feature_names()[440])"
   ]
  },
  {
   "cell_type": "code",
   "execution_count": 43,
   "metadata": {},
   "outputs": [
    {
     "name": "stdout",
     "output_type": "stream",
     "text": [
      "(25000, 500)\n",
      "Amount of Non-Zero occurences:  358396\n"
     ]
    }
   ],
   "source": [
    "print(first_fit_transformed_data.shape)\n",
    "print ('Amount of Non-Zero occurences: ', first_fit_transformed_data.nnz)"
   ]
  },
  {
   "cell_type": "markdown",
   "metadata": {},
   "source": [
    "# 4: Classification\n",
    "Let's build a classifier with this feature representation. In text classification, many classification algorithms have been shown to work well. Sci-kit learn has implementations for many different types of classification algorithms - have a look at their website!\n",
    "\n",
    "Let's try a K nearest neighbour classifier.\n"
   ]
  },
  {
   "cell_type": "code",
   "execution_count": 45,
   "metadata": {},
   "outputs": [],
   "source": [
    "kneighbour_classifier = KNeighborsClassifier().fit(first_fit_transformed_data, trainingdata['label'])"
   ]
  },
  {
   "cell_type": "markdown",
   "metadata": {},
   "source": [
    "We now have a trained model. But how do we know how well it works? Let's evaluate it on the test data."
   ]
  },
  {
   "cell_type": "code",
   "execution_count": 46,
   "metadata": {},
   "outputs": [],
   "source": [
    "\n",
    "#xlds_test = 'https://github.com/KCL-Health-NLP/nlp_examples/blob/master/classification/classification_test_data.xlsx?raw=true'\n",
    "#testdata = pd.read_excel(xlds_test)\n",
    "\n",
    "testdata = pd.read_csv('test.txt', sep='\\t', header=None, names=['pmid', 'label', 'txt'])\n",
    "#testdata['label2'] = testdata['label'].map(labelMap)\n",
    "\n",
    "\n",
    "## We need to transform this data to the same representation\n",
    "first_fit_transformed_testdata = first_vectorizer.transform(testdata['txt'])"
   ]
  },
  {
   "cell_type": "code",
   "execution_count": 47,
   "metadata": {},
   "outputs": [
    {
     "data": {
      "text/plain": [
       "array(['BACKGROUND', 'CONCLUSIONS', 'CONCLUSIONS', ..., 'RESULTS',\n",
       "       'METHODS', 'CONCLUSIONS'], dtype=object)"
      ]
     },
     "execution_count": 47,
     "metadata": {},
     "output_type": "execute_result"
    }
   ],
   "source": [
    "first_fit_transformed_testdata\n",
    "kneighbour_predicted = kneighbour_classifier.predict(first_fit_transformed_testdata)\n",
    "kneighbour_predicted"
   ]
  },
  {
   "cell_type": "code",
   "execution_count": 48,
   "metadata": {},
   "outputs": [
    {
     "name": "stdout",
     "output_type": "stream",
     "text": [
      "              precision    recall  f1-score   support\n",
      "\n",
      "  BACKGROUND       0.32      0.58      0.42       597\n",
      "     RESULTS       0.51      0.36      0.42       828\n",
      "     METHODS       0.63      0.74      0.68      1671\n",
      "   OBJECTIVE       0.42      0.32      0.36       417\n",
      " CONCLUSIONS       0.82      0.63      0.71      1699\n",
      "\n",
      "    accuracy                           0.59      5212\n",
      "   macro avg       0.54      0.52      0.52      5212\n",
      "weighted avg       0.62      0.59      0.59      5212\n",
      "\n"
     ]
    }
   ],
   "source": [
    "print(metrics.classification_report(testdata['label'], kneighbour_predicted, target_names=set(testdata['label'].tolist())))"
   ]
  },
  {
   "cell_type": "markdown",
   "metadata": {},
   "source": [
    "What do you think about these results? There are probably ways of improving this, by changing the representation or maybe trying a different classifier model. \n",
    "__There is one main problem though: we can't use this test data to try different configurations! Why?__"
   ]
  },
  {
   "cell_type": "markdown",
   "metadata": {},
   "source": [
    "# 5: N-fold cross-validation"
   ]
  },
  {
   "cell_type": "markdown",
   "metadata": {},
   "source": [
    "We can employ n-fold cross-validation on the training data to experiment with different representations, parameters, and classifiers.\n",
    "\n",
    "There are also various metrics that can be used to evaluate classification results.\n"
   ]
  },
  {
   "cell_type": "code",
   "execution_count": 35,
   "metadata": {},
   "outputs": [
    {
     "data": {
      "image/png": "[encoded data removed]",
      "text/plain": [
       "<Figure size 432x288 with 1 Axes>"
      ]
     },
     "metadata": {
      "needs_background": "light"
     },
     "output_type": "display_data"
    }
   ],
   "source": [
    "kneighbour_classifier = KNeighborsClassifier().fit(first_fit_transformed_data, trainingdata['label'])\n",
    "scoring = ['precision_macro', 'recall_macro','precision_micro','recall_micro', 'f1_micro', 'f1_macro']\n",
    "scores = cross_validate(kneighbour_classifier, first_fit_transformed_data, trainingdata['label'], scoring=scoring, cv=10, return_train_score=False)\n",
    "scoresdf = pd.DataFrame(scores)\n",
    "scoring = ['test_precision_macro', 'test_recall_macro','test_precision_micro','test_recall_micro', 'test_f1_micro', 'test_f1_macro']\n",
    "bp = scoresdf.boxplot(column=scoring, grid=False, rot=45,)\n",
    "[ax_tmp.set_xlabel('') for ax_tmp in np.asarray(bp).reshape(-1)]\n",
    "fig = np.asarray(bp).reshape(-1)[0].get_figure()\n",
    "fig.suptitle('K nearest neighbour, count vectorizer')\n",
    "plt.show()"
   ]
  },
  {
   "cell_type": "markdown",
   "metadata": {},
   "source": [
    "What happens if we try another classifier? Let's try a random forest classifier."
   ]
  },
  {
   "cell_type": "code",
   "execution_count": 36,
   "metadata": {},
   "outputs": [
    {
     "data": {
      "image/png": "[encoded data removed]",
      "text/plain": [
       "<Figure size 432x288 with 1 Axes>"
      ]
     },
     "metadata": {
      "needs_background": "light"
     },
     "output_type": "display_data"
    }
   ],
   "source": [
    "rf_classifier = RandomForestClassifier(n_estimators=200, max_depth=3, random_state=0).fit(first_fit_transformed_data, trainingdata['label'])\n",
    "scoring = ['precision_macro', 'recall_macro','precision_micro','recall_micro', 'f1_micro', 'f1_macro']\n",
    "scores = cross_validate(rf_classifier, first_fit_transformed_data, trainingdata['label'], scoring=scoring, cv=10, return_train_score=False)\n",
    "scoresdf = pd.DataFrame(scores)\n",
    "scoring = ['test_precision_macro', 'test_recall_macro','test_precision_micro','test_recall_micro', 'test_f1_micro', 'test_f1_macro']\n",
    "bp = scoresdf.boxplot(column=scoring, grid=False, rot=45,)\n",
    "[ax_tmp.set_xlabel('') for ax_tmp in np.asarray(bp).reshape(-1)]\n",
    "fig = np.asarray(bp).reshape(-1)[0].get_figure()\n",
    "fig.suptitle('Random forest, count vectorizer')\n",
    "plt.show()"
   ]
  },
  {
   "cell_type": "markdown",
   "metadata": {},
   "source": [
    "Was this better or worse? Are there any parameters worth changing?"
   ]
  },
  {
   "cell_type": "markdown",
   "metadata": {},
   "source": [
    "# 6: Another representation model: Tf-idf\n",
    "We have used a very simple bag-of-words representation. What happens if we try something else? Let's try tf-idf. This is considered a strong baseline in many text classification tasks."
   ]
  },
  {
   "cell_type": "code",
   "execution_count": 37,
   "metadata": {},
   "outputs": [
    {
     "data": {
      "text/plain": [
       "<25000x32025 sparse matrix of type '<class 'numpy.float64'>'\n",
       "\twith 413839 stored elements in Compressed Sparse Row format>"
      ]
     },
     "execution_count": 37,
     "metadata": {},
     "output_type": "execute_result"
    }
   ],
   "source": [
    "\n",
    "stopWords = set(stopwords.words('english'))\n",
    "tfidf_vect = TfidfVectorizer(tokenizer=word_tokenize, stop_words=stopWords)\n",
    "tfidf_vect.fit(trainingdata['txt'])\n",
    "second_fit_transformed_data =  tfidf_vect.transform(trainingdata['txt'])\n",
    "second_fit_transformed_data"
   ]
  },
  {
   "cell_type": "markdown",
   "metadata": {},
   "source": [
    "What other parameters can you change in this representation? How does this look different from the CountVectorizer representation?"
   ]
  },
  {
   "cell_type": "markdown",
   "metadata": {},
   "source": [
    "Let's now use this with the Multinomial Naive Bayes classifier."
   ]
  },
  {
   "cell_type": "code",
   "execution_count": 38,
   "metadata": {},
   "outputs": [
    {
     "data": {
      "image/png": "[encoded data removed]",
      "text/plain": [
       "<Figure size 432x288 with 1 Axes>"
      ]
     },
     "metadata": {
      "needs_background": "light"
     },
     "output_type": "display_data"
    }
   ],
   "source": [
    "kneighbour_classifier = KNeighborsClassifier().fit(second_fit_transformed_data, trainingdata['label'])\n",
    "scoring = ['precision_macro', 'recall_macro','precision_micro','recall_micro', 'f1_micro', 'f1_macro']\n",
    "scores = cross_validate(kneighbour_classifier, second_fit_transformed_data, trainingdata['label'], scoring=scoring, cv=10, return_train_score=False)\n",
    "scoresdf = pd.DataFrame(scores)\n",
    "scoring = ['test_precision_macro', 'test_recall_macro','test_precision_micro','test_recall_micro', 'test_f1_micro', 'test_f1_macro']\n",
    "bp = scoresdf.boxplot(column=scoring, grid=False, rot=45,)\n",
    "[ax_tmp.set_xlabel('') for ax_tmp in np.asarray(bp).reshape(-1)]\n",
    "fig = np.asarray(bp).reshape(-1)[0].get_figure()\n",
    "fig.suptitle('K nearest neighbour, tf-idf vectorizer')\n",
    "plt.show()"
   ]
  },
  {
   "cell_type": "markdown",
   "metadata": {},
   "source": [
    "This looks better, doesn't it? Why do you think this works better?"
   ]
  },
  {
   "cell_type": "markdown",
   "metadata": {},
   "source": [
    "# 7: Representations: embeddings\n",
    "\n",
    "Last week, you learnt about embedding representations. What might be the benefit of using this type of representation instead of counts or tf-idf?\n",
    "\n",
    "As you saw, there are many pre-trained embedding models available online. Let's try using one of these on this data. "
   ]
  },
  {
   "cell_type": "markdown",
   "metadata": {},
   "source": [
    "Zeugma is a package where you can use embeddings in sklearn.\n",
    "https://github.com/nkthiebaut/zeugma"
   ]
  },
  {
   "cell_type": "markdown",
   "metadata": {},
   "source": [
    "It allows you to directly download pre-trained models that have been released from the gensim website.\n"
   ]
  },
  {
   "cell_type": "markdown",
   "metadata": {},
   "source": [
    "Let's use a basic glove model."
   ]
  },
  {
   "cell_type": "code",
   "execution_count": 39,
   "metadata": {},
   "outputs": [
    {
     "name": "stdout",
     "output_type": "stream",
     "text": [
      "[==================================================] 100.0% 104.8/104.8MB downloaded\n"
     ]
    }
   ],
   "source": [
    "glove = EmbeddingTransformer('glove')\n"
   ]
  },
  {
   "cell_type": "markdown",
   "metadata": {},
   "source": [
    "We now need to transform our training data to map to this embedding model."
   ]
  },
  {
   "cell_type": "code",
   "execution_count": 40,
   "metadata": {},
   "outputs": [],
   "source": [
    "glove_transformed_training_data = glove.transform(trainingdata['txt'])"
   ]
  },
  {
   "cell_type": "markdown",
   "metadata": {},
   "source": [
    "Have a look at what the data now looks like with this representation"
   ]
  },
  {
   "cell_type": "code",
   "execution_count": 41,
   "metadata": {},
   "outputs": [
    {
     "data": {
      "text/plain": [
       "array([[-0.00688767,  0.11176454, -0.45859256, ..., -0.29871118,\n",
       "        -0.33164892, -0.2711602 ],\n",
       "       [-0.10364454,  0.23297037, -0.5598883 , ..., -0.22309318,\n",
       "        -0.03964619, -0.34247562],\n",
       "       [ 0.08953218,  0.21429771, -0.47121647, ..., -0.29645458,\n",
       "        -0.0654586 , -0.34297094],\n",
       "       ...,\n",
       "       [ 0.0240526 ,  0.26602852, -0.19162774, ...,  0.06743708,\n",
       "        -0.098058  , -0.3533837 ],\n",
       "       [-0.0421645 ,  0.32998252, -0.31218937, ..., -0.46439838,\n",
       "         0.0401425 , -0.35525286],\n",
       "       [-0.09711062,  0.28295168, -0.5921539 , ..., -0.36167938,\n",
       "        -0.5108108 , -0.16480824]], dtype=float32)"
      ]
     },
     "execution_count": 41,
     "metadata": {},
     "output_type": "execute_result"
    }
   ],
   "source": [
    "glove_transformed_training_data"
   ]
  },
  {
   "cell_type": "markdown",
   "metadata": {},
   "source": [
    "Let's build a classifier with this representation and evaluate with 10-fold cross-validation."
   ]
  },
  {
   "cell_type": "code",
   "execution_count": 42,
   "metadata": {},
   "outputs": [
    {
     "data": {
      "image/png": "[encoded data removed]",
      "text/plain": [
       "<Figure size 432x288 with 1 Axes>"
      ]
     },
     "metadata": {
      "needs_background": "light"
     },
     "output_type": "display_data"
    }
   ],
   "source": [
    "kneighbour_classifier = KNeighborsClassifier().fit(glove_transformed_training_data, trainingdata['label'])\n",
    "scoring = ['precision_macro', 'recall_macro','precision_micro','recall_micro', 'f1_micro', 'f1_macro']\n",
    "scores = cross_validate(kneighbour_classifier, glove_transformed_training_data, trainingdata['label'], scoring=scoring, cv=10, return_train_score=False)\n",
    "scoresdf = pd.DataFrame(scores)\n",
    "scoring = ['test_precision_macro', 'test_recall_macro','test_precision_micro','test_recall_micro', 'test_f1_micro', 'test_f1_macro']\n",
    "bp = scoresdf.boxplot(column=scoring, grid=False, rot=45,)\n",
    "[ax_tmp.set_xlabel('') for ax_tmp in np.asarray(bp).reshape(-1)]\n",
    "fig = np.asarray(bp).reshape(-1)[0].get_figure()\n",
    "fig.suptitle('K nearest neighbour, pre-trained embeddings')\n",
    "plt.show()"
   ]
  },
  {
   "cell_type": "markdown",
   "metadata": {},
   "source": [
    "What do you think about these results? What is happening here?"
   ]
  },
  {
   "cell_type": "markdown",
   "metadata": {},
   "source": [
    "There are a number of pre-trained embedding models that have been released openly, a full list of pretrained embeddings to experiment with using this library: https://github.com/RaRe-Technologies/gensim-data#models"
   ]
  },
  {
   "cell_type": "markdown",
   "metadata": {},
   "source": [
    "You can play with these if you want, e.g.:\n",
    "glove = EmbeddingTransformer('glove-wiki-gigaword-50')"
   ]
  },
  {
   "cell_type": "markdown",
   "metadata": {},
   "source": [
    "# 8: Classifiers, representations, evaluation\n",
    "\n",
    "You've now seen that you get very different results depending on which representation you use, which classifier, and also that there are many different metrics to analyse.\n",
    "\n",
    "Let's try some different configurations all in one go. We'll create a dictionary with the three different types of representations, and a list of different classification algorithms, and apply all these configurations to see what seems to yield best results according to a chosen evaluation metric using 10-fold cross validation."
   ]
  },
  {
   "cell_type": "code",
   "execution_count": 43,
   "metadata": {},
   "outputs": [
    {
     "data": {
      "image/png": "[encoded data removed]",
      "text/plain": [
       "<Figure size 864x576 with 1 Axes>"
      ]
     },
     "metadata": {
      "needs_background": "light"
     },
     "output_type": "display_data"
    }
   ],
   "source": [
    "\n",
    "representations = {}\n",
    "\n",
    "vectorizer = CountVectorizer(ngram_range=(1,1), stop_words=None,\n",
    "                             tokenizer=word_tokenize, max_features=500)\n",
    "xtrain_countvect = vectorizer.fit_transform(trainingdata['txt'])\n",
    "representations['CountVectorizer'] = xtrain_countvect\n",
    "\n",
    "tfidf_vect = TfidfVectorizer(tokenizer=word_tokenize, stop_words=stopWords)\n",
    "tfidf_vect.fit(trainingdata['txt'])\n",
    "xtrain_tfidf =  tfidf_vect.transform(trainingdata['txt'])\n",
    "representations['TfidfVectorizer'] = xtrain_tfidf\n",
    "\n",
    "x_train_glove = glove.transform(trainingdata['txt'])\n",
    "representations['pretrained_glove'] = x_train_glove\n",
    "\n",
    "\n",
    "\n",
    "CV = 10\n",
    "\n",
    "classifier_models = [\n",
    "        RandomForestClassifier(n_estimators=200, max_depth=3, random_state=0),\n",
    "        DecisionTreeClassifier(),\n",
    "        SVC(),\n",
    "        LinearSVC(multi_class='ovr', C=1.0, class_weight=None, dual=True, fit_intercept=True,\n",
    "     intercept_scaling=1, loss='squared_hinge', max_iter=1000,\n",
    "      penalty='l2', random_state=0, tol=1e-05, verbose=0),\n",
    "        SGDClassifier(),\n",
    "        LogisticRegression(random_state=0),\n",
    "        KNeighborsClassifier(),\n",
    "]\n",
    "\n",
    "cv_df = pd.DataFrame(index=range(CV * (len(classifier_models)*len(representations))))\n",
    "entries = []\n",
    "\n",
    "\n",
    "for representation, transformed_vector in representations.items():\n",
    "    score = 'f1_micro'\n",
    "    for model in classifier_models:\n",
    "      model_name = model.__class__.__name__+'_'+representation\n",
    "      accuracies = cross_val_score(model, transformed_vector, trainingdata['label'], scoring=score, cv=CV)\n",
    "      for fold_idx, accuracy in enumerate(accuracies):\n",
    "        entries.append((model_name, fold_idx, accuracy))\n",
    "cv_df = pd.DataFrame(entries, columns=['model_name', 'fold_idx', score])\n",
    "bp = cv_df.boxplot(by='model_name', column=[score], grid=False, rot=90, figsize=(12,8))\n",
    "[ax_tmp.set_xlabel('') for ax_tmp in np.asarray(bp).reshape(-1)]\n",
    "fig = np.asarray(bp).reshape(-1)[0].get_figure()\n",
    "fig.suptitle('10-fold cross validation results')\n",
    "plt.show()"
   ]
  },
  {
   "cell_type": "markdown",
   "metadata": {},
   "source": [
    "What conclusions do you draw from this? Which classifier and which representation would you choose as your final model? Why?"
   ]
  },
  {
   "cell_type": "markdown",
   "metadata": {},
   "source": [
    "# Assignment 1: Your turn to build a classifier\n",
    "\n",
    "Answer questions by placing your code in the code cell below, running it to provide output, and giving your written answers in this markdown cell\n",
    "\n",
    "**1.1 Choose one classifier and one representation format and test it on the blind test data. What do you think about your results, and how do they relate to the 10-fold cross validation results above?** \n",
    "\n",
    "**1.2 What other configurations could you try before deciding on a final model?**\n",
    "\n",
    "**1.3 Is it appropriate to experiment with this on the test data? Why or why not?** "
   ]
  },
  {
   "cell_type": "code",
   "execution_count": null,
   "metadata": {},
   "outputs": [],
   "source": [
    "## PUT YOUR CODE ANSWERS IN HERE, AND RUN IT TO GIVE OUTPUT\n",
    "## First step: Transform your training and test data to your chosen representation. \n",
    "\n",
    "## choose a representation: CountVectorizer or TfidfVectorizer, or embeddings\n",
    "\n",
    "chosen_representation = \n",
    "\n",
    "## transform the training data \n",
    "transformed_training_data = chosen_representation.transform(trainingdata['txt'])\n",
    "\n",
    "## transform the test data\n",
    "transformed_test_data = chosen_representation.transform(testdata['txt'])\n",
    "\n",
    "## Second step: Create a classifier - the one you think gave best results when experimenting with cross-validation\n",
    "\n",
    "\n",
    "chosen_classifier = \n",
    "\n",
    "## train the classifier on the training data\n",
    "chosen_classifier.fit(transformed_training_data, trainingdata['label'])\n",
    "## predict labels on the test data\n",
    "predicted = chosen_classifier.predict(transformed_test_data)\n",
    "## what results do you get? Note that you can look at both macro and micro scores!\n",
    "print(metrics.classification_report(testdata['label'], predicted, target_names=set(testdata['label'].tolist())))"
   ]
  },
  {
   "cell_type": "markdown",
   "metadata": {},
   "source": [
    "# Assignment 2: use your classifier to predict labels on unseen text\n",
    "\n",
    "Answer questions by placing your code in the three code cells below, running it to provide output, and giving your written answers in this markdown cell\n",
    "\n",
    "**What happens if you try to predict a label with a completely new text using your chosen trained classifier model? Does it seem to classify correctly?**"
   ]
  },
  {
   "cell_type": "code",
   "execution_count": null,
   "metadata": {},
   "outputs": [],
   "source": [
    "new_text = 'Patient with severe depression.'\n",
    "testX = chosen_representation.transform([new_text])\n",
    "predicted = chosen_classifier.predict(testX)\n",
    "print(predicted)"
   ]
  },
  {
   "cell_type": "code",
   "execution_count": null,
   "metadata": {},
   "outputs": [],
   "source": [
    "new_text = '5-year old girl with asthma.'\n",
    "testX = chosen_representation.transform([new_text])\n",
    "predicted = chosen_classifier.predict(testX)\n",
    "print(predicted)"
   ]
  },
  {
   "cell_type": "code",
   "execution_count": null,
   "metadata": {},
   "outputs": [],
   "source": [
    "new_text = 'Her pain is severe.'\n",
    "testX = chosen_representation.transform([new_text])\n",
    "predicted = chosen_classifier.predict(testX)\n",
    "print(predicted)"
   ]
  },
  {
   "cell_type": "markdown",
   "metadata": {},
   "source": [
    "# Assignment 3: Evaluation\n",
    "\n",
    "**Write ten example sentences or paragraphs where you assign the correct label to each of them. Then pass them to the classifier and calculate precision, recall and f-score, by completing the skeleton code in the cell below, and running it to give output. Analyse and discuss the results, giving your answer in this markdown cell.**\n",
    "\n",
    "***Gold label values: psychiatrypsychology, hematology, pain, pediatrics***"
   ]
  },
  {
   "cell_type": "code",
   "execution_count": null,
   "metadata": {},
   "outputs": [],
   "source": [
    "new_text = []\n",
    "new_gold_labels = ['pain', 'pain', 'pediatrics', 'hematology', 'psychiatrypsychology', 'pediatrics', 'psychiatrypsychology', 'hematology', 'pain', 'psychiatrypsychology']\n",
    "testX = chosen_representation.transform(new_text)\n",
    "predicted = chosen_classifier.predict(testX)\n",
    "## compare the predicted labels with the gold labels. HINT: metrics.classification_report is useful here\n",
    "print(predicted)\n",
    "\n",
    "print(metrics.classification_report(new_gold_labels, predicted, target_names=set((new_gold_labels))))"
   ]
  },
  {
   "cell_type": "markdown",
   "metadata": {},
   "source": [
    "\n",
    "You've now experimented with different respresentations for text classification, different classification algorithms, and experimental setups.\n",
    "\n",
    "There are many other alternative approaches available today.\n",
    "\n",
    "\n",
    "For instance, there are pre-trained biomedical embeddings, trained on scientific literature, one example: https://www.aclweb.org/anthology/W16-2922.pdf\n",
    "https://github.com/cambridgeltl/BioNLP-2016\n",
    "\n",
    "There are also many online resources with additional examples and ideas, here's one example: https://towardsdatascience.com/text-classification-in-python-dd95d264c802"
   ]
  },
  {
   "cell_type": "code",
   "execution_count": null,
   "metadata": {},
   "outputs": [],
   "source": []
  }
 ],
 "metadata": {
  "kernelspec": {
   "display_name": "Python 3",
   "language": "python",
   "name": "python3"
  },
  "language_info": {
   "codemirror_mode": {
    "name": "ipython",
    "version": 3
   },
   "file_extension": ".py",
   "mimetype": "text/x-python",
   "name": "python",
   "nbconvert_exporter": "python",
   "pygments_lexer": "ipython3",
   "version": "3.8.3"
  }
 },
 "nbformat": 4,
 "nbformat_minor": 2
}
