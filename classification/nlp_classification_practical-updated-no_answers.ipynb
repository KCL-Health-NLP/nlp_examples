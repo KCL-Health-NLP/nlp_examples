{
 "cells": [
  {
   "cell_type": "markdown",
   "metadata": {},
   "source": [
    "# NLP classification - supervised learning\n",
    "\n",
    "In this example, you will learn how you can use supervised learning algorithms for NLP classification. We will use documents from mtsamples again. The task is to classify a document into its clinical specialty, e.g. pediatrics or hematology.\n",
    "\n",
    "We will use classification algorithms as implemented in sci-kit learn, and evaluate with cross-validation before testing on unseen test data.\n",
    "\n",
    "Written by Sumithra Velupillai, March 2019"
   ]
  },
  {
   "cell_type": "code",
   "execution_count": 1,
   "metadata": {},
   "outputs": [],
   "source": [
    "%matplotlib inline\n",
    "\n",
    "import matplotlib\n",
    "\n",
    "import pandas as pd\n",
    "\n",
    "from sklearn.naive_bayes import MultinomialNB\n",
    "from sklearn.linear_model import SGDClassifier\n",
    "from sklearn.linear_model import LogisticRegression\n",
    "from sklearn.ensemble import RandomForestClassifier\n",
    "from sklearn.svm import LinearSVC\n",
    "\n",
    "from sklearn.feature_extraction.text import TfidfTransformer\n",
    "from sklearn.feature_extraction.text import CountVectorizer\n",
    "from sklearn.feature_extraction.text import TfidfVectorizer\n",
    "from sklearn.pipeline import Pipeline\n",
    "from sklearn import metrics\n",
    "from sklearn.model_selection import cross_validate\n",
    "from sklearn.model_selection import cross_val_score\n",
    "\n",
    "from nltk.tokenize import word_tokenize\n",
    "\n",
    "import numpy as np\n",
    "\n",
    "import matplotlib.pyplot as plt\n",
    "\n",
    "import warnings; warnings.simplefilter('ignore')\n"
   ]
  },
  {
   "cell_type": "markdown",
   "metadata": {},
   "source": [
    "# 1: Corpus\n",
    "Read in the training data."
   ]
  },
  {
   "cell_type": "code",
   "execution_count": 2,
   "metadata": {},
   "outputs": [],
   "source": [
    "\n",
    "xlds_training = 'https://github.com/KCL-Health-NLP/nlp_examples/blob/master/classification/classification_trainingdata.xlsx?raw=true'\n",
    "trainingdata = pd.read_excel(xlds_training)\n",
    "\n"
   ]
  },
  {
   "cell_type": "markdown",
   "metadata": {},
   "source": [
    "Take a look at the content. What are the labels we want to try to learn? How many instances do we have?"
   ]
  },
  {
   "cell_type": "code",
   "execution_count": 3,
   "metadata": {},
   "outputs": [
    {
     "data": {
      "text/plain": [
       "hematology              81\n",
       "pediatrics              63\n",
       "pain                    56\n",
       "psychiatrypsychology    48\n",
       "Name: label, dtype: int64"
      ]
     },
     "execution_count": 3,
     "metadata": {},
     "output_type": "execute_result"
    }
   ],
   "source": [
    "trainingdata['label'].value_counts()"
   ]
  },
  {
   "cell_type": "markdown",
   "metadata": {},
   "source": [
    "What types of features do you think would be useful for the classification task? Where can we get them? Take a look at one or two of the documents. Can you guess which classification label these belong to?"
   ]
  },
  {
   "cell_type": "code",
   "execution_count": 4,
   "metadata": {},
   "outputs": [
    {
     "name": "stdout",
     "output_type": "stream",
     "text": [
      "\r\n",
      "        \r\n",
      "        \r\n",
      "\r\n",
      "        \r\n",
      "        \n",
      "REASON FOR CONSULTATION:\n",
      "  Thrombocytopenia.\n",
      "\n",
      "\n",
      "HISTORY OF PRESENT ILLNESS:\n",
      "  Mrs. XXX is a 17-year-old lady who is going to be 18 in about 3 weeks.  She has been referred for the further evaluation of her thrombocytopenia.  This thrombocytopenia was detected on a routine blood test performed on the 10th of June 2006.  Her hemoglobin was 13.3 with white count of 11.8 at that time.  Her lymphocyte count was 6.7.  The patient, subsequently, had a CBC repeated on the 10th at Hospital where her hemoglobin was 12.4 with a platelet count of 26,000.  She had a repeat of her CBC again on the 12th of June 2006 with hemoglobin of 14, white count of 11.6 with an increase in the number of lymphocytes.  Platelet count was 38.  Her rapid strep screen was negative but the infectious mononucleosis screen is positive.  The patient had a normal platelet count prior too and she is being evaluated for this low platelet count.\n",
      "\n",
      "The patient gives a history of feeling generally unwell for a couple of days towards the end of May.  She was fine for a few days after that but then she had sore throat and fever 2-3 days subsequent to that.  The patient continues to have sore throat.\n",
      "\n",
      "She denies any history of epistaxis.  Denies any history of gum bleeding.  The patient denies any history of petechiae.  She denies any history of abnormal bleeding.  Denies any history of nausea, vomiting, neck pain, or any headaches at the present time.\n",
      "\n",
      "The patient was accompanied by her parents.\n",
      "\n",
      "\n",
      "PAST MEDICAL HISTORY: \n",
      " Asthma.\n",
      "\n",
      "\n",
      "CURRENT MEDICATIONS: \n",
      " Birth control pills, Albuterol, QVAR and Rhinocort.\n",
      "\n",
      "\n",
      "DRUG ALLERGIES: \n",
      " None.\n",
      "\n",
      "\n",
      "PERSONAL HISTORY: \n",
      " She lives with her parents.\n",
      "\n",
      "\n",
      "SOCIAL HISTORY:\n",
      "  Denies the use of alcohol or tobacco.\n",
      "\n",
      "\n",
      "FAMILY HISTORY: \n",
      " Noncontributory.\n",
      "\n",
      "\n",
      "OCCUPATION: \n",
      " The patient is currently in school.\n",
      "\n",
      "\n",
      "REVIEW OF SYSTEMS:\n",
      "\n",
      "Constitutional:  The history of fever about 2 weeks ago.\n",
      "HEENT:  Complains of some difficulty in swallowing.\n",
      "Cardiovascular:  Negative.\n",
      "Respiratory:  Negative.\n",
      "Gastrointestinal:  No nausea, vomiting, or abdominal pain.\n",
      "Genitourinary:  No dysuria or hematuria.\n",
      "Musculoskeletal:  Complains of generalized body aches.\n",
      "Psychiatric:  No anxiety or depression.\n",
      "Neurologic:  Complains of episode of headaches about 2-3 weeks ago.\n",
      "\n",
      "\n",
      "PHYSICAL EXAMINATION:  \n",
      "She was not in any distress.  She appears her stated age.  Temperature 97.9.  Pulse 84.  Blood pressure was 110/60.  Weighs 162 pounds.  Height of 61 inches.  Lungs - Normal effort.  Clear.  No wheezing.  Heart - Rate and rhythm regular.  No S3, no S4.  Abdomen - Soft.  Bowel sounds are present.  No palpable hepatosplenomegaly.  Extremities - Without any edema, pallor, or cyanosis.  Neurological:  Alert and oriented x 3.  No focal deficit.  Lymph Nodes - No palpable lymphadenopathy in the neck or the axilla.  Skin examination reveals few petechiae along the lateral aspect of the left thigh but otherwise there were no ecchymotic patches.\n",
      "\n",
      "\n",
      "DIAGNOSTIC DATA: \n",
      " The patient's CBC results from before were reviewed.  Her CBC performed in the office today showed hemoglobin of 13.7, white count of 13.3, lymphocyte count of 7.6, and platelet count of 26,000.\n",
      "\n",
      "\n",
      "IMPRESSION: \n",
      " ITP, the patient has a normal platelet count.\n",
      "\n",
      "\n",
      "PLAN:\n",
      "\n",
      "1.  I had a long discussion with family regarding the treatment of ITP.  In view of the fact that the patient's platelet count is 26,000 and she is asymptomatic, we will continue to monitor the counts.\n",
      "2.  An ultrasound of the abdomen will be performed tomorrow.\n",
      "3.  I have given her a requisition to obtain some blood work tomorrow.\r\n",
      "        \n",
      "\n",
      "\r\n",
      "        \r\n",
      "\n"
     ]
    }
   ],
   "source": [
    "trainingtxt_example = trainingdata['txt'].tolist()[0]\n",
    "print(trainingtxt_example)"
   ]
  },
  {
   "cell_type": "code",
   "execution_count": 5,
   "metadata": {},
   "outputs": [
    {
     "name": "stdout",
     "output_type": "stream",
     "text": [
      "\r\n",
      "        \r\n",
      "        \r\n",
      "\r\n",
      "        \r\n",
      "        \n",
      "CHIEF COMPLAINT:\n",
      "  Head injury.\n",
      "\n",
      "\n",
      "HISTORY: \n",
      " This 16-year-old female presents to Children's Hospital via paramedic ambulance with a complaint at approximately 6 p.m. while she was at band practice using her flag device.  She struck herself in the head with the flag.  There was no loss of consciousness.  She did feel dizzy.  She complained of a headache.  She was able to walk.  She continued to participate in her flag practice.  She got dizzier.  She sat down for a while and walked and during the second period of walking, she had some episodes of diplopia, felt that she might faint and was assisted to the ground and was transported via paramedic ambulance to Children's Hospital for further evaluation.\n",
      "\n",
      "\n",
      "PAST MEDICAL HISTORY: \n",
      " Hypertension.\n",
      "\n",
      "\n",
      "ALLERGIES:\n",
      "  DENIED TO ME; HOWEVER, IT IS NOTED BEFORE SEVERAL ACCORDING TO MEDITECH.\n",
      "\n",
      "\n",
      "CURRENT MEDICATIONS: \n",
      " Enalapril.\n",
      "\n",
      "\n",
      "PAST SURGICAL HISTORY: \n",
      " She had some kind of an abdominal obstruction as an infant.\n",
      "\n",
      "\n",
      "SOCIAL HISTORY: \n",
      " She is here with mother and father who lives at home.  There is no smoking at home.  There is second-hand smoke exposure.\n",
      "\n",
      "\n",
      "FAMILY HISTORY:  \n",
      "No noted family history of infectious disease exposure.\n",
      "\n",
      "\n",
      "IMMUNIZATIONS:\n",
      "  She is up-to-date on her shots, otherwise negative.\n",
      "\n",
      "\n",
      "REVIEW OF SYSTEMS:  \n",
      "On the 10-plus systems reviewed with the section of those noted on the template.\n",
      "\n",
      "\n",
      "PHYSICAL EXAMINATION:\n",
      "\n",
      "VITAL SIGNS:  Her temperature 100 degrees, pulse 86, respirations 20, and her initial blood pressure 166/116, and a weight of 55.8 kg.\n",
      "\n",
      "GENERAL:  She is supine awake, alert, cooperative, and active child.\n",
      "\n",
      "HEENT:  Head atraumatic, normocephalic.  Pupils equal, round, reactive to light.  Extraocular motions intact and conjugate.  Clear TMs, nose and oropharynx.  Moist oral mucosa without noted lesions.\n",
      "\n",
      "NECK:  Supple, full painless nontender range motion.\n",
      "\n",
      "CHEST:  Clear to auscultation, equal, stable to palpation.\n",
      "\n",
      "HEART:  Regular without rubs or murmurs.\n",
      "\n",
      "ABDOMEN:  No abdominal bruits are heard.\n",
      "\n",
      "EXTREMITIES:  Equal femoral pulses are appreciated.  Equal radial and dorsalis pedis pulses are appreciated.  He moves all extremities without difficulty.  Nontender.  No deformity.  No swelling.\n",
      "\n",
      "SKIN:  There was no significant bruising, lesions or rash about her abdomen.  No significant bruising, lesions or rash.\n",
      "\n",
      "NEUROLOGIC:  Symmetric face and extremity motion.  Ambulates without difficulty.  She is awake, alert, and appropriate.\n",
      "\n",
      "\n",
      "MEDICAL DECISION MAKING:\n",
      "  The differential entertained includes head injury, anxiety, and hypertensive emergency.  She is evaluated in the emergency department with serial blood pressure examinations, which are noted to return to a more baseline state for her 130s/90s.  Her laboratory data shows a mildly elevated creatinine of 1.3.  Urine is within normal.  Urinalysis showing no signs of infection.  Head CT read by staff has no significant intracranial pathology.  No mass shift, bleed or fracture per Dr. X.  A 12-lead EKG reviewed preliminarily by myself noting normal sinus rhythm, normal axis rates of 90.  No significant ST-T wave changes.  No significant change from previous 09/2007 EKG.  Her headache has resolved.  She is feeling better.  I spoke with Dr. X at 0206 hours consulting Nephrology regarding this patient's presentation with the plan for home.  Follow up with her regular doctor.  Blood pressures have normalized for her.  She should return to emergency department on concern.  They are to call the family to Nephrology Clinic next week for optimization of her blood pressure control with a working diagnosis of head injury, hypertension, and syncope.\r\n",
      "        \n",
      "\n",
      "\r\n",
      "        \r\n",
      "\n"
     ]
    }
   ],
   "source": [
    "trainingtxt_example = trainingdata['txt'].tolist()[231]\n",
    "print(trainingtxt_example)"
   ]
  },
  {
   "cell_type": "markdown",
   "metadata": {},
   "source": [
    "The most common baseline feature representation for text classification tasks is to use the bag-of-words representation, in a document-term matrix. Let's build a simple one using raw counts and only keeping a maximum of 500 features. We can use the CountVectorizer function from sklearn, and tokenize using a function from nltk."
   ]
  },
  {
   "cell_type": "code",
   "execution_count": 6,
   "metadata": {},
   "outputs": [],
   "source": [
    "first_vectorizer = CountVectorizer(ngram_range=(1,1), stop_words=None,\n",
    "                             tokenizer=word_tokenize, max_features=500)\n",
    "first_vectorizer.fit(trainingdata['txt'].tolist())\n",
    "first_fit_transformed_data = first_vectorizer.fit_transform(trainingdata['txt'])\n"
   ]
  },
  {
   "cell_type": "markdown",
   "metadata": {},
   "source": [
    "We can now look at this transformed representation for an example document."
   ]
  },
  {
   "cell_type": "code",
   "execution_count": 7,
   "metadata": {},
   "outputs": [
    {
     "name": "stdout",
     "output_type": "stream",
     "text": [
      "  (0, 3)\t3\n",
      "  (0, 6)\t29\n",
      "  (0, 8)\t56\n",
      "  (0, 13)\t1\n",
      "  (0, 16)\t1\n",
      "  (0, 23)\t1\n",
      "  (0, 24)\t22\n",
      "  (0, 25)\t1\n",
      "  (0, 27)\t8\n",
      "  (0, 30)\t2\n",
      "  (0, 31)\t2\n",
      "  (0, 32)\t1\n",
      "  (0, 33)\t1\n",
      "  (0, 45)\t2\n",
      "  (0, 46)\t1\n",
      "  (0, 47)\t1\n",
      "  (0, 51)\t2\n",
      "  (0, 52)\t15\n",
      "  (0, 55)\t1\n",
      "  (0, 59)\t1\n",
      "  (0, 60)\t1\n",
      "  (0, 61)\t5\n",
      "  (0, 64)\t1\n",
      "  (0, 68)\t5\n",
      "  (0, 70)\t1\n",
      "  :\t:\n",
      "  (0, 414)\t1\n",
      "  (0, 424)\t1\n",
      "  (0, 426)\t1\n",
      "  (0, 427)\t1\n",
      "  (0, 429)\t2\n",
      "  (0, 433)\t1\n",
      "  (0, 436)\t1\n",
      "  (0, 437)\t11\n",
      "  (0, 441)\t4\n",
      "  (0, 443)\t1\n",
      "  (0, 444)\t2\n",
      "  (0, 453)\t15\n",
      "  (0, 464)\t1\n",
      "  (0, 468)\t1\n",
      "  (0, 472)\t1\n",
      "  (0, 474)\t6\n",
      "  (0, 476)\t1\n",
      "  (0, 478)\t1\n",
      "  (0, 484)\t1\n",
      "  (0, 485)\t2\n",
      "  (0, 487)\t1\n",
      "  (0, 490)\t9\n",
      "  (0, 491)\t1\n",
      "  (0, 492)\t4\n",
      "  (0, 495)\t1\n"
     ]
    }
   ],
   "source": [
    "first_transformed_data = first_vectorizer.transform([trainingdata['txt'].tolist()[231]])\n",
    "print (first_transformed_data)"
   ]
  },
  {
   "cell_type": "markdown",
   "metadata": {},
   "source": [
    "What word is represented by the different indices? Have a look at a few examples."
   ]
  },
  {
   "cell_type": "code",
   "execution_count": 8,
   "metadata": {},
   "outputs": [
    {
     "name": "stdout",
     "output_type": "stream",
     "text": [
      "abdomen\n"
     ]
    }
   ],
   "source": [
    "print (first_vectorizer.get_feature_names()[30])"
   ]
  },
  {
   "cell_type": "code",
   "execution_count": 9,
   "metadata": {},
   "outputs": [
    {
     "name": "stdout",
     "output_type": "stream",
     "text": [
      "(248, 500)\n",
      "Amount of Non-Zero occurences:  30367\n"
     ]
    }
   ],
   "source": [
    "print(first_fit_transformed_data.shape)\n",
    "print ('Amount of Non-Zero occurences: ', first_fit_transformed_data.nnz)"
   ]
  },
  {
   "cell_type": "markdown",
   "metadata": {},
   "source": [
    "Let's build a classifier with this feature representation."
   ]
  },
  {
   "cell_type": "code",
   "execution_count": 10,
   "metadata": {},
   "outputs": [],
   "source": [
    "multinomialNB_classifier = MultinomialNB().fit(first_fit_transformed_data, trainingdata['label'])"
   ]
  },
  {
   "cell_type": "markdown",
   "metadata": {},
   "source": [
    "We now have a trained multinomial Naive Bayes model. But how do we know how well it works? Let's evaluate it on the test data."
   ]
  },
  {
   "cell_type": "code",
   "execution_count": 11,
   "metadata": {},
   "outputs": [],
   "source": [
    "\n",
    "xlds_test = 'https://github.com/KCL-Health-NLP/nlp_examples/blob/master/classification/classification_test_data.xlsx?raw=true'\n",
    "testdata = pd.read_excel(xlds_test)\n",
    "\n",
    "\n",
    "\n",
    "## We need to transform this data to the same representation\n",
    "first_fit_transformed_testdata = first_vectorizer.transform(testdata['txt'])"
   ]
  },
  {
   "cell_type": "code",
   "execution_count": 12,
   "metadata": {},
   "outputs": [
    {
     "data": {
      "text/plain": [
       "array(['pain', 'hematology', 'pain', 'pain', 'pediatrics', 'hematology',\n",
       "       'pediatrics', 'hematology', 'psychiatrypsychology', 'pain',\n",
       "       'hematology', 'pediatrics', 'pain', 'psychiatrypsychology', 'pain',\n",
       "       'hematology', 'pediatrics', 'pain', 'pain', 'psychiatrypsychology',\n",
       "       'pediatrics', 'pain', 'hematology', 'psychiatrypsychology',\n",
       "       'psychiatrypsychology', 'hematology', 'psychiatrypsychology'],\n",
       "      dtype='<U20')"
      ]
     },
     "execution_count": 12,
     "metadata": {},
     "output_type": "execute_result"
    }
   ],
   "source": [
    "first_fit_transformed_testdata\n",
    "multinomialNB_predicted = multinomialNB_classifier.predict(first_fit_transformed_testdata)\n",
    "multinomialNB_predicted"
   ]
  },
  {
   "cell_type": "code",
   "execution_count": 13,
   "metadata": {},
   "outputs": [
    {
     "name": "stdout",
     "output_type": "stream",
     "text": [
      "                      precision    recall  f1-score   support\n",
      "\n",
      "          pediatrics       0.86      0.67      0.75         9\n",
      "                pain       0.67      1.00      0.80         6\n",
      "          hematology       0.80      0.57      0.67         7\n",
      "psychiatrypsychology       0.83      1.00      0.91         5\n",
      "\n",
      "            accuracy                           0.78        27\n",
      "           macro avg       0.79      0.81      0.78        27\n",
      "        weighted avg       0.80      0.78      0.77        27\n",
      "\n"
     ]
    }
   ],
   "source": [
    "print(metrics.classification_report(testdata['label'], multinomialNB_predicted, target_names=set(testdata['label'].tolist())))"
   ]
  },
  {
   "cell_type": "markdown",
   "metadata": {},
   "source": [
    "This didn't look too bad maybe? But there are probably ways of improving this, by changing the feature space or maybe trying a different classifier model. \n",
    "__There is one main problem though: we can't use this test data to try different configurations! Why?__"
   ]
  },
  {
   "cell_type": "markdown",
   "metadata": {},
   "source": [
    "We can however try some different feature representations and classifier algorithms on the training data. Let's try finding a model we think will work well on unseen data by employing n-fold cross-validation."
   ]
  },
  {
   "cell_type": "code",
   "execution_count": 14,
   "metadata": {},
   "outputs": [
    {
     "data": {
      "image/png": "[encoded data removed]",
      "text/plain": [
       "<Figure size 432x288 with 1 Axes>"
      ]
     },
     "metadata": {
      "needs_background": "light"
     },
     "output_type": "display_data"
    }
   ],
   "source": [
    "multinomialNB_classifier = MultinomialNB().fit(first_fit_transformed_data, trainingdata['label'])\n",
    "scoring = ['precision_macro', 'recall_macro','precision_micro','recall_micro', 'f1_micro', 'f1_macro']\n",
    "scores = cross_validate(multinomialNB_classifier, first_fit_transformed_data, trainingdata['label'], scoring=scoring, cv=10, return_train_score=False)\n",
    "scoresdf = pd.DataFrame(scores)\n",
    "scoring = ['test_precision_macro', 'test_recall_macro','test_precision_micro','test_recall_micro', 'test_f1_micro', 'test_f1_macro']\n",
    "bp = scoresdf.boxplot(column=scoring, grid=False, rot=45,)\n",
    "[ax_tmp.set_xlabel('') for ax_tmp in np.asarray(bp).reshape(-1)]\n",
    "fig = np.asarray(bp).reshape(-1)[0].get_figure()\n",
    "plt.show()"
   ]
  },
  {
   "cell_type": "markdown",
   "metadata": {},
   "source": [
    "What happens if we try another classifier? Let's try a random forest classifier."
   ]
  },
  {
   "cell_type": "code",
   "execution_count": 15,
   "metadata": {},
   "outputs": [
    {
     "data": {
      "image/png": "[encoded data removed]",
      "text/plain": [
       "<Figure size 432x288 with 1 Axes>"
      ]
     },
     "metadata": {
      "needs_background": "light"
     },
     "output_type": "display_data"
    }
   ],
   "source": [
    "rf_classifier = RandomForestClassifier(n_estimators=200, max_depth=3, random_state=0).fit(first_fit_transformed_data, trainingdata['label'])\n",
    "scoring = ['precision_macro', 'recall_macro','precision_micro','recall_micro', 'f1_micro', 'f1_macro']\n",
    "scores = cross_validate(rf_classifier, first_fit_transformed_data, trainingdata['label'], scoring=scoring, cv=10, return_train_score=False)\n",
    "scoresdf = pd.DataFrame(scores)\n",
    "scoring = ['test_precision_macro', 'test_recall_macro','test_precision_micro','test_recall_micro', 'test_f1_micro', 'test_f1_macro']\n",
    "bp = scoresdf.boxplot(column=scoring, grid=False, rot=45,)\n",
    "[ax_tmp.set_xlabel('') for ax_tmp in np.asarray(bp).reshape(-1)]\n",
    "fig = np.asarray(bp).reshape(-1)[0].get_figure()\n",
    "plt.show()"
   ]
  },
  {
   "cell_type": "markdown",
   "metadata": {},
   "source": [
    "Was this better or worse? Are there any parameters worth changing?"
   ]
  },
  {
   "cell_type": "markdown",
   "metadata": {},
   "source": [
    "We have used a very simple bag-of-words representation. What happens if we try something else? Let's try tf-idf. This is considered a strong baseline in many text classification tasks."
   ]
  },
  {
   "cell_type": "code",
   "execution_count": 16,
   "metadata": {},
   "outputs": [
    {
     "data": {
      "text/plain": [
       "<248x10328 sparse matrix of type '<class 'numpy.float64'>'\n",
       "\twith 55265 stored elements in Compressed Sparse Row format>"
      ]
     },
     "execution_count": 16,
     "metadata": {},
     "output_type": "execute_result"
    }
   ],
   "source": [
    "from nltk.corpus import stopwords\n",
    "stopWords = set(stopwords.words('english'))\n",
    "tfidf_vect = TfidfVectorizer(tokenizer=word_tokenize, stop_words=stopWords)\n",
    "tfidf_vect.fit(trainingdata['txt'])\n",
    "second_fit_transformed_data =  tfidf_vect.transform(trainingdata['txt'])\n",
    "second_fit_transformed_data"
   ]
  },
  {
   "cell_type": "markdown",
   "metadata": {},
   "source": [
    "What other parameters can you change in this representation? How does this look different from the CountVectorizer representation?"
   ]
  },
  {
   "cell_type": "markdown",
   "metadata": {},
   "source": [
    "Let's now use this with the Multinomial Naive Bayes classifier."
   ]
  },
  {
   "cell_type": "code",
   "execution_count": 17,
   "metadata": {},
   "outputs": [
    {
     "data": {
      "image/png": "[encoded data removed]",
      "text/plain": [
       "<Figure size 432x288 with 1 Axes>"
      ]
     },
     "metadata": {
      "needs_background": "light"
     },
     "output_type": "display_data"
    }
   ],
   "source": [
    "multinomialNB_classifier = MultinomialNB().fit(second_fit_transformed_data, trainingdata['label'])\n",
    "scoring = ['precision_macro', 'recall_macro','precision_micro','recall_micro', 'f1_micro', 'f1_macro']\n",
    "scores = cross_validate(multinomialNB_classifier, second_fit_transformed_data, trainingdata['label'], scoring=scoring, cv=10, return_train_score=False)\n",
    "scoresdf = pd.DataFrame(scores)\n",
    "scoring = ['test_precision_macro', 'test_recall_macro','test_precision_micro','test_recall_micro', 'test_f1_micro', 'test_f1_macro']\n",
    "bp = scoresdf.boxplot(column=scoring, grid=False, rot=45,)\n",
    "[ax_tmp.set_xlabel('') for ax_tmp in np.asarray(bp).reshape(-1)]\n",
    "fig = np.asarray(bp).reshape(-1)[0].get_figure()\n",
    "plt.show()"
   ]
  },
  {
   "cell_type": "markdown",
   "metadata": {},
   "source": [
    "This looks better, doesn't it? Let's try some different configurations all in one go."
   ]
  },
  {
   "cell_type": "code",
   "execution_count": 18,
   "metadata": {},
   "outputs": [
    {
     "name": "stdout",
     "output_type": "stream",
     "text": [
      "representation:  CountVectorizer\n"
     ]
    },
    {
     "data": {
      "image/png": "[encoded data removed]",
      "text/plain": [
       "<Figure size 432x288 with 1 Axes>"
      ]
     },
     "metadata": {
      "needs_background": "light"
     },
     "output_type": "display_data"
    },
    {
     "name": "stdout",
     "output_type": "stream",
     "text": [
      "representation:  TfidfVectorizer\n"
     ]
    },
    {
     "data": {
      "image/png": "[encoded data removed]",
      "text/plain": [
       "<Figure size 432x288 with 1 Axes>"
      ]
     },
     "metadata": {
      "needs_background": "light"
     },
     "output_type": "display_data"
    }
   ],
   "source": [
    "## material in parts from https://towardsdatascience.com/multi-class-text-classification-with-scikit-learn-12f1e60e0a9f\n",
    "\n",
    "representations = {}\n",
    "\n",
    "vectorizer = CountVectorizer(ngram_range=(1,1), stop_words=None,\n",
    "                             tokenizer=word_tokenize, max_features=500)\n",
    "xtrain_countvect = vectorizer.fit_transform(trainingdata['txt'])\n",
    "representations['CountVectorizer'] = xtrain_countvect\n",
    "\n",
    "tfidf_vect = TfidfVectorizer(tokenizer=word_tokenize, stop_words=stopWords)\n",
    "tfidf_vect.fit(trainingdata['txt'])\n",
    "xtrain_tfidf =  tfidf_vect.transform(trainingdata['txt'])\n",
    "representations['TfidfVectorizer'] = xtrain_tfidf\n",
    "\n",
    "\n",
    "\n",
    "for representation, transformed_vector in representations.items():\n",
    "    classifier_models = [\n",
    "        RandomForestClassifier(n_estimators=200, max_depth=3, random_state=0),\n",
    "        LinearSVC(multi_class='ovr', C=1.0, class_weight=None, dual=True, fit_intercept=True,\n",
    "     intercept_scaling=1, loss='squared_hinge', max_iter=1000,\n",
    "      penalty='l2', random_state=0, tol=1e-05, verbose=0),\n",
    "        MultinomialNB(),\n",
    "        #LogisticRegression(random_state=0),\n",
    "        SGDClassifier(),\n",
    "    ]\n",
    "    CV = 10\n",
    "    cv_df = pd.DataFrame(index=range(CV * len(classifier_models)))\n",
    "    score = 'f1_micro'\n",
    "    entries = []\n",
    "    for model in classifier_models:\n",
    "      model_name = model.__class__.__name__\n",
    "      accuracies = cross_val_score(model, transformed_vector, trainingdata['label'], scoring=score, cv=CV)\n",
    "      for fold_idx, accuracy in enumerate(accuracies):\n",
    "        entries.append((model_name, fold_idx, accuracy))\n",
    "    cv_df = pd.DataFrame(entries, columns=['model_name', 'fold_idx', score])\n",
    "\n",
    "    print('representation: ', representation)\n",
    "    bp = cv_df.boxplot(by='model_name', column=[score], grid=False, rot=45,)\n",
    "    [ax_tmp.set_xlabel('') for ax_tmp in np.asarray(bp).reshape(-1)]\n",
    "    fig = np.asarray(bp).reshape(-1)[0].get_figure()\n",
    "    fig.suptitle('Representation: '+representation)\n",
    "    plt.show()"
   ]
  },
  {
   "cell_type": "markdown",
   "metadata": {},
   "source": [
    "What conclusions do you draw from this? Which classifier and which representation would you choose as your final model? Why?"
   ]
  },
  {
   "cell_type": "markdown",
   "metadata": {},
   "source": [
    "# Assignment 1: Your turn to build a classifier\n",
    "**Choose one classifier and one representation format and test it on the test data. What results do you get?** \n",
    "\n",
    "***What other configurations could you try before deciding on a final model? Is it appropriate to experiment with this on the test data? Why or why not?*** "
   ]
  },
  {
   "cell_type": "code",
   "execution_count": 19,
   "metadata": {},
   "outputs": [
    {
     "ename": "SyntaxError",
     "evalue": "invalid syntax (<ipython-input-19-97b7f3507ded>, line 4)",
     "output_type": "error",
     "traceback": [
      "\u001b[0;36m  File \u001b[0;32m\"<ipython-input-19-97b7f3507ded>\"\u001b[0;36m, line \u001b[0;32m4\u001b[0m\n\u001b[0;31m    chosen_vectorizer =\u001b[0m\n\u001b[0m                        ^\u001b[0m\n\u001b[0;31mSyntaxError\u001b[0m\u001b[0;31m:\u001b[0m invalid syntax\n"
     ]
    }
   ],
   "source": [
    "## First step: Transform your training and test data to your chosen representation. \n",
    "\n",
    "## choose a representation: CountVectorizer or TfidfVectorizer\n",
    "chosen_vectorizer = \n",
    "\n",
    "## transform the training data \n",
    "fit_transformed_training_data = chosen_vectorizer.fit_transform(trainingdata['txt'])\n",
    "\n",
    "## transform the test data\n",
    "transformed_test_data = chosen_vectorizer.transform(testdata['txt'])\n",
    "\n",
    "## Second step: Create a classifier - the one you think gave best results when experimenting with cross-validation\n",
    "\n",
    "chosen_classifier \n",
    "\n",
    "## train the classifier on the training data\n",
    "chosen_classifier.fit(fit_transformed_training_data, trainingdata['label'])\n",
    "## predict labels on the test data\n",
    "predicted = chosen_classifier.predict(transformed_test_data)\n",
    "## what results do you get? \n",
    "print(metrics.classification_report(testdata['label'], predicted, target_names=set(testdata['label'].tolist())))"
   ]
  },
  {
   "cell_type": "markdown",
   "metadata": {},
   "source": [
    "**What happens if you try to predict a label with a completely new text using your chosen trained classifier model? Does it seem to classify correctly?**"
   ]
  },
  {
   "cell_type": "code",
   "execution_count": null,
   "metadata": {},
   "outputs": [],
   "source": [
    "new_text = 'Patient with severe depression.'\n",
    "testX = chosen_vectorizer.transform([new_text])\n",
    "predicted = chosen_classifier.predict(testX)\n",
    "print(predicted)"
   ]
  },
  {
   "cell_type": "code",
   "execution_count": null,
   "metadata": {},
   "outputs": [],
   "source": [
    "new_text = '5-year old girl with asthma.'\n",
    "testX = chosen_vectorizer.transform([new_text])\n",
    "predicted = chosen_classifier.predict(testX)\n",
    "print(predicted)"
   ]
  },
  {
   "cell_type": "code",
   "execution_count": null,
   "metadata": {},
   "outputs": [],
   "source": [
    "new_text = 'Her pain is severe.'\n",
    "testX = chosen_vectorizer.transform([new_text])\n",
    "predicted = chosen_classifier.predict(testX)\n",
    "print(predicted)"
   ]
  },
  {
   "cell_type": "markdown",
   "metadata": {},
   "source": [
    "# Assignment 2: Evaluation\n",
    "\n",
    "**Write ten example sentences or paragraphs where you assign the correct label to each of them. Then pass them to the classifier and calculate precision, recall and f-score. Analyse and discuss the results.**\n",
    "\n",
    "***Gold label values: psychiatrypsychology, hematology, pain, pediatrics***"
   ]
  },
  {
   "cell_type": "code",
   "execution_count": null,
   "metadata": {},
   "outputs": [],
   "source": [
    "new_text = ## Choose a representation for the example sentences/paragraphs and their gold labels (e.g. lists, dict, dataframe)\n",
    "\n",
    "testX = chosen_vectorizer.transform(##pass the example texts here)\n",
    "predicted = chosen_classifier.predict(testX)\n",
    "\n",
    "## compare the predicted labels with the gold labels and calculate precision, recall and f1-score. \n",
    "# HINT: metrics.classification_report is useful here\n"
   ]
  },
  {
   "cell_type": "code",
   "execution_count": null,
   "metadata": {},
   "outputs": [],
   "source": []
  },
  {
   "cell_type": "code",
   "execution_count": null,
   "metadata": {},
   "outputs": [],
   "source": []
  }
 ],
 "metadata": {
  "kernelspec": {
   "display_name": "Python 3",
   "language": "python",
   "name": "python3"
  },
  "language_info": {
   "codemirror_mode": {
    "name": "ipython",
    "version": 3
   },
   "file_extension": ".py",
   "mimetype": "text/x-python",
   "name": "python",
   "nbconvert_exporter": "python",
   "pygments_lexer": "ipython3",
   "version": "3.6.7"
  }
 },
 "nbformat": 4,
 "nbformat_minor": 2
}
