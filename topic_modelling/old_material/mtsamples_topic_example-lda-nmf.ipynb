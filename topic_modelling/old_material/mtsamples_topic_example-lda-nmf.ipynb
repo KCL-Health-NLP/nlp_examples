{
 "cells": [
  {
   "cell_type": "markdown",
   "metadata": {},
   "source": [
    "# Topic modeling example\n",
    "\n",
    "This exercise introduces topic modeling using the LDA (Latent Dirichlet Allocation) algorithm and the Non-negative Matrix Factorisation (NMF) algorithm.\n",
    "\n",
    "Topic modeling is an unsupervised approach that allows you to explore large text collections.\n",
    "\n",
    "In this example, we use the gensim LDA and pyLDAvis implementations for one type of analysis, as well as the sklearn implementations of LDA and NMF to look at how the models relate to categories in the data. \n",
    "\n",
    "The main packages that are used in this example are:\n",
    "\n",
    "nltk: http://www.nltk.org/ - for preprocessing\n",
    "\n",
    "gensim: https://radimrehurek.com/gensim/ - for building the LDA model\n",
    "\n",
    "pyLDAvis: https://github.com/bmabey/pyLDAvis - for visualization and easier exploration of the generated topics\n",
    "\n",
    "sklearn: https://scikit-learn.org/stable/, https://scikit-learn.org/stable/modules/decomposition.html#nmf - for building LDA and NMF models\n",
    "\n",
    "The example is inspired by, and uses functions from: http://nbviewer.jupyter.org/github/bmabey/pyLDAvis/blob/master/notebooks/Gensim%20Newsgroup.ipynb\n",
    "and\n",
    "https://github.com/derekgreene/topic-model-tutorial/blob/master/2%20-%20NMF%20Topic%20Models.ipynb\n",
    "\n",
    "Written by: Sumithra Velupillai, with input from Sonia Priou, February 2019 "
   ]
  },
  {
   "cell_type": "code",
   "execution_count": 5,
   "metadata": {},
   "outputs": [
    {
     "name": "stderr",
     "output_type": "stream",
     "text": [
      "[nltk_data] Downloading package punkt to /Users/sumithra/nltk_data...\n",
      "[nltk_data]   Package punkt is already up-to-date!\n",
      "[nltk_data] Downloading package stopwords to\n",
      "[nltk_data]     /Users/sumithra/nltk_data...\n",
      "[nltk_data]   Package stopwords is already up-to-date!\n"
     ]
    }
   ],
   "source": [
    "## First we need to import all the necessary packages\n",
    "\n",
    "import string\n",
    "from gensim import models\n",
    "from gensim.corpora import Dictionary, MmCorpus\n",
    "import nltk\n",
    "nltk.download('punkt')\n",
    "nltk.download('stopwords')\n",
    "import itertools\n",
    "import zipfile\n",
    "\n",
    "try:\n",
    "    import pyLDAvis\n",
    "except ImportError as e:\n",
    "    !pip install pyldavis\n",
    "    import pyLDAvis\n",
    "\n",
    "import pyLDAvis.gensim as gensimvis\n",
    "import os\n",
    "import pandas as pd\n",
    "\n",
    "import re\n",
    "import codecs\n",
    "from sklearn.utils import shuffle\n",
    "from sklearn.pipeline import Pipeline\n",
    "from sklearn.feature_extraction.text import CountVectorizer, TfidfTransformer, TfidfVectorizer\n",
    "\n",
    "import numpy as np\n",
    "from sklearn.decomposition import NMF, LatentDirichletAllocation\n",
    "import zipfile\n",
    "\n",
    "import matplotlib.pyplot as plt\n",
    "import seaborn as sns\n",
    "\n",
    "%matplotlib inline\n",
    "\n",
    "import warnings; warnings.simplefilter('ignore')\n",
    "\n"
   ]
  },
  {
   "cell_type": "markdown",
   "metadata": {},
   "source": [
    "# 1: corpus\n",
    "The first step in building a topic model is to read a corpus, or a collection of documents.\n",
    "\n",
    "In this example, we are using documents from http://www.mtsamples.com/. \n",
    "\n",
    "These are transcribed medical transcriptions sample reports and examples from a variety of clinical disciplines, such as radiology, surgery, discharge summaries. Note that one document can belong to several categories. \n",
    "\n",
    "We will save each document, all its words, and which clinical specialty it belongs to, in a dataframe.\n"
   ]
  },
  {
   "cell_type": "code",
   "execution_count": 6,
   "metadata": {},
   "outputs": [],
   "source": [
    "xlds = 'https://github.com/KCL-Health-NLP/nlp_examples/blob/master/topic_modelling/mtsamples_for_topic_modelling.xlsx?raw=true'\n",
    "df = pd.read_excel(xlds)"
   ]
  },
  {
   "cell_type": "markdown",
   "metadata": {},
   "source": [
    "How many documents are in the data?"
   ]
  },
  {
   "cell_type": "code",
   "execution_count": 7,
   "metadata": {},
   "outputs": [
    {
     "data": {
      "text/plain": [
       "6385"
      ]
     },
     "execution_count": 7,
     "metadata": {},
     "output_type": "execute_result"
    }
   ],
   "source": [
    "len(df)"
   ]
  },
  {
   "cell_type": "markdown",
   "metadata": {},
   "source": [
    "How many clinical specialties are in the data? "
   ]
  },
  {
   "cell_type": "code",
   "execution_count": 8,
   "metadata": {},
   "outputs": [
    {
     "data": {
      "text/plain": [
       "85-surgery                   1103\n",
       "97-consult                    516\n",
       "97-consult-historyandphy.     516\n",
       "6-cardiovascularpulmonary     372\n",
       "49-orthopedic                 355\n",
       "95-radiology                  273\n",
       "98-generalmedicine            259\n",
       "98-general                    259\n",
       "24-gastroenterology           230\n",
       "42-neurology                  223\n",
       "91-soapchartprogressnotes     166\n",
       "45-obstetricsgynecology       160\n",
       "82-urology                    158\n",
       "89-dischargesummary           108\n",
       "89-discharge                  108\n",
       "100-ent                        98\n",
       "100-ent-otolaryngology         98\n",
       "43-neurosurgery                94\n",
       "96-hematology-oncology         90\n",
       "96-hematology                  90\n",
       "46-ophthalmology               83\n",
       "41-nephrology                  81\n",
       "93-emergencyroomreports        75\n",
       "93-emergency                   75\n",
       "66-pediatrics-neonatal         70\n",
       "66-pediatrics                  70\n",
       "105-painmanagement             62\n",
       "105-pain                       62\n",
       "72-psychiatrypsychology        53\n",
       "87-office                      51\n",
       "87-officenotes                 51\n",
       "71-podiatry                    47\n",
       "18-dermatology                 29\n",
       "17-dentistry                   27\n",
       "70-cosmeticplasticsurgery      27\n",
       "86-letters                     23\n",
       "68-physicalmedicine-rehab      21\n",
       "68-physical                    21\n",
       "78-sleepmedicine               20\n",
       "78-sleep                       20\n",
       "21-endocrinology               19\n",
       "5-bariatrics                   18\n",
       "90-ime-qme-workcompetc.        16\n",
       "90-ime-qme-work                16\n",
       "99-chiropractic                14\n",
       "44-dietsandnutritions          10\n",
       "77-rheumatology                10\n",
       "106-speech-language             9\n",
       "92-labmedicine-pathology        8\n",
       "94-autopsy                      8\n",
       "3-allergyimmunology             7\n",
       "34-hospice-palliativecare       6\n",
       "Name: Category, dtype: int64"
      ]
     },
     "execution_count": 8,
     "metadata": {},
     "output_type": "execute_result"
    }
   ],
   "source": [
    "df['Category'].value_counts()"
   ]
  },
  {
   "cell_type": "markdown",
   "metadata": {},
   "source": [
    "We need to convert the texts to words - let's use a very simple approach"
   ]
  },
  {
   "cell_type": "code",
   "execution_count": 9,
   "metadata": {},
   "outputs": [],
   "source": [
    "def getWords(row):\n",
    "    \n",
    "    return [''.join(c.lower() for c in s if c not in string.punctuation) for s in nltk.word_tokenize(row)]\n",
    "\n",
    "df['Document words'] = df['Document Content'].apply(getWords)\n"
   ]
  },
  {
   "cell_type": "markdown",
   "metadata": {},
   "source": [
    "# 2 Using gensim and pyLDAVis\n",
    "\n",
    "We now need to generate representations for the vocabulary (dictionary) and the text collection (corpus)\n",
    "\n",
    "Let's use some functions that we can call later, and that we can modify later if we want.\n",
    "\n",
    "(Using all the words in the whole corpus or text collection is not typically what you want, because very common words, \n",
    "\n",
    "or very rare words will not generate good topic representations. Why?\n",
    "\n",
    "What parameters and configurations could be interesting to change below?)"
   ]
  },
  {
   "cell_type": "code",
   "execution_count": null,
   "metadata": {},
   "outputs": [],
   "source": [
    "\n",
    "## functions from http://nbviewer.jupyter.org/github/bmabey/pyLDAvis/blob/master/notebooks/Gensim%20Newsgroup.ipynb\n",
    "\n",
    "## this function returns a set of stopwords predefined in the nltk package\n",
    "\n",
    "def nltk_stopwords():\n",
    "    return set(nltk.corpus.stopwords.words('english'))\n",
    "\n",
    "## this function prepares the data and returns a dictionary and a corpus.\n",
    "## which parameters do you think would be worth modifying/experimenting with?\n",
    "\n",
    "def prep_corpus(docs, additional_stopwords=set(), no_below=5, no_above=0.5):\n",
    "  print('Building dictionary...')\n",
    "  dictionary = Dictionary(docs)\n",
    "  stopwords = nltk_stopwords().union(additional_stopwords)\n",
    "  stopword_ids = map(dictionary.token2id.get, stopwords)\n",
    "  dictionary.filter_tokens(stopword_ids)\n",
    "  dictionary.compactify()\n",
    "  dictionary.filter_extremes(no_below=no_below, no_above=no_above, keep_n=None)\n",
    "  dictionary.compactify()\n",
    "\n",
    "  print('Building corpus...')\n",
    "  corpus = [dictionary.doc2bow(doc) for doc in docs]\n",
    "\n",
    "  return dictionary, corpus\n",
    "\n",
    "\n"
   ]
  },
  {
   "cell_type": "code",
   "execution_count": null,
   "metadata": {},
   "outputs": [],
   "source": [
    "## now, let's use the functions we defined above to get our dictionary and corpus\n",
    "dictionary, corpus = prep_corpus(df['Document words'])"
   ]
  },
  {
   "cell_type": "code",
   "execution_count": null,
   "metadata": {},
   "outputs": [],
   "source": [
    "## If you want, you can save your corpus and dictionary to disk for quicker processing later\n",
    "\n",
    "#MmCorpus.serialize('/Users/sumithra/DSV/MeDESTO/teaching/Farr2017/data/gensim_topic_model_data/mtsamples.mm', corpus)\n",
    "#dictionary.save('/Users/sumithra/DSV/MeDESTO/teaching/Farr2017/data/gensim_topic_model_data/mtsamples.dict')"
   ]
  },
  {
   "cell_type": "code",
   "execution_count": null,
   "metadata": {},
   "outputs": [],
   "source": [
    "## Now we have our dictionary and corpus, let's generate an LDA model.\n",
    "## The LDA model has many parameters that can be set, all available parameters can be found here:\n",
    "## https://radimrehurek.com/gensim/models/ldamodel.html\n",
    "\n",
    "## Here, we've set the number of topics to 10.\n",
    "\n",
    "lda = models.ldamodel.LdaModel(corpus=corpus, id2word=dictionary, num_topics=10, passes=10)\n",
    "\n",
    "## You can also save the generated model to disk if you want\n",
    "#lda.save('/Users/sumithra/DSV/MeDESTO/teaching/Farr2017/data/gensim_topic_model_data/mtsamples_20_lda.model')"
   ]
  },
  {
   "cell_type": "code",
   "execution_count": null,
   "metadata": {},
   "outputs": [],
   "source": [
    "## you can now look at these topics by printing them from the generated model\n",
    "\n",
    "lda.print_topics()"
   ]
  },
  {
   "cell_type": "code",
   "execution_count": null,
   "metadata": {},
   "outputs": [],
   "source": [
    "\n",
    "## It can be hard to get a good understanding of what's actually in these topics\n",
    "## Visualizations are very helpful for this, let's use a package that does this:\n",
    "\n",
    "vis_data = gensimvis.prepare(lda, corpus, dictionary)\n",
    "pyLDAvis.display(vis_data)"
   ]
  },
  {
   "cell_type": "markdown",
   "metadata": {},
   "source": [
    "Take a look at the results. What observations do you have? What happens if you change the number of topics?"
   ]
  },
  {
   "cell_type": "markdown",
   "metadata": {},
   "source": [
    "# 3 Using sklearn and comparing with 'existing' categories\n",
    "\n",
    "Now you have seen how you can build a topic models with gensim and look at the contents visually with pyLDAVis.\n",
    "\n",
    "You can also use sklearn for topic modeling, both lda and nmf, and analyse results visually by comparing with existing categories, if you have them.\n",
    "\n",
    "NMF approaches can be very efficient, particularly with smaller datasets. Let's see what you think.\n",
    "\n"
   ]
  },
  {
   "cell_type": "code",
   "execution_count": 122,
   "metadata": {},
   "outputs": [],
   "source": [
    "# We need a couple of functions to visualise the data\n",
    "# Preparation for visualisation \n",
    "# Written by Sonia Priou\n",
    "\n",
    "def display_topics(model, feature_names, no_top_words):\n",
    "    for topic_idx, topic in enumerate(model.components_):\n",
    "        print(\"Topic %d:\" % (topic_idx))\n",
    "        print(\" \".join([feature_names[i] for i in topic.argsort()[:-no_top_words - 1:-1]]))\n",
    "\n",
    "    \n",
    "def display_topic_representation (model,dataframe):\n",
    "    doc_topic = model    #example : model = lda_Tfidf.transform(tfidf)\n",
    "    doc = np.arange(doc_topic.shape[0])\n",
    "    no_topics = doc_topic.shape[1]\n",
    "    dico = {'index': doc}\n",
    "    for n in range(no_topics):\n",
    "        dico[\"topic\" + str(n)] = doc_topic[:,n]\n",
    "    \n",
    "    #Max topic \n",
    "    Topic_max = []\n",
    "    for i in range(doc_topic.shape[0]):\n",
    "        Topic_max.append(doc_topic[i].argmax())\n",
    "    dico[\"Topic most represented\"] = Topic_max\n",
    "    df_topic = pd.DataFrame(dico)\n",
    "\n",
    "    \n",
    "    #Link both DataFrame\n",
    "    df_result = pd.merge(dataframe,df_topic, on='index')\n",
    "    \n",
    "    #Finding within the cluster found by LDA the original file\n",
    "    fig, ax = plt.subplots()\n",
    "    sns.set_style('whitegrid')\n",
    "    sns.countplot(x='Topic most represented', data = df_result, hue='Category')\n",
    "    ax.legend(loc='center left', bbox_to_anchor=(1, 0.5))\n",
    "\n",
    "def display_file_representation (model,dataframe):\n",
    "    #Within a file, what is the slipt between topics found\n",
    "    doc_topic = model    #example : model = lda_Tfidf.transform(tfidf)\n",
    "    doc = np.arange(doc_topic.shape[0])\n",
    "    no_topics = doc_topic.shape[1]\n",
    "    topic = np.arange(no_topics)\n",
    "    dico = {'index': doc}\n",
    "    for n in range(no_topics):\n",
    "        dico[\"topic\" + str(n)] = doc_topic[:,n]\n",
    "    #Max topic \n",
    "    Topic_max = []\n",
    "    for i in range(doc_topic.shape[0]):\n",
    "        Topic_max.append(doc_topic[i].argmax())\n",
    "    dico[\"Topic most represented\"] = Topic_max\n",
    "    df_topic = pd.DataFrame(dico)\n",
    "    #print(df_topic)\n",
    "    \n",
    "    \n",
    "    #Link both DataFrame\n",
    "    df_result = pd.merge(dataframe,df_topic, on='index')\n",
    "    print(df_result)\n",
    "    \n",
    "    dico2 = {'Topic': topic}\n",
    "    for i in df_result['Category'].value_counts().index:\n",
    "        print('i', i)\n",
    "        ser = df_result.loc[df_result['Category']==i].mean()\n",
    "        print('ser', ser)\n",
    "        score = ser[2:no_topics+2]\n",
    "        print('score', score)\n",
    "        dico2[i]=score\n",
    "    print(dico2)\n",
    "\n",
    "    df_score = pd.DataFrame(dico2)\n",
    "    print('For each given file, we calculate the mean percentage of the documents depence to each topic')\n",
    "    print('')\n",
    "    print(df_score)\n",
    "    print(df_result['Category'].value_counts().index)\n",
    "\n",
    "    fig, axs = plt.subplots(ncols=len(df_smaller['Category'].value_counts()))\n",
    "    count = 0\n",
    "    for i in df_result['Category'].value_counts().index:\n",
    "        sns.barplot(x='Topic', y =i ,data = df_score, ax=axs[count])\n",
    "        count = count + 1\n",
    "        \n",
    "    plt.tight_layout()"
   ]
  },
  {
   "cell_type": "markdown",
   "metadata": {},
   "source": [
    "Let's look at a smaller sample, to make the analysis a bit easier. You can choose other categories of course!"
   ]
  },
  {
   "cell_type": "code",
   "execution_count": 123,
   "metadata": {},
   "outputs": [
    {
     "data": {
      "text/html": [
       "<div>\n",
       "<style scoped>\n",
       "    .dataframe tbody tr th:only-of-type {\n",
       "        vertical-align: middle;\n",
       "    }\n",
       "\n",
       "    .dataframe tbody tr th {\n",
       "        vertical-align: top;\n",
       "    }\n",
       "\n",
       "    .dataframe thead th {\n",
       "        text-align: right;\n",
       "    }\n",
       "</style>\n",
       "<table border=\"1\" class=\"dataframe\">\n",
       "  <thead>\n",
       "    <tr style=\"text-align: right;\">\n",
       "      <th></th>\n",
       "      <th>Unnamed: 0</th>\n",
       "      <th>index</th>\n",
       "      <th>Category</th>\n",
       "      <th>Document Name</th>\n",
       "      <th>Document Content</th>\n",
       "      <th>Document words</th>\n",
       "    </tr>\n",
       "  </thead>\n",
       "  <tbody>\n",
       "    <tr>\n",
       "      <td>475</td>\n",
       "      <td>475</td>\n",
       "      <td>0</td>\n",
       "      <td>17-dentistry</td>\n",
       "      <td>2336-bonyimpactedteethremoval.txt</td>\n",
       "      <td>PREOPERATIVE D...</td>\n",
       "      <td>[preoperative, diagnosis, , completely, bony, ...</td>\n",
       "    </tr>\n",
       "    <tr>\n",
       "      <td>476</td>\n",
       "      <td>476</td>\n",
       "      <td>1</td>\n",
       "      <td>17-dentistry</td>\n",
       "      <td>1260-dentalpain-emergencyvisit.txt</td>\n",
       "      <td>CHIEF COMPLAIN...</td>\n",
       "      <td>[chief, complaint, , dental, painhistory, of, ...</td>\n",
       "    </tr>\n",
       "    <tr>\n",
       "      <td>477</td>\n",
       "      <td>477</td>\n",
       "      <td>2</td>\n",
       "      <td>17-dentistry</td>\n",
       "      <td>2748-jawpain-ervisit.txt</td>\n",
       "      <td>CHIEF COMPLAIN...</td>\n",
       "      <td>[chief, complaint, , jaw, painhistory, of, pre...</td>\n",
       "    </tr>\n",
       "    <tr>\n",
       "      <td>478</td>\n",
       "      <td>478</td>\n",
       "      <td>3</td>\n",
       "      <td>17-dentistry</td>\n",
       "      <td>1916-odontogenicabscessid.txt</td>\n",
       "      <td>PREOPERATIVE D...</td>\n",
       "      <td>[preoperative, diagnoses1, , left, facial, cel...</td>\n",
       "    </tr>\n",
       "    <tr>\n",
       "      <td>479</td>\n",
       "      <td>479</td>\n",
       "      <td>4</td>\n",
       "      <td>17-dentistry</td>\n",
       "      <td>2338-teethextractionid.txt</td>\n",
       "      <td>PREOPERATIVE D...</td>\n",
       "      <td>[preoperative, diagnoses1, , carious, teeth, ,...</td>\n",
       "    </tr>\n",
       "  </tbody>\n",
       "</table>\n",
       "</div>"
      ],
      "text/plain": [
       "     Unnamed: 0  index      Category                       Document Name  \\\n",
       "475         475      0  17-dentistry   2336-bonyimpactedteethremoval.txt   \n",
       "476         476      1  17-dentistry  1260-dentalpain-emergencyvisit.txt   \n",
       "477         477      2  17-dentistry            2748-jawpain-ervisit.txt   \n",
       "478         478      3  17-dentistry       1916-odontogenicabscessid.txt   \n",
       "479         479      4  17-dentistry          2338-teethextractionid.txt   \n",
       "\n",
       "                                      Document Content  \\\n",
       "475                                  PREOPERATIVE D...   \n",
       "476                                  CHIEF COMPLAIN...   \n",
       "477                                  CHIEF COMPLAIN...   \n",
       "478                                  PREOPERATIVE D...   \n",
       "479                                  PREOPERATIVE D...   \n",
       "\n",
       "                                        Document words  \n",
       "475  [preoperative, diagnosis, , completely, bony, ...  \n",
       "476  [chief, complaint, , dental, painhistory, of, ...  \n",
       "477  [chief, complaint, , jaw, painhistory, of, pre...  \n",
       "478  [preoperative, diagnoses1, , left, facial, cel...  \n",
       "479  [preoperative, diagnoses1, , carious, teeth, ,...  "
      ]
     },
     "execution_count": 123,
     "metadata": {},
     "output_type": "execute_result"
    }
   ],
   "source": [
    "categories_to_keep = ['17-dentistry', '46-ophthalmology', '72-psychiatrypsychology', '71-podiatry']\n",
    "df_smaller = df.loc[df['Category'].isin(categories_to_keep)]\n",
    "df_smaller['index'] = range(0,len (df_smaller))\n",
    "df_smaller.head()"
   ]
  },
  {
   "cell_type": "markdown",
   "metadata": {},
   "source": [
    "Now let's use sklearn's function for converting corpora to document-term-matrices"
   ]
  },
  {
   "cell_type": "code",
   "execution_count": 124,
   "metadata": {},
   "outputs": [],
   "source": [
    "\n",
    "stopwords = nltk.corpus.stopwords.words('english')\n",
    "min_df = 5\n",
    "max_df = 100000\n",
    "lowercase = True\n",
    "ngram_range = 2\n",
    "\n",
    "bow_transformer = CountVectorizer(stop_words=stopwords, \n",
    "                                  min_df=min_df, \n",
    "                                  max_df=max_df, \n",
    "                                  lowercase = lowercase).fit(df['Document Content'])\n",
    "document_bow = bow_transformer.transform(df_smaller['Document Content'])\n",
    "feature_names = bow_transformer.get_feature_names()\n",
    "\n",
    "tfidf_transformer = TfidfTransformer().fit(document_bow)\n",
    "document_tfidf= tfidf_transformer.transform(document_bow)"
   ]
  },
  {
   "cell_type": "markdown",
   "metadata": {},
   "source": [
    "How many features do you now have? What parameters can you change?"
   ]
  },
  {
   "cell_type": "code",
   "execution_count": 125,
   "metadata": {},
   "outputs": [
    {
     "name": "stdout",
     "output_type": "stream",
     "text": [
      "14099\n"
     ]
    }
   ],
   "source": [
    "print(len(feature_names))"
   ]
  },
  {
   "cell_type": "markdown",
   "metadata": {},
   "source": [
    "How many topics do you want the model to generate?\n",
    "How many discriminative words from each topic do you want to look at? "
   ]
  },
  {
   "cell_type": "code",
   "execution_count": 126,
   "metadata": {},
   "outputs": [],
   "source": [
    "no_topics = 4\n",
    "no_top_words = 10"
   ]
  },
  {
   "cell_type": "markdown",
   "metadata": {},
   "source": [
    "Now let's build an lda model"
   ]
  },
  {
   "cell_type": "code",
   "execution_count": 127,
   "metadata": {},
   "outputs": [],
   "source": [
    "lda = LatentDirichletAllocation(n_components=no_topics).fit(document_tfidf)"
   ]
  },
  {
   "cell_type": "markdown",
   "metadata": {},
   "source": [
    "Let's look at the most discriminative words for each topic. Do you see a pattern? Do you think more work needs to be done with the underlying representation?"
   ]
  },
  {
   "cell_type": "code",
   "execution_count": 128,
   "metadata": {},
   "outputs": [
    {
     "name": "stdout",
     "output_type": "stream",
     "text": [
      "Topic 0:\n",
      "patient quot history mg axis mother disorder family years reported\n",
      "Topic 1:\n",
      "functional replacement suggested lost give obstructive prosthetic estimate dehydration consulting\n",
      "Topic 2:\n",
      "functional replacement suggested lost give obstructive prosthetic estimate dehydration consulting\n",
      "Topic 3:\n",
      "eye patient right left procedure foot placed chamber used anterior\n"
     ]
    }
   ],
   "source": [
    "display_topics(lda,feature_names, no_top_words)"
   ]
  },
  {
   "cell_type": "markdown",
   "metadata": {},
   "source": [
    "We can now look at the main topic for each document. Does this look reasonable to you? "
   ]
  },
  {
   "cell_type": "code",
   "execution_count": 129,
   "metadata": {},
   "outputs": [
    {
     "name": "stdout",
     "output_type": "stream",
     "text": [
      "Representation of the main topic for each document\n"
     ]
    },
    {
     "data": {
      "image/png": "[encoded data removed]",
      "text/plain": [
       "<Figure size 432x288 with 1 Axes>"
      ]
     },
     "metadata": {},
     "output_type": "display_data"
    }
   ],
   "source": [
    "print('Representation of the main topic for each document')\n",
    "display_topic_representation(lda.transform(document_tfidf),df_smaller)"
   ]
  },
  {
   "cell_type": "markdown",
   "metadata": {},
   "source": [
    "Now let's look at the distribution of topics in the files in relation to the 'existing' categories"
   ]
  },
  {
   "cell_type": "code",
   "execution_count": 130,
   "metadata": {},
   "outputs": [
    {
     "name": "stdout",
     "output_type": "stream",
     "text": [
      "     Unnamed: 0  index                 Category  \\\n",
      "0           475      0             17-dentistry   \n",
      "1           476      1             17-dentistry   \n",
      "2           477      2             17-dentistry   \n",
      "3           478      3             17-dentistry   \n",
      "4           479      4             17-dentistry   \n",
      "..          ...    ...                      ...   \n",
      "205        5721    205  72-psychiatrypsychology   \n",
      "206        5722    206  72-psychiatrypsychology   \n",
      "207        5723    207  72-psychiatrypsychology   \n",
      "208        5724    208  72-psychiatrypsychology   \n",
      "209        5725    209  72-psychiatrypsychology   \n",
      "\n",
      "                                  Document Name  \\\n",
      "0             2336-bonyimpactedteethremoval.txt   \n",
      "1            1260-dentalpain-emergencyvisit.txt   \n",
      "2                      2748-jawpain-ervisit.txt   \n",
      "3                 1916-odontogenicabscessid.txt   \n",
      "4                    2338-teethextractionid.txt   \n",
      "..                                          ...   \n",
      "205        86-psychiatricdischargesummary-2.txt   \n",
      "206                  2758-agitation-ervisit.txt   \n",
      "207   2633-bipolaraffectivedisorder-consult.txt   \n",
      "208               90-psychosocialeval-donor.txt   \n",
      "209  89-psychosocialevalforkidneytransplant.txt   \n",
      "\n",
      "                                      Document Content  \\\n",
      "0                                    PREOPERATIVE D...   \n",
      "1                                    CHIEF COMPLAIN...   \n",
      "2                                    CHIEF COMPLAIN...   \n",
      "3                                    PREOPERATIVE D...   \n",
      "4                                    PREOPERATIVE D...   \n",
      "..                                                 ...   \n",
      "205                                  DISCHARGE SUMM...   \n",
      "206                                  CHIEF COMPLAIN...   \n",
      "207                                  IDENTIFYING DA...   \n",
      "208                                  DONOR'S PERCEP...   \n",
      "209                                  HISTORY OF PRE...   \n",
      "\n",
      "                                        Document words    topic0    topic1  \\\n",
      "0    [preoperative, diagnosis, , completely, bony, ...  0.026409  0.026277   \n",
      "1    [chief, complaint, , dental, painhistory, of, ...  0.020376  0.018772   \n",
      "2    [chief, complaint, , jaw, painhistory, of, pre...  0.019390  0.017606   \n",
      "3    [preoperative, diagnoses1, , left, facial, cel...  0.024629  0.022988   \n",
      "4    [preoperative, diagnoses1, , carious, teeth, ,...  0.026603  0.026360   \n",
      "..                                                 ...       ...       ...   \n",
      "205  [discharge, summarysummary, of, treatment, pla...  0.948719  0.016792   \n",
      "206  [chief, complaint, , agitationhistory, of, pre...  0.750110  0.018198   \n",
      "207  [identifying, data, , the, patient, is, a, 35y...  0.953509  0.015085   \n",
      "208  [donor, s, perception, of, recipient, s, illne...  0.914644  0.027895   \n",
      "209  [history, of, present, illness, , in, 2002, , ...  0.947132  0.016977   \n",
      "\n",
      "       topic2    topic3  Topic most represented  \n",
      "0    0.026277  0.921038                       3  \n",
      "1    0.018772  0.942080                       3  \n",
      "2    0.017606  0.945398                       3  \n",
      "3    0.022988  0.929394                       3  \n",
      "4    0.026360  0.920678                       3  \n",
      "..        ...       ...                     ...  \n",
      "205  0.016792  0.017697                       0  \n",
      "206  0.018198  0.213494                       0  \n",
      "207  0.015085  0.016321                       0  \n",
      "208  0.027895  0.029566                       0  \n",
      "209  0.016977  0.018914                       0  \n",
      "\n",
      "[210 rows x 11 columns]\n",
      "i 46-ophthalmology\n",
      "ser Unnamed: 0                5372.000000\n",
      "index                      115.000000\n",
      "topic0                       0.039334\n",
      "topic1                       0.024252\n",
      "topic2                       0.024252\n",
      "topic3                       0.912161\n",
      "Topic most represented       3.000000\n",
      "dtype: float64\n",
      "score topic0    0.039334\n",
      "topic1    0.024252\n",
      "topic2    0.024252\n",
      "topic3    0.912161\n",
      "dtype: float64\n",
      "i 72-psychiatrypsychology\n",
      "ser Unnamed: 0                5699.000000\n",
      "index                      183.000000\n",
      "topic0                       0.932766\n",
      "topic1                       0.018176\n",
      "topic2                       0.018176\n",
      "topic3                       0.030882\n",
      "Topic most represented       0.000000\n",
      "dtype: float64\n",
      "score topic0    0.932766\n",
      "topic1    0.018176\n",
      "topic2    0.018176\n",
      "topic3    0.030882\n",
      "dtype: float64\n",
      "i 71-podiatry\n",
      "ser Unnamed: 0                4840.000000\n",
      "index                       50.000000\n",
      "topic0                       0.024804\n",
      "topic1                       0.024019\n",
      "topic2                       0.024019\n",
      "topic3                       0.927158\n",
      "Topic most represented       3.000000\n",
      "dtype: float64\n",
      "score topic0    0.024804\n",
      "topic1    0.024019\n",
      "topic2    0.024019\n",
      "topic3    0.927158\n",
      "dtype: float64\n",
      "i 17-dentistry\n",
      "ser Unnamed: 0                488.000000\n",
      "index                      13.000000\n",
      "topic0                      0.023191\n",
      "topic1                      0.022500\n",
      "topic2                      0.022500\n",
      "topic3                      0.931810\n",
      "Topic most represented      3.000000\n",
      "dtype: float64\n",
      "score topic0    0.023191\n",
      "topic1    0.022500\n",
      "topic2    0.022500\n",
      "topic3    0.931810\n",
      "dtype: float64\n",
      "{'Topic': array([0, 1, 2, 3]), '46-ophthalmology': topic0    0.039334\n",
      "topic1    0.024252\n",
      "topic2    0.024252\n",
      "topic3    0.912161\n",
      "dtype: float64, '72-psychiatrypsychology': topic0    0.932766\n",
      "topic1    0.018176\n",
      "topic2    0.018176\n",
      "topic3    0.030882\n",
      "dtype: float64, '71-podiatry': topic0    0.024804\n",
      "topic1    0.024019\n",
      "topic2    0.024019\n",
      "topic3    0.927158\n",
      "dtype: float64, '17-dentistry': topic0    0.023191\n",
      "topic1    0.022500\n",
      "topic2    0.022500\n",
      "topic3    0.931810\n",
      "dtype: float64}\n",
      "For each given file, we calculate the mean percentage of the documents depence to each topic\n",
      "\n",
      "        Topic  46-ophthalmology  72-psychiatrypsychology  71-podiatry  \\\n",
      "topic0      0          0.039334                 0.932766     0.024804   \n",
      "topic1      1          0.024252                 0.018176     0.024019   \n",
      "topic2      2          0.024252                 0.018176     0.024019   \n",
      "topic3      3          0.912161                 0.030882     0.927158   \n",
      "\n",
      "        17-dentistry  \n",
      "topic0      0.023191  \n",
      "topic1      0.022500  \n",
      "topic2      0.022500  \n",
      "topic3      0.931810  \n",
      "Index(['46-ophthalmology', '72-psychiatrypsychology', '71-podiatry',\n",
      "       '17-dentistry'],\n",
      "      dtype='object')\n"
     ]
    },
    {
     "data": {
      "image/png": "[encoded data removed]",
      "text/plain": [
       "<Figure size 432x288 with 4 Axes>"
      ]
     },
     "metadata": {},
     "output_type": "display_data"
    }
   ],
   "source": [
    "display_file_representation(lda.transform(document_tfidf),df_smaller)"
   ]
  },
  {
   "cell_type": "markdown",
   "metadata": {},
   "source": [
    "Now let's compare with NMF.  "
   ]
  },
  {
   "cell_type": "code",
   "execution_count": 131,
   "metadata": {},
   "outputs": [],
   "source": [
    "nmf = NMF(n_components=no_topics, \n",
    "          random_state=1, \n",
    "          alpha=.1, \n",
    "          l1_ratio=.5, \n",
    "          init='nndsvd').fit(document_tfidf)\n",
    "\n",
    "W = nmf.transform(document_tfidf)\n",
    "H = nmf.components_"
   ]
  },
  {
   "cell_type": "code",
   "execution_count": 132,
   "metadata": {},
   "outputs": [
    {
     "name": "stdout",
     "output_type": "stream",
     "text": [
      "Topic 0:\n",
      "eye chamber lens anterior cataract bag right used capsular placed\n",
      "Topic 1:\n",
      "patient history quot mg axis mother past disorder denies family\n",
      "Topic 2:\n",
      "foot left patient right proximal metatarsal incision ankle bone plantar\n",
      "Topic 3:\n",
      "teeth tooth caries dental buccal ml patient extraction abscess throat\n"
     ]
    }
   ],
   "source": [
    "display_topics(nmf, feature_names, no_top_words)"
   ]
  },
  {
   "cell_type": "code",
   "execution_count": 133,
   "metadata": {},
   "outputs": [
    {
     "name": "stdout",
     "output_type": "stream",
     "text": [
      "Representation of the main topic for each document\n"
     ]
    },
    {
     "data": {
      "image/png": "[encoded data removed]",
      "text/plain": [
       "<Figure size 432x288 with 1 Axes>"
      ]
     },
     "metadata": {},
     "output_type": "display_data"
    }
   ],
   "source": [
    "print('Representation of the main topic for each document')\n",
    "display_topic_representation(W,df_smaller)"
   ]
  },
  {
   "cell_type": "markdown",
   "metadata": {},
   "source": [
    "What main differences do you notice when comparing NMF and LDA results? Do you think one is better than the other? What parameters might be worth changing?"
   ]
  },
  {
   "cell_type": "code",
   "execution_count": 134,
   "metadata": {},
   "outputs": [
    {
     "name": "stdout",
     "output_type": "stream",
     "text": [
      "     Unnamed: 0  index                 Category  \\\n",
      "0           475      0             17-dentistry   \n",
      "1           476      1             17-dentistry   \n",
      "2           477      2             17-dentistry   \n",
      "3           478      3             17-dentistry   \n",
      "4           479      4             17-dentistry   \n",
      "..          ...    ...                      ...   \n",
      "205        5721    205  72-psychiatrypsychology   \n",
      "206        5722    206  72-psychiatrypsychology   \n",
      "207        5723    207  72-psychiatrypsychology   \n",
      "208        5724    208  72-psychiatrypsychology   \n",
      "209        5725    209  72-psychiatrypsychology   \n",
      "\n",
      "                                  Document Name  \\\n",
      "0             2336-bonyimpactedteethremoval.txt   \n",
      "1            1260-dentalpain-emergencyvisit.txt   \n",
      "2                      2748-jawpain-ervisit.txt   \n",
      "3                 1916-odontogenicabscessid.txt   \n",
      "4                    2338-teethextractionid.txt   \n",
      "..                                          ...   \n",
      "205        86-psychiatricdischargesummary-2.txt   \n",
      "206                  2758-agitation-ervisit.txt   \n",
      "207   2633-bipolaraffectivedisorder-consult.txt   \n",
      "208               90-psychosocialeval-donor.txt   \n",
      "209  89-psychosocialevalforkidneytransplant.txt   \n",
      "\n",
      "                                      Document Content  \\\n",
      "0                                    PREOPERATIVE D...   \n",
      "1                                    CHIEF COMPLAIN...   \n",
      "2                                    CHIEF COMPLAIN...   \n",
      "3                                    PREOPERATIVE D...   \n",
      "4                                    PREOPERATIVE D...   \n",
      "..                                                 ...   \n",
      "205                                  DISCHARGE SUMM...   \n",
      "206                                  CHIEF COMPLAIN...   \n",
      "207                                  IDENTIFYING DA...   \n",
      "208                                  DONOR'S PERCEP...   \n",
      "209                                  HISTORY OF PRE...   \n",
      "\n",
      "                                        Document words    topic0    topic1  \\\n",
      "0    [preoperative, diagnosis, , completely, bony, ...  0.014225  0.000000   \n",
      "1    [chief, complaint, , dental, painhistory, of, ...  0.000000  0.185618   \n",
      "2    [chief, complaint, , jaw, painhistory, of, pre...  0.000000  0.179380   \n",
      "3    [preoperative, diagnoses1, , left, facial, cel...  0.001177  0.108940   \n",
      "4    [preoperative, diagnoses1, , carious, teeth, ,...  0.000000  0.000000   \n",
      "..                                                 ...       ...       ...   \n",
      "205  [discharge, summarysummary, of, treatment, pla...  0.000000  0.269532   \n",
      "206  [chief, complaint, , agitationhistory, of, pre...  0.003459  0.220275   \n",
      "207  [identifying, data, , the, patient, is, a, 35y...  0.000000  0.345582   \n",
      "208  [donor, s, perception, of, recipient, s, illne...  0.000000  0.231390   \n",
      "209  [history, of, present, illness, , in, 2002, , ...  0.000000  0.173687   \n",
      "\n",
      "       topic2    topic3  Topic most represented  \n",
      "0    0.036865  0.347475                       3  \n",
      "1    0.006064  0.227074                       3  \n",
      "2    0.017255  0.123452                       1  \n",
      "3    0.050060  0.165108                       3  \n",
      "4    0.000000  0.485228                       3  \n",
      "..        ...       ...                     ...  \n",
      "205  0.000000  0.000000                       1  \n",
      "206  0.008253  0.000000                       1  \n",
      "207  0.000000  0.000000                       1  \n",
      "208  0.000000  0.000000                       1  \n",
      "209  0.000000  0.000000                       1  \n",
      "\n",
      "[210 rows x 11 columns]\n",
      "i 46-ophthalmology\n",
      "ser Unnamed: 0                5372.000000\n",
      "index                      115.000000\n",
      "topic0                       0.204047\n",
      "topic1                       0.019333\n",
      "topic2                       0.018551\n",
      "topic3                       0.004056\n",
      "Topic most represented       0.349398\n",
      "dtype: float64\n",
      "score topic0    0.204047\n",
      "topic1    0.019333\n",
      "topic2    0.018551\n",
      "topic3    0.004056\n",
      "dtype: float64\n",
      "i 72-psychiatrypsychology\n",
      "ser Unnamed: 0                5699.000000\n",
      "index                      183.000000\n",
      "topic0                       0.000065\n",
      "topic1                       0.274575\n",
      "topic2                       0.000156\n",
      "topic3                       0.000000\n",
      "Topic most represented       1.000000\n",
      "dtype: float64\n",
      "score topic0    0.000065\n",
      "topic1    0.274575\n",
      "topic2    0.000156\n",
      "topic3    0.000000\n",
      "dtype: float64\n",
      "i 71-podiatry\n",
      "ser Unnamed: 0                4840.000000\n",
      "index                       50.000000\n",
      "topic0                       0.003124\n",
      "topic1                       0.027268\n",
      "topic2                       0.259622\n",
      "topic3                       0.002003\n",
      "Topic most represented       1.872340\n",
      "dtype: float64\n",
      "score topic0    0.003124\n",
      "topic1    0.027268\n",
      "topic2    0.259622\n",
      "topic3    0.002003\n",
      "dtype: float64\n",
      "i 17-dentistry\n",
      "ser Unnamed: 0                488.000000\n",
      "index                      13.000000\n",
      "topic0                      0.008973\n",
      "topic1                      0.037418\n",
      "topic2                      0.026544\n",
      "topic3                      0.330605\n",
      "Topic most represented      2.814815\n",
      "dtype: float64\n",
      "score topic0    0.008973\n",
      "topic1    0.037418\n",
      "topic2    0.026544\n",
      "topic3    0.330605\n",
      "dtype: float64\n",
      "{'Topic': array([0, 1, 2, 3]), '46-ophthalmology': topic0    0.204047\n",
      "topic1    0.019333\n",
      "topic2    0.018551\n",
      "topic3    0.004056\n",
      "dtype: float64, '72-psychiatrypsychology': topic0    0.000065\n",
      "topic1    0.274575\n",
      "topic2    0.000156\n",
      "topic3    0.000000\n",
      "dtype: float64, '71-podiatry': topic0    0.003124\n",
      "topic1    0.027268\n",
      "topic2    0.259622\n",
      "topic3    0.002003\n",
      "dtype: float64, '17-dentistry': topic0    0.008973\n",
      "topic1    0.037418\n",
      "topic2    0.026544\n",
      "topic3    0.330605\n",
      "dtype: float64}\n",
      "For each given file, we calculate the mean percentage of the documents depence to each topic\n",
      "\n",
      "        Topic  46-ophthalmology  72-psychiatrypsychology  71-podiatry  \\\n",
      "topic0      0          0.204047                 0.000065     0.003124   \n",
      "topic1      1          0.019333                 0.274575     0.027268   \n",
      "topic2      2          0.018551                 0.000156     0.259622   \n",
      "topic3      3          0.004056                 0.000000     0.002003   \n",
      "\n",
      "        17-dentistry  \n",
      "topic0      0.008973  \n",
      "topic1      0.037418  \n",
      "topic2      0.026544  \n",
      "topic3      0.330605  \n",
      "Index(['46-ophthalmology', '72-psychiatrypsychology', '71-podiatry',\n",
      "       '17-dentistry'],\n",
      "      dtype='object')\n"
     ]
    },
    {
     "data": {
      "image/png": "[encoded data removed]",
      "text/plain": [
       "<Figure size 432x288 with 4 Axes>"
      ]
     },
     "metadata": {},
     "output_type": "display_data"
    }
   ],
   "source": [
    "display_file_representation(W,df_smaller)"
   ]
  },
  {
   "cell_type": "code",
   "execution_count": null,
   "metadata": {},
   "outputs": [],
   "source": []
  }
 ],
 "metadata": {
  "kernelspec": {
   "display_name": "Python [conda env:root] *",
   "language": "python",
   "name": "conda-root-py"
  },
  "language_info": {
   "codemirror_mode": {
    "name": "ipython",
    "version": 3
   },
   "file_extension": ".py",
   "mimetype": "text/x-python",
   "name": "python",
   "nbconvert_exporter": "python",
   "pygments_lexer": "ipython3",
   "version": "3.7.4"
  }
 },
 "nbformat": 4,
 "nbformat_minor": 2
}
