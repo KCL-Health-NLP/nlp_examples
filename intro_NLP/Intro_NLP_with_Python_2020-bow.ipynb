{
 "cells": [
  {
   "cell_type": "markdown",
   "metadata": {},
   "source": [
    "# Introduction to NLP with Python - BoW and tfidf\n",
    "\n",
    "Written by Sumithra Velupillai June 2019\n"
   ]
  },
  {
   "cell_type": "markdown",
   "metadata": {},
   "source": [
    "## Working with datasets and packages\n",
    "\n",
    "Importing packages you need for a project is the first step.\n",
    "\n",
    "pandas is a very useful package for working with datasets"
   ]
  },
  {
   "cell_type": "code",
   "execution_count": 1,
   "metadata": {
    "colab": {
     "base_uri": "https://localhost:8080/",
     "height": 449,
     "output_embedded_package_id": "1k5YeecCrPif1ZR0hSPYbLt0Zwi2GSPk2"
    },
    "colab_type": "code",
    "executionInfo": {
     "elapsed": 19687,
     "status": "ok",
     "timestamp": 1560413343487,
     "user": {
      "displayName": "Sumithra Velupillai",
      "photoUrl": "https://lh3.googleusercontent.com/-K8zSUtZG4uk/AAAAAAAAAAI/AAAAAAAAABo/Su-pkZdKbEs/s64/photo.jpg",
      "userId": "07373382257673811007"
     },
     "user_tz": -60
    },
    "id": "VtDkRURZubA6",
    "outputId": "10022364-cca4-4cb8-c6e1-cbd5a742cf7f"
   },
   "outputs": [],
   "source": [
    "import pandas as pd\n",
    "import numpy as np"
   ]
  },
  {
   "cell_type": "markdown",
   "metadata": {},
   "source": [
    "spaCy has a default language model for English that we will load into the variable 'nlp'"
   ]
  },
  {
   "cell_type": "code",
   "execution_count": 2,
   "metadata": {},
   "outputs": [],
   "source": [
    "try:\n",
    "    import spacy\n",
    "except ImportError as e:\n",
    "    !pip install spacy\n",
    "    import spacy\n",
    "try:\n",
    "    nlp = spacy.load('en_core_web_sm')\n",
    "except Error as e:\n",
    "    !python -m spacy download en_core_web_sm\n",
    "    nlp = spacy.load('en_core_web_sm')"
   ]
  },
  {
   "cell_type": "code",
   "execution_count": 3,
   "metadata": {},
   "outputs": [
    {
     "name": "stderr",
     "output_type": "stream",
     "text": [
      "[nltk_data] Downloading package stopwords to\n",
      "[nltk_data]     /Users/sumithra/nltk_data...\n",
      "[nltk_data]   Package stopwords is already up-to-date!\n"
     ]
    }
   ],
   "source": [
    "import nltk\n",
    "nltk.download('stopwords')\n",
    "from nltk.corpus import stopwords\n"
   ]
  },
  {
   "cell_type": "markdown",
   "metadata": {},
   "source": [
    "# Bag-of-words and tf-idf\n",
    "From: https://towardsdatascience.com/natural-language-processing-feature-engineering-using-tf-idf-e8b9d00e7e76"
   ]
  },
  {
   "cell_type": "code",
   "execution_count": 4,
   "metadata": {},
   "outputs": [],
   "source": [
    "pd.set_option('max_colwidth', 1000)"
   ]
  },
  {
   "cell_type": "code",
   "execution_count": 5,
   "metadata": {},
   "outputs": [],
   "source": [
    "import string\n",
    "def get_spacy_tokens(row):\n",
    "  return [str(token) for token in row.doc if str(token) not in string.punctuation]\n",
    "\n"
   ]
  },
  {
   "cell_type": "code",
   "execution_count": 6,
   "metadata": {},
   "outputs": [],
   "source": [
    "documentA = 'patient with abdominal pain. she has taken aspirin.'\n",
    "documentB = 'she has had abdominal pain in the past. pain free today.'\n",
    "documentC = 'no abdominal pain.'\n",
    "documentD = 'takes aspirin for pain. has no pain today.'"
   ]
  },
  {
   "cell_type": "code",
   "execution_count": 7,
   "metadata": {},
   "outputs": [],
   "source": [
    "#bagOfWordsA = get_spacy_lemmas(nlp(documentA))\n",
    "#bagOfWordsB = get_spacy_lemmas(nlp(documentB))\n",
    "#bagOfWordsC = get_spacy_lemmas(nlp(documentC))\n",
    "#bagOfWordsD = get_spacy_lemmas(nlp(documentD))\n",
    "bagOfWordsA = get_spacy_tokens(nlp(documentA))\n",
    "bagOfWordsB = get_spacy_tokens(nlp(documentB))\n",
    "bagOfWordsC = get_spacy_tokens(nlp(documentC))\n",
    "bagOfWordsD = get_spacy_tokens(nlp(documentD))"
   ]
  },
  {
   "cell_type": "code",
   "execution_count": 8,
   "metadata": {},
   "outputs": [
    {
     "data": {
      "text/plain": [
       "['patient', 'with', 'abdominal', 'pain', 'she', 'has', 'taken', 'aspirin']"
      ]
     },
     "execution_count": 8,
     "metadata": {},
     "output_type": "execute_result"
    }
   ],
   "source": [
    "bagOfWordsA"
   ]
  },
  {
   "cell_type": "code",
   "execution_count": 9,
   "metadata": {},
   "outputs": [],
   "source": [
    "uniqueWords = set(bagOfWordsA).union(set(bagOfWordsB)).union(set(bagOfWordsC)).union(set(bagOfWordsD))"
   ]
  },
  {
   "cell_type": "code",
   "execution_count": 10,
   "metadata": {},
   "outputs": [
    {
     "data": {
      "text/plain": [
       "{'abdominal',\n",
       " 'aspirin',\n",
       " 'for',\n",
       " 'free',\n",
       " 'had',\n",
       " 'has',\n",
       " 'in',\n",
       " 'no',\n",
       " 'pain',\n",
       " 'past',\n",
       " 'patient',\n",
       " 'she',\n",
       " 'taken',\n",
       " 'takes',\n",
       " 'the',\n",
       " 'today',\n",
       " 'with'}"
      ]
     },
     "execution_count": 10,
     "metadata": {},
     "output_type": "execute_result"
    }
   ],
   "source": [
    "uniqueWords"
   ]
  },
  {
   "cell_type": "code",
   "execution_count": 11,
   "metadata": {},
   "outputs": [],
   "source": [
    "def getBow(uniqueWords, bow):\n",
    "    numOfWords = dict.fromkeys(uniqueWords, 0)\n",
    "    for word in bow:\n",
    "        if word in numOfWords:\n",
    "            numOfWords[word] +=1\n",
    "    return numOfWords"
   ]
  },
  {
   "cell_type": "code",
   "execution_count": 12,
   "metadata": {},
   "outputs": [],
   "source": [
    "numOfWordsA = getBow(uniqueWords, bagOfWordsA)\n",
    "numOfWordsB = getBow(uniqueWords, bagOfWordsB)\n",
    "numOfWordsC = getBow(uniqueWords, bagOfWordsC)\n",
    "numOfWordsD = getBow(uniqueWords, bagOfWordsD)"
   ]
  },
  {
   "cell_type": "code",
   "execution_count": 13,
   "metadata": {},
   "outputs": [
    {
     "data": {
      "text/html": [
       "<div>\n",
       "<style scoped>\n",
       "    .dataframe tbody tr th:only-of-type {\n",
       "        vertical-align: middle;\n",
       "    }\n",
       "\n",
       "    .dataframe tbody tr th {\n",
       "        vertical-align: top;\n",
       "    }\n",
       "\n",
       "    .dataframe thead th {\n",
       "        text-align: right;\n",
       "    }\n",
       "</style>\n",
       "<table border=\"1\" class=\"dataframe\">\n",
       "  <thead>\n",
       "    <tr style=\"text-align: right;\">\n",
       "      <th></th>\n",
       "      <th>free</th>\n",
       "      <th>abdominal</th>\n",
       "      <th>the</th>\n",
       "      <th>in</th>\n",
       "      <th>no</th>\n",
       "      <th>today</th>\n",
       "      <th>takes</th>\n",
       "      <th>taken</th>\n",
       "      <th>past</th>\n",
       "      <th>had</th>\n",
       "      <th>patient</th>\n",
       "      <th>with</th>\n",
       "      <th>pain</th>\n",
       "      <th>has</th>\n",
       "      <th>aspirin</th>\n",
       "      <th>for</th>\n",
       "      <th>she</th>\n",
       "      <th>text</th>\n",
       "    </tr>\n",
       "  </thead>\n",
       "  <tbody>\n",
       "    <tr>\n",
       "      <td>0</td>\n",
       "      <td>0</td>\n",
       "      <td>1</td>\n",
       "      <td>0</td>\n",
       "      <td>0</td>\n",
       "      <td>0</td>\n",
       "      <td>0</td>\n",
       "      <td>0</td>\n",
       "      <td>1</td>\n",
       "      <td>0</td>\n",
       "      <td>0</td>\n",
       "      <td>1</td>\n",
       "      <td>1</td>\n",
       "      <td>1</td>\n",
       "      <td>1</td>\n",
       "      <td>1</td>\n",
       "      <td>0</td>\n",
       "      <td>1</td>\n",
       "      <td>patient with abdominal pain. she has taken aspirin.</td>\n",
       "    </tr>\n",
       "    <tr>\n",
       "      <td>1</td>\n",
       "      <td>1</td>\n",
       "      <td>1</td>\n",
       "      <td>1</td>\n",
       "      <td>1</td>\n",
       "      <td>0</td>\n",
       "      <td>1</td>\n",
       "      <td>0</td>\n",
       "      <td>0</td>\n",
       "      <td>1</td>\n",
       "      <td>1</td>\n",
       "      <td>0</td>\n",
       "      <td>0</td>\n",
       "      <td>2</td>\n",
       "      <td>1</td>\n",
       "      <td>0</td>\n",
       "      <td>0</td>\n",
       "      <td>1</td>\n",
       "      <td>she has had abdominal pain in the past. pain free today.</td>\n",
       "    </tr>\n",
       "    <tr>\n",
       "      <td>2</td>\n",
       "      <td>0</td>\n",
       "      <td>1</td>\n",
       "      <td>0</td>\n",
       "      <td>0</td>\n",
       "      <td>1</td>\n",
       "      <td>0</td>\n",
       "      <td>0</td>\n",
       "      <td>0</td>\n",
       "      <td>0</td>\n",
       "      <td>0</td>\n",
       "      <td>0</td>\n",
       "      <td>0</td>\n",
       "      <td>1</td>\n",
       "      <td>0</td>\n",
       "      <td>0</td>\n",
       "      <td>0</td>\n",
       "      <td>0</td>\n",
       "      <td>no abdominal pain.</td>\n",
       "    </tr>\n",
       "    <tr>\n",
       "      <td>3</td>\n",
       "      <td>0</td>\n",
       "      <td>0</td>\n",
       "      <td>0</td>\n",
       "      <td>0</td>\n",
       "      <td>1</td>\n",
       "      <td>1</td>\n",
       "      <td>1</td>\n",
       "      <td>0</td>\n",
       "      <td>0</td>\n",
       "      <td>0</td>\n",
       "      <td>0</td>\n",
       "      <td>0</td>\n",
       "      <td>2</td>\n",
       "      <td>1</td>\n",
       "      <td>1</td>\n",
       "      <td>1</td>\n",
       "      <td>0</td>\n",
       "      <td>takes aspirin for pain. has no pain today.</td>\n",
       "    </tr>\n",
       "  </tbody>\n",
       "</table>\n",
       "</div>"
      ],
      "text/plain": [
       "   free  abdominal  the  in  no  today  takes  taken  past  had  patient  \\\n",
       "0     0          1    0   0   0      0      0      1     0    0        1   \n",
       "1     1          1    1   1   0      1      0      0     1    1        0   \n",
       "2     0          1    0   0   1      0      0      0     0    0        0   \n",
       "3     0          0    0   0   1      1      1      0     0    0        0   \n",
       "\n",
       "   with  pain  has  aspirin  for  she  \\\n",
       "0     1     1    1        1    0    1   \n",
       "1     0     2    1        0    0    1   \n",
       "2     0     1    0        0    0    0   \n",
       "3     0     2    1        1    1    0   \n",
       "\n",
       "                                                       text  \n",
       "0       patient with abdominal pain. she has taken aspirin.  \n",
       "1  she has had abdominal pain in the past. pain free today.  \n",
       "2                                        no abdominal pain.  \n",
       "3                takes aspirin for pain. has no pain today.  "
      ]
     },
     "execution_count": 13,
     "metadata": {},
     "output_type": "execute_result"
    }
   ],
   "source": [
    "dfbow = pd.DataFrame([numOfWordsA, numOfWordsB, numOfWordsC, numOfWordsD])\n",
    "dfbow['text'] = [documentA, documentB, documentC, documentD]\n",
    "dfbow"
   ]
  },
  {
   "cell_type": "code",
   "execution_count": 14,
   "metadata": {},
   "outputs": [],
   "source": [
    "uniqueWords = set([uw for uw in list(uniqueWords) if uw not in stopwords.words('english')])"
   ]
  },
  {
   "cell_type": "code",
   "execution_count": 15,
   "metadata": {},
   "outputs": [],
   "source": [
    "numOfWordsA = getBow(uniqueWords, bagOfWordsA)\n",
    "numOfWordsB = getBow(uniqueWords, bagOfWordsB)\n",
    "numOfWordsC = getBow(uniqueWords, bagOfWordsC)\n",
    "numOfWordsD = getBow(uniqueWords, bagOfWordsD)"
   ]
  },
  {
   "cell_type": "code",
   "execution_count": 16,
   "metadata": {},
   "outputs": [
    {
     "data": {
      "text/html": [
       "<div>\n",
       "<style scoped>\n",
       "    .dataframe tbody tr th:only-of-type {\n",
       "        vertical-align: middle;\n",
       "    }\n",
       "\n",
       "    .dataframe tbody tr th {\n",
       "        vertical-align: top;\n",
       "    }\n",
       "\n",
       "    .dataframe thead th {\n",
       "        text-align: right;\n",
       "    }\n",
       "</style>\n",
       "<table border=\"1\" class=\"dataframe\">\n",
       "  <thead>\n",
       "    <tr style=\"text-align: right;\">\n",
       "      <th></th>\n",
       "      <th>today</th>\n",
       "      <th>takes</th>\n",
       "      <th>taken</th>\n",
       "      <th>free</th>\n",
       "      <th>past</th>\n",
       "      <th>abdominal</th>\n",
       "      <th>patient</th>\n",
       "      <th>pain</th>\n",
       "      <th>aspirin</th>\n",
       "      <th>text</th>\n",
       "    </tr>\n",
       "  </thead>\n",
       "  <tbody>\n",
       "    <tr>\n",
       "      <td>0</td>\n",
       "      <td>0</td>\n",
       "      <td>0</td>\n",
       "      <td>1</td>\n",
       "      <td>0</td>\n",
       "      <td>0</td>\n",
       "      <td>1</td>\n",
       "      <td>1</td>\n",
       "      <td>1</td>\n",
       "      <td>1</td>\n",
       "      <td>patient with abdominal pain. she has taken aspirin.</td>\n",
       "    </tr>\n",
       "    <tr>\n",
       "      <td>1</td>\n",
       "      <td>1</td>\n",
       "      <td>0</td>\n",
       "      <td>0</td>\n",
       "      <td>1</td>\n",
       "      <td>1</td>\n",
       "      <td>1</td>\n",
       "      <td>0</td>\n",
       "      <td>2</td>\n",
       "      <td>0</td>\n",
       "      <td>she has had abdominal pain in the past. pain free today.</td>\n",
       "    </tr>\n",
       "    <tr>\n",
       "      <td>2</td>\n",
       "      <td>0</td>\n",
       "      <td>0</td>\n",
       "      <td>0</td>\n",
       "      <td>0</td>\n",
       "      <td>0</td>\n",
       "      <td>1</td>\n",
       "      <td>0</td>\n",
       "      <td>1</td>\n",
       "      <td>0</td>\n",
       "      <td>no abdominal pain.</td>\n",
       "    </tr>\n",
       "    <tr>\n",
       "      <td>3</td>\n",
       "      <td>1</td>\n",
       "      <td>1</td>\n",
       "      <td>0</td>\n",
       "      <td>0</td>\n",
       "      <td>0</td>\n",
       "      <td>0</td>\n",
       "      <td>0</td>\n",
       "      <td>2</td>\n",
       "      <td>1</td>\n",
       "      <td>takes aspirin for pain. has no pain today.</td>\n",
       "    </tr>\n",
       "  </tbody>\n",
       "</table>\n",
       "</div>"
      ],
      "text/plain": [
       "   today  takes  taken  free  past  abdominal  patient  pain  aspirin  \\\n",
       "0      0      0      1     0     0          1        1     1        1   \n",
       "1      1      0      0     1     1          1        0     2        0   \n",
       "2      0      0      0     0     0          1        0     1        0   \n",
       "3      1      1      0     0     0          0        0     2        1   \n",
       "\n",
       "                                                       text  \n",
       "0       patient with abdominal pain. she has taken aspirin.  \n",
       "1  she has had abdominal pain in the past. pain free today.  \n",
       "2                                        no abdominal pain.  \n",
       "3                takes aspirin for pain. has no pain today.  "
      ]
     },
     "execution_count": 16,
     "metadata": {},
     "output_type": "execute_result"
    }
   ],
   "source": [
    "dfbow = pd.DataFrame([numOfWordsA, numOfWordsB, numOfWordsC, numOfWordsD])\n",
    "dfbow['text'] = [documentA, documentB, documentC, documentD]\n",
    "dfbow"
   ]
  },
  {
   "cell_type": "code",
   "execution_count": 17,
   "metadata": {},
   "outputs": [],
   "source": [
    "def computeTF(wordDict, bagOfWords):\n",
    "    tfDict = {}\n",
    "    bagOfWordsCount = len(bagOfWords)\n",
    "    for word, count in wordDict.items():\n",
    "        tfDict[word] = count / float(bagOfWordsCount)\n",
    "    return tfDict"
   ]
  },
  {
   "cell_type": "code",
   "execution_count": 18,
   "metadata": {},
   "outputs": [],
   "source": [
    "tfA = computeTF(numOfWordsA, bagOfWordsA)\n",
    "tfB = computeTF(numOfWordsB, bagOfWordsB)\n",
    "tfC = computeTF(numOfWordsC, bagOfWordsC)\n",
    "tfD = computeTF(numOfWordsD, bagOfWordsD)"
   ]
  },
  {
   "cell_type": "code",
   "execution_count": 19,
   "metadata": {},
   "outputs": [
    {
     "data": {
      "text/plain": [
       "{'today': 0.0,\n",
       " 'takes': 0.0,\n",
       " 'taken': 0.125,\n",
       " 'free': 0.0,\n",
       " 'past': 0.0,\n",
       " 'abdominal': 0.125,\n",
       " 'patient': 0.125,\n",
       " 'pain': 0.125,\n",
       " 'aspirin': 0.125}"
      ]
     },
     "execution_count": 19,
     "metadata": {},
     "output_type": "execute_result"
    }
   ],
   "source": [
    "tfA"
   ]
  },
  {
   "cell_type": "code",
   "execution_count": 20,
   "metadata": {},
   "outputs": [],
   "source": [
    "def computeIDF(documents):\n",
    "    import math\n",
    "    N = len(documents)\n",
    "    \n",
    "    idfDict = dict.fromkeys(documents[0].keys(), 0)\n",
    "    for document in documents:\n",
    "        for word, val in document.items():\n",
    "            if val > 0:\n",
    "                idfDict[word] += 1\n",
    "    \n",
    "    for word, val in idfDict.items():\n",
    "        idfDict[word] = math.log(N / float(val))\n",
    "    return idfDict"
   ]
  },
  {
   "cell_type": "code",
   "execution_count": 21,
   "metadata": {},
   "outputs": [],
   "source": [
    "idfs = computeIDF([numOfWordsA, numOfWordsB, numOfWordsC, numOfWordsD])"
   ]
  },
  {
   "cell_type": "code",
   "execution_count": 22,
   "metadata": {},
   "outputs": [],
   "source": [
    "def computeTFIDF(tfBagOfWords, idfs):\n",
    "    tfidf = {}\n",
    "    for word, val in tfBagOfWords.items():\n",
    "        tfidf[word] = round(val * idfs[word], 3)\n",
    "    return tfidf"
   ]
  },
  {
   "cell_type": "code",
   "execution_count": 23,
   "metadata": {},
   "outputs": [],
   "source": [
    "tfidfA = computeTFIDF(tfA, idfs)\n",
    "tfidfB = computeTFIDF(tfB, idfs)\n",
    "tfidfC = computeTFIDF(tfC, idfs)\n",
    "tfidfD = computeTFIDF(tfD, idfs)\n",
    "dftfidf = pd.DataFrame([tfidfA, tfidfB, tfidfC, tfidfD])"
   ]
  },
  {
   "cell_type": "code",
   "execution_count": 24,
   "metadata": {},
   "outputs": [
    {
     "data": {
      "text/html": [
       "<div>\n",
       "<style scoped>\n",
       "    .dataframe tbody tr th:only-of-type {\n",
       "        vertical-align: middle;\n",
       "    }\n",
       "\n",
       "    .dataframe tbody tr th {\n",
       "        vertical-align: top;\n",
       "    }\n",
       "\n",
       "    .dataframe thead th {\n",
       "        text-align: right;\n",
       "    }\n",
       "</style>\n",
       "<table border=\"1\" class=\"dataframe\">\n",
       "  <thead>\n",
       "    <tr style=\"text-align: right;\">\n",
       "      <th></th>\n",
       "      <th>today</th>\n",
       "      <th>takes</th>\n",
       "      <th>taken</th>\n",
       "      <th>free</th>\n",
       "      <th>past</th>\n",
       "      <th>abdominal</th>\n",
       "      <th>patient</th>\n",
       "      <th>pain</th>\n",
       "      <th>aspirin</th>\n",
       "      <th>text</th>\n",
       "    </tr>\n",
       "  </thead>\n",
       "  <tbody>\n",
       "    <tr>\n",
       "      <td>0</td>\n",
       "      <td>0.000</td>\n",
       "      <td>0.000</td>\n",
       "      <td>0.173</td>\n",
       "      <td>0.000</td>\n",
       "      <td>0.000</td>\n",
       "      <td>0.036</td>\n",
       "      <td>0.173</td>\n",
       "      <td>0.0</td>\n",
       "      <td>0.087</td>\n",
       "      <td>patient with abdominal pain. she has taken aspirin.</td>\n",
       "    </tr>\n",
       "    <tr>\n",
       "      <td>1</td>\n",
       "      <td>0.063</td>\n",
       "      <td>0.000</td>\n",
       "      <td>0.000</td>\n",
       "      <td>0.126</td>\n",
       "      <td>0.126</td>\n",
       "      <td>0.026</td>\n",
       "      <td>0.000</td>\n",
       "      <td>0.0</td>\n",
       "      <td>0.000</td>\n",
       "      <td>she has had abdominal pain in the past. pain free today.</td>\n",
       "    </tr>\n",
       "    <tr>\n",
       "      <td>2</td>\n",
       "      <td>0.000</td>\n",
       "      <td>0.000</td>\n",
       "      <td>0.000</td>\n",
       "      <td>0.000</td>\n",
       "      <td>0.000</td>\n",
       "      <td>0.096</td>\n",
       "      <td>0.000</td>\n",
       "      <td>0.0</td>\n",
       "      <td>0.000</td>\n",
       "      <td>no abdominal pain.</td>\n",
       "    </tr>\n",
       "    <tr>\n",
       "      <td>3</td>\n",
       "      <td>0.087</td>\n",
       "      <td>0.173</td>\n",
       "      <td>0.000</td>\n",
       "      <td>0.000</td>\n",
       "      <td>0.000</td>\n",
       "      <td>0.000</td>\n",
       "      <td>0.000</td>\n",
       "      <td>0.0</td>\n",
       "      <td>0.087</td>\n",
       "      <td>takes aspirin for pain. has no pain today.</td>\n",
       "    </tr>\n",
       "  </tbody>\n",
       "</table>\n",
       "</div>"
      ],
      "text/plain": [
       "   today  takes  taken   free   past  abdominal  patient  pain  aspirin  \\\n",
       "0  0.000  0.000  0.173  0.000  0.000      0.036    0.173   0.0    0.087   \n",
       "1  0.063  0.000  0.000  0.126  0.126      0.026    0.000   0.0    0.000   \n",
       "2  0.000  0.000  0.000  0.000  0.000      0.096    0.000   0.0    0.000   \n",
       "3  0.087  0.173  0.000  0.000  0.000      0.000    0.000   0.0    0.087   \n",
       "\n",
       "                                                       text  \n",
       "0       patient with abdominal pain. she has taken aspirin.  \n",
       "1  she has had abdominal pain in the past. pain free today.  \n",
       "2                                        no abdominal pain.  \n",
       "3                takes aspirin for pain. has no pain today.  "
      ]
     },
     "execution_count": 24,
     "metadata": {},
     "output_type": "execute_result"
    }
   ],
   "source": [
    "\n",
    "dftfidf['text'] = [documentA, documentB, documentC, documentD]\n",
    "dftfidf"
   ]
  },
  {
   "cell_type": "code",
   "execution_count": null,
   "metadata": {},
   "outputs": [],
   "source": []
  }
 ],
 "metadata": {
  "colab": {
   "name": "Intro NLP.ipynb",
   "provenance": [
    {
     "file_id": "1wEbXJp7Np8iSVXDMBjW6bzfkaK7f0GX6",
     "timestamp": 1560326827471
    }
   ],
   "version": "0.3.2"
  },
  "kernelspec": {
   "display_name": "Python [conda env:root] *",
   "language": "python",
   "name": "conda-root-py"
  },
  "language_info": {
   "codemirror_mode": {
    "name": "ipython",
    "version": 3
   },
   "file_extension": ".py",
   "mimetype": "text/x-python",
   "name": "python",
   "nbconvert_exporter": "python",
   "pygments_lexer": "ipython3",
   "version": "3.7.4"
  }
 },
 "nbformat": 4,
 "nbformat_minor": 1
}
