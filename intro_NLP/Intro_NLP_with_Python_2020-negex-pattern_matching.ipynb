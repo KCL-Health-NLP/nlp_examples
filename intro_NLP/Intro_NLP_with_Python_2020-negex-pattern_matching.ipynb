{
 "cells": [
  {
   "cell_type": "markdown",
   "metadata": {},
   "source": [
    "# Introduction to NLP with Python - pattern matching\n",
    "## Negation detection\n",
    "\n",
    "A brief introduction to using Python for negation detection for information extraction using a simple version of the NegEx algorithm.\n",
    "\n",
    "\n",
    "Written by Sumithra Velupillai May 2020\n"
   ]
  },
  {
   "cell_type": "markdown",
   "metadata": {},
   "source": [
    "## The NegEx algorithm\n",
    "\n",
    "The NegEx algorithm is a widely used algorithm in clinical NLP. It is a simple pattern matching algorithm that relies on two main lexicons:\n",
    "\n",
    "* a list of terms/concepts that are the main concepts of interest for the information extraction problem, e.g. diagnoses, symptoms. These are called target terms. \n",
    "\n",
    "* a list of terms that indicate negation. In the original version of NegEx the negation terms were classified as pre-negation terms, post-negation terms, and pseudonegation terms (i.e. terms that are ambiguous). \n",
    "\n",
    "In simple terms, the algorithm works in the following way:\n",
    "\n",
    "* For each sentence, look for target terms.\n",
    "* If a target term is found, check if this term is negated. This is done by looking at the surrounding words in a window of +/- 5 words within the sentence.\n",
    "\n",
    "\n",
    "The original article: \n",
    "\n",
    "Chapman et al. A Simple Algorithm for Identifying Negated Findings and Diseases in Discharge Summaries, \n",
    "Journal of Biomedical Informatics Volume 34, Issue 5, October 2001, Pages 301-310\n",
    "\n",
    "https://www.sciencedirect.com/science/article/pii/S1532046401910299\n",
    "\n",
    "There are a few extended versions of this algorithm, where other modifiers are taken into account (e.g. uncertainty, experiencer), where several types of targets can be defined, where the scope of a modifier is dealt with differently, etc.  \n",
    "\n",
    "Some relevant publications:\n",
    "\n",
    "\n",
    "Harkema et al. ConText: An Algorithm for Determining Negation, Experiencer, and Temporal Status From Clinical Reports.\n",
    "J Biomed Inform. 2009 Oct;42(5):839-51. doi: 10.1016/j.jbi.2009.05.002. Epub 2009 May 10.\n",
    "\n",
    "https://pubmed.ncbi.nlm.nih.gov/19435614/\n",
    "\n",
    "\n",
    "Chapman et al. Document-Level Classification of CT Pulmonary Angiography Reports based on an Extension of the ConText Algorithm.\n",
    "J Biomed Inform. 2011 Oct; 44(5): 728–737. doi: 10.1016/j.jbi.2011.03.011\n",
    "https://www.ncbi.nlm.nih.gov/pmc/articles/PMC3164892/\n",
    "\n",
    "\n",
    "Chapman et al. Extending the NegEx Lexicon for Multiple Languages\n",
    "Stud Health Technol Inform. 2013;192:677-81.\n",
    "https://pubmed.ncbi.nlm.nih.gov/23920642/\n",
    "\n",
    "\n",
    "Example of using this in the mental health domain:\n",
    "\n",
    "Downs et al. Detection of Suicidality in Adolescents with Autism Spectrum Disorders: Developing a Natural Language Processing Approach for Use in Electronic Health Records\n",
    "AMIA Annu Symp Proc. 2017; 2017: 641–649.\n",
    "\n",
    "https://www.ncbi.nlm.nih.gov/pmc/articles/PMC5977628/\n",
    "\n",
    "\n",
    "Velupillai et al. Identifying Suicidal Adolescents From Mental Health Records Using Natural Language Processing\n",
    "Stud Health Technol Inform. 2019 Aug 21;264:413-417. doi: 10.3233/SHTI190254.\n",
    "\n",
    "https://pubmed.ncbi.nlm.nih.gov/31437956/\n"
   ]
  },
  {
   "cell_type": "markdown",
   "metadata": {},
   "source": [
    "We'll use pandas to save outputs"
   ]
  },
  {
   "cell_type": "code",
   "execution_count": 1,
   "metadata": {},
   "outputs": [],
   "source": [
    "import pandas as pd"
   ]
  },
  {
   "cell_type": "markdown",
   "metadata": {},
   "source": [
    "A key package for working with pattern matching and regular expressions is called 're', we need to import that too. "
   ]
  },
  {
   "cell_type": "code",
   "execution_count": 2,
   "metadata": {},
   "outputs": [],
   "source": [
    "import re"
   ]
  },
  {
   "cell_type": "markdown",
   "metadata": {},
   "source": [
    "We will use SpaCy again for tokenizing.\n",
    "\n",
    "spaCy: https://spacy.io/\n"
   ]
  },
  {
   "cell_type": "markdown",
   "metadata": {},
   "source": [
    "spaCy has a default language model for English that we will load into the variable 'nlp'"
   ]
  },
  {
   "cell_type": "code",
   "execution_count": 3,
   "metadata": {},
   "outputs": [],
   "source": [
    "try:\n",
    "    import spacy\n",
    "except ImportError as e:\n",
    "    !pip install spacy\n",
    "    import spacy\n",
    "try:\n",
    "    nlp = spacy.load('en_core_web_sm')\n",
    "except Error as e:\n",
    "    !python -m spacy download en_core_web_sm\n",
    "    nlp = spacy.load('en_core_web_sm')\n",
    "    "
   ]
  },
  {
   "cell_type": "markdown",
   "metadata": {},
   "source": [
    "Let's define a function to extract words from sentences, and exclude punctuations"
   ]
  },
  {
   "cell_type": "code",
   "execution_count": 4,
   "metadata": {},
   "outputs": [],
   "source": [
    "import string\n",
    "def get_spacy_tokens(row):\n",
    "  return [str(token) for token in row if str(token) not in string.punctuation]"
   ]
  },
  {
   "cell_type": "markdown",
   "metadata": {},
   "source": [
    "Then we need a function to implement the NegEx algorithm, that returns a dataframe with each sentence, a list of target terms (if found) and if the sentence is negated or not (boolean)"
   ]
  },
  {
   "cell_type": "code",
   "execution_count": 5,
   "metadata": {},
   "outputs": [],
   "source": [
    "def simple_negex(doc, target_terms, negation_terms):\n",
    "    negated_sentences = []\n",
    "    for sentence in doc.sents:\n",
    "        words = get_spacy_tokens(sentence)\n",
    "        negated = False\n",
    "        ## find target terms\n",
    "        t_word = []\n",
    "        neg_word = []\n",
    "        for w in words:            \n",
    "            negated = False\n",
    "            for reg in target_terms:\n",
    "                r = re.compile(reg, flags=re.I)\n",
    "                if re.search(r, w):\n",
    "                    # target term found, save\n",
    "                    t_word.append(w)\n",
    "                    # look for negation in window +- 5 words\n",
    "                    start = words.index(w)-6\n",
    "                    if start<0:\n",
    "                        start=0\n",
    "                    for ww in words[start:words.index(w)]:\n",
    "                        if ww in negation_terms:\n",
    "                            negated = True\n",
    "                            break\n",
    "                    end = words.index(w)+6\n",
    "                    if end > len(words):\n",
    "                        end = len(words)\n",
    "                    for ww in words[words.index(w):end+1]:\n",
    "                        if ww in negation_terms:\n",
    "                            negated = True\n",
    "                            break\n",
    "            neg_word.append(negated)\n",
    "        if True in neg_word:\n",
    "            negated_sentences.append([str(sentence), t_word, True])\n",
    "        else:\n",
    "            negated_sentences.append([str(sentence), t_word, False])\n",
    "    df = pd.DataFrame(negated_sentences, columns=['sentence', 'target terms', 'negated'])\n",
    "    return df\n",
    "    "
   ]
  },
  {
   "cell_type": "markdown",
   "metadata": {},
   "source": [
    "Let's create a sample document, a list of target terms, and a list of negation terms"
   ]
  },
  {
   "cell_type": "code",
   "execution_count": 6,
   "metadata": {},
   "outputs": [],
   "source": [
    "\n",
    "text = \"The patient denies having suicidal thoughts. This was not an intentional overdose. She has been suicidal in the past. Suicidal ideation was not intentional.\"\n",
    "\n",
    "## we'll use spacy for tokenizing\n",
    "doc = nlp(text)\n",
    "\n",
    "## a simple list of target terms\n",
    "target_terms = ['suicid']\n",
    "\n",
    "## a simple list of negation terms\n",
    "negation_terms = ['no', 'not']\n",
    "\n",
    "negated_sentences = simple_negex(doc, target_terms, negation_terms)"
   ]
  },
  {
   "cell_type": "markdown",
   "metadata": {},
   "source": [
    "What results did we get?"
   ]
  },
  {
   "cell_type": "code",
   "execution_count": 7,
   "metadata": {},
   "outputs": [
    {
     "data": {
      "text/html": [
       "<div>\n",
       "<style scoped>\n",
       "    .dataframe tbody tr th:only-of-type {\n",
       "        vertical-align: middle;\n",
       "    }\n",
       "\n",
       "    .dataframe tbody tr th {\n",
       "        vertical-align: top;\n",
       "    }\n",
       "\n",
       "    .dataframe thead th {\n",
       "        text-align: right;\n",
       "    }\n",
       "</style>\n",
       "<table border=\"1\" class=\"dataframe\">\n",
       "  <thead>\n",
       "    <tr style=\"text-align: right;\">\n",
       "      <th></th>\n",
       "      <th>sentence</th>\n",
       "      <th>target terms</th>\n",
       "      <th>negated</th>\n",
       "    </tr>\n",
       "  </thead>\n",
       "  <tbody>\n",
       "    <tr>\n",
       "      <td>0</td>\n",
       "      <td>The patient denies having suicidal thoughts.</td>\n",
       "      <td>[suicidal]</td>\n",
       "      <td>False</td>\n",
       "    </tr>\n",
       "    <tr>\n",
       "      <td>1</td>\n",
       "      <td>This was not an intentional overdose.</td>\n",
       "      <td>[]</td>\n",
       "      <td>False</td>\n",
       "    </tr>\n",
       "    <tr>\n",
       "      <td>2</td>\n",
       "      <td>She has been suicidal in the past.</td>\n",
       "      <td>[suicidal]</td>\n",
       "      <td>False</td>\n",
       "    </tr>\n",
       "    <tr>\n",
       "      <td>3</td>\n",
       "      <td>Suicidal ideation was not intentional.</td>\n",
       "      <td>[Suicidal]</td>\n",
       "      <td>True</td>\n",
       "    </tr>\n",
       "  </tbody>\n",
       "</table>\n",
       "</div>"
      ],
      "text/plain": [
       "                                       sentence target terms  negated\n",
       "0  The patient denies having suicidal thoughts.   [suicidal]    False\n",
       "1         This was not an intentional overdose.           []    False\n",
       "2            She has been suicidal in the past.   [suicidal]    False\n",
       "3        Suicidal ideation was not intentional.   [Suicidal]     True"
      ]
     },
     "execution_count": 7,
     "metadata": {},
     "output_type": "execute_result"
    }
   ],
   "source": [
    "negated_sentences"
   ]
  },
  {
   "cell_type": "markdown",
   "metadata": {},
   "source": [
    "What do you think about these results? Are there any terms missing as targets? As negations? \n",
    "\n",
    "*Try adding new terms, changing sentences!*"
   ]
  },
  {
   "cell_type": "code",
   "execution_count": null,
   "metadata": {},
   "outputs": [],
   "source": []
  }
 ],
 "metadata": {
  "colab": {
   "name": "Intro NLP.ipynb",
   "provenance": [
    {
     "file_id": "1wEbXJp7Np8iSVXDMBjW6bzfkaK7f0GX6",
     "timestamp": 1560326827471
    }
   ],
   "version": "0.3.2"
  },
  "kernelspec": {
   "display_name": "Python [conda env:root] *",
   "language": "python",
   "name": "conda-root-py"
  },
  "language_info": {
   "codemirror_mode": {
    "name": "ipython",
    "version": 3
   },
   "file_extension": ".py",
   "mimetype": "text/x-python",
   "name": "python",
   "nbconvert_exporter": "python",
   "pygments_lexer": "ipython3",
   "version": "3.7.4"
  }
 },
 "nbformat": 4,
 "nbformat_minor": 1
}
