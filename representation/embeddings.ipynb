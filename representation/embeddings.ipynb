{
 "cells": [
  {
   "cell_type": "markdown",
   "metadata": {
    "colab_type": "text",
    "id": "0OjBWQtuFo0w"
   },
   "source": [
    "## Word embeddings\n",
    "*(Credit: Leon Derczynski, IT University of Copenhagen)*"
   ]
  },
  {
   "cell_type": "markdown",
   "metadata": {
    "colab_type": "text",
    "id": "jahAH9FcFo0z"
   },
   "source": [
    "Let's load some embeddings, and then use these to see which words are close to each other.\n",
    "We'll use the gensim package's word2vec implementation, and an nltk corpus. We also need to download punkt - an nltk tokeniser used by the movie_reviews corpus."
   ]
  },
  {
   "cell_type": "code",
   "execution_count": 0,
   "metadata": {
    "colab": {},
    "colab_type": "code",
    "id": "wNhihIEDFo00"
   },
   "outputs": [],
   "source": [
    "from gensim.models import Word2Vec\n",
    "from nltk.corpus import brown, movie_reviews\n",
    "\n",
    "import nltk\n",
    "nltk.download('brown')\n",
    "nltk.download('movie_reviews')\n",
    "nltk.download('punkt')"
   ]
  },
  {
   "cell_type": "markdown",
   "metadata": {
    "colab_type": "text",
    "id": "IL-pGzhdFo04"
   },
   "source": [
    "Let's generate word vectors over the Brown corpus text. We will have 20 dimensions, using a window of three for the context words in the skip-grams (e.g. c1, c2, w, c3, c4). This might be a little slow (maybe 1-2 minutes)."
   ]
  },
  {
   "cell_type": "code",
   "execution_count": 0,
   "metadata": {
    "colab": {},
    "colab_type": "code",
    "id": "sFlJ2Tz0Fo05"
   },
   "outputs": [],
   "source": [
    "# for the Brown corpus\n",
    "b = Word2Vec(brown.sents(), size=20, window=3, min_count=3)"
   ]
  },
  {
   "cell_type": "markdown",
   "metadata": {
    "colab_type": "text",
    "id": "dOpnc7g9Fo07"
   },
   "source": [
    "Now we have the vectors, we can see how good they are by measuring which words are similar to each other."
   ]
  },
  {
   "cell_type": "code",
   "execution_count": 0,
   "metadata": {
    "colab": {},
    "colab_type": "code",
    "id": "VQIw3mJvFo08"
   },
   "outputs": [],
   "source": [
    "b.most_similar('company', topn=5)"
   ]
  },
  {
   "cell_type": "markdown",
   "metadata": {
    "colab_type": "text",
    "id": "oBSdnlU4Fo1C"
   },
   "source": [
    "Not great, eh? Try altering the window and the dimension size, to see if you get better results."
   ]
  },
  {
   "cell_type": "markdown",
   "metadata": {
    "colab_type": "text",
    "id": "X0b2OJTOFo1D"
   },
   "source": [
    "Try also with the movie reviews results!"
   ]
  },
  {
   "cell_type": "code",
   "execution_count": 0,
   "metadata": {
    "colab": {},
    "colab_type": "code",
    "id": "ad2VWdpcFo1D"
   },
   "outputs": [],
   "source": [
    "# for the movie review corpus\n",
    "mr = Word2Vec(movie_reviews.sents(), size=20, window=5, min_count=3)"
   ]
  },
  {
   "cell_type": "code",
   "execution_count": 0,
   "metadata": {
    "colab": {},
    "colab_type": "code",
    "id": "01mNdhm8Fo1I"
   },
   "outputs": [],
   "source": [
    "mr.most_similar('love', topn=5)"
   ]
  },
  {
   "cell_type": "markdown",
   "metadata": {
    "colab_type": "text",
    "id": "eTYsddU5Fo1L"
   },
   "source": [
    "We can also do some arithmetic with the words. Let's try that classical result, king - man + woman."
   ]
  },
  {
   "cell_type": "code",
   "execution_count": 0,
   "metadata": {
    "colab": {},
    "colab_type": "code",
    "id": "rjrmbgvCFo1M"
   },
   "outputs": [],
   "source": [
    "b.most_similar(positive=['biggest', 'small'], negative=['big'], topn=5)"
   ]
  },
  {
   "cell_type": "markdown",
   "metadata": {
    "colab_type": "text",
    "id": "CyFNDhcJFo1Q"
   },
   "source": [
    "Not a perfect result with the default model! Why don't we try loading a bigger dataset, based on a bigger vocabulary. This should give better results. You'll need the GloVe embeddings for this. \n",
    "\n",
    "We will download this from a github repository. If you are running this on your own local computer (rather then Colaboratory) you can download from www.derczynski.com/glove.twitter.27B.25d.txt.bz2 to your machine. In this case, there is no need to run the next cell - just replace the file name in the cell after next with the path to your downloaded file."
   ]
  },
  {
   "cell_type": "code",
   "execution_count": 0,
   "metadata": {
    "colab": {},
    "colab_type": "code",
    "id": "yqhoHpJWFo1R"
   },
   "outputs": [],
   "source": [
    "!git clone --quiet https://github.com/KCL-Health-NLP/nlp_examples.git  \n",
    "from gensim.models.keyedvectors import KeyedVectors\n",
    "print(\"Done copying files\")"
   ]
  },
  {
   "cell_type": "markdown",
   "metadata": {
    "colab_type": "text",
    "id": "MrQFNE0oyYSU"
   },
   "source": [
    "Now let's load the model file. This might take a few minutes. If you are using a copy on your own local machine, change the file path below to that of your file."
   ]
  },
  {
   "cell_type": "code",
   "execution_count": 0,
   "metadata": {
    "colab": {},
    "colab_type": "code",
    "id": "C4qKmtOuypp6"
   },
   "outputs": [],
   "source": [
    "glove = KeyedVectors.load_word2vec_format(\"nlp_examples/representation/glove.twitter.27B.25d.txt.bz2\", binary=False)\n",
    "print(\"Done loading\")"
   ]
  },
  {
   "cell_type": "markdown",
   "metadata": {
    "colab_type": "text",
    "id": "26LIcnK9Fo1V"
   },
   "source": [
    "Now, try the above again. Can you find any cool word combinations? What differences are there in the datasets?\n",
    "\n",
    "Here are some ideas to try, substitute your own words in to these."
   ]
  },
  {
   "cell_type": "code",
   "execution_count": 0,
   "metadata": {
    "colab": {},
    "colab_type": "code",
    "id": "u0tsWpenFo1W"
   },
   "outputs": [],
   "source": [
    "glove.most_similar('meat', topn=5)"
   ]
  },
  {
   "cell_type": "code",
   "execution_count": 0,
   "metadata": {
    "colab": {},
    "colab_type": "code",
    "id": "iwhIzDHeFo1Z"
   },
   "outputs": [],
   "source": [
    "glove.most_similar(positive=['biggest', 'small'], negative=['big'], topn=5)"
   ]
  },
  {
   "cell_type": "code",
   "execution_count": 0,
   "metadata": {
    "colab": {},
    "colab_type": "code",
    "id": "vsnpDVSOFo1d"
   },
   "outputs": [],
   "source": [
    "glove.most_similar(positive=['woman', 'king'], negative=['man'])"
   ]
  },
  {
   "cell_type": "code",
   "execution_count": 0,
   "metadata": {
    "colab": {},
    "colab_type": "code",
    "id": "s9xvpKT2Fo1i"
   },
   "outputs": [],
   "source": [
    "glove.similarity('car', 'bike')"
   ]
  },
  {
   "cell_type": "code",
   "execution_count": 0,
   "metadata": {
    "colab": {},
    "colab_type": "code",
    "id": "wzUGyMgpFo1l"
   },
   "outputs": [],
   "source": [
    "glove.similarity('car', 'purple')"
   ]
  },
  {
   "cell_type": "code",
   "execution_count": 0,
   "metadata": {
    "colab": {},
    "colab_type": "code",
    "id": "wv_i2NIyFo1p"
   },
   "outputs": [],
   "source": [
    "glove.similarity('red', 'purple')"
   ]
  },
  {
   "cell_type": "code",
   "execution_count": 0,
   "metadata": {
    "colab": {},
    "colab_type": "code",
    "id": "fNyv2H2NFo1t"
   },
   "outputs": [],
   "source": [
    "glove.doesnt_match(\"breakfast cereal dinner lunch\".split())"
   ]
  },
  {
   "cell_type": "code",
   "execution_count": 0,
   "metadata": {
    "colab": {},
    "colab_type": "code",
    "id": "BPOmgAzXFo1x"
   },
   "outputs": [],
   "source": [
    "glove.doesnt_match(\"red green horse blue\".split())"
   ]
  },
  {
   "cell_type": "markdown",
   "metadata": {
    "colab_type": "text",
    "id": "I-vQBPAwadgI"
   },
   "source": [
    "What about ambiguous words? Can you think of any and try them? Past suggestions have been cancer, bank and play. Can you find any others, and explain what is going on? How does the embedding deal with ambiguity? What factors influence this?"
   ]
  },
  {
   "cell_type": "code",
   "execution_count": 0,
   "metadata": {
    "colab": {},
    "colab_type": "code",
    "id": "DE8jPa8Wa-xk"
   },
   "outputs": [],
   "source": [
    "glove.most_similar('word')"
   ]
  },
  {
   "cell_type": "markdown",
   "metadata": {
    "colab_type": "text",
    "id": "WMjn2ZIbXFqM"
   },
   "source": [
    "What do these embeddings look like? We will display embeddings for four words: two colour adjectives, and two action verbs. Each column is the enbedding for one word. We have printed to two decimal places, using Python string formatting. Can you spot any similarities and differences?"
   ]
  },
  {
   "cell_type": "code",
   "execution_count": 0,
   "metadata": {
    "colab": {},
    "colab_type": "code",
    "id": "KNf_9myuFo12"
   },
   "outputs": [],
   "source": [
    "print(\"   red      green             walk    run\\n\")\n",
    "for i in range(len(glove['red'])):\n",
    "  print(\"%8.2f%8.2f          %8.2f%8.2f\" % (glove['red'][i], glove['green'][i], glove['walk'][i], glove['run'][i]))"
   ]
  },
  {
   "cell_type": "markdown",
   "metadata": {
    "colab_type": "text",
    "id": "mjo-IFo5X-54"
   },
   "source": [
    "How do we use these embeddings in NLP? The usual way is to replace each occurence of a word with an embedding - it represents our word. The example below displays what we would pass to our algorithm for a sentence. We show one line for each word, with each value formatted to two decimal places again. The word is displayed at the start of the line for convenience only - this would not be passed to our algorithm."
   ]
  },
  {
   "cell_type": "code",
   "execution_count": 0,
   "metadata": {
    "colab": {},
    "colab_type": "code",
    "id": "2b-1ZJ9kP1uX"
   },
   "outputs": [],
   "source": [
    "sentence=[\"the\", \"quick\", \"brown\", \"fox\", \"jumped\", \"over\", \"the\", \"lazy\", \"dog\"]\n",
    "embeddings = []\n",
    "for i in sentence:\n",
    "  embeddings.append(glove[i])\n",
    "  \n",
    "for i, val in enumerate(embeddings):\n",
    "  print(sentence[i].ljust(10), ''.join(\"{:6.2f}\".format(x) for x in val))  \n",
    "  "
   ]
  }
 ],
 "metadata": {
  "colab": {
   "name": "8-embeddings.ipynb",
   "provenance": [],
   "version": "0.3.2"
  },
  "kernelspec": {
   "display_name": "Python 3",
   "language": "python",
   "name": "python3"
  },
  "language_info": {
   "codemirror_mode": {
    "name": "ipython",
    "version": 3
   },
   "file_extension": ".py",
   "mimetype": "text/x-python",
   "name": "python",
   "nbconvert_exporter": "python",
   "pygments_lexer": "ipython3",
   "version": "3.7.3"
  }
 },
 "nbformat": 4,
 "nbformat_minor": 1
}
