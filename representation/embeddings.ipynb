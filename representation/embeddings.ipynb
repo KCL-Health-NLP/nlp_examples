{
  "nbformat": 4,
  "nbformat_minor": 0,
  "metadata": {
    "colab": {
      "name": "8-embeddings.ipynb",
      "version": "0.3.2",
      "provenance": []
    },
    "language_info": {
      "codemirror_mode": {
        "name": "ipython",
        "version": 3
      },
      "file_extension": ".py",
      "mimetype": "text/x-python",
      "name": "python",
      "nbconvert_exporter": "python",
      "pygments_lexer": "ipython3",
      "version": "3.5.2"
    },
    "kernelspec": {
      "display_name": "Python 3",
      "language": "python",
      "name": "python3"
    }
  },
  "cells": [
    {
      "cell_type": "markdown",
      "metadata": {
        "id": "0OjBWQtuFo0w",
        "colab_type": "text"
      },
      "source": [
        "## Word embeddings\n",
        "*(Credit: Leon Derczynski, IT University of Copenhagen)*"
      ]
    },
    {
      "cell_type": "markdown",
      "metadata": {
        "id": "jahAH9FcFo0z",
        "colab_type": "text"
      },
      "source": [
        "Let's load some embeddings, and then use these to see which words are close to each other.\n",
        "We'll use the gensim package's word2vec implementation, and an nltk corpus. We also need to download punkt - an nltk tokeniser used by the movie_reviews corpus."
      ]
    },
    {
      "cell_type": "code",
      "metadata": {
        "id": "wNhihIEDFo00",
        "colab_type": "code",
        "colab": {}
      },
      "source": [
        "from gensim.models import Word2Vec\n",
        "from nltk.corpus import brown, movie_reviews\n",
        "\n",
        "import nltk\n",
        "nltk.download('brown')\n",
        "nltk.download('movie_reviews')\n",
        "nltk.download('punkt')"
      ],
      "execution_count": 0,
      "outputs": []
    },
    {
      "cell_type": "markdown",
      "metadata": {
        "id": "IL-pGzhdFo04",
        "colab_type": "text"
      },
      "source": [
        "Let's generate word vectors over the Brown corpus text. We will have 20 dimensions, using a window of three for the context words in the skip-grams (e.g. c1, c2, w, c3, c4). This might be a little slow (maybe 1-2 minutes)."
      ]
    },
    {
      "cell_type": "code",
      "metadata": {
        "id": "sFlJ2Tz0Fo05",
        "colab_type": "code",
        "colab": {}
      },
      "source": [
        "# for the Brown corpus\n",
        "b = Word2Vec(brown.sents(), size=20, window=3, min_count=3)"
      ],
      "execution_count": 0,
      "outputs": []
    },
    {
      "cell_type": "markdown",
      "metadata": {
        "id": "dOpnc7g9Fo07",
        "colab_type": "text"
      },
      "source": [
        "Now we have the vectors, we can see how good they are by measuring which words are similar to each other."
      ]
    },
    {
      "cell_type": "code",
      "metadata": {
        "id": "VQIw3mJvFo08",
        "colab_type": "code",
        "colab": {}
      },
      "source": [
        "b.most_similar('company', topn=5)"
      ],
      "execution_count": 0,
      "outputs": []
    },
    {
      "cell_type": "markdown",
      "metadata": {
        "id": "oBSdnlU4Fo1C",
        "colab_type": "text"
      },
      "source": [
        "Not great, eh? Try altering the window and the dimension size, to see if you get better results."
      ]
    },
    {
      "cell_type": "markdown",
      "metadata": {
        "id": "X0b2OJTOFo1D",
        "colab_type": "text"
      },
      "source": [
        "Try also with the movie reviews results!"
      ]
    },
    {
      "cell_type": "code",
      "metadata": {
        "id": "ad2VWdpcFo1D",
        "colab_type": "code",
        "colab": {}
      },
      "source": [
        "# for the movie review corpus\n",
        "mr = Word2Vec(movie_reviews.sents(), size=20, window=5, min_count=3)"
      ],
      "execution_count": 0,
      "outputs": []
    },
    {
      "cell_type": "code",
      "metadata": {
        "id": "01mNdhm8Fo1I",
        "colab_type": "code",
        "colab": {}
      },
      "source": [
        "mr.most_similar('love', topn=5)"
      ],
      "execution_count": 0,
      "outputs": []
    },
    {
      "cell_type": "markdown",
      "metadata": {
        "id": "eTYsddU5Fo1L",
        "colab_type": "text"
      },
      "source": [
        "We can also do some arithmetic with the words. Let's try that classical result, king - man + woman."
      ]
    },
    {
      "cell_type": "code",
      "metadata": {
        "id": "rjrmbgvCFo1M",
        "colab_type": "code",
        "colab": {}
      },
      "source": [
        "b.most_similar(positive=['biggest', 'small'], negative=['big'], topn=5)"
      ],
      "execution_count": 0,
      "outputs": []
    },
    {
      "cell_type": "markdown",
      "metadata": {
        "id": "CyFNDhcJFo1Q",
        "colab_type": "text"
      },
      "source": [
        "Not a perfect result with the default model! Why don't we try loading a bigger dataset, based on a bigger vocabulary. This should give better results. You'll need the GloVe embeddings for this. \n",
        "\n",
        "We will download this from a github repository. If you are running this on your own local computer (rather then Colaboratory) you can download from www.derczynski.com/glove.twitter.27B.25d.txt.bz2 to your machine. In this case, there is no need to run the next cell - just replace the file name in the cell after next with the path to your downloaded file."
      ]
    },
    {
      "cell_type": "code",
      "metadata": {
        "id": "yqhoHpJWFo1R",
        "colab_type": "code",
        "colab": {}
      },
      "source": [
        "!git clone --quiet https://github.com/KCL-Health-NLP/nlp_examples.git  \n",
        "from gensim.models.keyedvectors import KeyedVectors\n",
        "print(\"Done copying files\")"
      ],
      "execution_count": 0,
      "outputs": []
    },
    {
      "cell_type": "markdown",
      "metadata": {
        "id": "MrQFNE0oyYSU",
        "colab_type": "text"
      },
      "source": [
        "Now let's load the model file. This might take a few minutes. If you are using a copy on your own local machine, change the file path below to that of your file."
      ]
    },
    {
      "cell_type": "code",
      "metadata": {
        "id": "C4qKmtOuypp6",
        "colab_type": "code",
        "colab": {}
      },
      "source": [
        "glove = KeyedVectors.load_word2vec_format(\"nlp_examples/representation/glove.twitter.27B.25d.txt.bz2\", binary=False)\n",
        "print(\"Done loading\")"
      ],
      "execution_count": 0,
      "outputs": []
    },
    {
      "cell_type": "markdown",
      "metadata": {
        "id": "26LIcnK9Fo1V",
        "colab_type": "text"
      },
      "source": [
        "Now, try the above again. Can you find any cool word combinations? What differences are there in the datasets?\n",
        "\n",
        "Here are some ideas to try, substitute your own words in to these."
      ]
    },
    {
      "cell_type": "code",
      "metadata": {
        "id": "u0tsWpenFo1W",
        "colab_type": "code",
        "colab": {}
      },
      "source": [
        "glove.most_similar('meat', topn=5)"
      ],
      "execution_count": 0,
      "outputs": []
    },
    {
      "cell_type": "code",
      "metadata": {
        "id": "iwhIzDHeFo1Z",
        "colab_type": "code",
        "colab": {}
      },
      "source": [
        "glove.most_similar(positive=['biggest', 'small'], negative=['big'], topn=5)"
      ],
      "execution_count": 0,
      "outputs": []
    },
    {
      "cell_type": "code",
      "metadata": {
        "id": "vsnpDVSOFo1d",
        "colab_type": "code",
        "colab": {}
      },
      "source": [
        "glove.most_similar(positive=['woman', 'king'], negative=['man'])"
      ],
      "execution_count": 0,
      "outputs": []
    },
    {
      "cell_type": "code",
      "metadata": {
        "id": "s9xvpKT2Fo1i",
        "colab_type": "code",
        "colab": {}
      },
      "source": [
        "glove.similarity('car', 'bike')"
      ],
      "execution_count": 0,
      "outputs": []
    },
    {
      "cell_type": "code",
      "metadata": {
        "id": "wzUGyMgpFo1l",
        "colab_type": "code",
        "colab": {}
      },
      "source": [
        "glove.similarity('car', 'purple')"
      ],
      "execution_count": 0,
      "outputs": []
    },
    {
      "cell_type": "code",
      "metadata": {
        "id": "wv_i2NIyFo1p",
        "colab_type": "code",
        "colab": {}
      },
      "source": [
        "glove.similarity('red', 'purple')"
      ],
      "execution_count": 0,
      "outputs": []
    },
    {
      "cell_type": "code",
      "metadata": {
        "id": "fNyv2H2NFo1t",
        "colab_type": "code",
        "colab": {}
      },
      "source": [
        "glove.doesnt_match(\"breakfast cereal dinner lunch\".split())"
      ],
      "execution_count": 0,
      "outputs": []
    },
    {
      "cell_type": "code",
      "metadata": {
        "id": "BPOmgAzXFo1x",
        "colab_type": "code",
        "colab": {}
      },
      "source": [
        "glove.doesnt_match(\"red green horse blue\".split())"
      ],
      "execution_count": 0,
      "outputs": []
    },
    {
      "cell_type": "markdown",
      "metadata": {
        "id": "I-vQBPAwadgI",
        "colab_type": "text"
      },
      "source": [
        "What about ambiguous words? Can you think of any and try them? Past suggestions have been cancer, bank and play. Can you find any others, and explain what is going on? How does the embedding deal with ambiguity? What factors influence this?"
      ]
    },
    {
      "cell_type": "code",
      "metadata": {
        "id": "DE8jPa8Wa-xk",
        "colab_type": "code",
        "colab": {}
      },
      "source": [
        "glove.most_similar('word')"
      ],
      "execution_count": 0,
      "outputs": []
    },
    {
      "cell_type": "markdown",
      "metadata": {
        "id": "WMjn2ZIbXFqM",
        "colab_type": "text"
      },
      "source": [
        "What do these embeddings look like? We will display embeddings for four words: two colour adjectives, and two action verbs. Each column is the enbedding for one word. We have printed to two decimal places, using Python string formatting. Can you spot any similarities and differences?"
      ]
    },
    {
      "cell_type": "code",
      "metadata": {
        "id": "KNf_9myuFo12",
        "colab_type": "code",
        "colab": {}
      },
      "source": [
        "print(\"   red      green             walk    run\\n\")\n",
        "for i in range(len(glove['red'])):\n",
        "  print(\"%8.2f%8.2f          %8.2f%8.2f\" % (glove['red'][i], glove['green'][i], glove['walk'][i], glove['run'][i]))"
      ],
      "execution_count": 0,
      "outputs": []
    },
    {
      "cell_type": "markdown",
      "metadata": {
        "id": "mjo-IFo5X-54",
        "colab_type": "text"
      },
      "source": [
        "How do we use these embeddings in NLP? The usual way is to replace each occurence of a word with an embedding - it represents our word. The example below displays what we would pass to our algorithm for a sentence. We show one line for each word, with each value formatted to two decimal places again. The word is displayed at the start of the line for convenience only - this would not be passed to our algorithm."
      ]
    },
    {
      "cell_type": "code",
      "metadata": {
        "id": "2b-1ZJ9kP1uX",
        "colab_type": "code",
        "colab": {}
      },
      "source": [
        "sentence=[\"the\", \"quick\", \"brown\", \"fox\", \"jumped\", \"over\", \"the\", \"lazy\", \"dog\"]\n",
        "embeddings = []\n",
        "for i in sentence:\n",
        "  embeddings.append(glove[i])\n",
        "  \n",
        "for i, val in enumerate(embeddings):\n",
        "  print(sentence[i].ljust(10), ''.join(\"{:6.2f}\".format(x) for x in val))  \n",
        "  "
      ],
      "execution_count": 0,
      "outputs": []
    }
  ]
}