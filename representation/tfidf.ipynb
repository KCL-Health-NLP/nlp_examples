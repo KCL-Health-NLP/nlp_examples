{
  "nbformat": 4,
  "nbformat_minor": 0,
  "metadata": {
    "colab": {
      "name": "tfidf.ipynb",
      "version": "0.3.2",
      "provenance": [],
      "collapsed_sections": []
    },
    "kernelspec": {
      "name": "python3",
      "display_name": "Python 3"
    }
  },
  "cells": [
    {
      "cell_type": "code",
      "metadata": {
        "id": "E5RD07qtdIMZ",
        "colab_type": "code",
        "colab": {}
      },
      "source": [
        ""
      ],
      "execution_count": 0,
      "outputs": []
    },
    {
      "cell_type": "markdown",
      "metadata": {
        "id": "opW3IYevdSPH",
        "colab_type": "text"
      },
      "source": [
        "With acknowledgement to Mayank Tripathi https://github.com/mayank408"
      ]
    },
    {
      "cell_type": "code",
      "metadata": {
        "id": "IO63wordf-EM",
        "colab_type": "code",
        "colab": {}
      },
      "source": [
        "import string\n",
        "import pprint\n",
        "\n",
        "import pandas as pd\n",
        "\n"
      ],
      "execution_count": 0,
      "outputs": []
    },
    {
      "cell_type": "code",
      "metadata": {
        "id": "lrVUGUlSdYXT",
        "colab_type": "code",
        "colab": {}
      },
      "source": [
        "documents = ['Klonopin 0.25 mg po every evening, Fluconazole 200 mg po daily, Synthroid 125 mcg po every day',\n",
        "             'she will not consider switching to clozapine',\n",
        "             'lovastatin 40 mg one half tab po daily, multivitamin daily, metformin 500 mg one tab po twice a day',\n",
        "             'Aspirin 81 mg po once daily, Zoloft 25 mg po once daily, Calcium with vitamin D two tablets po once daily']\n"
      ],
      "execution_count": 0,
      "outputs": []
    },
    {
      "cell_type": "code",
      "metadata": {
        "id": "qLVLgHlCfyFN",
        "colab_type": "code",
        "colab": {}
      },
      "source": [
        "normalised_documents = []\n",
        "for i in documents:\n",
        "    no_punctuation = ''.join(c for c in i if c not in string.punctuation)\n",
        "    normalised_documents.append(no_punctuation.lower())\n",
        "    \n",
        "for i in normalised_documents:\n",
        "  print(i)"
      ],
      "execution_count": 0,
      "outputs": []
    },
    {
      "cell_type": "code",
      "metadata": {
        "id": "jT5GUoqdfzW2",
        "colab_type": "code",
        "colab": {}
      },
      "source": [
        "bows = []\n",
        "for i in normalised_documents:\n",
        "    bows.append(i.split(' '))\n",
        "\n",
        "print(bows)"
      ],
      "execution_count": 0,
      "outputs": []
    },
    {
      "cell_type": "code",
      "metadata": {
        "id": "6-xP7G2hgJ7n",
        "colab_type": "code",
        "colab": {}
      },
      "source": [
        "word_set = set()\n",
        "for i in bows:\n",
        "  word_set = word_set.union(set(i))\n",
        "print(word_set)"
      ],
      "execution_count": 0,
      "outputs": []
    },
    {
      "cell_type": "markdown",
      "metadata": {
        "id": "R-0xW8NyhDpY",
        "colab_type": "text"
      },
      "source": [
        ""
      ]
    },
    {
      "cell_type": "code",
      "metadata": {
        "id": "RJ_E4ShfhD-Z",
        "colab_type": "code",
        "colab": {}
      },
      "source": [
        "wordCounts = []\n",
        "for i in bows:\n",
        "  thisWordCount = dict.fromkeys(word_set, 0)\n",
        "  for word in i:\n",
        "    thisWordCount[word]+=1\n",
        "  wordCounts.append(thisWordCount)\n",
        " "
      ],
      "execution_count": 0,
      "outputs": []
    },
    {
      "cell_type": "code",
      "metadata": {
        "id": "5DaLrGoKixcL",
        "colab_type": "code",
        "colab": {}
      },
      "source": [
        ""
      ],
      "execution_count": 0,
      "outputs": []
    },
    {
      "cell_type": "markdown",
      "metadata": {
        "id": "xUUrSFi4iw9F",
        "colab_type": "text"
      },
      "source": [
        ""
      ]
    },
    {
      "cell_type": "code",
      "metadata": {
        "id": "6a_S6GaOjCuo",
        "colab_type": "code",
        "colab": {}
      },
      "source": [
        "pd.DataFrame(wordCounts)"
      ],
      "execution_count": 0,
      "outputs": []
    },
    {
      "cell_type": "markdown",
      "metadata": {
        "id": "NNNNFp1vjQ9P",
        "colab_type": "text"
      },
      "source": [
        ""
      ]
    },
    {
      "cell_type": "code",
      "metadata": {
        "id": "-zV64MVnjRc4",
        "colab_type": "code",
        "colab": {}
      },
      "source": [
        "def computeTF(wordCount, bow):\n",
        "    tfDict = {}\n",
        "    bowCount = len(bow)\n",
        "    for word, count in wordCount.items():\n",
        "        tfDict[word] = count/float(bowCount)\n",
        "    return tfDict"
      ],
      "execution_count": 0,
      "outputs": []
    },
    {
      "cell_type": "markdown",
      "metadata": {
        "id": "Zvu_e1kfjThC",
        "colab_type": "text"
      },
      "source": [
        ""
      ]
    },
    {
      "cell_type": "code",
      "metadata": {
        "id": "p3Ip44KXjT6w",
        "colab_type": "code",
        "colab": {}
      },
      "source": [
        "termFreqs = []\n",
        "for i in range(0,len(bows)): \n",
        "  termFreqs.append(computeTF(wordCounts[i],bows[i]))\n",
        "\n",
        "pd.DataFrame(termFreqs) "
      ],
      "execution_count": 0,
      "outputs": []
    },
    {
      "cell_type": "markdown",
      "metadata": {
        "id": "29ooQaFts7FC",
        "colab_type": "text"
      },
      "source": [
        ""
      ]
    },
    {
      "cell_type": "code",
      "metadata": {
        "id": "M-Htg6sss7Wh",
        "colab_type": "code",
        "colab": {}
      },
      "source": [
        "def computeIDF(docList):\n",
        "    import math\n",
        "    idfDict = {}\n",
        "    N = len(docList)\n",
        "    \n",
        "    idfDict = dict.fromkeys(docList[0].keys(), 0)\n",
        "    for doc in docList:\n",
        "        for word, val in doc.items():\n",
        "            if val > 0:\n",
        "                idfDict[word] += 1\n",
        "    \n",
        "    for word, val in idfDict.items():\n",
        "        idfDict[word] = math.log10(N / float(val))\n",
        "        \n",
        "    return idfDict"
      ],
      "execution_count": 0,
      "outputs": []
    },
    {
      "cell_type": "markdown",
      "metadata": {
        "id": "GObZQfcxs9Ip",
        "colab_type": "text"
      },
      "source": [
        ""
      ]
    },
    {
      "cell_type": "code",
      "metadata": {
        "id": "anbbuwGSs9re",
        "colab_type": "code",
        "colab": {}
      },
      "source": [
        "idfs = computeIDF(wordCounts)\n",
        "pp.pprint(idfs)"
      ],
      "execution_count": 0,
      "outputs": []
    },
    {
      "cell_type": "markdown",
      "metadata": {
        "id": "Kx_lMfqg4heF",
        "colab_type": "text"
      },
      "source": [
        ""
      ]
    },
    {
      "cell_type": "code",
      "metadata": {
        "id": "OmQ0Vc_t4iGZ",
        "colab_type": "code",
        "colab": {}
      },
      "source": [
        "def computeTFIDF(tfBow, idfs):\n",
        "    tfidf = {}\n",
        "    for word, val in tfBow.items():\n",
        "        tfidf[word] = val*idfs[word]\n",
        "    return tfidf"
      ],
      "execution_count": 0,
      "outputs": []
    },
    {
      "cell_type": "markdown",
      "metadata": {
        "id": "zIakOU0o4rJx",
        "colab_type": "text"
      },
      "source": [
        ""
      ]
    },
    {
      "cell_type": "code",
      "metadata": {
        "id": "YKwEFIRb4rvy",
        "colab_type": "code",
        "colab": {}
      },
      "source": [
        "tfidfs = []\n",
        "for i in termFreqs:\n",
        "  tfidfs.append(computeTFIDF(i, idfs))\n",
        "  \n",
        "\n",
        "  \n",
        "pd.DataFrame(tfidfs)\n"
      ],
      "execution_count": 0,
      "outputs": []
    },
    {
      "cell_type": "markdown",
      "metadata": {
        "id": "1QH3pqWI8IU3",
        "colab_type": "text"
      },
      "source": [
        ""
      ]
    },
    {
      "cell_type": "code",
      "metadata": {
        "id": "7_b7x7kv8Iyk",
        "colab_type": "code",
        "colab": {}
      },
      "source": [
        "pd.DataFrame(termFreqs)"
      ],
      "execution_count": 0,
      "outputs": []
    },
    {
      "cell_type": "code",
      "metadata": {
        "id": "q9iSIllZ-wSZ",
        "colab_type": "code",
        "colab": {}
      },
      "source": [
        ""
      ],
      "execution_count": 0,
      "outputs": []
    }
  ]
}