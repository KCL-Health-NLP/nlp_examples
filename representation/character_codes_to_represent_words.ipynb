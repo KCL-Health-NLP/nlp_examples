{
  "nbformat": 4,
  "nbformat_minor": 0,
  "metadata": {
    "colab": {
      "private_outputs": true,
      "provenance": [],
      "authorship_tag": "ABX9TyOLBfNfXkDyAAZ2m02aACe9",
      "include_colab_link": true
    },
    "kernelspec": {
      "name": "python3",
      "display_name": "Python 3"
    },
    "language_info": {
      "name": "python"
    }
  },
  "cells": [
    {
      "cell_type": "markdown",
      "metadata": {
        "id": "view-in-github",
        "colab_type": "text"
      },
      "source": [
        "<a href=\"https://colab.research.google.com/github/KCL-Health-NLP/nlp_examples/blob/master/representation/character_codes_to_represent_words.ipynb\" target=\"_parent\"><img src=\"https://colab.research.google.com/assets/colab-badge.svg\" alt=\"Open In Colab\"/></a>"
      ]
    },
    {
      "cell_type": "markdown",
      "source": [
        "# Encoding words - what about an encoding based on character codes?"
      ],
      "metadata": {
        "id": "nBtAhxy7zwxk"
      }
    },
    {
      "cell_type": "code",
      "execution_count": null,
      "metadata": {
        "id": "00Gi0qnRlYyV"
      },
      "outputs": [],
      "source": [
        "vocab = ['cat', 'dog', 'cap', 'hat']\n",
        "encoded = [[ord(c) for c in s] for s in vocab]\n",
        "print(encoded)"
      ]
    },
    {
      "cell_type": "code",
      "source": [
        "rotated = list(zip(*encoded))\n",
        "print(rotated)"
      ],
      "metadata": {
        "id": "5E1wkpSpqP3B"
      },
      "execution_count": null,
      "outputs": []
    },
    {
      "cell_type": "code",
      "source": [
        "import matplotlib.pyplot as plt\n",
        "from mpl_toolkits.mplot3d import Axes3D\n",
        "fig = plt.figure()\n",
        "ax = fig.add_subplot(1,1,1, projection='3d')\n",
        "z,x,y = tuple(rotated)\n",
        "ax.scatter(list(x), list(y), list(z), zdir='z', c= ['red','red','blue','blue'])\n",
        "\n",
        "for i, txt in enumerate(vocab):\n",
        "    ax.text(x[i], y[i], z[i], txt)"
      ],
      "metadata": {
        "id": "NYffJ7-5nnk9"
      },
      "execution_count": null,
      "outputs": []
    },
    {
      "cell_type": "markdown",
      "source": [
        "* Is there a relationship between words with similar meanings?\n",
        "* What about verbs tenses, proper nouns, medical words?"
      ],
      "metadata": {
        "id": "p9GxR6dj0G4P"
      }
    },
    {
      "cell_type": "markdown",
      "source": [],
      "metadata": {
        "id": "cEte2eKmzo_E"
      }
    }
  ]
}