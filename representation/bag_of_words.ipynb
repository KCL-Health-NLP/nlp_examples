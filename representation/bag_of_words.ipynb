{
  "nbformat": 4,
  "nbformat_minor": 0,
  "metadata": {
    "colab": {
      "name": "bag-of-words.ipynb",
      "version": "0.3.2",
      "provenance": [],
      "collapsed_sections": []
    },
    "kernelspec": {
      "name": "python3",
      "display_name": "Python 3"
    }
  },
  "cells": [
    {
      "cell_type": "markdown",
      "metadata": {
        "id": "EpbT5yTXIFaT",
        "colab_type": "text"
      },
      "source": [
        "# Bag of Words - BoW\n",
        "\n",
        "With acknowledgements to Rahul Vasaikar https://github.com/rahulvasaikar\n",
        "\n",
        "This notebook builds a simple bag of words model from first principles. We will then see how you can use the SciKitLearn module to build BoW models, and visualises it along a small number of axes.\n",
        "\n"
      ]
    },
    {
      "cell_type": "markdown",
      "metadata": {
        "id": "XbSrdIgm1tsR",
        "colab_type": "text"
      },
      "source": [
        "Firsrt, we will import some useful modules for handling strings and collections, and also SciKit and pandas for our second version of BoW."
      ]
    },
    {
      "cell_type": "code",
      "metadata": {
        "id": "7ESh_zb_I6gG",
        "colab_type": "code",
        "colab": {}
      },
      "source": [
        "# Import some useful modules, to implement a Bag of Words from scratch\n",
        "import string\n",
        "import pprint\n",
        "from collections import Counter\n",
        "\n",
        "# Modules we will use to implement another version of Bag of Words with SciKitLearn\n",
        "import pandas as pd\n",
        "from sklearn.feature_extraction.text import CountVectorizer\n"
      ],
      "execution_count": 0,
      "outputs": []
    },
    {
      "cell_type": "markdown",
      "metadata": {
        "id": "KM3Wy36C1rM9",
        "colab_type": "text"
      },
      "source": [
        "Let's make some simple documents, in a list."
      ]
    },
    {
      "cell_type": "code",
      "metadata": {
        "id": "QDPxrbJ5IQF_",
        "colab_type": "code",
        "colab": {}
      },
      "source": [
        "documents = ['Klonopin 0.25 mg po every evening, Fluconazole 200 mg po daily, Synthroid 125 mcg po every day',\n",
        "             'She will not consider switching to clozapine',\n",
        "             'lovastatin 40 mg one half tab po daily, multivitamin daily, metformin 500 mg one tab po twice a day',\n",
        "             'Aspirin 81 mg po once daily, Zoloft 25 mg po once daily, Calcium with vitamin D two tablets po once daily']\n",
        "\n"
      ],
      "execution_count": 0,
      "outputs": []
    },
    {
      "cell_type": "markdown",
      "metadata": {
        "id": "_cFYwj4YKZZw",
        "colab_type": "text"
      },
      "source": [
        "Let's \"normalise\" our documents, to remove punctuation and case differences. We could do more here - what NLP techniques might you apply to iron out differences between similar words?"
      ]
    },
    {
      "cell_type": "code",
      "metadata": {
        "id": "UDN7LUW4I0fU",
        "colab_type": "code",
        "colab": {
          "base_uri": "https://localhost:8080/",
          "height": 84
        },
        "outputId": "ed35a162-cff2-4080-aea4-d73269aca66f"
      },
      "source": [
        "normalised_documents = []\n",
        "for i in documents:\n",
        "    no_punctuation = ''.join(c for c in i if c not in string.punctuation)\n",
        "    normalised_documents.append(no_punctuation.lower())\n",
        "    \n",
        "for i in normalised_documents:\n",
        "  print(i)"
      ],
      "execution_count": 3,
      "outputs": [
        {
          "output_type": "stream",
          "text": [
            "klonopin 025 mg po every evening fluconazole 200 mg po daily synthroid 125 mcg po every day\n",
            "she will not consider switching to clozapine\n",
            "lovastatin 40 mg one half tab po daily multivitamin daily metformin 500 mg one tab po twice a day\n",
            "aspirin 81 mg po once daily zoloft 25 mg po once daily calcium with vitamin d two tablets po once daily\n"
          ],
          "name": "stdout"
        }
      ]
    },
    {
      "cell_type": "markdown",
      "metadata": {
        "id": "fJ0G2cipMJfC",
        "colab_type": "text"
      },
      "source": [
        "Now let's split them up in to tokens, by splitting at whitespace. We could use a tokeniser for this, e.g. from nltk. Why might this be better?"
      ]
    },
    {
      "cell_type": "code",
      "metadata": {
        "id": "AWDc2C7TMRVW",
        "colab_type": "code",
        "colab": {
          "base_uri": "https://localhost:8080/",
          "height": 104
        },
        "outputId": "e944208b-47b5-4f87-dddc-72a7ca78c598"
      },
      "source": [
        "tokenised_documents = []\n",
        "for i in normalised_documents:\n",
        "    tokenised_documents.append(i.split(' '))\n",
        "\n",
        "for i in tokenised_documents:\n",
        "  print(i)"
      ],
      "execution_count": 4,
      "outputs": [
        {
          "output_type": "stream",
          "text": [
            "['klonopin', '025', 'mg', 'po', 'every', 'evening', 'fluconazole', '200', 'mg', 'po', 'daily', 'synthroid', '125', 'mcg', 'po', 'every', 'day']\n",
            "['she', 'will', 'not', 'consider', 'switching', 'to', 'clozapine']\n",
            "['lovastatin', '40', 'mg', 'one', 'half', 'tab', 'po', 'daily', 'multivitamin', 'daily', 'metformin', '500', 'mg', 'one', 'tab', 'po', 'twice', 'a', 'day']\n",
            "['aspirin', '81', 'mg', 'po', 'once', 'daily', 'zoloft', '25', 'mg', 'po', 'once', 'daily', 'calcium', 'with', 'vitamin', 'd', 'two', 'tablets', 'po', 'once', 'daily']\n"
          ],
          "name": "stdout"
        }
      ]
    },
    {
      "cell_type": "markdown",
      "metadata": {
        "id": "ps4vk10rMxAa",
        "colab_type": "text"
      },
      "source": [
        "Let's  find the frequency of each unique token in our documents, i.e. the Bag of Words - BoW."
      ]
    },
    {
      "cell_type": "code",
      "metadata": {
        "id": "e7x6ICnINGEr",
        "colab_type": "code",
        "colab": {
          "base_uri": "https://localhost:8080/",
          "height": 104
        },
        "outputId": "1c41b396-7c0c-43da-f4b0-5d7c096dbdc1"
      },
      "source": [
        "frequency_list = []\n",
        "import pprint\n",
        "from collections import Counter\n",
        "\n",
        "for i in tokenised_documents:\n",
        "    frequency_list.append(Counter(i))\n",
        "\n",
        "pp = pprint.PrettyPrinter(width=200)\n",
        "pp.pprint(frequency_list)"
      ],
      "execution_count": 5,
      "outputs": [
        {
          "output_type": "stream",
          "text": [
            "[Counter({'po': 3, 'mg': 2, 'every': 2, 'klonopin': 1, '025': 1, 'evening': 1, 'fluconazole': 1, '200': 1, 'daily': 1, 'synthroid': 1, '125': 1, 'mcg': 1, 'day': 1}),\n",
            " Counter({'she': 1, 'will': 1, 'not': 1, 'consider': 1, 'switching': 1, 'to': 1, 'clozapine': 1}),\n",
            " Counter({'mg': 2, 'one': 2, 'tab': 2, 'po': 2, 'daily': 2, 'lovastatin': 1, '40': 1, 'half': 1, 'multivitamin': 1, 'metformin': 1, '500': 1, 'twice': 1, 'a': 1, 'day': 1}),\n",
            " Counter({'po': 3, 'once': 3, 'daily': 3, 'mg': 2, 'aspirin': 1, '81': 1, 'zoloft': 1, '25': 1, 'calcium': 1, 'with': 1, 'vitamin': 1, 'd': 1, 'two': 1, 'tablets': 1})]\n"
          ],
          "name": "stdout"
        }
      ]
    },
    {
      "cell_type": "markdown",
      "metadata": {
        "id": "cdLrH4iCQqZC",
        "colab_type": "text"
      },
      "source": [
        "Now let's do the same with SciKitLearn, using the CountVectorizer class\n",
        ". We define a token pattern that excludes numbers, and we also remove english stopwords."
      ]
    },
    {
      "cell_type": "code",
      "metadata": {
        "id": "CFrooygARcsZ",
        "colab_type": "code",
        "colab": {}
      },
      "source": [
        "count_vector = CountVectorizer(input=documents, token_pattern=r'\\b[^\\d\\W]+\\b', stop_words = 'english')"
      ],
      "execution_count": 0,
      "outputs": []
    },
    {
      "cell_type": "markdown",
      "metadata": {
        "id": "9yhT9wkgRxPP",
        "colab_type": "text"
      },
      "source": [
        "Now let's run our vectorizer, to make the bag of words. We will print our token features. Note how all punctuation has been removed by default. \n"
      ]
    },
    {
      "cell_type": "code",
      "metadata": {
        "id": "mKUlfKf1UDtV",
        "colab_type": "code",
        "colab": {
          "base_uri": "https://localhost:8080/",
          "height": 420
        },
        "outputId": "1fe1c8d9-33e0-4de9-a700-a7f5b1d16d21"
      },
      "source": [
        "count_vector.fit(documents)\n",
        "count_vector.get_feature_names()"
      ],
      "execution_count": 7,
      "outputs": [
        {
          "output_type": "execute_result",
          "data": {
            "text/plain": [
              "['aspirin',\n",
              " 'calcium',\n",
              " 'clozapine',\n",
              " 'consider',\n",
              " 'd',\n",
              " 'daily',\n",
              " 'day',\n",
              " 'evening',\n",
              " 'fluconazole',\n",
              " 'half',\n",
              " 'klonopin',\n",
              " 'lovastatin',\n",
              " 'mcg',\n",
              " 'metformin',\n",
              " 'mg',\n",
              " 'multivitamin',\n",
              " 'po',\n",
              " 'switching',\n",
              " 'synthroid',\n",
              " 'tab',\n",
              " 'tablets',\n",
              " 'twice',\n",
              " 'vitamin',\n",
              " 'zoloft']"
            ]
          },
          "metadata": {
            "tags": []
          },
          "execution_count": 7
        }
      ]
    },
    {
      "cell_type": "markdown",
      "metadata": {
        "id": "0S18RaPkVs7q",
        "colab_type": "text"
      },
      "source": [
        "Let's transform our  documents in to count vectors and take a look:"
      ]
    },
    {
      "cell_type": "code",
      "metadata": {
        "id": "equrYFb_VtSH",
        "colab_type": "code",
        "colab": {
          "base_uri": "https://localhost:8080/",
          "height": 84
        },
        "outputId": "9ae20298-419c-48c8-a0d8-e25489c7ef51"
      },
      "source": [
        "doc_array = count_vector.transform(documents).toarray()\n",
        "print(doc_array)"
      ],
      "execution_count": 8,
      "outputs": [
        {
          "output_type": "stream",
          "text": [
            "[[0 0 0 0 0 1 1 1 1 0 1 0 1 0 2 0 3 0 1 0 0 0 0 0]\n",
            " [0 0 1 1 0 0 0 0 0 0 0 0 0 0 0 0 0 1 0 0 0 0 0 0]\n",
            " [0 0 0 0 0 2 1 0 0 1 0 1 0 1 2 1 2 0 0 2 0 1 0 0]\n",
            " [1 1 0 0 1 3 0 0 0 0 0 0 0 0 2 0 3 0 0 0 1 0 1 1]]\n"
          ],
          "name": "stdout"
        }
      ]
    },
    {
      "cell_type": "markdown",
      "metadata": {
        "id": "mBYfGwX9V7vc",
        "colab_type": "text"
      },
      "source": [
        "And looking at how this encodes each document against the word dimensions: "
      ]
    },
    {
      "cell_type": "code",
      "metadata": {
        "id": "4N6WD7ulV8Cs",
        "colab_type": "code",
        "colab": {
          "base_uri": "https://localhost:8080/",
          "height": 690
        },
        "outputId": "01aeda21-4142-49e3-85c8-469072836a6e"
      },
      "source": [
        "frequency_matrix = pd.DataFrame(doc_array,index=documents,columns=count_vector.get_feature_names())\n",
        "frequency_matrix"
      ],
      "execution_count": 9,
      "outputs": [
        {
          "output_type": "execute_result",
          "data": {
            "text/html": [
              "<div>\n",
              "<style scoped>\n",
              "    .dataframe tbody tr th:only-of-type {\n",
              "        vertical-align: middle;\n",
              "    }\n",
              "\n",
              "    .dataframe tbody tr th {\n",
              "        vertical-align: top;\n",
              "    }\n",
              "\n",
              "    .dataframe thead th {\n",
              "        text-align: right;\n",
              "    }\n",
              "</style>\n",
              "<table border=\"1\" class=\"dataframe\">\n",
              "  <thead>\n",
              "    <tr style=\"text-align: right;\">\n",
              "      <th></th>\n",
              "      <th>aspirin</th>\n",
              "      <th>calcium</th>\n",
              "      <th>clozapine</th>\n",
              "      <th>consider</th>\n",
              "      <th>d</th>\n",
              "      <th>daily</th>\n",
              "      <th>day</th>\n",
              "      <th>evening</th>\n",
              "      <th>fluconazole</th>\n",
              "      <th>half</th>\n",
              "      <th>klonopin</th>\n",
              "      <th>lovastatin</th>\n",
              "      <th>mcg</th>\n",
              "      <th>metformin</th>\n",
              "      <th>mg</th>\n",
              "      <th>multivitamin</th>\n",
              "      <th>po</th>\n",
              "      <th>switching</th>\n",
              "      <th>synthroid</th>\n",
              "      <th>tab</th>\n",
              "      <th>tablets</th>\n",
              "      <th>twice</th>\n",
              "      <th>vitamin</th>\n",
              "      <th>zoloft</th>\n",
              "    </tr>\n",
              "  </thead>\n",
              "  <tbody>\n",
              "    <tr>\n",
              "      <th>Klonopin 0.25 mg po every evening, Fluconazole 200 mg po daily, Synthroid 125 mcg po every day</th>\n",
              "      <td>0</td>\n",
              "      <td>0</td>\n",
              "      <td>0</td>\n",
              "      <td>0</td>\n",
              "      <td>0</td>\n",
              "      <td>1</td>\n",
              "      <td>1</td>\n",
              "      <td>1</td>\n",
              "      <td>1</td>\n",
              "      <td>0</td>\n",
              "      <td>1</td>\n",
              "      <td>0</td>\n",
              "      <td>1</td>\n",
              "      <td>0</td>\n",
              "      <td>2</td>\n",
              "      <td>0</td>\n",
              "      <td>3</td>\n",
              "      <td>0</td>\n",
              "      <td>1</td>\n",
              "      <td>0</td>\n",
              "      <td>0</td>\n",
              "      <td>0</td>\n",
              "      <td>0</td>\n",
              "      <td>0</td>\n",
              "    </tr>\n",
              "    <tr>\n",
              "      <th>She will not consider switching to clozapine</th>\n",
              "      <td>0</td>\n",
              "      <td>0</td>\n",
              "      <td>1</td>\n",
              "      <td>1</td>\n",
              "      <td>0</td>\n",
              "      <td>0</td>\n",
              "      <td>0</td>\n",
              "      <td>0</td>\n",
              "      <td>0</td>\n",
              "      <td>0</td>\n",
              "      <td>0</td>\n",
              "      <td>0</td>\n",
              "      <td>0</td>\n",
              "      <td>0</td>\n",
              "      <td>0</td>\n",
              "      <td>0</td>\n",
              "      <td>0</td>\n",
              "      <td>1</td>\n",
              "      <td>0</td>\n",
              "      <td>0</td>\n",
              "      <td>0</td>\n",
              "      <td>0</td>\n",
              "      <td>0</td>\n",
              "      <td>0</td>\n",
              "    </tr>\n",
              "    <tr>\n",
              "      <th>lovastatin 40 mg one half tab po daily, multivitamin daily, metformin 500 mg one tab po twice a day</th>\n",
              "      <td>0</td>\n",
              "      <td>0</td>\n",
              "      <td>0</td>\n",
              "      <td>0</td>\n",
              "      <td>0</td>\n",
              "      <td>2</td>\n",
              "      <td>1</td>\n",
              "      <td>0</td>\n",
              "      <td>0</td>\n",
              "      <td>1</td>\n",
              "      <td>0</td>\n",
              "      <td>1</td>\n",
              "      <td>0</td>\n",
              "      <td>1</td>\n",
              "      <td>2</td>\n",
              "      <td>1</td>\n",
              "      <td>2</td>\n",
              "      <td>0</td>\n",
              "      <td>0</td>\n",
              "      <td>2</td>\n",
              "      <td>0</td>\n",
              "      <td>1</td>\n",
              "      <td>0</td>\n",
              "      <td>0</td>\n",
              "    </tr>\n",
              "    <tr>\n",
              "      <th>Aspirin 81 mg po once daily, Zoloft 25 mg po once daily, Calcium with vitamin D two tablets po once daily</th>\n",
              "      <td>1</td>\n",
              "      <td>1</td>\n",
              "      <td>0</td>\n",
              "      <td>0</td>\n",
              "      <td>1</td>\n",
              "      <td>3</td>\n",
              "      <td>0</td>\n",
              "      <td>0</td>\n",
              "      <td>0</td>\n",
              "      <td>0</td>\n",
              "      <td>0</td>\n",
              "      <td>0</td>\n",
              "      <td>0</td>\n",
              "      <td>0</td>\n",
              "      <td>2</td>\n",
              "      <td>0</td>\n",
              "      <td>3</td>\n",
              "      <td>0</td>\n",
              "      <td>0</td>\n",
              "      <td>0</td>\n",
              "      <td>1</td>\n",
              "      <td>0</td>\n",
              "      <td>1</td>\n",
              "      <td>1</td>\n",
              "    </tr>\n",
              "  </tbody>\n",
              "</table>\n",
              "</div>"
            ],
            "text/plain": [
              "                                                    aspirin  ...  zoloft\n",
              "Klonopin 0.25 mg po every evening, Fluconazole ...        0  ...       0\n",
              "She will not consider switching to clozapine              0  ...       0\n",
              "lovastatin 40 mg one half tab po daily, multivi...        0  ...       0\n",
              "Aspirin 81 mg po once daily, Zoloft 25 mg po on...        1  ...       1\n",
              "\n",
              "[4 rows x 24 columns]"
            ]
          },
          "metadata": {
            "tags": []
          },
          "execution_count": 9
        }
      ]
    },
    {
      "cell_type": "markdown",
      "metadata": {
        "id": "6NqxYyHdWZX4",
        "colab_type": "text"
      },
      "source": [
        "We can spot the difference between our documents. To imagine what it would look like if we plotted these in a multidimensional space, with one dimension for each word in our vocabulary, let's restrict our vocabulary to just three of the words for now."
      ]
    },
    {
      "cell_type": "code",
      "metadata": {
        "id": "Qp5XuPFPWZyr",
        "colab_type": "code",
        "colab": {
          "base_uri": "https://localhost:8080/",
          "height": 166
        },
        "outputId": "461a7f73-bd28-40c2-cfba-f2b6a0b89800"
      },
      "source": [
        "count_vector = CountVectorizer(input=documents, token_pattern=r'\\b[^\\d\\W]+\\b', stop_words = 'english', vocabulary=['daily','mg','po'])\n",
        "count_vector.fit(documents)\n",
        "doc_array = count_vector.transform(documents).toarray()\n",
        "frequency_matrix = pd.DataFrame(doc_array,index=documents,columns=count_vector.get_feature_names())\n",
        "frequency_matrix"
      ],
      "execution_count": 10,
      "outputs": [
        {
          "output_type": "execute_result",
          "data": {
            "text/html": [
              "<div>\n",
              "<style scoped>\n",
              "    .dataframe tbody tr th:only-of-type {\n",
              "        vertical-align: middle;\n",
              "    }\n",
              "\n",
              "    .dataframe tbody tr th {\n",
              "        vertical-align: top;\n",
              "    }\n",
              "\n",
              "    .dataframe thead th {\n",
              "        text-align: right;\n",
              "    }\n",
              "</style>\n",
              "<table border=\"1\" class=\"dataframe\">\n",
              "  <thead>\n",
              "    <tr style=\"text-align: right;\">\n",
              "      <th></th>\n",
              "      <th>daily</th>\n",
              "      <th>mg</th>\n",
              "      <th>po</th>\n",
              "    </tr>\n",
              "  </thead>\n",
              "  <tbody>\n",
              "    <tr>\n",
              "      <th>Klonopin 0.25 mg po every evening, Fluconazole 200 mg po daily, Synthroid 125 mcg po every day</th>\n",
              "      <td>1</td>\n",
              "      <td>2</td>\n",
              "      <td>3</td>\n",
              "    </tr>\n",
              "    <tr>\n",
              "      <th>She will not consider switching to clozapine</th>\n",
              "      <td>0</td>\n",
              "      <td>0</td>\n",
              "      <td>0</td>\n",
              "    </tr>\n",
              "    <tr>\n",
              "      <th>lovastatin 40 mg one half tab po daily, multivitamin daily, metformin 500 mg one tab po twice a day</th>\n",
              "      <td>2</td>\n",
              "      <td>2</td>\n",
              "      <td>2</td>\n",
              "    </tr>\n",
              "    <tr>\n",
              "      <th>Aspirin 81 mg po once daily, Zoloft 25 mg po once daily, Calcium with vitamin D two tablets po once daily</th>\n",
              "      <td>3</td>\n",
              "      <td>2</td>\n",
              "      <td>3</td>\n",
              "    </tr>\n",
              "  </tbody>\n",
              "</table>\n",
              "</div>"
            ],
            "text/plain": [
              "                                                    daily  mg  po\n",
              "Klonopin 0.25 mg po every evening, Fluconazole ...      1   2   3\n",
              "She will not consider switching to clozapine            0   0   0\n",
              "lovastatin 40 mg one half tab po daily, multivi...      2   2   2\n",
              "Aspirin 81 mg po once daily, Zoloft 25 mg po on...      3   2   3"
            ]
          },
          "metadata": {
            "tags": []
          },
          "execution_count": 10
        }
      ]
    },
    {
      "cell_type": "markdown",
      "metadata": {
        "id": "W3QidNK8CyfY",
        "colab_type": "text"
      },
      "source": [
        "Our plotting module needs one array for  each of our three dimensions, instead of one for each document:"
      ]
    },
    {
      "cell_type": "code",
      "metadata": {
        "id": "Gr2FoZP0CzdO",
        "colab_type": "code",
        "colab": {
          "base_uri": "https://localhost:8080/",
          "height": 34
        },
        "outputId": "6d7412de-e73f-495d-fda5-a8103d15a7d1"
      },
      "source": [
        "rotated = list(zip(*doc_array[::-1]))\n",
        "print(rotated)"
      ],
      "execution_count": 11,
      "outputs": [
        {
          "output_type": "stream",
          "text": [
            "[(3, 2, 0, 1), (2, 2, 0, 2), (3, 2, 0, 3)]\n"
          ],
          "name": "stdout"
        }
      ]
    },
    {
      "cell_type": "markdown",
      "metadata": {
        "id": "_5nPWRh1Dkss",
        "colab_type": "text"
      },
      "source": [
        "And now the plot:"
      ]
    },
    {
      "cell_type": "code",
      "metadata": {
        "id": "RqzBxex3DlfM",
        "colab_type": "code",
        "colab": {
          "base_uri": "https://localhost:8080/",
          "height": 265
        },
        "outputId": "0f18c4f0-4ffe-4df4-e92b-369279f9f758"
      },
      "source": [
        "import matplotlib.pyplot as plt\n",
        "from mpl_toolkits.mplot3d import Axes3D\n",
        "fig = plt.figure()\n",
        "ax = fig.add_subplot(111, projection='3d')\n",
        "z,x,y = rotated\n",
        "ax.scatter(list(x), list(y), list(z), zdir='z', c= 'red')"
      ],
      "execution_count": 12,
      "outputs": [
        {
          "output_type": "execute_result",
          "data": {
            "text/plain": [
              "<mpl_toolkits.mplot3d.art3d.Path3DCollection at 0x7f53fc6def28>"
            ]
          },
          "metadata": {
            "tags": []
          },
          "execution_count": 12
        },
        {
          "output_type": "display_data",
          "data": {
            "image/png": "[encoded data removed]",
            "text/plain": [
              "<Figure size 432x288 with 1 Axes>"
            ]
          },
          "metadata": {
            "tags": []
          }
        }
      ]
    }
  ]
}