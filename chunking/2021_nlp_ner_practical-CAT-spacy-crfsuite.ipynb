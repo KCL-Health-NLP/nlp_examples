{
 "cells": [
  {
   "cell_type": "markdown",
   "metadata": {},
   "source": [
    "# Named entity recognition - clinical concepts\n",
    "\n",
    "In this practical, we will try to build a named entity recognition classifier using spaCy and crfsuite.\n",
    "\n",
    "Named entity recognition is a structured learning problem, i.e., we want to learn sequence patterns.\n",
    "\n",
    "We will use data from mtsamples again, and build classifiers that find clinical concepts. \n",
    "\n",
    "The 'gold' standard data is *not* manually annotated, it is the output of a clinical concept recognition system developed by Zeljko Kraljevic called 'CAT' (a predecessor to MedCAT), thus this data is not perfect. This system matches concepts to the entire UMLS. We will only use a few example concepts here.\n",
    "\n",
    "Part of this material is adapted, inspired etc from:\n",
    "\n",
    "https://spacy.io/usage/training,\n",
    "\n",
    "https://sklearn-crfsuite.readthedocs.io/en/latest/tutorial.html,\n",
    "\n",
    "https://towardsdatascience.com/named-entity-recognition-with-nltk-and-spacy-8c4a7d88e7da\n",
    "\n",
    "Written by Sumithra Velupillai, March 2019, updated February 2021 - acknowledgements and many thanks to Zeljko for the data preparations!"
   ]
  },
  {
   "cell_type": "code",
   "execution_count": 1,
   "metadata": {},
   "outputs": [],
   "source": [
    "## tested with spacy version '2.2.4'\n",
    "try:\n",
    "    import spacy\n",
    "except ImportError as e:\n",
    "    !pip install spacy\n",
    "    import spacy\n",
    "\n",
    "from spacy import displacy\n",
    "from spacy.gold import GoldParse\n",
    "from spacy.scorer import Scorer\n",
    "\n",
    "import json\n",
    "import requests\n",
    "\n",
    "try:\n",
    "    import sklearn_crfsuite\n",
    "except ImportError as e:\n",
    "    !pip install sklearn_crfsuite\n",
    "    import sklearn_crfsuite\n",
    "\n",
    "from sklearn_crfsuite import scorers\n",
    "from sklearn_crfsuite import metrics\n",
    "\n",
    "import sklearn\n",
    "from sklearn.metrics import make_scorer\n",
    "from sklearn.model_selection import cross_val_score\n",
    "from sklearn.model_selection import RandomizedSearchCV\n",
    "from sklearn_crfsuite import scorers\n",
    "from sklearn_crfsuite import metrics\n",
    "import scipy\n",
    "\n",
    "import random\n"
   ]
  },
  {
   "cell_type": "markdown",
   "metadata": {},
   "source": [
    "# 1: corpus\n",
    "We have prepared the training and test data in a json format."
   ]
  },
  {
   "cell_type": "code",
   "execution_count": 2,
   "metadata": {},
   "outputs": [],
   "source": [
    "data_url = 'https://github.com/KCL-Health-NLP/nlp_examples/blob/master/chunking/chunking_traindata_CAT_updated_2021.json?raw=true'\n",
    "r = requests.get(data_url)\n",
    "train_data = r.json()"
   ]
  },
  {
   "cell_type": "markdown",
   "metadata": {},
   "source": [
    "Let's take a look at a random document and its annotations. The json format contains the text itself, and then the start and end offsets for each annotated entity. What are the instances we want to learn?"
   ]
  },
  {
   "cell_type": "code",
   "execution_count": 3,
   "metadata": {},
   "outputs": [
    {
     "data": {
      "text/plain": [
       "{'entities': [[124, 134, 'ANATOMY'],\n",
       "  [629, 633, 'ANATOMY'],\n",
       "  [695, 701, 'ANATOMY'],\n",
       "  [765, 770, 'ANATOMY'],\n",
       "  [829, 839, 'ANATOMY'],\n",
       "  [1015, 1027, 'ANATOMY'],\n",
       "  [1349, 1359, 'ANATOMY'],\n",
       "  [80, 87, 'DISEASESYNDROME'],\n",
       "  [318, 325, 'DISEASESYNDROME'],\n",
       "  [534, 543, 'DISEASESYNDROME'],\n",
       "  [979, 986, 'DISEASESYNDROME'],\n",
       "  [1084, 1091, 'DISEASESYNDROME'],\n",
       "  [1397, 1404, 'DISEASESYNDROME'],\n",
       "  [1138, 1146, 'SIGNSYMPTOM'],\n",
       "  [1410, 1418, 'SIGNSYMPTOM']]}"
      ]
     },
     "execution_count": 3,
     "metadata": {},
     "output_type": "execute_result"
    }
   ],
   "source": [
    "train_data[15][1]"
   ]
  },
  {
   "cell_type": "markdown",
   "metadata": {},
   "source": [
    "# 2: Training a named entity model with spaCy\n",
    "We can use spaCy to train our own named entity recognition model using their training algorithm.\n",
    "First we need to load a spaCy English language model, so that we can sentence- and word tokenize."
   ]
  },
  {
   "cell_type": "code",
   "execution_count": 4,
   "metadata": {},
   "outputs": [],
   "source": [
    "try:\n",
    "    #nlp = spacy.load('en')\n",
    "    nlp = spacy.load('en_core_web_sm')\n",
    "except OSError as e:\n",
    "    !python -m spacy download en_core_web_sm\n",
    "    nlp = spacy.load('en_core_web_sm')"
   ]
  },
  {
   "cell_type": "markdown",
   "metadata": {},
   "source": [
    "What nlp preprocessing parts does this model contain? In spaCy, these are called 'pipes'."
   ]
  },
  {
   "cell_type": "code",
   "execution_count": 5,
   "metadata": {},
   "outputs": [
    {
     "data": {
      "text/plain": [
       "['tagger', 'parser', 'ner']"
      ]
     },
     "execution_count": 5,
     "metadata": {},
     "output_type": "execute_result"
    }
   ],
   "source": [
    "nlp.pipe_names"
   ]
  },
  {
   "cell_type": "markdown",
   "metadata": {},
   "source": [
    "The default named entity pipe in spaCy is not trained for out labels. We have our own named entities that we want to develop a model for. Let's add these entity labels to the spaCy ner pipe."
   ]
  },
  {
   "cell_type": "code",
   "execution_count": 6,
   "metadata": {},
   "outputs": [],
   "source": [
    "if \"ner\" not in nlp.pipe_names:\n",
    "        ner = nlp.create_pipe(\"ner\")\n",
    "        nlp.add_pipe(ner, last=True)\n",
    "    # otherwise, get it so we can add labels\n",
    "else:\n",
    "        ner = nlp.get_pipe(\"ner\")\n",
    "\n",
    "## We'll create an empty set where we'll store our ner labels, that we get from the annotations in our data.        \n",
    "labels = set()\n",
    "for _, annotations in train_data:\n",
    "        for ent in annotations.get(\"entities\"):\n",
    "            ner.add_label(ent[2])\n",
    "            labels.add(ent[2])"
   ]
  },
  {
   "cell_type": "markdown",
   "metadata": {},
   "source": [
    "We don't want to retrain the other pipeline steps, so let's keep those. We only want to retrain the ner pipeline with our own labels and annotations."
   ]
  },
  {
   "cell_type": "code",
   "execution_count": 7,
   "metadata": {},
   "outputs": [],
   "source": [
    "pipe_exceptions = [\"ner\"]\n",
    "other_pipes = [pipe for pipe in nlp.pipe_names if pipe not in pipe_exceptions]"
   ]
  },
  {
   "cell_type": "code",
   "execution_count": 8,
   "metadata": {},
   "outputs": [
    {
     "data": {
      "text/plain": [
       "['tagger', 'parser']"
      ]
     },
     "execution_count": 8,
     "metadata": {},
     "output_type": "execute_result"
    }
   ],
   "source": [
    "other_pipes"
   ]
  },
  {
   "cell_type": "markdown",
   "metadata": {},
   "source": [
    "What entities/labels do we have in our data?"
   ]
  },
  {
   "cell_type": "code",
   "execution_count": 9,
   "metadata": {},
   "outputs": [
    {
     "name": "stdout",
     "output_type": "stream",
     "text": [
      "{'DISEASESYNDROME', 'SIGNSYMPTOM', 'ANATOMY'}\n"
     ]
    }
   ],
   "source": [
    "print(labels)"
   ]
  },
  {
   "cell_type": "markdown",
   "metadata": {},
   "source": [
    "Now let's train our clinical concept ner model. Let's set the number of training iterations."
   ]
  },
  {
   "cell_type": "code",
   "execution_count": 10,
   "metadata": {},
   "outputs": [],
   "source": [
    "n_iter=(10)"
   ]
  },
  {
   "cell_type": "code",
   "execution_count": 11,
   "metadata": {},
   "outputs": [],
   "source": [
    "import warnings"
   ]
  },
  {
   "cell_type": "code",
   "execution_count": 12,
   "metadata": {},
   "outputs": [],
   "source": [
    "#optimizer = nlp.begin_training()"
   ]
  },
  {
   "cell_type": "markdown",
   "metadata": {},
   "source": [
    "Now let's train the model."
   ]
  },
  {
   "cell_type": "code",
   "execution_count": 13,
   "metadata": {},
   "outputs": [
    {
     "name": "stdout",
     "output_type": "stream",
     "text": [
      "Losses {'ner': 40518.12223743927}\n",
      "Losses {'ner': 39903.97432938963}\n",
      "Losses {'ner': 39658.97405430768}\n",
      "Losses {'ner': 39335.66381083056}\n",
      "Losses {'ner': 38166.94617314637}\n",
      "Losses {'ner': 37975.83893874474}\n",
      "Losses {'ner': 38008.94368905318}\n",
      "Losses {'ner': 37702.0379986912}\n",
      "Losses {'ner': 38019.34605675191}\n",
      "Losses {'ner': 37714.754248877056}\n"
     ]
    }
   ],
   "source": [
    "with nlp.disable_pipes(other_pipes), warnings.catch_warnings():# only train NER\n",
    "    warnings.filterwarnings(\"once\", category=UserWarning, module='spacy')\n",
    "#with nlp.disable_pipes(other_pipes):  # only train NER\n",
    "        # reset and initialize the weights randomly – but only if we're\n",
    "        # training a new model\n",
    "    nlp.begin_training()\n",
    "    for itn in range(n_iter):\n",
    "        random.shuffle(train_data)\n",
    "        losses = {}\n",
    "        # batch up the examples using spaCy's minibatch\n",
    "        #batches = spacy.util.minibatch(train_data, size=spacy.util.compounding(4.0, 32.0, 1.001))\n",
    "        ##batches = spacy.util.minibatch(train_data, size=2)\n",
    "        ##for batch in batches:\n",
    "        ##    texts, annotations = zip(*batch)\n",
    "        ##    nlp.update(\n",
    "        ##        texts,  # batch of texts\n",
    "        ##        annotations,  # batch of annotations\n",
    "        ##        sgd = optimizer,\n",
    "        ##        drop=0.5,  # dropout - make it harder to memorise data\n",
    "        ##        losses=losses,\n",
    "        ##    )\n",
    "        for batch in spacy.util.minibatch(train_data, size=2):\n",
    "            texts = [text for text, entities in batch]\n",
    "            annotations = [entities for text, entities in batch]# Update the model\n",
    "            nlp.update(texts, annotations, losses=losses, drop=0.3)\n",
    "        print(\"Losses\", losses)"
   ]
  },
  {
   "cell_type": "code",
   "execution_count": 14,
   "metadata": {},
   "outputs": [],
   "source": [
    "text, _ = train_data[60]"
   ]
  },
  {
   "cell_type": "code",
   "execution_count": 15,
   "metadata": {},
   "outputs": [
    {
     "data": {
      "text/html": [
       "<span class=\"tex2jax_ignore\"><div class=\"entities\" style=\"line-height: 2.5; direction: ltr\">\r",
       "</br>        \r",
       "</br>        \r",
       "</br>\r",
       "</br>        \r",
       "</br>        </br>REASON FOR CONSULT:  </br>I was asked to see the patient for C. diff colitis.</br></br></br>HISTORY OF PRESENTING \n",
       "<mark class=\"entity\" style=\"background: lightgreen; padding: 0.45em 0.6em; margin: 0 0.25em; line-height: 1; border-radius: 0.35em;\">\n",
       "    ILLNESS\n",
       "    <span style=\"font-size: 0.8em; font-weight: bold; line-height: 1; border-radius: 0.35em; text-transform: uppercase; vertical-align: middle; margin-left: 0.5rem\">SIGNSYMPTOM</span>\n",
       "</mark>\n",
       ": </br> Briefly, the patient is a very pleasant 72-year-old female with previous history of \n",
       "<mark class=\"entity\" style=\"background: lightgreen; padding: 0.45em 0.6em; margin: 0 0.25em; line-height: 1; border-radius: 0.35em;\">\n",
       "    hypertension\n",
       "    <span style=\"font-size: 0.8em; font-weight: bold; line-height: 1; border-radius: 0.35em; text-transform: uppercase; vertical-align: middle; margin-left: 0.5rem\">SIGNSYMPTOM</span>\n",
       "</mark>\n",
       " and also recent diagnosis of C. diff for which she was admitted here in 5/2009, who presents to the hospital on 6/18/2009 with \n",
       "<mark class=\"entity\" style=\"background: lightgreen; padding: 0.45em 0.6em; margin: 0 0.25em; line-height: 1; border-radius: 0.35em;\">\n",
       "    abdominal pain\n",
       "    <span style=\"font-size: 0.8em; font-weight: bold; line-height: 1; border-radius: 0.35em; text-transform: uppercase; vertical-align: middle; margin-left: 0.5rem\">SIGNSYMPTOM</span>\n",
       "</mark>\n",
       ", \n",
       "<mark class=\"entity\" style=\"background: lightgreen; padding: 0.45em 0.6em; margin: 0 0.25em; line-height: 1; border-radius: 0.35em;\">\n",
       "    cramping\n",
       "    <span style=\"font-size: 0.8em; font-weight: bold; line-height: 1; border-radius: 0.35em; text-transform: uppercase; vertical-align: middle; margin-left: 0.5rem\">SIGNSYMPTOM</span>\n",
       "</mark>\n",
       ", and persistent \n",
       "<mark class=\"entity\" style=\"background: lightgreen; padding: 0.45em 0.6em; margin: 0 0.25em; line-height: 1; border-radius: 0.35em;\">\n",
       "    diarrhea\n",
       "    <span style=\"font-size: 0.8em; font-weight: bold; line-height: 1; border-radius: 0.35em; text-transform: uppercase; vertical-align: middle; margin-left: 0.5rem\">SIGNSYMPTOM</span>\n",
       "</mark>\n",
       ".  After admission, she had a CT of the abdomen done, which showed evidence of diffuse \n",
       "<mark class=\"entity\" style=\"background: lightgreen; padding: 0.45em 0.6em; margin: 0 0.25em; line-height: 1; border-radius: 0.35em;\">\n",
       "    colitis\n",
       "    <span style=\"font-size: 0.8em; font-weight: bold; line-height: 1; border-radius: 0.35em; text-transform: uppercase; vertical-align: middle; margin-left: 0.5rem\">SIGNSYMPTOM</span>\n",
       "</mark>\n",
       " and she was started on IV Flagyl and also on IV Levaquin.  She was also placed on IV Reglan because of \n",
       "<mark class=\"entity\" style=\"background: lightgreen; padding: 0.45em 0.6em; margin: 0 0.25em; line-height: 1; border-radius: 0.35em;\">\n",
       "    nausea\n",
       "    <span style=\"font-size: 0.8em; font-weight: bold; line-height: 1; border-radius: 0.35em; text-transform: uppercase; vertical-align: middle; margin-left: 0.5rem\">SIGNSYMPTOM</span>\n",
       "</mark>\n",
       " and \n",
       "<mark class=\"entity\" style=\"background: lightgreen; padding: 0.45em 0.6em; margin: 0 0.25em; line-height: 1; border-radius: 0.35em;\">\n",
       "    vomiting\n",
       "    <span style=\"font-size: 0.8em; font-weight: bold; line-height: 1; border-radius: 0.35em; text-transform: uppercase; vertical-align: middle; margin-left: 0.5rem\">SIGNSYMPTOM</span>\n",
       "</mark>\n",
       ".  In spite of the above, her white count still continues to be elevated today.  On questioning the patient, she states the \n",
       "<mark class=\"entity\" style=\"background: lightgreen; padding: 0.45em 0.6em; margin: 0 0.25em; line-height: 1; border-radius: 0.35em;\">\n",
       "    nausea\n",
       "    <span style=\"font-size: 0.8em; font-weight: bold; line-height: 1; border-radius: 0.35em; text-transform: uppercase; vertical-align: middle; margin-left: 0.5rem\">SIGNSYMPTOM</span>\n",
       "</mark>\n",
       " and \n",
       "<mark class=\"entity\" style=\"background: lightgreen; padding: 0.45em 0.6em; margin: 0 0.25em; line-height: 1; border-radius: 0.35em;\">\n",
       "    vomiting\n",
       "    <span style=\"font-size: 0.8em; font-weight: bold; line-height: 1; border-radius: 0.35em; text-transform: uppercase; vertical-align: middle; margin-left: 0.5rem\">SIGNSYMPTOM</span>\n",
       "</mark>\n",
       " has resolved, but the \n",
       "<mark class=\"entity\" style=\"background: lightgreen; padding: 0.45em 0.6em; margin: 0 0.25em; line-height: 1; border-radius: 0.35em;\">\n",
       "    diarrhea\n",
       "    <span style=\"font-size: 0.8em; font-weight: bold; line-height: 1; border-radius: 0.35em; text-transform: uppercase; vertical-align: middle; margin-left: 0.5rem\">SIGNSYMPTOM</span>\n",
       "</mark>\n",
       " still present, but otherwise denies any other specific complaints except for some \n",
       "<mark class=\"entity\" style=\"background: lightgreen; padding: 0.45em 0.6em; margin: 0 0.25em; line-height: 1; border-radius: 0.35em;\">\n",
       "    weakness\n",
       "    <span style=\"font-size: 0.8em; font-weight: bold; line-height: 1; border-radius: 0.35em; text-transform: uppercase; vertical-align: middle; margin-left: 0.5rem\">SIGNSYMPTOM</span>\n",
       "</mark>\n",
       ".</br></br></br>PAST MEDICAL HISTORY: </br> \n",
       "<mark class=\"entity\" style=\"background: pink; padding: 0.45em 0.6em; margin: 0 0.25em; line-height: 1; border-radius: 0.35em;\">\n",
       "    Hypertension\n",
       "    <span style=\"font-size: 0.8em; font-weight: bold; line-height: 1; border-radius: 0.35em; text-transform: uppercase; vertical-align: middle; margin-left: 0.5rem\">DISEASESYNDROME</span>\n",
       "</mark>\n",
       ", \n",
       "<mark class=\"entity\" style=\"background: lightgreen; padding: 0.45em 0.6em; margin: 0 0.25em; line-height: 1; border-radius: 0.35em;\">\n",
       "    hyperlipidemia\n",
       "    <span style=\"font-size: 0.8em; font-weight: bold; line-height: 1; border-radius: 0.35em; text-transform: uppercase; vertical-align: middle; margin-left: 0.5rem\">SIGNSYMPTOM</span>\n",
       "</mark>\n",
       ", recent C. diff colitis, which had resolved based on speaking to Dr. X.  Two weeks ago, he had seen the patient and she was clinically well.</br></br></br>PAST SURGICAL HISTORY:  </br>Noncontributory.</br></br></br>SOCIAL HISTORY:  </br>No history of smoking, alcohol, or drug use.  She lives at home.</br></br></br>HOME MEDICATIONS:  </br>She is on atenolol and Mevacor.</br></br>ALLERGIES:  NO KNOWN DRUG ALLERGIES.</br></br></br>REVIEW OF SYSTEMS:  </br>Positive for \n",
       "<mark class=\"entity\" style=\"background: lightgreen; padding: 0.45em 0.6em; margin: 0 0.25em; line-height: 1; border-radius: 0.35em;\">\n",
       "    diarrhea\n",
       "    <span style=\"font-size: 0.8em; font-weight: bold; line-height: 1; border-radius: 0.35em; text-transform: uppercase; vertical-align: middle; margin-left: 0.5rem\">SIGNSYMPTOM</span>\n",
       "</mark>\n",
       " and \n",
       "<mark class=\"entity\" style=\"background: lightgreen; padding: 0.45em 0.6em; margin: 0 0.25em; line-height: 1; border-radius: 0.35em;\">\n",
       "    abdominal pain\n",
       "    <span style=\"font-size: 0.8em; font-weight: bold; line-height: 1; border-radius: 0.35em; text-transform: uppercase; vertical-align: middle; margin-left: 0.5rem\">SIGNSYMPTOM</span>\n",
       "</mark>\n",
       ", otherwise main other complaints are \n",
       "<mark class=\"entity\" style=\"background: lightgreen; padding: 0.45em 0.6em; margin: 0 0.25em; line-height: 1; border-radius: 0.35em;\">\n",
       "    weakness\n",
       "    <span style=\"font-size: 0.8em; font-weight: bold; line-height: 1; border-radius: 0.35em; text-transform: uppercase; vertical-align: middle; margin-left: 0.5rem\">SIGNSYMPTOM</span>\n",
       "</mark>\n",
       ".  She denies any \n",
       "<mark class=\"entity\" style=\"background: lightgreen; padding: 0.45em 0.6em; margin: 0 0.25em; line-height: 1; border-radius: 0.35em;\">\n",
       "    cough\n",
       "    <span style=\"font-size: 0.8em; font-weight: bold; line-height: 1; border-radius: 0.35em; text-transform: uppercase; vertical-align: middle; margin-left: 0.5rem\">SIGNSYMPTOM</span>\n",
       "</mark>\n",
       ", \n",
       "<mark class=\"entity\" style=\"background: lightyellow; padding: 0.45em 0.6em; margin: 0 0.25em; line-height: 1; border-radius: 0.35em;\">\n",
       "    sputum\n",
       "    <span style=\"font-size: 0.8em; font-weight: bold; line-height: 1; border-radius: 0.35em; text-transform: uppercase; vertical-align: middle; margin-left: 0.5rem\">ANATOMY</span>\n",
       "</mark>\n",
       " production, or \n",
       "<mark class=\"entity\" style=\"background: lightgreen; padding: 0.45em 0.6em; margin: 0 0.25em; line-height: 1; border-radius: 0.35em;\">\n",
       "    dysuria\n",
       "    <span style=\"font-size: 0.8em; font-weight: bold; line-height: 1; border-radius: 0.35em; text-transform: uppercase; vertical-align: middle; margin-left: 0.5rem\">SIGNSYMPTOM</span>\n",
       "</mark>\n",
       " at this time.  Otherwise, a 10-system review is essentially negative.</br></br></br>PHYSICAL EXAM:</br></br>GENERAL:  She is awake and alert, currently in no apparent distress.</br>VITAL SIGNS:  She has been afebrile since admission, temperature today 96.5, \n",
       "<mark class=\"entity\" style=\"background: lightyellow; padding: 0.45em 0.6em; margin: 0 0.25em; line-height: 1; border-radius: 0.35em;\">\n",
       "    heart\n",
       "    <span style=\"font-size: 0.8em; font-weight: bold; line-height: 1; border-radius: 0.35em; text-transform: uppercase; vertical-align: middle; margin-left: 0.5rem\">ANATOMY</span>\n",
       "</mark>\n",
       " rate 80, respirations 18, blood pressure 125/60, and O2 sat is 98% on 2 L.</br>HEENT:  \n",
       "<mark class=\"entity\" style=\"background: lightyellow; padding: 0.45em 0.6em; margin: 0 0.25em; line-height: 1; border-radius: 0.35em;\">\n",
       "    Pupils\n",
       "    <span style=\"font-size: 0.8em; font-weight: bold; line-height: 1; border-radius: 0.35em; text-transform: uppercase; vertical-align: middle; margin-left: 0.5rem\">ANATOMY</span>\n",
       "</mark>\n",
       " are round and reactive to light and accommodation.</br>CHEST:  Clear to auscultation bilaterally.</br>CARDIOVASCULAR:  S1 and S2 are present.  No rales appreciated.</br>ABDOMEN:  She does have \n",
       "<mark class=\"entity\" style=\"background: lightgreen; padding: 0.45em 0.6em; margin: 0 0.25em; line-height: 1; border-radius: 0.35em;\">\n",
       "    tenderness\n",
       "    <span style=\"font-size: 0.8em; font-weight: bold; line-height: 1; border-radius: 0.35em; text-transform: uppercase; vertical-align: middle; margin-left: 0.5rem\">SIGNSYMPTOM</span>\n",
       "</mark>\n",
       " to palpation all over with some mild rebound tenderness also.  No guarding noted.  \n",
       "<mark class=\"entity\" style=\"background: lightyellow; padding: 0.45em 0.6em; margin: 0 0.25em; line-height: 1; border-radius: 0.35em;\">\n",
       "    Bowel\n",
       "    <span style=\"font-size: 0.8em; font-weight: bold; line-height: 1; border-radius: 0.35em; text-transform: uppercase; vertical-align: middle; margin-left: 0.5rem\">ANATOMY</span>\n",
       "</mark>\n",
       " sounds present.</br>\n",
       "<mark class=\"entity\" style=\"background: lightyellow; padding: 0.45em 0.6em; margin: 0 0.25em; line-height: 1; border-radius: 0.35em;\">\n",
       "    EXTREMITIES\n",
       "    <span style=\"font-size: 0.8em; font-weight: bold; line-height: 1; border-radius: 0.35em; text-transform: uppercase; vertical-align: middle; margin-left: 0.5rem\">ANATOMY</span>\n",
       "</mark>\n",
       ":  No \n",
       "<mark class=\"entity\" style=\"background: lightgreen; padding: 0.45em 0.6em; margin: 0 0.25em; line-height: 1; border-radius: 0.35em;\">\n",
       "    clubbing\n",
       "    <span style=\"font-size: 0.8em; font-weight: bold; line-height: 1; border-radius: 0.35em; text-transform: uppercase; vertical-align: middle; margin-left: 0.5rem\">SIGNSYMPTOM</span>\n",
       "</mark>\n",
       ", \n",
       "<mark class=\"entity\" style=\"background: lightgreen; padding: 0.45em 0.6em; margin: 0 0.25em; line-height: 1; border-radius: 0.35em;\">\n",
       "    cyanosis\n",
       "    <span style=\"font-size: 0.8em; font-weight: bold; line-height: 1; border-radius: 0.35em; text-transform: uppercase; vertical-align: middle; margin-left: 0.5rem\">SIGNSYMPTOM</span>\n",
       "</mark>\n",
       ", or \n",
       "<mark class=\"entity\" style=\"background: lightgreen; padding: 0.45em 0.6em; margin: 0 0.25em; line-height: 1; border-radius: 0.35em;\">\n",
       "    edema\n",
       "    <span style=\"font-size: 0.8em; font-weight: bold; line-height: 1; border-radius: 0.35em; text-transform: uppercase; vertical-align: middle; margin-left: 0.5rem\">SIGNSYMPTOM</span>\n",
       "</mark>\n",
       ".</br></br>CT of the abdomen and \n",
       "<mark class=\"entity\" style=\"background: lightyellow; padding: 0.45em 0.6em; margin: 0 0.25em; line-height: 1; border-radius: 0.35em;\">\n",
       "    pelvis\n",
       "    <span style=\"font-size: 0.8em; font-weight: bold; line-height: 1; border-radius: 0.35em; text-transform: uppercase; vertical-align: middle; margin-left: 0.5rem\">ANATOMY</span>\n",
       "</mark>\n",
       " is also reviewed on the computer, which showed evidence of diffuse \n",
       "<mark class=\"entity\" style=\"background: lightgreen; padding: 0.45em 0.6em; margin: 0 0.25em; line-height: 1; border-radius: 0.35em;\">\n",
       "    colitis\n",
       "    <span style=\"font-size: 0.8em; font-weight: bold; line-height: 1; border-radius: 0.35em; text-transform: uppercase; vertical-align: middle; margin-left: 0.5rem\">SIGNSYMPTOM</span>\n",
       "</mark>\n",
       ".</br></br></br>LABORATORY: </br> White blood cell count today 21.5, hemoglobin 12.4, platelet count 284,000, and neutrophils 89.  UA on 6/18/2009 showed no evidence of \n",
       "<mark class=\"entity\" style=\"background: lightgreen; padding: 0.45em 0.6em; margin: 0 0.25em; line-height: 1; border-radius: 0.35em;\">\n",
       "    UTI\n",
       "    <span style=\"font-size: 0.8em; font-weight: bold; line-height: 1; border-radius: 0.35em; text-transform: uppercase; vertical-align: middle; margin-left: 0.5rem\">SIGNSYMPTOM</span>\n",
       "</mark>\n",
       ".  Sodium today 130, potassium 2.7, and creatinine 0.4.  AST and ALT on 6/20/2009 were normal.  Blood cultures from admission were negative.  Urine culture on admission was negative.  C. diff was positive.  Stool culture was negative.</br></br></br>ASSESSMENT:</br></br>1.  A 72-year-old female with Clostridium difficile colitis.</br>2.  \n",
       "<mark class=\"entity\" style=\"background: lightgreen; padding: 0.45em 0.6em; margin: 0 0.25em; line-height: 1; border-radius: 0.35em;\">\n",
       "    Diarrhea\n",
       "    <span style=\"font-size: 0.8em; font-weight: bold; line-height: 1; border-radius: 0.35em; text-transform: uppercase; vertical-align: middle; margin-left: 0.5rem\">SIGNSYMPTOM</span>\n",
       "</mark>\n",
       " secondary to above and also could be related Reglan, which was discontinued today.</br>3.  \n",
       "<mark class=\"entity\" style=\"background: lightgreen; padding: 0.45em 0.6em; margin: 0 0.25em; line-height: 1; border-radius: 0.35em;\">\n",
       "    Leukocytosis\n",
       "    <span style=\"font-size: 0.8em; font-weight: bold; line-height: 1; border-radius: 0.35em; text-transform: uppercase; vertical-align: middle; margin-left: 0.5rem\">SIGNSYMPTOM</span>\n",
       "</mark>\n",
       " secondary to above, mild improvement today though.</br>4.  Bilateral pleural effusion by CT of the chest, although could represent thickening.</br>5.  New requirement for oxygen, rule out \n",
       "<mark class=\"entity\" style=\"background: lightgreen; padding: 0.45em 0.6em; margin: 0 0.25em; line-height: 1; border-radius: 0.35em;\">\n",
       "    pneumonia\n",
       "    <span style=\"font-size: 0.8em; font-weight: bold; line-height: 1; border-radius: 0.35em; text-transform: uppercase; vertical-align: middle; margin-left: 0.5rem\">SIGNSYMPTOM</span>\n",
       "</mark>\n",
       ".</br>6.  \n",
       "<mark class=\"entity\" style=\"background: pink; padding: 0.45em 0.6em; margin: 0 0.25em; line-height: 1; border-radius: 0.35em;\">\n",
       "    Hypertension\n",
       "    <span style=\"font-size: 0.8em; font-weight: bold; line-height: 1; border-radius: 0.35em; text-transform: uppercase; vertical-align: middle; margin-left: 0.5rem\">DISEASESYNDROME</span>\n",
       "</mark>\n",
       ".</br></br></br>PLAN:</br></br>1.  Treat the C. diff aggressively especially given CT appearance and her continued \n",
       "<mark class=\"entity\" style=\"background: lightgreen; padding: 0.45em 0.6em; margin: 0 0.25em; line-height: 1; border-radius: 0.35em;\">\n",
       "    leukocytosis\n",
       "    <span style=\"font-size: 0.8em; font-weight: bold; line-height: 1; border-radius: 0.35em; text-transform: uppercase; vertical-align: middle; margin-left: 0.5rem\">SIGNSYMPTOM</span>\n",
       "</mark>\n",
       " and because of the Levaquin, which could have added additional antibiotic pressure, so I will restart the IV Flagyl.\n",
       "2.  Continue p.o. vancomycin.  Add Florastor to help replenish the gut flora.\n",
       "3.  Monitor WBCs closely and follow clinically and if there is any deterioration in her clinical status, I would recommend getting surgical evaluation immediately for surgery if needed.\n",
       "4.  We will check a chest x-ray especially given her new requirement for oxygen.\r\n",
       "        \n",
       "\n",
       "\r\n",
       "        \r\n",
       "</div></span>"
      ],
      "text/plain": [
       "<IPython.core.display.HTML object>"
      ]
     },
     "metadata": {},
     "output_type": "display_data"
    }
   ],
   "source": [
    "doc2 = nlp(text)\n",
    "colors = {'ANATOMY': 'lightyellow',\n",
    "           'DISEASESYNDROME': 'pink',  \n",
    "           'SIGNSYMPTOM': 'lightgreen'}\n",
    "displacy.render(doc2, style='ent', jupyter=True, options={'colors':colors})"
   ]
  },
  {
   "cell_type": "markdown",
   "metadata": {},
   "source": [
    "We have now added a clinical concept entity recognizer in the spaCy nlp model! Let's look at an example document and the predicted entities from the new model."
   ]
  },
  {
   "cell_type": "code",
   "execution_count": 16,
   "metadata": {},
   "outputs": [],
   "source": [
    "text, _ = train_data[61]"
   ]
  },
  {
   "cell_type": "code",
   "execution_count": 17,
   "metadata": {},
   "outputs": [
    {
     "data": {
      "text/html": [
       "<span class=\"tex2jax_ignore\"><div class=\"entities\" style=\"line-height: 2.5; direction: ltr\">\r",
       "</br>        \r",
       "</br>        \r",
       "</br>\r",
       "</br>        \r",
       "</br>        </br>PREOPERATIVE DIAGNOSIS:</br>  \n",
       "<mark class=\"entity\" style=\"background: pink; padding: 0.45em 0.6em; margin: 0 0.25em; line-height: 1; border-radius: 0.35em;\">\n",
       "    Cecal polyp\n",
       "    <span style=\"font-size: 0.8em; font-weight: bold; line-height: 1; border-radius: 0.35em; text-transform: uppercase; vertical-align: middle; margin-left: 0.5rem\">DISEASESYNDROME</span>\n",
       "</mark>\n",
       ".</br></br></br>POSTOPERATIVE DIAGNOSIS: </br> \n",
       "<mark class=\"entity\" style=\"background: lightyellow; padding: 0.45em 0.6em; margin: 0 0.25em; line-height: 1; border-radius: 0.35em;\">\n",
       "    Cecal\n",
       "    <span style=\"font-size: 0.8em; font-weight: bold; line-height: 1; border-radius: 0.35em; text-transform: uppercase; vertical-align: middle; margin-left: 0.5rem\">ANATOMY</span>\n",
       "</mark>\n",
       " polyp.</br></br></br>PROCEDURE: </br> Laparoscopic resection of \n",
       "<mark class=\"entity\" style=\"background: lightyellow; padding: 0.45em 0.6em; margin: 0 0.25em; line-height: 1; border-radius: 0.35em;\">\n",
       "    cecal\n",
       "    <span style=\"font-size: 0.8em; font-weight: bold; line-height: 1; border-radius: 0.35em; text-transform: uppercase; vertical-align: middle; margin-left: 0.5rem\">ANATOMY</span>\n",
       "</mark>\n",
       " polyp.</br></br></br>COMPLICATIONS: </br> None.</br> </br></br>ANESTHESIA:  </br>General oral endotracheal intubation.</br></br></br>PROCEDURE:</br>  After adequate general anesthesia was administered the patient's abdomen was prepped and draped aseptically.  Local anesthetic was infiltrated into the right upper quadrant where a small incision was made.  Blunt dissection was carried down to the fascia which was grasped with Kocher clamps.  A bladed 11-mm port was inserted without difficulty.  \n",
       "<mark class=\"entity\" style=\"background: lightgreen; padding: 0.45em 0.6em; margin: 0 0.25em; line-height: 1; border-radius: 0.35em;\">\n",
       "    Pneumoperitoneum\n",
       "    <span style=\"font-size: 0.8em; font-weight: bold; line-height: 1; border-radius: 0.35em; text-transform: uppercase; vertical-align: middle; margin-left: 0.5rem\">SIGNSYMPTOM</span>\n",
       "</mark>\n",
       " was obtained using C02.  Under direct vision 2 additional, non-bladed, 11-mm trocars were placed, one in the left lower quadrant and one in the right lower quadrant.  There was some adhesion noted to the anterior midline which was taken down using the harmonic scalpel.  The \n",
       "<mark class=\"entity\" style=\"background: lightyellow; padding: 0.45em 0.6em; margin: 0 0.25em; line-height: 1; border-radius: 0.35em;\">\n",
       "    cecum\n",
       "    <span style=\"font-size: 0.8em; font-weight: bold; line-height: 1; border-radius: 0.35em; text-transform: uppercase; vertical-align: middle; margin-left: 0.5rem\">ANATOMY</span>\n",
       "</mark>\n",
       " was visualized and found to have tattoo located almost opposite the \n",
       "<mark class=\"entity\" style=\"background: lightyellow; padding: 0.45em 0.6em; margin: 0 0.25em; line-height: 1; border-radius: 0.35em;\">\n",
       "    ileocecal\n",
       "    <span style=\"font-size: 0.8em; font-weight: bold; line-height: 1; border-radius: 0.35em; text-transform: uppercase; vertical-align: middle; margin-left: 0.5rem\">ANATOMY</span>\n",
       "</mark>\n",
       " valve.  This was in what appeared to be an appropriate location for removal of this using the Endo GIA stapler without impinging on the \n",
       "<mark class=\"entity\" style=\"background: lightyellow; padding: 0.45em 0.6em; margin: 0 0.25em; line-height: 1; border-radius: 0.35em;\">\n",
       "    ileocecal valve\n",
       "    <span style=\"font-size: 0.8em; font-weight: bold; line-height: 1; border-radius: 0.35em; text-transform: uppercase; vertical-align: middle; margin-left: 0.5rem\">ANATOMY</span>\n",
       "</mark>\n",
       " or the appendiceal orifice.  The \n",
       "<mark class=\"entity\" style=\"background: lightyellow; padding: 0.45em 0.6em; margin: 0 0.25em; line-height: 1; border-radius: 0.35em;\">\n",
       "    appendix\n",
       "    <span style=\"font-size: 0.8em; font-weight: bold; line-height: 1; border-radius: 0.35em; text-transform: uppercase; vertical-align: middle; margin-left: 0.5rem\">ANATOMY</span>\n",
       "</mark>\n",
       " was somewhat retrocecal in position but otherwise looked normal.  The patient was also found to have ink marks in the peritoneal cavity diffusely indicating possible extravasation of dye.  There was enough however in the wall to identify the location of the polyp.  The lesion was grasped with a Babcock clamp and an \n",
       "<mark class=\"entity\" style=\"background: lightgreen; padding: 0.45em 0.6em; margin: 0 0.25em; line-height: 1; border-radius: 0.35em;\">\n",
       "    Endo\n",
       "    <span style=\"font-size: 0.8em; font-weight: bold; line-height: 1; border-radius: 0.35em; text-transform: uppercase; vertical-align: middle; margin-left: 0.5rem\">SIGNSYMPTOM</span>\n",
       "</mark>\n",
       " GIA stapler used to fire across this transversely. The specimen was then removed through the 12-mm port and examined on the back table.  The lateral margin was found to be closely involved with the specimen so I did not feel that it was clear.  I therefore lifted the lateral apex of the previous staple line and created a new staple line extending more laterally around the \n",
       "<mark class=\"entity\" style=\"background: lightyellow; padding: 0.45em 0.6em; margin: 0 0.25em; line-height: 1; border-radius: 0.35em;\">\n",
       "    colon\n",
       "    <span style=\"font-size: 0.8em; font-weight: bold; line-height: 1; border-radius: 0.35em; text-transform: uppercase; vertical-align: middle; margin-left: 0.5rem\">ANATOMY</span>\n",
       "</mark>\n",
       ".  This new staple line was then opened on the back table and examined.  There was some residual polypoid material noted but the margins this time appeared to be clear.  The peritoneal cavity was then lavaged with antibiotic solution.  There were a few small areas of bleeding along the staple line which were treated with pinpoint electrocautery.  The trocars were removed under direct vision.  No bleeding was noted.  The bladed trocar site was closed using a figure-of-eight O Vicryl suture.  All skin incisions were closed with running 4-0 Monocryl subcuticular sutures.  Mastisol and Steri-Strips were placed followed by sterile Tegaderm dressing.  The patient tolerated the procedure well without any complications.\r\n",
       "        \n",
       "\n",
       "\r\n",
       "        \r\n",
       "</div></span>"
      ],
      "text/plain": [
       "<IPython.core.display.HTML object>"
      ]
     },
     "metadata": {},
     "output_type": "display_data"
    }
   ],
   "source": [
    "doc2 = nlp(text)\n",
    "colors = {'ANATOMY': 'lightyellow',\n",
    "           'DISEASESYNDROME': 'pink',  \n",
    "           'SIGNSYMPTOM': 'lightgreen'}\n",
    "displacy.render(doc2, style='ent', jupyter=True, options={'colors':colors})"
   ]
  },
  {
   "cell_type": "markdown",
   "metadata": {},
   "source": [
    "We can also look at the underlying representation - let's look at one sentence in this document."
   ]
  },
  {
   "cell_type": "code",
   "execution_count": 18,
   "metadata": {},
   "outputs": [
    {
     "name": "stdout",
     "output_type": "stream",
     "text": [
      "[(PROCEDURE, 'O', ''), (:, 'O', ''), (\n",
      " , 'O', '')]\n"
     ]
    }
   ],
   "source": [
    "print([(x, x.ent_iob_, x.ent_type_) for x in list(doc2.sents)[3]])"
   ]
  },
  {
   "cell_type": "markdown",
   "metadata": {},
   "source": [
    "What do you think? Does it seem like the model works well on this document? Are there concepts that are missed? \n"
   ]
  },
  {
   "cell_type": "markdown",
   "metadata": {},
   "source": [
    "# 3: Evaluation\n",
    "How do we know how good this model is? Let's compare with the 'gold standard' test data."
   ]
  },
  {
   "cell_type": "code",
   "execution_count": 19,
   "metadata": {},
   "outputs": [
    {
     "name": "stdout",
     "output_type": "stream",
     "text": [
      "Precision:  77.62345679012346\n",
      "Recall:  59.21130076515597\n",
      "F1:  67.17863105175292\n"
     ]
    }
   ],
   "source": [
    "scorer = Scorer()\n",
    "\n",
    "data_url = 'https://github.com/KCL-Health-NLP/nlp_examples/blob/master/chunking/chunking_testdata_CAT_updated_2021.json?raw=true'\n",
    "r = requests.get(data_url)\n",
    "test_data = r.json()\n",
    "\n",
    "for text, entity_offsets in test_data:\n",
    "    doc = nlp.make_doc(text)\n",
    "    gold = GoldParse(doc, entities=entity_offsets.get('entities'))\n",
    "    doc = nlp(text)\n",
    "    scorer.score(doc, gold)\n",
    "print('Precision: ',scorer.scores['ents_p'])\n",
    "print('Recall: ',scorer.scores['ents_r'])\n",
    "print('F1: ',scorer.scores['ents_f'])"
   ]
  },
  {
   "cell_type": "markdown",
   "metadata": {},
   "source": [
    "Are these good results do you think? Can this be improved? What happens if you increase the number of iterations in the training?"
   ]
  },
  {
   "cell_type": "markdown",
   "metadata": {},
   "source": [
    "Let's look at a document from the test data."
   ]
  },
  {
   "cell_type": "code",
   "execution_count": 20,
   "metadata": {},
   "outputs": [
    {
     "data": {
      "text/html": [
       "<span class=\"tex2jax_ignore\"><div class=\"entities\" style=\"line-height: 2.5; direction: ltr\">\r",
       "</br>        \r",
       "</br>        \r",
       "</br>\r",
       "</br>        \r",
       "</br>        </br>EXAM:</br>  CT examination of the abdomen and \n",
       "<mark class=\"entity\" style=\"background: lightyellow; padding: 0.45em 0.6em; margin: 0 0.25em; line-height: 1; border-radius: 0.35em;\">\n",
       "    pelvis\n",
       "    <span style=\"font-size: 0.8em; font-weight: bold; line-height: 1; border-radius: 0.35em; text-transform: uppercase; vertical-align: middle; margin-left: 0.5rem\">ANATOMY</span>\n",
       "</mark>\n",
       " with intravenous contrast.</br></br></br>INDICATIONS:</br>  \n",
       "<mark class=\"entity\" style=\"background: lightgreen; padding: 0.45em 0.6em; margin: 0 0.25em; line-height: 1; border-radius: 0.35em;\">\n",
       "    Abdominal pain\n",
       "    <span style=\"font-size: 0.8em; font-weight: bold; line-height: 1; border-radius: 0.35em; text-transform: uppercase; vertical-align: middle; margin-left: 0.5rem\">SIGNSYMPTOM</span>\n",
       "</mark>\n",
       ".</br></br></br>TECHNIQUE:  </br>CT examination of the abdomen and \n",
       "<mark class=\"entity\" style=\"background: lightyellow; padding: 0.45em 0.6em; margin: 0 0.25em; line-height: 1; border-radius: 0.35em;\">\n",
       "    pelvis\n",
       "    <span style=\"font-size: 0.8em; font-weight: bold; line-height: 1; border-radius: 0.35em; text-transform: uppercase; vertical-align: middle; margin-left: 0.5rem\">ANATOMY</span>\n",
       "</mark>\n",
       " was performed after 100 mL of intravenous Isovue-300 contrast administration.  Oral contrast was not administered.  There was no comparison of studies.</br></br></br>FINDINGS</br></br></br>CT \n",
       "<mark class=\"entity\" style=\"background: lightyellow; padding: 0.45em 0.6em; margin: 0 0.25em; line-height: 1; border-radius: 0.35em;\">\n",
       "    PELVIS\n",
       "    <span style=\"font-size: 0.8em; font-weight: bold; line-height: 1; border-radius: 0.35em; text-transform: uppercase; vertical-align: middle; margin-left: 0.5rem\">ANATOMY</span>\n",
       "</mark>\n",
       ":</br></br>Within the \n",
       "<mark class=\"entity\" style=\"background: lightyellow; padding: 0.45em 0.6em; margin: 0 0.25em; line-height: 1; border-radius: 0.35em;\">\n",
       "    pelvis\n",
       "    <span style=\"font-size: 0.8em; font-weight: bold; line-height: 1; border-radius: 0.35em; text-transform: uppercase; vertical-align: middle; margin-left: 0.5rem\">ANATOMY</span>\n",
       "</mark>\n",
       ", the \n",
       "<mark class=\"entity\" style=\"background: lightyellow; padding: 0.45em 0.6em; margin: 0 0.25em; line-height: 1; border-radius: 0.35em;\">\n",
       "    uterus\n",
       "    <span style=\"font-size: 0.8em; font-weight: bold; line-height: 1; border-radius: 0.35em; text-transform: uppercase; vertical-align: middle; margin-left: 0.5rem\">ANATOMY</span>\n",
       "</mark>\n",
       " demonstrates a thickened-appearing endometrium.  There is also a 4.4 x 2.5 x 3.4 cm hypodense mass in the \n",
       "<mark class=\"entity\" style=\"background: lightyellow; padding: 0.45em 0.6em; margin: 0 0.25em; line-height: 1; border-radius: 0.35em;\">\n",
       "    cervix\n",
       "    <span style=\"font-size: 0.8em; font-weight: bold; line-height: 1; border-radius: 0.35em; text-transform: uppercase; vertical-align: middle; margin-left: 0.5rem\">ANATOMY</span>\n",
       "</mark>\n",
       " and lower uterine segment of uncertain etiology.  There is also a 2.5 cm intramural hypodense mass involving the \n",
       "<mark class=\"entity\" style=\"background: lightyellow; padding: 0.45em 0.6em; margin: 0 0.25em; line-height: 1; border-radius: 0.35em;\">\n",
       "    dorsal uterine\n",
       "    <span style=\"font-size: 0.8em; font-weight: bold; line-height: 1; border-radius: 0.35em; text-transform: uppercase; vertical-align: middle; margin-left: 0.5rem\">ANATOMY</span>\n",
       "</mark>\n",
       " \n",
       "<mark class=\"entity\" style=\"background: lightyellow; padding: 0.45em 0.6em; margin: 0 0.25em; line-height: 1; border-radius: 0.35em;\">\n",
       "    fundus\n",
       "    <span style=\"font-size: 0.8em; font-weight: bold; line-height: 1; border-radius: 0.35em; text-transform: uppercase; vertical-align: middle; margin-left: 0.5rem\">ANATOMY</span>\n",
       "</mark>\n",
       " likely representing a fibroid.  Several smaller fibroids were also suspected.</br></br>The ovaries are unremarkable in appearance.  There is no free \n",
       "<mark class=\"entity\" style=\"background: lightyellow; padding: 0.45em 0.6em; margin: 0 0.25em; line-height: 1; border-radius: 0.35em;\">\n",
       "    pelvic\n",
       "    <span style=\"font-size: 0.8em; font-weight: bold; line-height: 1; border-radius: 0.35em; text-transform: uppercase; vertical-align: middle; margin-left: 0.5rem\">ANATOMY</span>\n",
       "</mark>\n",
       " fluid or \n",
       "<mark class=\"entity\" style=\"background: lightgreen; padding: 0.45em 0.6em; margin: 0 0.25em; line-height: 1; border-radius: 0.35em;\">\n",
       "    adenopathy\n",
       "    <span style=\"font-size: 0.8em; font-weight: bold; line-height: 1; border-radius: 0.35em; text-transform: uppercase; vertical-align: middle; margin-left: 0.5rem\">SIGNSYMPTOM</span>\n",
       "</mark>\n",
       ".</br></br></br>CT ABDOMEN:</br></br>The \n",
       "<mark class=\"entity\" style=\"background: lightyellow; padding: 0.45em 0.6em; margin: 0 0.25em; line-height: 1; border-radius: 0.35em;\">\n",
       "    appendix\n",
       "    <span style=\"font-size: 0.8em; font-weight: bold; line-height: 1; border-radius: 0.35em; text-transform: uppercase; vertical-align: middle; margin-left: 0.5rem\">ANATOMY</span>\n",
       "</mark>\n",
       " has normal appearance in the right lower quadrant.  There are few scattered diverticula in the \n",
       "<mark class=\"entity\" style=\"background: lightyellow; padding: 0.45em 0.6em; margin: 0 0.25em; line-height: 1; border-radius: 0.35em;\">\n",
       "    sigmoid\n",
       "    <span style=\"font-size: 0.8em; font-weight: bold; line-height: 1; border-radius: 0.35em; text-transform: uppercase; vertical-align: middle; margin-left: 0.5rem\">ANATOMY</span>\n",
       "</mark>\n",
       " colon without evidence of \n",
       "<mark class=\"entity\" style=\"background: lightgreen; padding: 0.45em 0.6em; margin: 0 0.25em; line-height: 1; border-radius: 0.35em;\">\n",
       "    diverticulitis\n",
       "    <span style=\"font-size: 0.8em; font-weight: bold; line-height: 1; border-radius: 0.35em; text-transform: uppercase; vertical-align: middle; margin-left: 0.5rem\">SIGNSYMPTOM</span>\n",
       "</mark>\n",
       ".  The small and large bowels are otherwise unremarkable.  The \n",
       "<mark class=\"entity\" style=\"background: lightyellow; padding: 0.45em 0.6em; margin: 0 0.25em; line-height: 1; border-radius: 0.35em;\">\n",
       "    stomach\n",
       "    <span style=\"font-size: 0.8em; font-weight: bold; line-height: 1; border-radius: 0.35em; text-transform: uppercase; vertical-align: middle; margin-left: 0.5rem\">ANATOMY</span>\n",
       "</mark>\n",
       " is grossly unremarkable.  There is no abdominal or retroperitoneal adenopathy.  There are no adrenal masses.  The \n",
       "<mark class=\"entity\" style=\"background: lightyellow; padding: 0.45em 0.6em; margin: 0 0.25em; line-height: 1; border-radius: 0.35em;\">\n",
       "    kidneys\n",
       "    <span style=\"font-size: 0.8em; font-weight: bold; line-height: 1; border-radius: 0.35em; text-transform: uppercase; vertical-align: middle; margin-left: 0.5rem\">ANATOMY</span>\n",
       "</mark>\n",
       ", \n",
       "<mark class=\"entity\" style=\"background: lightgreen; padding: 0.45em 0.6em; margin: 0 0.25em; line-height: 1; border-radius: 0.35em;\">\n",
       "    liver\n",
       "    <span style=\"font-size: 0.8em; font-weight: bold; line-height: 1; border-radius: 0.35em; text-transform: uppercase; vertical-align: middle; margin-left: 0.5rem\">SIGNSYMPTOM</span>\n",
       "</mark>\n",
       ", \n",
       "<mark class=\"entity\" style=\"background: lightyellow; padding: 0.45em 0.6em; margin: 0 0.25em; line-height: 1; border-radius: 0.35em;\">\n",
       "    gallbladder\n",
       "    <span style=\"font-size: 0.8em; font-weight: bold; line-height: 1; border-radius: 0.35em; text-transform: uppercase; vertical-align: middle; margin-left: 0.5rem\">ANATOMY</span>\n",
       "</mark>\n",
       ", and \n",
       "<mark class=\"entity\" style=\"background: lightyellow; padding: 0.45em 0.6em; margin: 0 0.25em; line-height: 1; border-radius: 0.35em;\">\n",
       "    pancreas\n",
       "    <span style=\"font-size: 0.8em; font-weight: bold; line-height: 1; border-radius: 0.35em; text-transform: uppercase; vertical-align: middle; margin-left: 0.5rem\">ANATOMY</span>\n",
       "</mark>\n",
       " are in unremarkable appearance.  The \n",
       "<mark class=\"entity\" style=\"background: lightyellow; padding: 0.45em 0.6em; margin: 0 0.25em; line-height: 1; border-radius: 0.35em;\">\n",
       "    spleen\n",
       "    <span style=\"font-size: 0.8em; font-weight: bold; line-height: 1; border-radius: 0.35em; text-transform: uppercase; vertical-align: middle; margin-left: 0.5rem\">ANATOMY</span>\n",
       "</mark>\n",
       " contains several small calcified granulomas, but no evidence of masses.  It is normal in size.  The \n",
       "<mark class=\"entity\" style=\"background: lightyellow; padding: 0.45em 0.6em; margin: 0 0.25em; line-height: 1; border-radius: 0.35em;\">\n",
       "    lung\n",
       "    <span style=\"font-size: 0.8em; font-weight: bold; line-height: 1; border-radius: 0.35em; text-transform: uppercase; vertical-align: middle; margin-left: 0.5rem\">ANATOMY</span>\n",
       "</mark>\n",
       " bases are clear bilaterally.  The osseous structures are unremarkable other than mild facet degenerative changes at L4-L5 and L5-S1.</br></br></br>IMPRESSION:</br></br>1.  Hypoattenuating mass in the lower uterine segment and \n",
       "<mark class=\"entity\" style=\"background: lightyellow; padding: 0.45em 0.6em; margin: 0 0.25em; line-height: 1; border-radius: 0.35em;\">\n",
       "    cervix\n",
       "    <span style=\"font-size: 0.8em; font-weight: bold; line-height: 1; border-radius: 0.35em; text-transform: uppercase; vertical-align: middle; margin-left: 0.5rem\">ANATOMY</span>\n",
       "</mark>\n",
       " of uncertain etiology measuring approximately 4.4 x 2.5 x 3.4 cm.</br>2.  Multiple uterine fibroids.</br>3.  Prominent endometrium.</br>4.  Followup \n",
       "<mark class=\"entity\" style=\"background: lightyellow; padding: 0.45em 0.6em; margin: 0 0.25em; line-height: 1; border-radius: 0.35em;\">\n",
       "    pelvic\n",
       "    <span style=\"font-size: 0.8em; font-weight: bold; line-height: 1; border-radius: 0.35em; text-transform: uppercase; vertical-align: middle; margin-left: 0.5rem\">ANATOMY</span>\n",
       "</mark>\n",
       " ultrasound is recommended.\r\n",
       "        \n",
       "\n",
       "\r\n",
       "        \r\n",
       "</div></span>"
      ],
      "text/plain": [
       "<IPython.core.display.HTML object>"
      ]
     },
     "metadata": {},
     "output_type": "display_data"
    }
   ],
   "source": [
    "text, entity_offsets = test_data[37]\n",
    "doc2 = nlp(text)\n",
    "colors = {'ANATOMY': 'lightyellow',\n",
    "           'DISEASESYNDROME': 'pink',  \n",
    "           'SIGNSYMPTOM': 'lightgreen'}\n",
    "displacy.render(doc2, style='ent', jupyter=True, options={'colors':colors})"
   ]
  },
  {
   "cell_type": "markdown",
   "metadata": {},
   "source": [
    "What does the underlying representation look like?"
   ]
  },
  {
   "cell_type": "code",
   "execution_count": 21,
   "metadata": {},
   "outputs": [
    {
     "data": {
      "text/plain": [
       "['O',\n",
       " 'O',\n",
       " 'O',\n",
       " 'O',\n",
       " 'O',\n",
       " 'O',\n",
       " 'O',\n",
       " 'O',\n",
       " 'O',\n",
       " 'O',\n",
       " 'U-ANATOMY',\n",
       " 'O',\n",
       " 'O',\n",
       " 'O',\n",
       " 'O',\n",
       " 'O',\n",
       " 'O',\n",
       " 'O',\n",
       " 'O',\n",
       " 'B-SIGNSYMPTOM',\n",
       " 'L-SIGNSYMPTOM',\n",
       " 'O',\n",
       " 'O',\n",
       " 'O',\n",
       " 'O',\n",
       " 'O',\n",
       " 'O',\n",
       " 'O',\n",
       " 'O',\n",
       " 'O',\n",
       " 'O',\n",
       " 'O',\n",
       " 'U-ANATOMY',\n",
       " 'O',\n",
       " 'O',\n",
       " 'O',\n",
       " 'O',\n",
       " 'O',\n",
       " 'O',\n",
       " 'O',\n",
       " 'O',\n",
       " 'O',\n",
       " 'O',\n",
       " 'O',\n",
       " 'O',\n",
       " 'O',\n",
       " 'O',\n",
       " 'O',\n",
       " 'O',\n",
       " 'O',\n",
       " 'O',\n",
       " 'O',\n",
       " 'O',\n",
       " 'O',\n",
       " 'O',\n",
       " 'O',\n",
       " 'O',\n",
       " 'O',\n",
       " 'O',\n",
       " 'O',\n",
       " 'O',\n",
       " 'O',\n",
       " 'O',\n",
       " 'U-ANATOMY',\n",
       " 'O',\n",
       " 'O',\n",
       " 'O',\n",
       " 'O',\n",
       " 'U-ANATOMY',\n",
       " 'O',\n",
       " 'O',\n",
       " 'U-ANATOMY',\n",
       " 'O',\n",
       " 'O',\n",
       " 'O',\n",
       " 'O',\n",
       " 'O',\n",
       " 'U-ANATOMY',\n",
       " 'O',\n",
       " 'O',\n",
       " 'O',\n",
       " 'O',\n",
       " 'O',\n",
       " 'O',\n",
       " 'O',\n",
       " 'O',\n",
       " 'O',\n",
       " 'O',\n",
       " 'O',\n",
       " 'O',\n",
       " 'O',\n",
       " 'O',\n",
       " 'O',\n",
       " 'O',\n",
       " 'U-ANATOMY',\n",
       " 'O',\n",
       " 'B-ANATOMY',\n",
       " 'I-ANATOMY',\n",
       " 'L-ANATOMY',\n",
       " 'O',\n",
       " 'O',\n",
       " 'O',\n",
       " 'O',\n",
       " 'O',\n",
       " 'O',\n",
       " 'O',\n",
       " 'O',\n",
       " 'O',\n",
       " 'O',\n",
       " 'O',\n",
       " 'O',\n",
       " 'O',\n",
       " 'O',\n",
       " 'O',\n",
       " 'O',\n",
       " 'O',\n",
       " 'U-ANATOMY',\n",
       " 'O',\n",
       " 'O',\n",
       " 'O',\n",
       " 'O',\n",
       " 'O',\n",
       " 'O',\n",
       " 'O',\n",
       " 'O',\n",
       " 'O',\n",
       " 'O',\n",
       " 'O',\n",
       " 'O',\n",
       " 'O',\n",
       " 'O',\n",
       " 'O',\n",
       " 'O',\n",
       " 'U-ANATOMY',\n",
       " 'O',\n",
       " 'O',\n",
       " 'O',\n",
       " 'O',\n",
       " 'O',\n",
       " 'O',\n",
       " 'O',\n",
       " 'O',\n",
       " 'O',\n",
       " 'O',\n",
       " 'U-ANATOMY',\n",
       " 'O',\n",
       " 'O',\n",
       " 'U-DISEASESYNDROME',\n",
       " 'O',\n",
       " 'O',\n",
       " 'O',\n",
       " 'O',\n",
       " 'O',\n",
       " 'O',\n",
       " 'O',\n",
       " 'U-ANATOMY',\n",
       " 'O',\n",
       " 'O',\n",
       " 'O',\n",
       " 'O',\n",
       " 'O',\n",
       " 'O',\n",
       " 'O',\n",
       " 'O',\n",
       " 'O',\n",
       " 'O',\n",
       " 'O',\n",
       " 'O',\n",
       " 'O',\n",
       " 'O',\n",
       " 'O',\n",
       " 'O',\n",
       " 'O',\n",
       " 'U-ANATOMY',\n",
       " 'O',\n",
       " 'O',\n",
       " 'O',\n",
       " 'O',\n",
       " 'U-DISEASESYNDROME',\n",
       " 'O',\n",
       " 'O',\n",
       " 'O',\n",
       " 'O',\n",
       " 'O',\n",
       " 'O',\n",
       " 'U-ANATOMY',\n",
       " 'O',\n",
       " 'O',\n",
       " 'O',\n",
       " 'O',\n",
       " 'O',\n",
       " 'O',\n",
       " 'U-ANATOMY',\n",
       " 'O',\n",
       " 'O',\n",
       " 'O',\n",
       " 'O',\n",
       " 'O',\n",
       " 'O',\n",
       " 'O',\n",
       " 'O',\n",
       " 'O',\n",
       " 'O',\n",
       " 'O',\n",
       " 'U-DISEASESYNDROME',\n",
       " 'O',\n",
       " 'O',\n",
       " 'O',\n",
       " 'O',\n",
       " 'O',\n",
       " 'B-DISEASESYNDROME',\n",
       " 'L-DISEASESYNDROME',\n",
       " 'O',\n",
       " 'O',\n",
       " 'O',\n",
       " 'U-ANATOMY',\n",
       " 'O',\n",
       " 'U-DISEASESYNDROME',\n",
       " 'O',\n",
       " 'U-ANATOMY',\n",
       " 'O',\n",
       " 'O',\n",
       " 'U-ANATOMY',\n",
       " 'O',\n",
       " 'O',\n",
       " 'O',\n",
       " 'O',\n",
       " 'O',\n",
       " 'O',\n",
       " 'O',\n",
       " 'U-ANATOMY',\n",
       " 'O',\n",
       " 'O',\n",
       " 'O',\n",
       " 'O',\n",
       " 'O',\n",
       " 'O',\n",
       " 'O',\n",
       " 'O',\n",
       " 'O',\n",
       " 'O',\n",
       " 'O',\n",
       " 'O',\n",
       " 'O',\n",
       " 'O',\n",
       " 'O',\n",
       " 'O',\n",
       " 'O',\n",
       " 'O',\n",
       " 'O',\n",
       " 'O',\n",
       " 'O',\n",
       " 'U-ANATOMY',\n",
       " 'O',\n",
       " 'O',\n",
       " 'O',\n",
       " 'O',\n",
       " 'O',\n",
       " 'O',\n",
       " 'O',\n",
       " 'U-ANATOMY',\n",
       " 'O',\n",
       " 'O',\n",
       " 'O',\n",
       " 'O',\n",
       " 'O',\n",
       " 'O',\n",
       " 'O',\n",
       " 'O',\n",
       " 'O',\n",
       " 'O',\n",
       " 'O',\n",
       " 'O',\n",
       " 'O',\n",
       " 'O',\n",
       " 'O',\n",
       " 'O',\n",
       " 'O',\n",
       " 'O',\n",
       " 'O',\n",
       " 'O',\n",
       " 'O',\n",
       " 'O',\n",
       " 'O',\n",
       " 'O',\n",
       " 'O',\n",
       " 'B-ANATOMY',\n",
       " 'I-ANATOMY',\n",
       " 'L-ANATOMY',\n",
       " 'O',\n",
       " 'U-ANATOMY',\n",
       " 'O',\n",
       " 'O',\n",
       " 'O',\n",
       " 'O',\n",
       " 'O',\n",
       " 'O',\n",
       " 'O',\n",
       " 'O',\n",
       " 'O',\n",
       " 'O',\n",
       " 'O',\n",
       " 'O',\n",
       " 'O',\n",
       " 'O',\n",
       " 'O',\n",
       " 'O',\n",
       " 'O',\n",
       " 'U-ANATOMY',\n",
       " 'O',\n",
       " 'O',\n",
       " 'O',\n",
       " 'O',\n",
       " 'O',\n",
       " 'O',\n",
       " 'O',\n",
       " 'U-ANATOMY',\n",
       " 'O',\n",
       " 'O',\n",
       " 'O',\n",
       " 'O',\n",
       " 'O',\n",
       " 'O',\n",
       " 'U-ANATOMY',\n",
       " 'O',\n",
       " 'O',\n",
       " 'O',\n",
       " 'O',\n",
       " 'O']"
      ]
     },
     "execution_count": 21,
     "metadata": {},
     "output_type": "execute_result"
    }
   ],
   "source": [
    "doc2 = nlp.make_doc(text)\n",
    "gold = GoldParse(doc2, entities=entity_offsets.get('entities'))\n",
    "gold.ner"
   ]
  },
  {
   "cell_type": "markdown",
   "metadata": {},
   "source": [
    "There are other options available using spaCy, training models etc. If interested, look at their website, e.g. https://spacy.io/usage/training"
   ]
  },
  {
   "cell_type": "markdown",
   "metadata": {},
   "source": [
    "# 4: Training a model with crfsuite\n",
    "There are other machine learning algorithms that can be used for this sequence learning problem. Let's try crfsuite. \n",
    "\n",
    "Let's use some functions to get sentences and tokens in the right format."
   ]
  },
  {
   "cell_type": "code",
   "execution_count": 22,
   "metadata": {},
   "outputs": [],
   "source": [
    "def get_sentences(filename, bio=False):\n",
    "    \n",
    "    r = requests.get(filename)\n",
    "    train_data = r.json()\n",
    "\n",
    "    sentences = []\n",
    "    try:\n",
    "        nlp = spacy.load('en', entity=False, parser=False)\n",
    "    except OSError as e:\n",
    "        nlp = spacy.load('en_core_web_sm', entity=False, parser=False)\n",
    "    #nlp = spacy.load('en', entity=False, parser=False)\n",
    "\n",
    "    print('reading data: ', filename)\n",
    "    for text, entity_offsets in train_data:\n",
    "        doc = nlp(text)\n",
    "        gold = spacy.gold.biluo_tags_from_offsets(doc, entity_offsets.get('entities'))\n",
    "        counter = 0\n",
    "        for s in doc.sents:\n",
    "            sent = []\n",
    "            for t in s:\n",
    "                l = gold[counter]\n",
    "                if bio:\n",
    "                    l = l.replace('L-', 'I-')\n",
    "                    l = l.replace('U-', 'B-')\n",
    "                w = t.text, t.pos_, l\n",
    "                sent.append(w)\n",
    "                counter +=1\n",
    "            sentences.append(sent)\n",
    "    print('done')\n",
    "    return sentences"
   ]
  },
  {
   "cell_type": "code",
   "execution_count": 23,
   "metadata": {},
   "outputs": [],
   "source": [
    "def word2features(sent, i):\n",
    "    word = sent[i][0]\n",
    "    postag = sent[i][1]\n",
    "\n",
    "    features = {\n",
    "        'bias': 1.0,\n",
    "        'word.lower()': word.lower(),\n",
    "        'word[-3:]': word[-3:],\n",
    "        'word.isupper()': word.isupper(),\n",
    "        'word.istitle()': word.istitle(),\n",
    "        'word.isdigit()': word.isdigit(),\n",
    "        'postag': postag,\n",
    "        'postag[:2]': postag[:2],\n",
    "    }\n",
    "    if i > 0:\n",
    "        word1 = sent[i-1][0]\n",
    "        postag1 = sent[i-1][1]\n",
    "        features.update({\n",
    "            '-1:word.lower()': word1.lower(),\n",
    "            '-1:word.istitle()': word1.istitle(),\n",
    "            '-1:word.isupper()': word1.isupper(),\n",
    "            '-1:postag': postag1,\n",
    "            '-1:postag[:2]': postag1[:2],\n",
    "        })\n",
    "    else:\n",
    "        features['BOS'] = True\n",
    "\n",
    "    if i < len(sent)-1:\n",
    "        word1 = sent[i+1][0]\n",
    "        postag1 = sent[i+1][1]\n",
    "        features.update({\n",
    "            '+1:word.lower()': word1.lower(),\n",
    "            '+1:word.istitle()': word1.istitle(),\n",
    "            '+1:word.isupper()': word1.isupper(),\n",
    "            '+1:postag': postag1,\n",
    "            '+1:postag[:2]': postag1[:2],\n",
    "        })\n",
    "    else:\n",
    "        features['EOS'] = True\n",
    "\n",
    "    return features\n",
    "\n",
    "\n",
    "def sent2features(sent):\n",
    "    return [word2features(sent, i) for i in range(len(sent))]\n",
    "\n",
    "def sent2labels(sent):\n",
    "    return [label for token, postag, label in sent]\n",
    "\n",
    "def sent2tokens(sent):\n",
    "    return [token for token, postag, label in sent]\n",
    "\n"
   ]
  },
  {
   "cell_type": "markdown",
   "metadata": {},
   "source": [
    "Let's use these functions and read in the training and test data. \n",
    "There are different alternative token level representations that can be used.\n",
    "The BIO format (Begin, Inside, Outside) or the BILOU format (Begin, Inside, Last, Outside, Unit).\n",
    "What do you think is better or worse with each of these?\n",
    "In the function below, you can choose either format with the boolean flag 'bio'. Let's start with BIO."
   ]
  },
  {
   "cell_type": "code",
   "execution_count": 24,
   "metadata": {},
   "outputs": [
    {
     "name": "stdout",
     "output_type": "stream",
     "text": [
      "reading data:  https://github.com/KCL-Health-NLP/nlp_examples/blob/master/chunking/chunking_traindata_CAT_updated_2021.json?raw=true\n",
      "done\n",
      "reading data:  https://github.com/KCL-Health-NLP/nlp_examples/blob/master/chunking/chunking_testdata_CAT_updated_2021.json?raw=true\n",
      "done\n"
     ]
    }
   ],
   "source": [
    "train_sents = get_sentences('https://github.com/KCL-Health-NLP/nlp_examples/blob/master/chunking/chunking_traindata_CAT_updated_2021.json?raw=true', bio=True)\n",
    "test_sents = get_sentences('https://github.com/KCL-Health-NLP/nlp_examples/blob/master/chunking/chunking_testdata_CAT_updated_2021.json?raw=true', bio=True)"
   ]
  },
  {
   "cell_type": "markdown",
   "metadata": {},
   "source": [
    "Now let's create the feature and label vectors for the training and test data."
   ]
  },
  {
   "cell_type": "code",
   "execution_count": 25,
   "metadata": {},
   "outputs": [],
   "source": [
    "X_train = [sent2features(s) for s in train_sents]\n",
    "y_train = [sent2labels(s) for s in train_sents]\n",
    "\n",
    "X_test = [sent2features(s) for s in test_sents]\n",
    "y_test = [sent2labels(s) for s in test_sents]"
   ]
  },
  {
   "cell_type": "markdown",
   "metadata": {},
   "source": [
    "What labels do we have?"
   ]
  },
  {
   "cell_type": "code",
   "execution_count": 26,
   "metadata": {},
   "outputs": [
    {
     "data": {
      "text/plain": [
       "['O',\n",
       " 'B-SIGNSYMPTOM',\n",
       " 'B-DISEASESYNDROME',\n",
       " 'I-SIGNSYMPTOM',\n",
       " '-',\n",
       " 'B-ANATOMY',\n",
       " 'I-ANATOMY',\n",
       " 'I-DISEASESYNDROME']"
      ]
     },
     "execution_count": 26,
     "metadata": {},
     "output_type": "execute_result"
    }
   ],
   "source": [
    "labels = list(set(x for l in y_test for x in l))\n",
    "labels"
   ]
  },
  {
   "cell_type": "markdown",
   "metadata": {},
   "source": [
    "Now let's train the model."
   ]
  },
  {
   "cell_type": "code",
   "execution_count": 27,
   "metadata": {},
   "outputs": [],
   "source": [
    "crf = sklearn_crfsuite.CRF(\n",
    "    algorithm='lbfgs',\n",
    "    c1=0.1,\n",
    "    c2=0.1,\n",
    "    max_iterations=100,\n",
    "    all_possible_transitions=True,\n",
    ")\n",
    "crf.fit(X_train, y_train);"
   ]
  },
  {
   "cell_type": "markdown",
   "metadata": {},
   "source": [
    "# 5: evaluation\n",
    "How does this model perform on our test data? Let's look at the f1 score first."
   ]
  },
  {
   "cell_type": "code",
   "execution_count": 28,
   "metadata": {},
   "outputs": [
    {
     "name": "stderr",
     "output_type": "stream",
     "text": [
      "/Users/sumithra/anaconda3/anaconda3/lib/python3.7/site-packages/sklearn/metrics/classification.py:1437: UndefinedMetricWarning: F-score is ill-defined and being set to 0.0 in labels with no predicted samples.\n",
      "  'precision', 'predicted', average, warn_for)\n"
     ]
    },
    {
     "data": {
      "text/plain": [
       "0.9815580970053605"
      ]
     },
     "execution_count": 28,
     "metadata": {},
     "output_type": "execute_result"
    }
   ],
   "source": [
    "y_pred = crf.predict(X_test)\n",
    "metrics.flat_f1_score(y_test, y_pred, average='weighted', labels=labels)"
   ]
  },
  {
   "cell_type": "markdown",
   "metadata": {},
   "source": [
    "We can also print a classification report with more details and metrics."
   ]
  },
  {
   "cell_type": "code",
   "execution_count": 29,
   "metadata": {},
   "outputs": [
    {
     "name": "stderr",
     "output_type": "stream",
     "text": [
      "/Users/sumithra/anaconda3/anaconda3/lib/python3.7/site-packages/sklearn/metrics/classification.py:1437: UndefinedMetricWarning: Precision and F-score are ill-defined and being set to 0.0 in labels with no predicted samples.\n",
      "  'precision', 'predicted', average, warn_for)\n"
     ]
    },
    {
     "name": "stdout",
     "output_type": "stream",
     "text": [
      "                   precision    recall  f1-score   support\n",
      "\n",
      "                O       0.99      1.00      0.99     36011\n",
      "    B-SIGNSYMPTOM       0.92      0.71      0.81       308\n",
      "B-DISEASESYNDROME       0.88      0.72      0.79       480\n",
      "    I-SIGNSYMPTOM       0.86      0.73      0.79       122\n",
      "                -       0.00      0.00      0.00         1\n",
      "        B-ANATOMY       0.95      0.85      0.89       945\n",
      "        I-ANATOMY       0.90      0.78      0.83       299\n",
      "I-DISEASESYNDROME       0.81      0.53      0.64       219\n",
      "\n",
      "         accuracy                           0.98     38385\n",
      "        macro avg       0.79      0.66      0.72     38385\n",
      "     weighted avg       0.98      0.98      0.98     38385\n",
      "\n"
     ]
    }
   ],
   "source": [
    "print(metrics.flat_classification_report(y_test, y_pred, labels = labels))"
   ]
  },
  {
   "cell_type": "markdown",
   "metadata": {},
   "source": [
    "What do you think? There's a huge imbalance in the number of instances. Do we really want to evaluate the 'O' label? There's also one instance with an erroneous label ('-') Let's look at the results without these labels."
   ]
  },
  {
   "cell_type": "code",
   "execution_count": 30,
   "metadata": {},
   "outputs": [
    {
     "data": {
      "text/plain": [
       "['B-SIGNSYMPTOM',\n",
       " 'B-DISEASESYNDROME',\n",
       " 'I-SIGNSYMPTOM',\n",
       " 'B-ANATOMY',\n",
       " 'I-ANATOMY',\n",
       " 'I-DISEASESYNDROME']"
      ]
     },
     "execution_count": 30,
     "metadata": {},
     "output_type": "execute_result"
    }
   ],
   "source": [
    "labels = list(set(x for l in y_test for x in l if x !='O' and x!='-'))\n",
    "labels"
   ]
  },
  {
   "cell_type": "code",
   "execution_count": 31,
   "metadata": {},
   "outputs": [
    {
     "name": "stdout",
     "output_type": "stream",
     "text": [
      "                   precision    recall  f1-score   support\n",
      "\n",
      "    B-SIGNSYMPTOM       0.92      0.71      0.81       308\n",
      "B-DISEASESYNDROME       0.88      0.72      0.79       480\n",
      "    I-SIGNSYMPTOM       0.86      0.73      0.79       122\n",
      "        B-ANATOMY       0.95      0.85      0.89       945\n",
      "        I-ANATOMY       0.90      0.78      0.83       299\n",
      "I-DISEASESYNDROME       0.81      0.53      0.64       219\n",
      "\n",
      "        micro avg       0.91      0.76      0.83      2373\n",
      "        macro avg       0.89      0.72      0.79      2373\n",
      "     weighted avg       0.91      0.76      0.83      2373\n",
      "\n"
     ]
    }
   ],
   "source": [
    "print(metrics.flat_classification_report(y_test, y_pred, labels = labels))"
   ]
  },
  {
   "cell_type": "markdown",
   "metadata": {},
   "source": [
    "This was quite different! \n",
    "Try training this model with the BILOU scheme instead. We can do this by converting the BIO tags in the get_sentences function with the boolean flag 'BIO'. Are results better or worse?"
   ]
  },
  {
   "cell_type": "code",
   "execution_count": 32,
   "metadata": {},
   "outputs": [
    {
     "name": "stdout",
     "output_type": "stream",
     "text": [
      "reading data:  https://github.com/KCL-Health-NLP/nlp_examples/blob/master/chunking/chunking_traindata_CAT_updated_2021.json?raw=true\n",
      "done\n",
      "reading data:  https://github.com/KCL-Health-NLP/nlp_examples/blob/master/chunking/chunking_testdata_CAT_updated_2021.json?raw=true\n",
      "done\n",
      "                   precision    recall  f1-score   support\n",
      "\n",
      "    U-SIGNSYMPTOM       0.95      0.73      0.82       223\n",
      "U-DISEASESYNDROME       0.90      0.77      0.83       316\n",
      "B-DISEASESYNDROME       0.82      0.63      0.71       164\n",
      "    B-SIGNSYMPTOM       0.91      0.69      0.79        85\n",
      "    I-SIGNSYMPTOM       1.00      0.76      0.86        37\n",
      "L-DISEASESYNDROME       0.83      0.63      0.72       164\n",
      "        B-ANATOMY       0.90      0.76      0.82       222\n",
      "        U-ANATOMY       0.96      0.87      0.92       723\n",
      "        I-ANATOMY       1.00      0.78      0.88        77\n",
      "I-DISEASESYNDROME       0.79      0.27      0.41        55\n",
      "        L-ANATOMY       0.91      0.77      0.84       222\n",
      "    L-SIGNSYMPTOM       0.94      0.72      0.81        85\n",
      "\n",
      "        micro avg       0.92      0.76      0.83      2373\n",
      "        macro avg       0.91      0.70      0.78      2373\n",
      "     weighted avg       0.92      0.76      0.83      2373\n",
      "\n"
     ]
    }
   ],
   "source": [
    "training_file = 'https://github.com/KCL-Health-NLP/nlp_examples/blob/master/chunking/chunking_traindata_CAT_updated_2021.json?raw=true'\n",
    "test_file = 'https://github.com/KCL-Health-NLP/nlp_examples/blob/master/chunking/chunking_testdata_CAT_updated_2021.json?raw=true'\n",
    "train_sents = get_sentences(training_file, bio=False)\n",
    "test_sents = get_sentences(test_file, bio=False)\n",
    "X_train = [sent2features(s) for s in train_sents]\n",
    "y_train = [sent2labels(s) for s in train_sents]\n",
    "\n",
    "X_test = [sent2features(s) for s in test_sents]\n",
    "y_test = [sent2labels(s) for s in test_sents]\n",
    "\n",
    "new_classes = list(set(x for l in y_test for x in l if x !='O' and x!='-'))\n",
    "\n",
    "c1=0.1\n",
    "c2=0.1\n",
    "\n",
    "crf = sklearn_crfsuite.CRF(\n",
    "    algorithm='lbfgs',\n",
    "    c1=c1,\n",
    "    c2=c2,\n",
    "    max_iterations=100,\n",
    "    all_possible_transitions=True,\n",
    ")\n",
    "crf.fit(X_train, y_train)\n",
    "y_pred = crf.predict(X_test)\n",
    "print(metrics.flat_classification_report(y_test, y_pred, labels = new_classes))"
   ]
  },
  {
   "cell_type": "markdown",
   "metadata": {},
   "source": [
    "# Optional: cross-validation to find best parameters with crfsuite\n",
    "We have used default parameters in the above. We can try to find the best parameters on the training data by cross-validation. \n",
    "\n",
    "__This takes some time (even with only 3 folds)!__ "
   ]
  },
  {
   "cell_type": "code",
   "execution_count": null,
   "metadata": {},
   "outputs": [],
   "source": [
    "# from: https://sklearn-crfsuite.readthedocs.io/en/latest/tutorial.html#hyperparameter-optimization\n",
    "\n",
    "crf = sklearn_crfsuite.CRF(\n",
    "    algorithm='lbfgs',\n",
    "    max_iterations=100,\n",
    "    all_possible_transitions=True\n",
    ")\n",
    "params_space = {\n",
    "    'c1': scipy.stats.expon(scale=0.5),\n",
    "    'c2': scipy.stats.expon(scale=0.05),\n",
    "}\n",
    "\n",
    "# use the same metric for evaluation\n",
    "f1_scorer = make_scorer(metrics.flat_f1_score,\n",
    "                        average='weighted', labels=new_classes)\n",
    "\n",
    "# search\n",
    "rs = RandomizedSearchCV(crf, params_space,\n",
    "                        cv=3,\n",
    "                        verbose=1,\n",
    "                        n_jobs=-1,\n",
    "                        n_iter=50,\n",
    "                        scoring=f1_scorer)\n",
    "rs.fit(X_train, y_train)"
   ]
  },
  {
   "cell_type": "code",
   "execution_count": null,
   "metadata": {},
   "outputs": [],
   "source": [
    "print('best params:', rs.best_params_)\n",
    "print('best CV score:', rs.best_score_)"
   ]
  },
  {
   "cell_type": "code",
   "execution_count": null,
   "metadata": {},
   "outputs": [],
   "source": [
    "crf = rs.best_estimator_\n",
    "y_pred = crf.predict(X_test)\n",
    "print(metrics.flat_classification_report(\n",
    "    y_test, y_pred, labels=new_classes, digits=3\n",
    "))"
   ]
  },
  {
   "cell_type": "markdown",
   "metadata": {},
   "source": [
    "What do you think? Are there other parameters that could be tested in the cross-validation setup? What about the measure used for optimisation?"
   ]
  },
  {
   "cell_type": "code",
   "execution_count": null,
   "metadata": {},
   "outputs": [],
   "source": []
  }
 ],
 "metadata": {
  "kernelspec": {
   "display_name": "Python [conda env:root] *",
   "language": "python",
   "name": "conda-root-py"
  },
  "language_info": {
   "codemirror_mode": {
    "name": "ipython",
    "version": 3
   },
   "file_extension": ".py",
   "mimetype": "text/x-python",
   "name": "python",
   "nbconvert_exporter": "python",
   "pygments_lexer": "ipython3",
   "version": "3.7.4"
  }
 },
 "nbformat": 4,
 "nbformat_minor": 2
}
