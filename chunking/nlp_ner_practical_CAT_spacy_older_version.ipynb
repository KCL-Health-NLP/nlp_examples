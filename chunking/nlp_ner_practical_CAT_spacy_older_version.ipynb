{
 "cells": [
  {
   "cell_type": "markdown",
   "metadata": {
    "colab_type": "text",
    "id": "L1Ag6o1iSomV"
   },
   "source": [
    "# Named entity recognition - clinical concepts\n",
    "\n",
    "In this practical, we will try to build a named entity recognition classifier using spaCy and crfsuite.\n",
    "\n",
    "Named entity recognition is a structured learning problem, i.e., we want to learn sequence patterns.\n",
    "\n",
    "We will use data from mtsamples again, and build classifiers that find clinical concepts. The gold standard data is not manually annotated, it is the output of a clinical concept recognition system developed by Zeljko Kraljevic called 'CAT'. This system matches concepts to the entire UMLS. We will only use a few example concepts here.\n",
    "\n",
    "Part of this material is adapted, inspired etc from:\n",
    "\n",
    "https://spacy.io/usage/training,\n",
    "\n",
    "https://sklearn-crfsuite.readthedocs.io/en/latest/tutorial.html,\n",
    "\n",
    "https://towardsdatascience.com/named-entity-recognition-with-nltk-and-spacy-8c4a7d88e7da\n",
    "\n",
    "Written by Sumithra Velupillai, March 2019 - acknowledgements and many thanks to Zeljko for the data preparations!"
   ]
  },
  {
   "cell_type": "code",
   "execution_count": null,
   "metadata": {
    "colab": {
     "base_uri": "https://localhost:8080/",
     "height": 1498
    },
    "colab_type": "code",
    "id": "bJ9zbzl-SomX",
    "outputId": "ddd2adb3-fee6-4143-fafa-e07e892cfdea"
   },
   "outputs": [],
   "source": [
    "#import spacy\n",
    "\n",
    "## NOTE: spaCy has been updated since this practical was developed and we need to revert to an older version\n",
    "\n",
    "!pip install spacy==2.0.13\n",
    "import spacy\n",
    "\n",
    "from spacy import displacy\n",
    "from spacy.gold import GoldParse\n",
    "from spacy.scorer import Scorer\n",
    "\n",
    "import json\n",
    "import requests\n",
    "\n",
    "try:\n",
    "    import sklearn_crfsuite\n",
    "except ImportError as e:\n",
    "    !pip install sklearn_crfsuite\n",
    "    import sklearn_crfsuite\n",
    "\n",
    "from sklearn_crfsuite import scorers\n",
    "from sklearn_crfsuite import metrics\n",
    "\n",
    "import sklearn\n",
    "from sklearn.metrics import make_scorer\n",
    "from sklearn.model_selection import cross_val_score\n",
    "from sklearn.model_selection import RandomizedSearchCV\n",
    "from sklearn_crfsuite import scorers\n",
    "from sklearn_crfsuite import metrics\n",
    "import scipy\n",
    "\n",
    "import random\n"
   ]
  },
  {
   "cell_type": "markdown",
   "metadata": {
    "colab_type": "text",
    "id": "4xQyRq0oSomb"
   },
   "source": [
    "# 1: corpus\n",
    "We have prepared training and test data in a json format."
   ]
  },
  {
   "cell_type": "code",
   "execution_count": null,
   "metadata": {
    "colab": {
     "base_uri": "https://localhost:8080/",
     "height": 76
    },
    "colab_type": "code",
    "id": "ZNB1i1e-Xpx-",
    "outputId": "f9debed3-d761-42a5-bdf2-6bba651c6806"
   },
   "outputs": [],
   "source": [
    "spacy.__version__"
   ]
  },
  {
   "cell_type": "code",
   "execution_count": null,
   "metadata": {
    "colab": {},
    "colab_type": "code",
    "id": "qbcsdyNOSomc"
   },
   "outputs": [],
   "source": [
    "data_url = 'https://github.com/KCL-Health-NLP/nlp_examples/blob/master/chunking/chunking_trainingdata_CAT.json?raw=true'\n",
    "r = requests.get(data_url)\n",
    "train_data = r.json()"
   ]
  },
  {
   "cell_type": "markdown",
   "metadata": {
    "colab_type": "text",
    "id": "NGoKgTPRSomf"
   },
   "source": [
    "Let's take a look at a random document and its annotations. The json format contains the text itself, and then the start and stop offsets for each entity. What are the instances we want to learn?"
   ]
  },
  {
   "cell_type": "code",
   "execution_count": null,
   "metadata": {
    "colab": {
     "base_uri": "https://localhost:8080/",
     "height": 164
    },
    "colab_type": "code",
    "id": "igR96wsoSomf",
    "outputId": "e943b8cd-195e-40f1-9d3b-43c73c4881c0"
   },
   "outputs": [],
   "source": [
    "train_data[14][1]"
   ]
  },
  {
   "cell_type": "markdown",
   "metadata": {
    "colab_type": "text",
    "id": "KAzWLNveSomh"
   },
   "source": [
    "# 2: Training a named entity model with spaCy\n",
    "We can use spaCy to train our own named entity recognition model using their training algorithm.\n",
    "First we need to load a spaCy English language model, so that we can sentence- and word tokenize."
   ]
  },
  {
   "cell_type": "code",
   "execution_count": null,
   "metadata": {
    "colab": {
     "base_uri": "https://localhost:8080/",
     "height": 440
    },
    "colab_type": "code",
    "id": "M9lM0EE3Somh",
    "outputId": "815fa17b-c448-4692-c2d7-285e785109b7"
   },
   "outputs": [],
   "source": [
    "try:\n",
    "    nlp = spacy.load('en')\n",
    "except OSError as e:\n",
    "    !python -m spacy download en_core_web_sm\n",
    "    nlp = spacy.load('en_core_web_sm')\n"
   ]
  },
  {
   "cell_type": "markdown",
   "metadata": {
    "colab_type": "text",
    "id": "cuQJ4kHqSomj"
   },
   "source": [
    "What nlp preprocessing parts does this model contain?"
   ]
  },
  {
   "cell_type": "code",
   "execution_count": null,
   "metadata": {
    "colab": {
     "base_uri": "https://localhost:8080/",
     "height": 76
    },
    "colab_type": "code",
    "id": "tCpbuheCSomj",
    "outputId": "32c8ca6d-49fa-4e76-f9f6-38882816139c"
   },
   "outputs": [],
   "source": [
    "nlp.pipe_names"
   ]
  },
  {
   "cell_type": "markdown",
   "metadata": {
    "colab_type": "text",
    "id": "i41Gd1WFSoml"
   },
   "source": [
    "We have our own named entities that we want to develop a model for. Let's add these entity labels to the spaCy ner pipe."
   ]
  },
  {
   "cell_type": "code",
   "execution_count": null,
   "metadata": {
    "colab": {},
    "colab_type": "code",
    "id": "gYAqKlXQSoml"
   },
   "outputs": [],
   "source": [
    "if \"ner\" not in nlp.pipe_names:\n",
    "        ner = nlp.create_pipe(\"ner\")\n",
    "        nlp.add_pipe(ner, last=True)\n",
    "    # otherwise, get it so we can add labels\n",
    "else:\n",
    "        ner = nlp.get_pipe(\"ner\")\n",
    "\n",
    "        \n",
    "labels = set()\n",
    "for _, annotations in train_data:\n",
    "        for ent in annotations.get(\"entities\"):\n",
    "            ner.add_label(ent[2])\n",
    "            labels.add(ent[2])"
   ]
  },
  {
   "cell_type": "markdown",
   "metadata": {
    "colab_type": "text",
    "id": "-4H37OrpSomm"
   },
   "source": [
    "We don't want to retrain the other pipeline steps, so let's keep those."
   ]
  },
  {
   "cell_type": "code",
   "execution_count": null,
   "metadata": {
    "colab": {
     "base_uri": "https://localhost:8080/",
     "height": 76
    },
    "colab_type": "code",
    "id": "_dz8OajHSomn",
    "outputId": "cfbb5789-826f-42c4-c56e-c46e424c3e9e"
   },
   "outputs": [],
   "source": [
    "other_pipes = [pipe for pipe in nlp.pipe_names if pipe != \"ner\"]\n",
    "other_pipes = [\"tagger\", \"parser\"]\n",
    "other_pipes"
   ]
  },
  {
   "cell_type": "markdown",
   "metadata": {
    "colab_type": "text",
    "id": "0jv1P5GISomo"
   },
   "source": [
    "What entities do we have?"
   ]
  },
  {
   "cell_type": "code",
   "execution_count": null,
   "metadata": {
    "colab": {
     "base_uri": "https://localhost:8080/",
     "height": 76
    },
    "colab_type": "code",
    "id": "r4I_bcMbSomo",
    "outputId": "23ca38f4-2d6d-479f-d1cb-fdd6c732a2ff"
   },
   "outputs": [],
   "source": [
    "print(labels)"
   ]
  },
  {
   "cell_type": "markdown",
   "metadata": {
    "colab_type": "text",
    "id": "joWH43jJSomp"
   },
   "source": [
    "Now let's train our clinical concept ner model. Let's set the number of training iterations."
   ]
  },
  {
   "cell_type": "code",
   "execution_count": null,
   "metadata": {
    "colab": {},
    "colab_type": "code",
    "id": "laOy91c-Somq"
   },
   "outputs": [],
   "source": [
    "n_iter=(10)"
   ]
  },
  {
   "cell_type": "markdown",
   "metadata": {
    "colab_type": "text",
    "id": "mBUBHId2Somq"
   },
   "source": [
    "Now let's train the model."
   ]
  },
  {
   "cell_type": "code",
   "execution_count": null,
   "metadata": {
    "colab": {
     "base_uri": "https://localhost:8080/",
     "height": 296
    },
    "colab_type": "code",
    "id": "m2Vkw2goSomr",
    "outputId": "4839222f-836f-462a-ad65-d29a38cf559e"
   },
   "outputs": [],
   "source": [
    "with nlp.disable_pipes(*other_pipes):  # only train NER\n",
    "#with nlp.disable_pipes(other_pipes):  # only train NER\n",
    "        # reset and initialize the weights randomly – but only if we're\n",
    "        # training a new model\n",
    "        nlp.begin_training()\n",
    "        for itn in range(n_iter):\n",
    "            random.shuffle(train_data)\n",
    "            losses = {}\n",
    "            # batch up the examples using spaCy's minibatch\n",
    "            batches = spacy.util.minibatch(train_data, size=spacy.util.compounding(4.0, 32.0, 1.001))\n",
    "            for batch in batches:\n",
    "                texts, annotations = zip(*batch)\n",
    "                nlp.update(\n",
    "                    texts,  # batch of texts\n",
    "                    annotations,  # batch of annotations\n",
    "                    drop=0.5,  # dropout - make it harder to memorise data\n",
    "                    losses=losses,\n",
    "                )\n",
    "            print(\"Losses\", losses)"
   ]
  },
  {
   "cell_type": "code",
   "execution_count": null,
   "metadata": {
    "colab": {
     "base_uri": "https://localhost:8080/",
     "height": 5423
    },
    "colab_type": "code",
    "id": "otyswTeBVu-1",
    "outputId": "57885318-2452-4e0f-f0c7-9d6f10857299"
   },
   "outputs": [],
   "source": [
    "for text, _ in train_data:\n",
    "        doc = nlp(text)\n",
    "        print(\"Entities\", [(ent.text, ent.label_) for ent in doc.ents])\n",
    "        print(\"Tokens\", [(t.text, t.ent_type_, t.ent_iob) for t in doc])"
   ]
  },
  {
   "cell_type": "markdown",
   "metadata": {
    "colab_type": "text",
    "id": "-yulOifZSoms"
   },
   "source": [
    "We have now added a clinical concept entity recognizer in the spaCy nlp model! Let's look at an example document and the predicted entities from the new model."
   ]
  },
  {
   "cell_type": "code",
   "execution_count": null,
   "metadata": {
    "colab": {},
    "colab_type": "code",
    "id": "-7_Y3sYNSoms"
   },
   "outputs": [],
   "source": [
    "text, _ = train_data[6]"
   ]
  },
  {
   "cell_type": "code",
   "execution_count": null,
   "metadata": {
    "colab": {
     "base_uri": "https://localhost:8080/",
     "height": 76
    },
    "colab_type": "code",
    "id": "TnfAINhMafe3",
    "outputId": "748e6568-fb81-477a-e1d8-d5f9edcbf27d"
   },
   "outputs": [],
   "source": [
    "len(text)"
   ]
  },
  {
   "cell_type": "code",
   "execution_count": null,
   "metadata": {
    "colab": {
     "base_uri": "https://localhost:8080/",
     "height": 1333
    },
    "colab_type": "code",
    "id": "bxl9SaeGSomt",
    "outputId": "aeb1b815-8958-4692-d9ce-d1d38b88ec3b"
   },
   "outputs": [],
   "source": [
    "doc2 = nlp(text)\n",
    "colors = {'ANATOMY': 'lightyellow',\n",
    "           'DISEASESYNDROME': 'pink',  \n",
    "           'SIGNSYMPTOM': 'lightgreen'}\n",
    "displacy.render(doc2, style='ent', jupyter=True, options={'colors':colors})"
   ]
  },
  {
   "cell_type": "markdown",
   "metadata": {
    "colab_type": "text",
    "id": "W9P2y6FmSomu"
   },
   "source": [
    "We can also look at the underlying representation - let's look at one sentence in this document."
   ]
  },
  {
   "cell_type": "code",
   "execution_count": null,
   "metadata": {
    "colab": {
     "base_uri": "https://localhost:8080/",
     "height": 92
    },
    "colab_type": "code",
    "id": "JUKOY7c2Somu",
    "outputId": "36bfd620-5199-4a1e-eb45-dea1ad831392"
   },
   "outputs": [],
   "source": [
    "print([(x, x.ent_iob_, x.ent_type_) for x in list(doc2.sents)[5]])"
   ]
  },
  {
   "cell_type": "markdown",
   "metadata": {
    "colab_type": "text",
    "id": "NgQ_7sLmSomv"
   },
   "source": [
    "What do you think? Does it seem like the model works well on this document? Are there concepts that are missed? \n"
   ]
  },
  {
   "cell_type": "markdown",
   "metadata": {
    "colab_type": "text",
    "id": "36HExIcZSomw"
   },
   "source": [
    "# 3: Evaluation\n",
    "How do we know how good this model is? Let's compare with the 'gold standard' test data."
   ]
  },
  {
   "cell_type": "code",
   "execution_count": null,
   "metadata": {
    "colab": {
     "base_uri": "https://localhost:8080/",
     "height": 132
    },
    "colab_type": "code",
    "id": "paC3rSNWSomw",
    "outputId": "e456172e-0d5e-4fa2-9140-5fbcd59a8a38"
   },
   "outputs": [],
   "source": [
    "scorer = Scorer()\n",
    "\n",
    "data_url = 'https://github.com/KCL-Health-NLP/nlp_examples/blob/master/chunking/chunking_testdata_CAT.json?raw=true'\n",
    "r = requests.get(data_url)\n",
    "test_data = r.json()\n",
    "\n",
    "for text, entity_offsets in test_data:\n",
    "    doc = nlp.make_doc(text)\n",
    "    gold = GoldParse(doc, entities=entity_offsets.get('entities'))\n",
    "    doc = nlp(text)\n",
    "    scorer.score(doc, gold)\n",
    "print('Precision: ',scorer.scores['ents_p'])\n",
    "print('Recall: ',scorer.scores['ents_r'])\n",
    "print('F1: ',scorer.scores['ents_f'])\n",
    "#print(scorer.scores)"
   ]
  },
  {
   "cell_type": "code",
   "execution_count": null,
   "metadata": {
    "colab": {
     "base_uri": "https://localhost:8080/",
     "height": 32404
    },
    "colab_type": "code",
    "id": "8aDQCaRKUo1O",
    "outputId": "4f66598a-be56-4911-f707-0150ace008cc"
   },
   "outputs": [],
   "source": [
    "test_data"
   ]
  },
  {
   "cell_type": "markdown",
   "metadata": {
    "colab_type": "text",
    "id": "OPRpUBPrSomx"
   },
   "source": [
    "Are these good results do you think? Can this be improved? What happens if you increase the number of iterations in the training?"
   ]
  },
  {
   "cell_type": "markdown",
   "metadata": {
    "colab_type": "text",
    "id": "V5bb0kmvSomx"
   },
   "source": [
    "Let's look at a document from the test data."
   ]
  },
  {
   "cell_type": "code",
   "execution_count": null,
   "metadata": {
    "colab": {
     "base_uri": "https://localhost:8080/",
     "height": 1729
    },
    "colab_type": "code",
    "id": "J0_Y1HjPSomx",
    "outputId": "320fdfaa-f267-4166-c3ad-a54c87e58a06"
   },
   "outputs": [],
   "source": [
    "text, entity_offsets = test_data[37]\n",
    "doc2 = nlp(text)\n",
    "colors = {'ANATOMY': 'lightyellow',\n",
    "           'DISEASESYNDROME': 'pink',  \n",
    "           'SIGNSYMPTOM': 'lightgreen'}\n",
    "displacy.render(doc2, style='ent', jupyter=True, options={'colors':colors})"
   ]
  },
  {
   "cell_type": "markdown",
   "metadata": {
    "colab_type": "text",
    "id": "RYWOToBNSomy"
   },
   "source": [
    "What does the underlying representation look like?"
   ]
  },
  {
   "cell_type": "code",
   "execution_count": null,
   "metadata": {
    "colab": {},
    "colab_type": "code",
    "id": "diR2VH-FSomy"
   },
   "outputs": [],
   "source": [
    "doc2 = nlp.make_doc(text)\n",
    "gold = GoldParse(doc2, entities=entity_offsets.get('entities'))\n",
    "gold.ner"
   ]
  },
  {
   "cell_type": "markdown",
   "metadata": {
    "colab_type": "text",
    "id": "rdpueENBSomz"
   },
   "source": [
    "# 4: Training a model with crfsuite\n",
    "There are other machine learning algorithms that can be used for this sequence learning problem. Let's try crfsuite. If you don't have this package, install with: pip install sklearn-crfsuite\n",
    "\n",
    "Let's use some functions to get sentences and tokens in the right format."
   ]
  },
  {
   "cell_type": "code",
   "execution_count": null,
   "metadata": {
    "colab": {},
    "colab_type": "code",
    "id": "dDpek568Som0"
   },
   "outputs": [],
   "source": [
    "def get_sentences(filename, bio=False):\n",
    "    \n",
    "    r = requests.get(filename)\n",
    "    train_data = r.json()\n",
    "\n",
    "    sentences = []\n",
    "    nlp = spacy.load('en_core_web_sm', entity=False, parser=False)\n",
    "\n",
    "    print('reading data: ', filename)\n",
    "    for text, entity_offsets in train_data:\n",
    "        doc = nlp(text)\n",
    "        gold = spacy.gold.biluo_tags_from_offsets(doc, entity_offsets.get('entities'))\n",
    "        counter = 0\n",
    "        for s in doc.sents:\n",
    "            sent = []\n",
    "            for t in s:\n",
    "                l = gold[counter]\n",
    "                if bio:\n",
    "                    l = l.replace('L-', 'I-')\n",
    "                    l = l.replace('U-', 'B-')\n",
    "                w = t.text, t.pos_, l\n",
    "                sent.append(w)\n",
    "                counter +=1\n",
    "            sentences.append(sent)\n",
    "    print('done')\n",
    "    return sentences"
   ]
  },
  {
   "cell_type": "code",
   "execution_count": null,
   "metadata": {
    "colab": {},
    "colab_type": "code",
    "id": "QQ7dfphSSom1"
   },
   "outputs": [],
   "source": [
    "def word2features(sent, i):\n",
    "    word = sent[i][0]\n",
    "    postag = sent[i][1]\n",
    "\n",
    "    features = {\n",
    "        'bias': 1.0,\n",
    "        'word.lower()': word.lower(),\n",
    "        'word[-3:]': word[-3:],\n",
    "        'word.isupper()': word.isupper(),\n",
    "        'word.istitle()': word.istitle(),\n",
    "        'word.isdigit()': word.isdigit(),\n",
    "        'postag': postag,\n",
    "        'postag[:2]': postag[:2],\n",
    "    }\n",
    "    if i > 0:\n",
    "        word1 = sent[i-1][0]\n",
    "        postag1 = sent[i-1][1]\n",
    "        features.update({\n",
    "            '-1:word.lower()': word1.lower(),\n",
    "            '-1:word.istitle()': word1.istitle(),\n",
    "            '-1:word.isupper()': word1.isupper(),\n",
    "            '-1:postag': postag1,\n",
    "            '-1:postag[:2]': postag1[:2],\n",
    "        })\n",
    "    else:\n",
    "        features['BOS'] = True\n",
    "\n",
    "    if i < len(sent)-1:\n",
    "        word1 = sent[i+1][0]\n",
    "        postag1 = sent[i+1][1]\n",
    "        features.update({\n",
    "            '+1:word.lower()': word1.lower(),\n",
    "            '+1:word.istitle()': word1.istitle(),\n",
    "            '+1:word.isupper()': word1.isupper(),\n",
    "            '+1:postag': postag1,\n",
    "            '+1:postag[:2]': postag1[:2],\n",
    "        })\n",
    "    else:\n",
    "        features['EOS'] = True\n",
    "\n",
    "    return features\n",
    "\n",
    "\n",
    "def sent2features(sent):\n",
    "    return [word2features(sent, i) for i in range(len(sent))]\n",
    "\n",
    "def sent2labels(sent):\n",
    "    return [label for token, postag, label in sent]\n",
    "\n",
    "def sent2tokens(sent):\n",
    "    return [token for token, postag, label in sent]\n",
    "\n"
   ]
  },
  {
   "cell_type": "markdown",
   "metadata": {
    "colab_type": "text",
    "id": "kXKiROJVSom2"
   },
   "source": [
    "Let's use these functions and read in the training and test data. \n",
    "There are different alternative token level representations that can be used.\n",
    "The BIO format (Begin, Inside, Outside) or the BILOU format (Begin, Inside, Last, Outside, Unit).\n",
    "What do you think is better or worse with each of these?\n",
    "In the function below, you can choose either format with the boolean flag 'bio'. Let's start with BIO."
   ]
  },
  {
   "cell_type": "code",
   "execution_count": null,
   "metadata": {
    "colab": {},
    "colab_type": "code",
    "id": "6D4zvySoSom2"
   },
   "outputs": [],
   "source": [
    "train_sents = get_sentences('https://github.com/KCL-Health-NLP/nlp_examples/blob/master/chunking/chunking_trainingdata_CAT.json?raw=true', bio=True)\n",
    "test_sents = get_sentences('https://github.com/KCL-Health-NLP/nlp_examples/blob/master/chunking/chunking_testdata_CAT.json?raw=true', bio=True)"
   ]
  },
  {
   "cell_type": "markdown",
   "metadata": {
    "colab_type": "text",
    "id": "fyx0HlsMSom3"
   },
   "source": [
    "Now let's create the feature and label vectors for the training and test data."
   ]
  },
  {
   "cell_type": "code",
   "execution_count": null,
   "metadata": {
    "colab": {},
    "colab_type": "code",
    "id": "RppqvTJRSom4"
   },
   "outputs": [],
   "source": [
    "X_train = [sent2features(s) for s in train_sents]\n",
    "y_train = [sent2labels(s) for s in train_sents]\n",
    "\n",
    "X_test = [sent2features(s) for s in test_sents]\n",
    "y_test = [sent2labels(s) for s in test_sents]"
   ]
  },
  {
   "cell_type": "markdown",
   "metadata": {
    "colab_type": "text",
    "id": "W82jQEuUSom4"
   },
   "source": [
    "What labels do we have?"
   ]
  },
  {
   "cell_type": "code",
   "execution_count": null,
   "metadata": {
    "colab": {},
    "colab_type": "code",
    "id": "BUGI3__nSom4"
   },
   "outputs": [],
   "source": [
    "labels = list(set(x for l in y_test for x in l))\n",
    "labels"
   ]
  },
  {
   "cell_type": "markdown",
   "metadata": {
    "colab_type": "text",
    "id": "VPW8dXYESom5"
   },
   "source": [
    "Now let's train the model."
   ]
  },
  {
   "cell_type": "code",
   "execution_count": null,
   "metadata": {
    "colab": {},
    "colab_type": "code",
    "id": "3grXmJt5Som6"
   },
   "outputs": [],
   "source": [
    "crf = sklearn_crfsuite.CRF(\n",
    "    algorithm='lbfgs',\n",
    "    c1=0.1,\n",
    "    c2=0.1,\n",
    "    max_iterations=100,\n",
    "    all_possible_transitions=True,\n",
    ")\n",
    "crf.fit(X_train, y_train);"
   ]
  },
  {
   "cell_type": "markdown",
   "metadata": {
    "colab_type": "text",
    "id": "kGCgg-OKSom6"
   },
   "source": [
    "# 5: evaluation\n",
    "How does this model perform on this data?"
   ]
  },
  {
   "cell_type": "code",
   "execution_count": null,
   "metadata": {
    "colab": {},
    "colab_type": "code",
    "id": "YwUEdLDISom7"
   },
   "outputs": [],
   "source": [
    "y_pred = crf.predict(X_test)\n",
    "metrics.flat_f1_score(y_test, y_pred, average='weighted', labels=labels)"
   ]
  },
  {
   "cell_type": "code",
   "execution_count": null,
   "metadata": {
    "colab": {},
    "colab_type": "code",
    "id": "mMAp3hooSom7"
   },
   "outputs": [],
   "source": [
    "print(metrics.flat_classification_report(y_test, y_pred, labels = labels))"
   ]
  },
  {
   "cell_type": "markdown",
   "metadata": {
    "colab_type": "text",
    "id": "56S3kAOVSom8"
   },
   "source": [
    "What do you think? There's a huge imbalance in the number of instances. Do we really want to evaluate the 'O' label? There's also one instance with an erroneous label ('-') Let's look at the results without these labels."
   ]
  },
  {
   "cell_type": "code",
   "execution_count": null,
   "metadata": {
    "colab": {},
    "colab_type": "code",
    "id": "y3HBywJpSom8"
   },
   "outputs": [],
   "source": [
    "labels = list(set(x for l in y_test for x in l if x !='O' and x!='-'))\n",
    "labels"
   ]
  },
  {
   "cell_type": "code",
   "execution_count": null,
   "metadata": {
    "colab": {},
    "colab_type": "code",
    "id": "FAGMunYjSom9"
   },
   "outputs": [],
   "source": [
    "print(metrics.flat_classification_report(y_test, y_pred, labels = labels))"
   ]
  },
  {
   "cell_type": "markdown",
   "metadata": {
    "colab_type": "text",
    "id": "mv3vISJESom9"
   },
   "source": [
    "This was quite different! \n",
    "Try training this model with the BILOU scheme instead. Are results better or worse?"
   ]
  },
  {
   "cell_type": "code",
   "execution_count": null,
   "metadata": {
    "colab": {},
    "colab_type": "code",
    "id": "GPi3QZobSom-"
   },
   "outputs": [],
   "source": [
    "train_sents = get_sentences('https://github.com/KCL-Health-NLP/nlp_examples/blob/master/chunking/chunking_trainingdata_CAT.json?raw=true', bio=False)\n",
    "test_sents = get_sentences('https://github.com/KCL-Health-NLP/nlp_examples/blob/master/chunking/chunking_testdata_CAT.json?raw=true', bio=False)\n",
    "X_train = [sent2features(s) for s in train_sents]\n",
    "y_train = [sent2labels(s) for s in train_sents]\n",
    "\n",
    "X_test = [sent2features(s) for s in test_sents]\n",
    "y_test = [sent2labels(s) for s in test_sents]\n",
    "\n",
    "new_classes = list(set(x for l in y_test for x in l if x !='O' and x!='-'))\n",
    "\n",
    "c1=0.1\n",
    "c2=0.1\n",
    "\n",
    "crf = sklearn_crfsuite.CRF(\n",
    "    algorithm='lbfgs',\n",
    "    c1=c1,\n",
    "    c2=c2,\n",
    "    max_iterations=100,\n",
    "    all_possible_transitions=True,\n",
    ")\n",
    "crf.fit(X_train, y_train)\n",
    "y_pred = crf.predict(X_test)\n",
    "print(metrics.flat_classification_report(y_test, y_pred, labels = new_classes))"
   ]
  },
  {
   "cell_type": "markdown",
   "metadata": {
    "colab_type": "text",
    "id": "AOVYGpFISom-"
   },
   "source": [
    "# Optional: cross-validation to find best parameters with crfsuite\n",
    "We have used default parameters in the above. We can try to find the best parameters on the training data by cross-validation. __This takes some time though (even with only 3 folds)!__ "
   ]
  },
  {
   "cell_type": "code",
   "execution_count": null,
   "metadata": {
    "colab": {},
    "colab_type": "code",
    "id": "3bMPLmaDSom_"
   },
   "outputs": [],
   "source": [
    "# from: https://sklearn-crfsuite.readthedocs.io/en/latest/tutorial.html#hyperparameter-optimization\n",
    "\n",
    "crf = sklearn_crfsuite.CRF(\n",
    "    algorithm='lbfgs',\n",
    "    max_iterations=100,\n",
    "    all_possible_transitions=True\n",
    ")\n",
    "params_space = {\n",
    "    'c1': scipy.stats.expon(scale=0.5),\n",
    "    'c2': scipy.stats.expon(scale=0.05),\n",
    "}\n",
    "\n",
    "# use the same metric for evaluation\n",
    "f1_scorer = make_scorer(metrics.flat_f1_score,\n",
    "                        average='weighted', labels=new_classes)\n",
    "\n",
    "# search\n",
    "rs = RandomizedSearchCV(crf, params_space,\n",
    "                        cv=3,\n",
    "                        verbose=1,\n",
    "                        n_jobs=-1,\n",
    "                        n_iter=50,\n",
    "                        scoring=f1_scorer)\n",
    "rs.fit(X_train, y_train)"
   ]
  },
  {
   "cell_type": "code",
   "execution_count": null,
   "metadata": {
    "colab": {},
    "colab_type": "code",
    "id": "Brc-9AF0Som_"
   },
   "outputs": [],
   "source": [
    "print('best params:', rs.best_params_)\n",
    "print('best CV score:', rs.best_score_)"
   ]
  },
  {
   "cell_type": "code",
   "execution_count": null,
   "metadata": {
    "colab": {},
    "colab_type": "code",
    "id": "eEWMu6RMSonA"
   },
   "outputs": [],
   "source": [
    "crf = rs.best_estimator_\n",
    "y_pred = crf.predict(X_test)\n",
    "print(metrics.flat_classification_report(\n",
    "    y_test, y_pred, labels=new_classes, digits=3\n",
    "))"
   ]
  },
  {
   "cell_type": "markdown",
   "metadata": {
    "colab_type": "text",
    "id": "nzC4pv5nSonA"
   },
   "source": [
    "What do you think? Are there other parameters that could be tested in the cross-validation setup? What about the measure used for optimisation?"
   ]
  },
  {
   "cell_type": "code",
   "execution_count": null,
   "metadata": {
    "colab": {},
    "colab_type": "code",
    "id": "HDF-mWYWSonB"
   },
   "outputs": [],
   "source": []
  }
 ],
 "metadata": {
  "colab": {
   "collapsed_sections": [
    "36HExIcZSomw",
    "rdpueENBSomz",
    "kGCgg-OKSom6",
    "AOVYGpFISom-"
   ],
   "name": "nlp_ner_practical-CAT_spacy_older_version.ipynb",
   "provenance": [],
   "version": "0.3.2"
  },
  "kernelspec": {
   "display_name": "Python 3",
   "language": "python",
   "name": "python3"
  },
  "language_info": {
   "codemirror_mode": {
    "name": "ipython",
    "version": 3
   },
   "file_extension": ".py",
   "mimetype": "text/x-python",
   "name": "python",
   "nbconvert_exporter": "python",
   "pygments_lexer": "ipython3",
   "version": "3.7.4"
  }
 },
 "nbformat": 4,
 "nbformat_minor": 1
}
