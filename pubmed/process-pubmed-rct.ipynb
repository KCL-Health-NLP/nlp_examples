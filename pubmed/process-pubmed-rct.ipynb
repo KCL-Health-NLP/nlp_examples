{
 "cells": [
  {
   "cell_type": "code",
   "execution_count": 2,
   "metadata": {},
   "outputs": [],
   "source": [
    "pmid=''\n",
    "with open('../pubmed/test.txt', 'r') as pmrctFile:\n",
    "    with open('../pubmed/test.processed.txt', 'w') as outFile:\n",
    "        for line in pmrctFile:\n",
    "            line = line.rstrip('\\n')\n",
    "            if not line:\n",
    "                continue\n",
    "            if line.startswith('###'):\n",
    "                pmid=line.lstrip('###')\n",
    "            else:\n",
    "                outFile.writelines((pmid, '\\t', line, '\\n'))\n",
    "\n",
    "#trainingdata = pd.read_csv('train.txt', sep='\\t', header=None, names=['pmid', 'label', 'txt'])\n",
    "#testdata = pd.read_csv('test.txt', sep='\\t', header=None, names=['pmid', 'label', 'txt'])"
   ]
  }
 ],
 "metadata": {
  "kernelspec": {
   "display_name": "Python 3",
   "language": "python",
   "name": "python3"
  },
  "language_info": {
   "codemirror_mode": {
    "name": "ipython",
    "version": 3
   },
   "file_extension": ".py",
   "mimetype": "text/x-python",
   "name": "python",
   "nbconvert_exporter": "python",
   "pygments_lexer": "ipython3",
   "version": "3.8.3"
  }
 },
 "nbformat": 4,
 "nbformat_minor": 4
}
